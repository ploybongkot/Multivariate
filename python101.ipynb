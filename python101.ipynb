{
  "nbformat": 4,
  "nbformat_minor": 0,
  "metadata": {
    "colab": {
      "name": "python101.ipynb",
      "provenance": [],
      "authorship_tag": "ABX9TyO7FA/TxpfnbGRjUNfTs48a",
      "include_colab_link": true
    },
    "kernelspec": {
      "name": "python3",
      "display_name": "Python 3"
    }
  },
  "cells": [
    {
      "cell_type": "markdown",
      "metadata": {
        "id": "view-in-github",
        "colab_type": "text"
      },
      "source": [
        "<a href=\"https://colab.research.google.com/github/ploybongkot/Multivariate/blob/main/python101.ipynb\" target=\"_parent\"><img src=\"https://colab.research.google.com/assets/colab-badge.svg\" alt=\"Open In Colab\"/></a>"
      ]
    },
    {
      "cell_type": "markdown",
      "metadata": {
        "id": "q9q-dJe74L4f"
      },
      "source": [
        "ตัวแปร variable\r\n",
        "\r\n",
        "\r\n",
        "\r\n",
        "\r\n",
        "หลักการตั้งชื่อตัวแปรเบื้องต้น\r\n",
        "\r\n",
        "1.ตั้งให้สื่อ ว่าตัวแปรนี้คืออะไร เวลาย้อนมาดูจะได้ดูง่ายๆ\r\n",
        "\r\n",
        "2.ภาษาอังกฤษ เพราะภาษาไทยคอมอ่านไม่รู้เรื่อง\r\n",
        "\r\n",
        "3.ใช้ตัวเลขได้แต่ห้ามขึ้นต้นด้วยตัวเลข เช่น ตัวแปรชื่อ a1 a2 a3 ทำได้ แต่ว่าตัวแปรชื่อ 1a ทำไม่ได้\r\n",
        "\r\n",
        "4.ห้ามเว้นวรรค เพราะเว้นวรรคเป็นคำใหม่\r\n",
        "\r\n",
        "5.ตัวเล็กกับตัวใหญ่ไม่เหมือนกัน"
      ]
    },
    {
      "cell_type": "markdown",
      "metadata": {
        "id": "NmbXN0VS_EfZ"
      },
      "source": [
        "มี output 2 mode คือ ออกหน้าจอ ดับ เข้าไปก็บในตัวแปร"
      ]
    },
    {
      "cell_type": "code",
      "metadata": {
        "colab": {
          "base_uri": "https://localhost:8080/"
        },
        "id": "Ml8std9J-6Ow",
        "outputId": "0913873e-c662-4c1d-ca7b-19e1dce46942"
      },
      "source": [
        "3.14159  # hashtag หรือ sharp # คือ comment >>> อันนี้คือ output ที่ออกหน้าจอ"
      ],
      "execution_count": 2,
      "outputs": [
        {
          "output_type": "execute_result",
          "data": {
            "text/plain": [
              "3.14159"
            ]
          },
          "metadata": {
            "tags": []
          },
          "execution_count": 2
        }
      ]
    },
    {
      "cell_type": "code",
      "metadata": {
        "id": "qLeIx0nn5ZEM"
      },
      "source": [
        "Pi = 3.14159  # อันนี้คือ output ที่เข้าไปอยู่ในตัวแปร"
      ],
      "execution_count": 1,
      "outputs": []
    },
    {
      "cell_type": "code",
      "metadata": {
        "colab": {
          "base_uri": "https://localhost:8080/"
        },
        "id": "4Dph_L72_lmg",
        "outputId": "21340e83-7654-4209-ac67-7054ee95aa31"
      },
      "source": [
        "Pi"
      ],
      "execution_count": 3,
      "outputs": [
        {
          "output_type": "execute_result",
          "data": {
            "text/plain": [
              "3.14159"
            ]
          },
          "metadata": {
            "tags": []
          },
          "execution_count": 3
        }
      ]
    },
    {
      "cell_type": "code",
      "metadata": {
        "colab": {
          "base_uri": "https://localhost:8080/"
        },
        "id": "psEsmdrK_q5I",
        "outputId": "b2c27c2b-5924-4f47-b169-64ad86d5747e"
      },
      "source": [
        "a = 1234567\r\n",
        "print(a)"
      ],
      "execution_count": 4,
      "outputs": [
        {
          "output_type": "stream",
          "text": [
            "1234567\n"
          ],
          "name": "stdout"
        }
      ]
    },
    {
      "cell_type": "markdown",
      "metadata": {
        "id": "QQN_s2MaAJN3"
      },
      "source": [
        "ข้อดีของ code คือ มันสามารถ Enter ลงมาได้ ทำให้เราสามารถพิมพ์คำสั่งยาวๆหลายๆบรรทัดได้"
      ]
    },
    {
      "cell_type": "markdown",
      "metadata": {
        "id": "w_7xESJeAx8-"
      },
      "source": [
        "# ชนิดของตัวแปร 3 ชนิด"
      ]
    },
    {
      "cell_type": "markdown",
      "metadata": {
        "id": "tISgp8WbEGvK"
      },
      "source": [
        "### จำนวนเต็ม ( integer,int)"
      ]
    },
    {
      "cell_type": "code",
      "metadata": {
        "colab": {
          "base_uri": "https://localhost:8080/"
        },
        "id": "DUfI1fnKEYnM",
        "outputId": "58c9a337-c277-4a9b-ce07-9a0e9fa7c9d5"
      },
      "source": [
        "aaa = 1092\r\n",
        "print(aaa)"
      ],
      "execution_count": 6,
      "outputs": [
        {
          "output_type": "stream",
          "text": [
            "1092\n"
          ],
          "name": "stdout"
        }
      ]
    },
    {
      "cell_type": "markdown",
      "metadata": {
        "id": "93U8xsHPE4qJ"
      },
      "source": [
        "### จำนวนจริง (float)"
      ]
    },
    {
      "cell_type": "code",
      "metadata": {
        "colab": {
          "base_uri": "https://localhost:8080/"
        },
        "id": "YRJkJHKjFEKK",
        "outputId": "acb0ef44-e3bc-4021-ecea-a3d6d358589d"
      },
      "source": [
        "bbb = 11.\r\n",
        "print(bbb)"
      ],
      "execution_count": 8,
      "outputs": [
        {
          "output_type": "stream",
          "text": [
            "11.0\n"
          ],
          "name": "stdout"
        }
      ]
    },
    {
      "cell_type": "markdown",
      "metadata": {
        "id": "bUciZaZiF4ZZ"
      },
      "source": [
        "### ตัวอักษร-ข้อความ (character และ text,string) คือ ค่าหลายๆค่าที่เอาเรียงต่อกัน\r\n",
        "\r\n"
      ]
    },
    {
      "cell_type": "code",
      "metadata": {
        "colab": {
          "base_uri": "https://localhost:8080/"
        },
        "id": "03IUb-LLGvC2",
        "outputId": "56662e19-f77f-425f-d4eb-05e68340a467"
      },
      "source": [
        "ccc = '123456'  # เราใช้ single quote ' หรือ double qoute \" ล้อมรอบตัวหนังสือเพื่อระบุว่าเป็น charecter-string ไม่ว่จะเป็น ' หรือ \" ใช้ได้หมดเลย แต่ว่าเปิดด้วยตัวไหนก็ต้องปิดด้วยตัวนั้น \r\n",
        "print(ccc)"
      ],
      "execution_count": 9,
      "outputs": [
        {
          "output_type": "stream",
          "text": [
            "123456\n"
          ],
          "name": "stdout"
        }
      ]
    },
    {
      "cell_type": "markdown",
      "metadata": {
        "id": "wQ0wqQq9b_3a"
      },
      "source": [
        "ถึงเป็นตัวเลขแต่ถ้ามี qoute ล้อมรอบแปลว่าเป็นตัวอักษร หรือ string ไม่ได้เป็นตัวเลข เอาไปใช้บวกลบคูณหารไม่ได้ เหตุผลที่ต้องมี quote ล้อมรอมเพราะว่า ตัวแปรมันก็เป็นตัวอักษรเหมือนกันมันจะได้รู้ว่าอันนี้คือตัวแปล อันนี้คือข้อความไม่ใช่ตัวแปร"
      ]
    },
    {
      "cell_type": "code",
      "metadata": {
        "colab": {
          "base_uri": "https://localhost:8080/"
        },
        "id": "w02H17YomEEw",
        "outputId": "bdd04a00-a383-46e4-dec3-2bf3a372274d"
      },
      "source": [
        "aaa + bbb เอา float มาบวกกับ int = float"
      ],
      "execution_count": 11,
      "outputs": [
        {
          "output_type": "execute_result",
          "data": {
            "text/plain": [
              "1103.0"
            ]
          },
          "metadata": {
            "tags": []
          },
          "execution_count": 11
        }
      ]
    },
    {
      "cell_type": "code",
      "metadata": {
        "colab": {
          "base_uri": "https://localhost:8080/",
          "height": 163
        },
        "id": "abwq1jD5LsQ6",
        "outputId": "6c179c73-2230-4343-9c37-724a54b90a22"
      },
      "source": [
        "bbb + ccc อันนี้มันจะไม่สามารถบวกได้เพราะว่ามันเป็นตัวแปลคนละชนิดกัน จริงๆตัวแปรคนละชนิดกันก็บวกกันได้"
      ],
      "execution_count": 10,
      "outputs": [
        {
          "output_type": "error",
          "ename": "TypeError",
          "evalue": "ignored",
          "traceback": [
            "\u001b[0;31m---------------------------------------------------------------------------\u001b[0m",
            "\u001b[0;31mTypeError\u001b[0m                                 Traceback (most recent call last)",
            "\u001b[0;32m<ipython-input-10-a3916046ad1c>\u001b[0m in \u001b[0;36m<module>\u001b[0;34m()\u001b[0m\n\u001b[0;32m----> 1\u001b[0;31m \u001b[0mbbb\u001b[0m \u001b[0;34m+\u001b[0m \u001b[0mccc\u001b[0m\u001b[0;34m\u001b[0m\u001b[0;34m\u001b[0m\u001b[0m\n\u001b[0m",
            "\u001b[0;31mTypeError\u001b[0m: unsupported operand type(s) for +: 'float' and 'str'"
          ]
        }
      ]
    },
    {
      "cell_type": "markdown",
      "metadata": {
        "id": "n8PG_2MZmtV5"
      },
      "source": [
        "ใน python เวลามันทำอะไรไม่ได้มันก็จะ Error เกิดขึ้น จะสนใจแค่บรรทัดสุดท้าย มันจะบอกว่าทำไมถึง Error ถ้าเราอ่านไม่ออกก็สามารถคัดลอกเอาไปหาใน Google ได้ ใน Google จะมีคนอธิบาย Error ที่เกี่ยวกับ Python ไว้หมด"
      ]
    },
    {
      "cell_type": "code",
      "metadata": {
        "colab": {
          "base_uri": "https://localhost:8080/"
        },
        "id": "UNtoersJpgqy",
        "outputId": "877da8a5-5d68-4cf1-f024-356a0d11ef83"
      },
      "source": [
        "ddd = 'พลอยบงกช' \r\n",
        "print(ddd)"
      ],
      "execution_count": 13,
      "outputs": [
        {
          "output_type": "stream",
          "text": [
            "พลอยบงกช\n"
          ],
          "name": "stdout"
        }
      ]
    },
    {
      "cell_type": "markdown",
      "metadata": {
        "id": "tk4OIGFiqHhr"
      },
      "source": [
        " ข้อความสามารถเป็นภาษาไทยได้ไม่มีปัญหาอะไร\r\n"
      ]
    },
    {
      "cell_type": "markdown",
      "metadata": {
        "id": "oAhaXToeqP9R"
      },
      "source": [
        "# การเปลี่ยนชนิดของตัวแปร variable casting"
      ]
    },
    {
      "cell_type": "code",
      "metadata": {
        "colab": {
          "base_uri": "https://localhost:8080/"
        },
        "id": "_ruml8x4qvZx",
        "outputId": "1942812b-0595-4c24-987a-4452b1294172"
      },
      "source": [
        "aaa + int(ccc)"
      ],
      "execution_count": 15,
      "outputs": [
        {
          "output_type": "execute_result",
          "data": {
            "text/plain": [
              "124548"
            ]
          },
          "metadata": {
            "tags": []
          },
          "execution_count": 15
        }
      ]
    },
    {
      "cell_type": "code",
      "metadata": {
        "colab": {
          "base_uri": "https://localhost:8080/"
        },
        "id": "kiKA7LGqrTyu",
        "outputId": "d405dd22-abd7-4e43-cf4d-54a67a172ca6"
      },
      "source": [
        "aaa + float(ccc)"
      ],
      "execution_count": 16,
      "outputs": [
        {
          "output_type": "execute_result",
          "data": {
            "text/plain": [
              "124548.0"
            ]
          },
          "metadata": {
            "tags": []
          },
          "execution_count": 16
        }
      ]
    },
    {
      "cell_type": "code",
      "metadata": {
        "colab": {
          "base_uri": "https://localhost:8080/",
          "height": 35
        },
        "id": "KTqTM0S4riJp",
        "outputId": "a081bc24-476a-4b01-ab1a-cc6882eb7966"
      },
      "source": [
        "(str(aaa))"
      ],
      "execution_count": 19,
      "outputs": [
        {
          "output_type": "execute_result",
          "data": {
            "application/vnd.google.colaboratory.intrinsic+json": {
              "type": "string"
            },
            "text/plain": [
              "'1092'"
            ]
          },
          "metadata": {
            "tags": []
          },
          "execution_count": 19
        }
      ]
    },
    {
      "cell_type": "markdown",
      "metadata": {
        "id": "yj1QD6e3r_uw"
      },
      "source": [
        "การพิมพ์แบบนี้จะทำได้เฉพาะใน Notebook มันช่วยให้เราดูได้ว่าตอนนี้ค่าที่เราดูหน้าตามันเป็นยังไง ค่ามันคืออะไร"
      ]
    },
    {
      "cell_type": "markdown",
      "metadata": {
        "id": "2huZZvKOs-c0"
      },
      "source": [
        "# การดำเนินการ Operation (Operators +,-,*,/,%)"
      ]
    },
    {
      "cell_type": "code",
      "metadata": {
        "colab": {
          "base_uri": "https://localhost:8080/",
          "height": 163
        },
        "id": "aCO9cgHctqWl",
        "outputId": "16811e8a-d846-4028-b574-50a617adc007"
      },
      "source": [
        "a+b"
      ],
      "execution_count": 20,
      "outputs": [
        {
          "output_type": "error",
          "ename": "NameError",
          "evalue": "ignored",
          "traceback": [
            "\u001b[0;31m---------------------------------------------------------------------------\u001b[0m",
            "\u001b[0;31mNameError\u001b[0m                                 Traceback (most recent call last)",
            "\u001b[0;32m<ipython-input-20-ca730b97bf8a>\u001b[0m in \u001b[0;36m<module>\u001b[0;34m()\u001b[0m\n\u001b[0;32m----> 1\u001b[0;31m \u001b[0ma\u001b[0m\u001b[0;34m+\u001b[0m\u001b[0mb\u001b[0m\u001b[0;34m\u001b[0m\u001b[0;34m\u001b[0m\u001b[0m\n\u001b[0m",
            "\u001b[0;31mNameError\u001b[0m: name 'b' is not defined"
          ]
        }
      ]
    },
    {
      "cell_type": "markdown",
      "metadata": {
        "id": "X7UsMh0kt6zz"
      },
      "source": [
        "Error นี้บอกว่า ตัวแปร b มันไม่มี แล้วก็บวกไม่ได้"
      ]
    },
    {
      "cell_type": "code",
      "metadata": {
        "colab": {
          "base_uri": "https://localhost:8080/"
        },
        "id": "g3h6mOY7uxNK",
        "outputId": "e35d2e63-02bf-485b-84bb-4fced13b4fe8"
      },
      "source": [
        "aaa + bbb"
      ],
      "execution_count": 21,
      "outputs": [
        {
          "output_type": "execute_result",
          "data": {
            "text/plain": [
              "1103.0"
            ]
          },
          "metadata": {
            "tags": []
          },
          "execution_count": 21
        }
      ]
    },
    {
      "cell_type": "code",
      "metadata": {
        "colab": {
          "base_uri": "https://localhost:8080/"
        },
        "id": "_IpqO0S-u2BU",
        "outputId": "af3943b8-a14e-493e-f606-a0f8c84e6808"
      },
      "source": [
        "aaa - bbb"
      ],
      "execution_count": 22,
      "outputs": [
        {
          "output_type": "execute_result",
          "data": {
            "text/plain": [
              "1081.0"
            ]
          },
          "metadata": {
            "tags": []
          },
          "execution_count": 22
        }
      ]
    },
    {
      "cell_type": "code",
      "metadata": {
        "colab": {
          "base_uri": "https://localhost:8080/"
        },
        "id": "7VmG3rRYu8yj",
        "outputId": "2f291994-f20b-4777-8724-04a825991596"
      },
      "source": [
        "ab = aaa*bbb\r\n",
        "print(ab)"
      ],
      "execution_count": 23,
      "outputs": [
        {
          "output_type": "stream",
          "text": [
            "12012.0\n"
          ],
          "name": "stdout"
        }
      ]
    },
    {
      "cell_type": "code",
      "metadata": {
        "colab": {
          "base_uri": "https://localhost:8080/"
        },
        "id": "Vr_7LGQqvQ2f",
        "outputId": "ec0a4431-1171-4e67-dcaa-a34cdbdbac5e"
      },
      "source": [
        "ab + int(ccc)"
      ],
      "execution_count": 24,
      "outputs": [
        {
          "output_type": "execute_result",
          "data": {
            "text/plain": [
              "135468.0"
            ]
          },
          "metadata": {
            "tags": []
          },
          "execution_count": 24
        }
      ]
    },
    {
      "cell_type": "markdown",
      "metadata": {
        "id": "kONvnfkfv6kg"
      },
      "source": [
        "### % เครื่องหมาย modulo"
      ]
    },
    {
      "cell_type": "code",
      "metadata": {
        "colab": {
          "base_uri": "https://localhost:8080/"
        },
        "id": "uAuQ5XI9wSQ-",
        "outputId": "8cc526ab-6717-4f1f-dcec-9af3c2627127"
      },
      "source": [
        "5%3"
      ],
      "execution_count": 25,
      "outputs": [
        {
          "output_type": "execute_result",
          "data": {
            "text/plain": [
              "2"
            ]
          },
          "metadata": {
            "tags": []
          },
          "execution_count": 25
        }
      ]
    },
    {
      "cell_type": "code",
      "metadata": {
        "colab": {
          "base_uri": "https://localhost:8080/"
        },
        "id": "62RSEb0bwiov",
        "outputId": "baca9c07-c03b-4557-d717-e03f68be6cac"
      },
      "source": [
        "7%3"
      ],
      "execution_count": 26,
      "outputs": [
        {
          "output_type": "execute_result",
          "data": {
            "text/plain": [
              "1"
            ]
          },
          "metadata": {
            "tags": []
          },
          "execution_count": 26
        }
      ]
    },
    {
      "cell_type": "markdown",
      "metadata": {
        "id": "wotNukmjw962"
      },
      "source": [
        "modulo คือการหารเอาเศษ เอาไว้ใช้เช็คว่าตัวเลขเป็นเลขคี่หรือเลขคู่ เอา 2 มาหาร ถ้าหารได้ 0  เป็นเลขคู่ ถ้าหารได้ 1 เป็นเลขคี่"
      ]
    },
    {
      "cell_type": "markdown",
      "metadata": {
        "id": "ZFYAv1EkyNCE"
      },
      "source": [
        "### คำสั่ง print แบบพิเศษ (การ fomat string)"
      ]
    },
    {
      "cell_type": "code",
      "metadata": {
        "colab": {
          "base_uri": "https://localhost:8080/"
        },
        "id": "2KQD0-2Hyqhd",
        "outputId": "a622a6e4-1432-4a93-f2f0-413ffbdd5f4c"
      },
      "source": [
        "print('ตัวแปร') # สิ่งที่อยู่ข้างในวงเล็บคือ ตัวแปร และ string"
      ],
      "execution_count": 27,
      "outputs": [
        {
          "output_type": "stream",
          "text": [
            "ตัวแปร\n"
          ],
          "name": "stdout"
        }
      ]
    },
    {
      "cell_type": "markdown",
      "metadata": {
        "id": "ydsZJmb52jKV"
      },
      "source": [
        "-print สามารถ print ได้ทั้งตัวแปร และstring\r\n",
        "\r\n",
        "-เพื่อความสวยงามสามารถแก้ไขตัว print ให้ฉลาดมากขึ้นโดยการเพิ่ม f สามารถเอา code ใส่เข้าไปในตัวข้อความได้\r\n",
        "\r\n",
        "เครื่องหมาย {} จะแสดงแค่คำตอบของ 7%3 คือ เท่ากับ 1"
      ]
    },
    {
      "cell_type": "code",
      "metadata": {
        "colab": {
          "base_uri": "https://localhost:8080/"
        },
        "id": "UhiIRRLdzEQQ",
        "outputId": "4dd96a32-52cc-49bf-8571-3caed00a829a"
      },
      "source": [
        "print(f'%คือการหารเอาเศษ เช่น 7%3 = {7%3}') # เพิ่ม f หน้า 'string' และใช้ {} ใส่ code "
      ],
      "execution_count": 28,
      "outputs": [
        {
          "output_type": "stream",
          "text": [
            "%คือการหารเอาเศษ เช่น 7%3 = 1\n"
          ],
          "name": "stdout"
        }
      ]
    },
    {
      "cell_type": "code",
      "metadata": {
        "colab": {
          "base_uri": "https://localhost:8080/"
        },
        "id": "6Icrn7Qa08KO",
        "outputId": "867e5554-063e-444b-9927-cd085dc30726"
      },
      "source": [
        "print (f'% คือการหารเอาเศษ เช่น 7%3 ={7%3}\\\r\n",
        "แต่\\n/ คือการหารปกติ เช่น 7/3 = {7/3}\\\r\n",
        "และ\\n// คือการหารเอาส่วน เช่น 7/3 = {7/3}\\\r\n",
        "หรือ\\nใช้ int() เพื่อหารเอาส่วน เช่น int(7/3) = {int(7/3)}') # \\n คือการขึ้นบรรทัดใหม่ที่ comเห็น \\ ใช้ในการตัด code แต่ com จะไม่เห็น"
      ],
      "execution_count": 29,
      "outputs": [
        {
          "output_type": "stream",
          "text": [
            "% คือการหารเอาเศษ เช่น 7%3 =1แต่\n",
            "/ คือการหารปกติ เช่น 7/3 = 2.3333333333333335และ\n",
            "// คือการหารเอาส่วน เช่น 7/3 = 2.3333333333333335หรือ\n",
            "ใช้ int() เพื่อหารเอาส่วน เช่น int(7/3) = 2\n"
          ],
          "name": "stdout"
        }
      ]
    },
    {
      "cell_type": "markdown",
      "metadata": {
        "id": "ijZyu0NV7mV7"
      },
      "source": [
        "# DATA STRUCTURE (โครงสร้างข้อมูล)"
      ]
    },
    {
      "cell_type": "markdown",
      "metadata": {
        "id": "3hJYuAZZ777K"
      },
      "source": [
        "### List คือการเอาข้อมูลหลายๆตัวมาเรียงต่อกัน\r\n",
        "list สามารถสร้างได้ 2 แบบ ดังนี้"
      ]
    },
    {
      "cell_type": "markdown",
      "metadata": {
        "id": "ILu8CkCi8Z5k"
      },
      "source": [
        "ข้อมูลสามารถเป็นได้ทั้ง ตัวเลข,ตัวอักษรและตัวแปร สัญลักษณ์ของ list คือ [ ]\r\n",
        "\r\n",
        "เราสามารถจัดกลุ่มตัวแปรหลายๆตัวมารวมอยู่ในที่เก็บเดียวกันได้"
      ]
    },
    {
      "cell_type": "code",
      "metadata": {
        "colab": {
          "base_uri": "https://localhost:8080/"
        },
        "id": "kSkaocxa84lC",
        "outputId": "eea89fb7-8fbe-4a28-c4cd-a224f5a9ce04"
      },
      "source": [
        "[111, 'c' ,'ไข่ดาว', aaa]"
      ],
      "execution_count": 30,
      "outputs": [
        {
          "output_type": "execute_result",
          "data": {
            "text/plain": [
              "[111, 'c', 'ไข่ดาว', 1092]"
            ]
          },
          "metadata": {
            "tags": []
          },
          "execution_count": 30
        }
      ]
    },
    {
      "cell_type": "markdown",
      "metadata": {
        "id": "3KpdJT5G9lIZ"
      },
      "source": [
        "# แบบที่ 1 > square brackets\r\n",
        "สร้างด้วยสัญลักษณ์ของ list"
      ]
    },
    {
      "cell_type": "code",
      "metadata": {
        "colab": {
          "base_uri": "https://localhost:8080/"
        },
        "id": "FheRfpaC-D6S",
        "outputId": "9af14935-6aad-45db-f1af-2097b278e650"
      },
      "source": [
        "list_a = []  #list [] = list ว่าง\r\n",
        "print(list_a)"
      ],
      "execution_count": 32,
      "outputs": [
        {
          "output_type": "stream",
          "text": [
            "[]\n"
          ],
          "name": "stdout"
        }
      ]
    },
    {
      "cell_type": "code",
      "metadata": {
        "colab": {
          "base_uri": "https://localhost:8080/"
        },
        "id": "Wq3vJh7_-hee",
        "outputId": "08128b72-d6ec-4895-b1af-848f0af5ace3"
      },
      "source": [
        "list_b = [111,'c','ไข่ดาว',aaa]\r\n",
        "print(list_b)"
      ],
      "execution_count": 33,
      "outputs": [
        {
          "output_type": "stream",
          "text": [
            "[111, 'c', 'ไข่ดาว', 1092]\n"
          ],
          "name": "stdout"
        }
      ]
    },
    {
      "cell_type": "markdown",
      "metadata": {
        "id": "qQ2e8VVu_Erj"
      },
      "source": [
        "# ลำดับที่อยู่ใน list มีความสำคัญ (ลำดับใน list เริ่มจาก 0,1,2,...)"
      ]
    },
    {
      "cell_type": "code",
      "metadata": {
        "colab": {
          "base_uri": "https://localhost:8080/",
          "height": 35
        },
        "id": "uENMhR6e_cjt",
        "outputId": "a8a89f45-a97c-4d30-e0fd-cf1ba6f1eab2"
      },
      "source": [
        "list_b[2]  #หมายความว่าอยากได้สมาชิกตัวที่2 และลำดับไม่มีความเปลี่ยนแปลง"
      ],
      "execution_count": 34,
      "outputs": [
        {
          "output_type": "execute_result",
          "data": {
            "application/vnd.google.colaboratory.intrinsic+json": {
              "type": "string"
            },
            "text/plain": [
              "'ไข่ดาว'"
            ]
          },
          "metadata": {
            "tags": []
          },
          "execution_count": 34
        }
      ]
    },
    {
      "cell_type": "markdown",
      "metadata": {
        "id": "P99LpYYg_6oV"
      },
      "source": [
        "# แบบที่2\r\n",
        "จะบอกว่าตัวแปลเท่ากับ list"
      ]
    },
    {
      "cell_type": "code",
      "metadata": {
        "colab": {
          "base_uri": "https://localhost:8080/"
        },
        "id": "2NQ4mhUoAFvY",
        "outputId": "9617c49d-2e43-4f42-e692-e5c8a674541e"
      },
      "source": [
        "list_c = list()\r\n",
        "print(list_c)"
      ],
      "execution_count": 35,
      "outputs": [
        {
          "output_type": "stream",
          "text": [
            "[]\n"
          ],
          "name": "stdout"
        }
      ]
    },
    {
      "cell_type": "markdown",
      "metadata": {
        "id": "ry6eP9FaDJp4"
      },
      "source": [
        "#append() เพิ่มสมาชิกใน list\r\n"
      ]
    },
    {
      "cell_type": "markdown",
      "metadata": {
        "id": "bkHS7rkdDdvt"
      },
      "source": [
        ".append คือเอาสมาชิกไปต่อท้ายของ list"
      ]
    },
    {
      "cell_type": "code",
      "metadata": {
        "colab": {
          "base_uri": "https://localhost:8080/"
        },
        "id": "0OYhWeAUDmjN",
        "outputId": "06a3ad12-cafa-4f0f-b64b-4045f3cdd219"
      },
      "source": [
        "list_b. append('u')\r\n",
        "print(list_b)"
      ],
      "execution_count": 44,
      "outputs": [
        {
          "output_type": "stream",
          "text": [
            "[111, 'c', 'ไข่ดาว', 1092, 'n', 'u', 'u', 'u', 'u', 'u', 'u']\n"
          ],
          "name": "stdout"
        }
      ]
    },
    {
      "cell_type": "markdown",
      "metadata": {
        "id": "PHhm48z5EOic"
      },
      "source": [
        "ชี้จากข้างหน้า คือ อยากได้ตัวไหนก็สามารถชี้เอาได้เลย\r\n",
        "\r\n",
        "ชี้จากข้างหลัง คือ ต้องใส่เครื่อง - เข้าไป เช่น [-1]"
      ]
    },
    {
      "cell_type": "markdown",
      "metadata": {
        "id": "La4ozXzdEt98"
      },
      "source": [
        "0 คือ สมาชิกตัวแรก , -1 คือ สมาชิกตัวสุดท้าย"
      ]
    },
    {
      "cell_type": "code",
      "metadata": {
        "colab": {
          "base_uri": "https://localhost:8080/",
          "height": 35
        },
        "id": "x1_FgEuQDzPZ",
        "outputId": "809b9040-392b-4cea-d59f-a266fa0074fc"
      },
      "source": [
        "list_b[-2]  #ดังที่อยู่ในวงเล็บหลังจากตัวแปร list เรียก index ใช้สำหรับชี้ข้อมูลใน list (ชี้จากข้างหน้า,ชี้จากข้างหลัง)"
      ],
      "execution_count": 45,
      "outputs": [
        {
          "output_type": "execute_result",
          "data": {
            "application/vnd.google.colaboratory.intrinsic+json": {
              "type": "string"
            },
            "text/plain": [
              "'u'"
            ]
          },
          "metadata": {
            "tags": []
          },
          "execution_count": 45
        }
      ]
    },
    {
      "cell_type": "markdown",
      "metadata": {
        "id": "dMkghDfTFxY7"
      },
      "source": [
        "#String > list of charactrs "
      ]
    },
    {
      "cell_type": "markdown",
      "metadata": {
        "id": "IQZ8aY8QF-JZ"
      },
      "source": [
        "คำสั่งที่ใช้กับ list สามารถใช้กับ string"
      ]
    },
    {
      "cell_type": "code",
      "metadata": {
        "colab": {
          "base_uri": "https://localhost:8080/"
        },
        "id": "EwlSufyVFHF5",
        "outputId": "a858e0c2-2d4f-4c73-c28b-25c963503a41"
      },
      "source": [
        "t = 'ploybongkot is cute'\r\n",
        "print(t)"
      ],
      "execution_count": 47,
      "outputs": [
        {
          "output_type": "stream",
          "text": [
            "ploybongkot is cute\n"
          ],
          "name": "stdout"
        }
      ]
    },
    {
      "cell_type": "code",
      "metadata": {
        "colab": {
          "base_uri": "https://localhost:8080/",
          "height": 35
        },
        "id": "-kcV0S8EGY2n",
        "outputId": "978e1aa4-b564-4c84-d3c3-5f12f807b4a6"
      },
      "source": [
        "t[1] #หมายความคิดว่า ต้องการทราบ tตัวที่ 1"
      ],
      "execution_count": 48,
      "outputs": [
        {
          "output_type": "execute_result",
          "data": {
            "application/vnd.google.colaboratory.intrinsic+json": {
              "type": "string"
            },
            "text/plain": [
              "'l'"
            ]
          },
          "metadata": {
            "tags": []
          },
          "execution_count": 48
        }
      ]
    },
    {
      "cell_type": "code",
      "metadata": {
        "colab": {
          "base_uri": "https://localhost:8080/",
          "height": 35
        },
        "id": "3wVdmCT_GgtB",
        "outputId": "1c4ad57d-c2ec-401e-e10d-5298f9a337fd"
      },
      "source": [
        "t[-4]"
      ],
      "execution_count": 49,
      "outputs": [
        {
          "output_type": "execute_result",
          "data": {
            "application/vnd.google.colaboratory.intrinsic+json": {
              "type": "string"
            },
            "text/plain": [
              "'c'"
            ]
          },
          "metadata": {
            "tags": []
          },
          "execution_count": 49
        }
      ]
    },
    {
      "cell_type": "code",
      "metadata": {
        "colab": {
          "base_uri": "https://localhost:8080/",
          "height": 35
        },
        "id": "_VvOxlXhGsb3",
        "outputId": "8445dc9a-45b2-4de1-f5f2-30b8ba90f381"
      },
      "source": [
        "t[3]"
      ],
      "execution_count": 50,
      "outputs": [
        {
          "output_type": "execute_result",
          "data": {
            "application/vnd.google.colaboratory.intrinsic+json": {
              "type": "string"
            },
            "text/plain": [
              "'y'"
            ]
          },
          "metadata": {
            "tags": []
          },
          "execution_count": 50
        }
      ]
    },
    {
      "cell_type": "code",
      "metadata": {
        "colab": {
          "base_uri": "https://localhost:8080/",
          "height": 35
        },
        "id": "RrIFdx3UGvIR",
        "outputId": "2a6aebc7-3578-4153-df49-8e46c1db4bfa"
      },
      "source": [
        "t[6]"
      ],
      "execution_count": 51,
      "outputs": [
        {
          "output_type": "execute_result",
          "data": {
            "application/vnd.google.colaboratory.intrinsic+json": {
              "type": "string"
            },
            "text/plain": [
              "'n'"
            ]
          },
          "metadata": {
            "tags": []
          },
          "execution_count": 51
        }
      ]
    },
    {
      "cell_type": "markdown",
      "metadata": {
        "id": "aL8UMOoNG0bQ"
      },
      "source": [
        "#จบ 5 มค 2021 "
      ]
    }
  ]
}