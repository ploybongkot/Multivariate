{
  "nbformat": 4,
  "nbformat_minor": 0,
  "metadata": {
    "colab": {
      "name": "python101.ipynb",
      "provenance": [],
      "authorship_tag": "ABX9TyPZtaaMYsaH3ZumZaE6aT+l",
      "include_colab_link": true
    },
    "kernelspec": {
      "name": "python3",
      "display_name": "Python 3"
    }
  },
  "cells": [
    {
      "cell_type": "markdown",
      "metadata": {
        "id": "view-in-github",
        "colab_type": "text"
      },
      "source": [
        "<a href=\"https://colab.research.google.com/github/ploybongkot/Multivariate/blob/main/python101.ipynb\" target=\"_parent\"><img src=\"https://colab.research.google.com/assets/colab-badge.svg\" alt=\"Open In Colab\"/></a>"
      ]
    },
    {
      "cell_type": "markdown",
      "metadata": {
        "id": "q9q-dJe74L4f"
      },
      "source": [
        "ตัวแปร variable\r\n",
        "\r\n",
        "\r\n",
        "\r\n",
        "\r\n",
        "หลักการตั้งชื่อตัวแปรเบื้องต้น\r\n",
        "\r\n",
        "1.ตั้งให้สื่อ ว่าตัวแปรนี้คืออะไร เวลาย้อนมาดูจะได้ดูง่ายๆ\r\n",
        "\r\n",
        "2.ภาษาอังกฤษ เพราะภาษาไทยคอมอ่านไม่รู้เรื่อง\r\n",
        "\r\n",
        "3.ใช้ตัวเลขได้แต่ห้ามขึ้นต้นด้วยตัวเลข เช่น ตัวแปรชื่อ a1 a2 a3 ทำได้ แต่ว่าตัวแปรชื่อ 1a ทำไม่ได้\r\n",
        "\r\n",
        "4.ห้ามเว้นวรรค เพราะเว้นวรรคเป็นคำใหม่\r\n",
        "\r\n",
        "5.ตัวเล็กกับตัวใหญ่ไม่เหมือนกัน"
      ]
    },
    {
      "cell_type": "markdown",
      "metadata": {
        "id": "NmbXN0VS_EfZ"
      },
      "source": [
        "มี output 2 mode คือ ออกหน้าจอ ดับ เข้าไปก็บในตัวแปร"
      ]
    },
    {
      "cell_type": "code",
      "metadata": {
        "colab": {
          "base_uri": "https://localhost:8080/"
        },
        "id": "Ml8std9J-6Ow",
        "outputId": "b6dde65b-69c8-4d37-d552-984365a9442f"
      },
      "source": [
        "3.14159  # hashtag หรือ sharp # คือ comment >>> อันนี้คือ output ที่ออกหน้าจอ"
      ],
      "execution_count": 25,
      "outputs": [
        {
          "output_type": "execute_result",
          "data": {
            "text/plain": [
              "3.14159"
            ]
          },
          "metadata": {
            "tags": []
          },
          "execution_count": 25
        }
      ]
    },
    {
      "cell_type": "code",
      "metadata": {
        "id": "qLeIx0nn5ZEM"
      },
      "source": [
        "Pi = 3.14159  # อันนี้คือ output ที่เข้าไปอยู่ในตัวแปร"
      ],
      "execution_count": 26,
      "outputs": []
    },
    {
      "cell_type": "code",
      "metadata": {
        "colab": {
          "base_uri": "https://localhost:8080/"
        },
        "id": "4Dph_L72_lmg",
        "outputId": "2f7dc292-0418-440f-9ab4-36847715e8ff"
      },
      "source": [
        "Pi"
      ],
      "execution_count": 27,
      "outputs": [
        {
          "output_type": "execute_result",
          "data": {
            "text/plain": [
              "3.14159"
            ]
          },
          "metadata": {
            "tags": []
          },
          "execution_count": 27
        }
      ]
    },
    {
      "cell_type": "code",
      "metadata": {
        "colab": {
          "base_uri": "https://localhost:8080/"
        },
        "id": "psEsmdrK_q5I",
        "outputId": "128c0942-4b99-4662-ec50-67860d7c7845"
      },
      "source": [
        "a = 1234567\r\n",
        "print(a)"
      ],
      "execution_count": 28,
      "outputs": [
        {
          "output_type": "stream",
          "text": [
            "1234567\n"
          ],
          "name": "stdout"
        }
      ]
    },
    {
      "cell_type": "markdown",
      "metadata": {
        "id": "QQN_s2MaAJN3"
      },
      "source": [
        "ข้อดีของ code คือ มันสามารถ Enter ลงมาได้ ทำให้เราสามารถพิมพ์คำสั่งยาวๆหลายๆบรรทัดได้"
      ]
    },
    {
      "cell_type": "markdown",
      "metadata": {
        "id": "w_7xESJeAx8-"
      },
      "source": [
        "# ชนิดของตัวแปร 3 ชนิด"
      ]
    },
    {
      "cell_type": "markdown",
      "metadata": {
        "id": "tISgp8WbEGvK"
      },
      "source": [
        "### จำนวนเต็ม ( integer,int)"
      ]
    },
    {
      "cell_type": "code",
      "metadata": {
        "colab": {
          "base_uri": "https://localhost:8080/"
        },
        "id": "DUfI1fnKEYnM",
        "outputId": "8fca907f-ca2d-428f-c3b5-52e518074ec3"
      },
      "source": [
        "aaa = 1092\r\n",
        "print(aaa)"
      ],
      "execution_count": 29,
      "outputs": [
        {
          "output_type": "stream",
          "text": [
            "1092\n"
          ],
          "name": "stdout"
        }
      ]
    },
    {
      "cell_type": "markdown",
      "metadata": {
        "id": "93U8xsHPE4qJ"
      },
      "source": [
        "### จำนวนจริง (float)"
      ]
    },
    {
      "cell_type": "code",
      "metadata": {
        "colab": {
          "base_uri": "https://localhost:8080/"
        },
        "id": "YRJkJHKjFEKK",
        "outputId": "ddceffe5-c441-4728-d376-b4a57a97d911"
      },
      "source": [
        "bbb = 11.\r\n",
        "print(bbb)"
      ],
      "execution_count": 30,
      "outputs": [
        {
          "output_type": "stream",
          "text": [
            "11.0\n"
          ],
          "name": "stdout"
        }
      ]
    },
    {
      "cell_type": "markdown",
      "metadata": {
        "id": "bUciZaZiF4ZZ"
      },
      "source": [
        "### ตัวอักษร-ข้อความ (character และ text,string) คือ ค่าหลายๆค่าที่เอาเรียงต่อกัน\r\n",
        "\r\n"
      ]
    },
    {
      "cell_type": "code",
      "metadata": {
        "colab": {
          "base_uri": "https://localhost:8080/"
        },
        "id": "03IUb-LLGvC2",
        "outputId": "d93110fa-077e-4230-b35a-a00e7d4639ac"
      },
      "source": [
        "ccc = '123456'  # เราใช้ single quote ' หรือ double qoute \" ล้อมรอบตัวหนังสือเพื่อระบุว่าเป็น charecter-string ไม่ว่จะเป็น ' หรือ \" ใช้ได้หมดเลย แต่ว่าเปิดด้วยตัวไหนก็ต้องปิดด้วยตัวนั้น \r\n",
        "print(ccc)"
      ],
      "execution_count": 31,
      "outputs": [
        {
          "output_type": "stream",
          "text": [
            "123456\n"
          ],
          "name": "stdout"
        }
      ]
    },
    {
      "cell_type": "markdown",
      "metadata": {
        "id": "wQ0wqQq9b_3a"
      },
      "source": [
        "ถึงเป็นตัวเลขแต่ถ้ามี qoute ล้อมรอบแปลว่าเป็นตัวอักษร หรือ string ไม่ได้เป็นตัวเลข เอาไปใช้บวกลบคูณหารไม่ได้ เหตุผลที่ต้องมี quote ล้อมรอมเพราะว่า ตัวแปรมันก็เป็นตัวอักษรเหมือนกันมันจะได้รู้ว่าอันนี้คือตัวแปล อันนี้คือข้อความไม่ใช่ตัวแปร"
      ]
    },
    {
      "cell_type": "code",
      "metadata": {
        "colab": {
          "base_uri": "https://localhost:8080/",
          "height": 129
        },
        "id": "w02H17YomEEw",
        "outputId": "db6e7f50-e491-40a9-bab8-4aba52972269"
      },
      "source": [
        "aaa + bbb เอา float มาบวกกับ int = float"
      ],
      "execution_count": 32,
      "outputs": [
        {
          "output_type": "error",
          "ename": "SyntaxError",
          "evalue": "ignored",
          "traceback": [
            "\u001b[0;36m  File \u001b[0;32m\"<ipython-input-32-ed650990709b>\"\u001b[0;36m, line \u001b[0;32m1\u001b[0m\n\u001b[0;31m    aaa + bbb เอา float มาบวกกับ int = float\u001b[0m\n\u001b[0m                ^\u001b[0m\n\u001b[0;31mSyntaxError\u001b[0m\u001b[0;31m:\u001b[0m invalid syntax\n"
          ]
        }
      ]
    },
    {
      "cell_type": "code",
      "metadata": {
        "colab": {
          "base_uri": "https://localhost:8080/",
          "height": 129
        },
        "id": "abwq1jD5LsQ6",
        "outputId": "a005b766-0c5a-4134-944e-e44ad66fe397"
      },
      "source": [
        "bbb + ccc อันนี้มันจะไม่สามารถบวกได้เพราะว่ามันเป็นตัวแปลคนละชนิดกัน จริงๆตัวแปรคนละชนิดกันก็บวกกันได้"
      ],
      "execution_count": 33,
      "outputs": [
        {
          "output_type": "error",
          "ename": "SyntaxError",
          "evalue": "ignored",
          "traceback": [
            "\u001b[0;36m  File \u001b[0;32m\"<ipython-input-33-ca329416da09>\"\u001b[0;36m, line \u001b[0;32m1\u001b[0m\n\u001b[0;31m    bbb + ccc อันนี้มันจะไม่สามารถบวกได้เพราะว่ามันเป็นตัวแปลคนละชนิดกัน จริงๆตัวแปรคนละชนิดกันก็บวกกันได้\u001b[0m\n\u001b[0m                                                                       ^\u001b[0m\n\u001b[0;31mSyntaxError\u001b[0m\u001b[0;31m:\u001b[0m invalid syntax\n"
          ]
        }
      ]
    },
    {
      "cell_type": "markdown",
      "metadata": {
        "id": "n8PG_2MZmtV5"
      },
      "source": [
        "ใน python เวลามันทำอะไรไม่ได้มันก็จะ Error เกิดขึ้น จะสนใจแค่บรรทัดสุดท้าย มันจะบอกว่าทำไมถึง Error ถ้าเราอ่านไม่ออกก็สามารถคัดลอกเอาไปหาใน Google ได้ ใน Google จะมีคนอธิบาย Error ที่เกี่ยวกับ Python ไว้หมด"
      ]
    },
    {
      "cell_type": "code",
      "metadata": {
        "colab": {
          "base_uri": "https://localhost:8080/"
        },
        "id": "UNtoersJpgqy",
        "outputId": "5f2e78b5-022d-4b26-b03a-a06824e0e865"
      },
      "source": [
        "ddd = 'พลอยบงกช' \r\n",
        "print(ddd)"
      ],
      "execution_count": 34,
      "outputs": [
        {
          "output_type": "stream",
          "text": [
            "พลอยบงกช\n"
          ],
          "name": "stdout"
        }
      ]
    },
    {
      "cell_type": "markdown",
      "metadata": {
        "id": "tk4OIGFiqHhr"
      },
      "source": [
        " ข้อความสามารถเป็นภาษาไทยได้ไม่มีปัญหาอะไร\r\n"
      ]
    },
    {
      "cell_type": "markdown",
      "metadata": {
        "id": "oAhaXToeqP9R"
      },
      "source": [
        "# การเปลี่ยนชนิดของตัวแปร variable casting"
      ]
    },
    {
      "cell_type": "code",
      "metadata": {
        "colab": {
          "base_uri": "https://localhost:8080/"
        },
        "id": "_ruml8x4qvZx",
        "outputId": "3209b0b7-a22a-435e-b72c-651390d01902"
      },
      "source": [
        "aaa + int(ccc)"
      ],
      "execution_count": 35,
      "outputs": [
        {
          "output_type": "execute_result",
          "data": {
            "text/plain": [
              "124548"
            ]
          },
          "metadata": {
            "tags": []
          },
          "execution_count": 35
        }
      ]
    },
    {
      "cell_type": "code",
      "metadata": {
        "colab": {
          "base_uri": "https://localhost:8080/"
        },
        "id": "kiKA7LGqrTyu",
        "outputId": "14efc02c-a8e7-4192-a1eb-d67aeaa67908"
      },
      "source": [
        "aaa + float(ccc)"
      ],
      "execution_count": 36,
      "outputs": [
        {
          "output_type": "execute_result",
          "data": {
            "text/plain": [
              "124548.0"
            ]
          },
          "metadata": {
            "tags": []
          },
          "execution_count": 36
        }
      ]
    },
    {
      "cell_type": "code",
      "metadata": {
        "colab": {
          "base_uri": "https://localhost:8080/",
          "height": 35
        },
        "id": "KTqTM0S4riJp",
        "outputId": "812d6d96-2b22-4dfb-ff88-beb7a0aeab53"
      },
      "source": [
        "(str(aaa))"
      ],
      "execution_count": 37,
      "outputs": [
        {
          "output_type": "execute_result",
          "data": {
            "application/vnd.google.colaboratory.intrinsic+json": {
              "type": "string"
            },
            "text/plain": [
              "'1092'"
            ]
          },
          "metadata": {
            "tags": []
          },
          "execution_count": 37
        }
      ]
    },
    {
      "cell_type": "markdown",
      "metadata": {
        "id": "yj1QD6e3r_uw"
      },
      "source": [
        "การพิมพ์แบบนี้จะทำได้เฉพาะใน Notebook มันช่วยให้เราดูได้ว่าตอนนี้ค่าที่เราดูหน้าตามันเป็นยังไง ค่ามันคืออะไร"
      ]
    },
    {
      "cell_type": "markdown",
      "metadata": {
        "id": "2huZZvKOs-c0"
      },
      "source": [
        "# การดำเนินการ Operation (Operators +,-,*,/,%)"
      ]
    },
    {
      "cell_type": "code",
      "metadata": {
        "colab": {
          "base_uri": "https://localhost:8080/",
          "height": 163
        },
        "id": "aCO9cgHctqWl",
        "outputId": "9a6c8cc2-5d5e-49ec-8bda-9becf7751f8f"
      },
      "source": [
        "a+b"
      ],
      "execution_count": 38,
      "outputs": [
        {
          "output_type": "error",
          "ename": "NameError",
          "evalue": "ignored",
          "traceback": [
            "\u001b[0;31m---------------------------------------------------------------------------\u001b[0m",
            "\u001b[0;31mNameError\u001b[0m                                 Traceback (most recent call last)",
            "\u001b[0;32m<ipython-input-38-ca730b97bf8a>\u001b[0m in \u001b[0;36m<module>\u001b[0;34m()\u001b[0m\n\u001b[0;32m----> 1\u001b[0;31m \u001b[0ma\u001b[0m\u001b[0;34m+\u001b[0m\u001b[0mb\u001b[0m\u001b[0;34m\u001b[0m\u001b[0;34m\u001b[0m\u001b[0m\n\u001b[0m",
            "\u001b[0;31mNameError\u001b[0m: name 'b' is not defined"
          ]
        }
      ]
    },
    {
      "cell_type": "markdown",
      "metadata": {
        "id": "X7UsMh0kt6zz"
      },
      "source": [
        "Error นี้บอกว่า ตัวแปร b มันไม่มี แล้วก็บวกไม่ได้"
      ]
    },
    {
      "cell_type": "code",
      "metadata": {
        "colab": {
          "base_uri": "https://localhost:8080/"
        },
        "id": "g3h6mOY7uxNK",
        "outputId": "37722504-fba4-48ac-e0db-63a58d0df711"
      },
      "source": [
        "aaa + bbb"
      ],
      "execution_count": 39,
      "outputs": [
        {
          "output_type": "execute_result",
          "data": {
            "text/plain": [
              "1103.0"
            ]
          },
          "metadata": {
            "tags": []
          },
          "execution_count": 39
        }
      ]
    },
    {
      "cell_type": "code",
      "metadata": {
        "colab": {
          "base_uri": "https://localhost:8080/"
        },
        "id": "_IpqO0S-u2BU",
        "outputId": "71900521-8e19-41f4-d969-6ea0e83ae5e9"
      },
      "source": [
        "aaa - bbb"
      ],
      "execution_count": 40,
      "outputs": [
        {
          "output_type": "execute_result",
          "data": {
            "text/plain": [
              "1081.0"
            ]
          },
          "metadata": {
            "tags": []
          },
          "execution_count": 40
        }
      ]
    },
    {
      "cell_type": "code",
      "metadata": {
        "colab": {
          "base_uri": "https://localhost:8080/"
        },
        "id": "7VmG3rRYu8yj",
        "outputId": "9357f7e1-80c9-4430-ac82-4543654862d7"
      },
      "source": [
        "ab = aaa*bbb\r\n",
        "print(ab)"
      ],
      "execution_count": 41,
      "outputs": [
        {
          "output_type": "stream",
          "text": [
            "12012.0\n"
          ],
          "name": "stdout"
        }
      ]
    },
    {
      "cell_type": "code",
      "metadata": {
        "colab": {
          "base_uri": "https://localhost:8080/"
        },
        "id": "Vr_7LGQqvQ2f",
        "outputId": "c9db6513-3357-4e80-d17d-003751ac29bf"
      },
      "source": [
        "ab + int(ccc)"
      ],
      "execution_count": 42,
      "outputs": [
        {
          "output_type": "execute_result",
          "data": {
            "text/plain": [
              "135468.0"
            ]
          },
          "metadata": {
            "tags": []
          },
          "execution_count": 42
        }
      ]
    },
    {
      "cell_type": "markdown",
      "metadata": {
        "id": "kONvnfkfv6kg"
      },
      "source": [
        "### % เครื่องหมาย modulo"
      ]
    },
    {
      "cell_type": "code",
      "metadata": {
        "colab": {
          "base_uri": "https://localhost:8080/"
        },
        "id": "uAuQ5XI9wSQ-",
        "outputId": "f17044ce-1ef0-4e2d-8612-3410fb34431a"
      },
      "source": [
        "5%3"
      ],
      "execution_count": 43,
      "outputs": [
        {
          "output_type": "execute_result",
          "data": {
            "text/plain": [
              "2"
            ]
          },
          "metadata": {
            "tags": []
          },
          "execution_count": 43
        }
      ]
    },
    {
      "cell_type": "code",
      "metadata": {
        "colab": {
          "base_uri": "https://localhost:8080/"
        },
        "id": "62RSEb0bwiov",
        "outputId": "14fb8c61-42d4-4b01-89fd-d4254904a69e"
      },
      "source": [
        "7%3"
      ],
      "execution_count": 44,
      "outputs": [
        {
          "output_type": "execute_result",
          "data": {
            "text/plain": [
              "1"
            ]
          },
          "metadata": {
            "tags": []
          },
          "execution_count": 44
        }
      ]
    },
    {
      "cell_type": "markdown",
      "metadata": {
        "id": "wotNukmjw962"
      },
      "source": [
        "modulo คือการหารเอาเศษ เอาไว้ใช้เช็คว่าตัวเลขเป็นเลขคี่หรือเลขคู่ เอา 2 มาหาร ถ้าหารได้ 0  เป็นเลขคู่ ถ้าหารได้ 1 เป็นเลขคี่"
      ]
    },
    {
      "cell_type": "markdown",
      "metadata": {
        "id": "ZFYAv1EkyNCE"
      },
      "source": [
        "### คำสั่ง print แบบพิเศษ (การ fomat string)"
      ]
    },
    {
      "cell_type": "code",
      "metadata": {
        "colab": {
          "base_uri": "https://localhost:8080/"
        },
        "id": "2KQD0-2Hyqhd",
        "outputId": "c4ede751-43b1-4a11-f6ad-aef012136c91"
      },
      "source": [
        "print('ตัวแปร') # สิ่งที่อยู่ข้างในวงเล็บคือ ตัวแปร และ string"
      ],
      "execution_count": 45,
      "outputs": [
        {
          "output_type": "stream",
          "text": [
            "ตัวแปร\n"
          ],
          "name": "stdout"
        }
      ]
    },
    {
      "cell_type": "markdown",
      "metadata": {
        "id": "ydsZJmb52jKV"
      },
      "source": [
        "-print สามารถ print ได้ทั้งตัวแปร และstring\r\n",
        "\r\n",
        "-เพื่อความสวยงามสามารถแก้ไขตัว print ให้ฉลาดมากขึ้นโดยการเพิ่ม f สามารถเอา code ใส่เข้าไปในตัวข้อความได้\r\n",
        "\r\n",
        "เครื่องหมาย {} จะแสดงแค่คำตอบของ 7%3 คือ เท่ากับ 1"
      ]
    },
    {
      "cell_type": "code",
      "metadata": {
        "colab": {
          "base_uri": "https://localhost:8080/"
        },
        "id": "UhiIRRLdzEQQ",
        "outputId": "ad816e37-861b-408f-812e-9eb9160f4d31"
      },
      "source": [
        "print(f'%คือการหารเอาเศษ เช่น 7%3 = {7%3}') # เพิ่ม f หน้า 'string' และใช้ {} ใส่ code "
      ],
      "execution_count": 46,
      "outputs": [
        {
          "output_type": "stream",
          "text": [
            "%คือการหารเอาเศษ เช่น 7%3 = 1\n"
          ],
          "name": "stdout"
        }
      ]
    },
    {
      "cell_type": "code",
      "metadata": {
        "colab": {
          "base_uri": "https://localhost:8080/"
        },
        "id": "6Icrn7Qa08KO",
        "outputId": "c7437a51-9f33-42c2-b321-a941b4f5dc36"
      },
      "source": [
        "print (f'% คือการหารเอาเศษ เช่น 7%3 ={7%3}\\\r\n",
        "แต่\\n/ คือการหารปกติ เช่น 7/3 = {7/3}\\\r\n",
        "และ\\n// คือการหารเอาส่วน เช่น 7/3 = {7/3}\\\r\n",
        "หรือ\\nใช้ int() เพื่อหารเอาส่วน เช่น int(7/3) = {int(7/3)}') # \\n คือการขึ้นบรรทัดใหม่ที่ comเห็น \\ ใช้ในการตัด code แต่ com จะไม่เห็น"
      ],
      "execution_count": 47,
      "outputs": [
        {
          "output_type": "stream",
          "text": [
            "% คือการหารเอาเศษ เช่น 7%3 =1แต่\n",
            "/ คือการหารปกติ เช่น 7/3 = 2.3333333333333335และ\n",
            "// คือการหารเอาส่วน เช่น 7/3 = 2.3333333333333335หรือ\n",
            "ใช้ int() เพื่อหารเอาส่วน เช่น int(7/3) = 2\n"
          ],
          "name": "stdout"
        }
      ]
    },
    {
      "cell_type": "markdown",
      "metadata": {
        "id": "ijZyu0NV7mV7"
      },
      "source": [
        "# DATA STRUCTURE (โครงสร้างข้อมูล)"
      ]
    },
    {
      "cell_type": "markdown",
      "metadata": {
        "id": "3hJYuAZZ777K"
      },
      "source": [
        "### List คือการเอาข้อมูลหลายๆตัวมาเรียงต่อกัน\r\n",
        "list สามารถสร้างได้ 2 แบบ ดังนี้"
      ]
    },
    {
      "cell_type": "markdown",
      "metadata": {
        "id": "ILu8CkCi8Z5k"
      },
      "source": [
        "ข้อมูลสามารถเป็นได้ทั้ง ตัวเลข,ตัวอักษรและตัวแปร สัญลักษณ์ของ list คือ [ ]\r\n",
        "\r\n",
        "เราสามารถจัดกลุ่มตัวแปรหลายๆตัวมารวมอยู่ในที่เก็บเดียวกันได้"
      ]
    },
    {
      "cell_type": "code",
      "metadata": {
        "colab": {
          "base_uri": "https://localhost:8080/"
        },
        "id": "kSkaocxa84lC",
        "outputId": "ef884c74-7cb0-41d1-e340-d28f1316a463"
      },
      "source": [
        "[111, 'c' ,'ไข่ดาว', aaa]"
      ],
      "execution_count": 37,
      "outputs": [
        {
          "output_type": "execute_result",
          "data": {
            "text/plain": [
              "[111, 'c', 'ไข่ดาว', 1092]"
            ]
          },
          "metadata": {
            "tags": []
          },
          "execution_count": 37
        }
      ]
    },
    {
      "cell_type": "markdown",
      "metadata": {
        "id": "3KpdJT5G9lIZ"
      },
      "source": [
        "# แบบที่ 1 > square brackets\r\n",
        "สร้างด้วยสัญลักษณ์ของ list"
      ]
    },
    {
      "cell_type": "code",
      "metadata": {
        "colab": {
          "base_uri": "https://localhost:8080/"
        },
        "id": "FheRfpaC-D6S",
        "outputId": "c8909734-d00e-49c1-df53-f33a71c2208d"
      },
      "source": [
        "list_a = []  #list [] = list ว่าง\r\n",
        "print(list_a)"
      ],
      "execution_count": 48,
      "outputs": [
        {
          "output_type": "stream",
          "text": [
            "[]\n"
          ],
          "name": "stdout"
        }
      ]
    },
    {
      "cell_type": "code",
      "metadata": {
        "colab": {
          "base_uri": "https://localhost:8080/"
        },
        "id": "Wq3vJh7_-hee",
        "outputId": "1ce6d0ca-bc7a-40f2-e2a7-c627f4fc271d"
      },
      "source": [
        "list_b = [111,'c','ไข่ดาว',aaa]\r\n",
        "print(list_b)"
      ],
      "execution_count": 49,
      "outputs": [
        {
          "output_type": "stream",
          "text": [
            "[111, 'c', 'ไข่ดาว', 1092]\n"
          ],
          "name": "stdout"
        }
      ]
    },
    {
      "cell_type": "markdown",
      "metadata": {
        "id": "qQ2e8VVu_Erj"
      },
      "source": [
        "# ลำดับที่อยู่ใน list มีความสำคัญ (ลำดับใน list เริ่มจาก 0,1,2,...)"
      ]
    },
    {
      "cell_type": "code",
      "metadata": {
        "colab": {
          "base_uri": "https://localhost:8080/",
          "height": 35
        },
        "id": "uENMhR6e_cjt",
        "outputId": "026df467-1903-45b6-92d9-657f8cee1a97"
      },
      "source": [
        "list_b[2]  #หมายความว่าอยากได้สมาชิกตัวที่2 และลำดับไม่มีความเปลี่ยนแปลง"
      ],
      "execution_count": 50,
      "outputs": [
        {
          "output_type": "execute_result",
          "data": {
            "application/vnd.google.colaboratory.intrinsic+json": {
              "type": "string"
            },
            "text/plain": [
              "'ไข่ดาว'"
            ]
          },
          "metadata": {
            "tags": []
          },
          "execution_count": 50
        }
      ]
    },
    {
      "cell_type": "markdown",
      "metadata": {
        "id": "P99LpYYg_6oV"
      },
      "source": [
        "# แบบที่2\r\n",
        "จะบอกว่าตัวแปลเท่ากับ list"
      ]
    },
    {
      "cell_type": "code",
      "metadata": {
        "colab": {
          "base_uri": "https://localhost:8080/"
        },
        "id": "2NQ4mhUoAFvY",
        "outputId": "d7b4d434-37ac-4863-b5a8-55e8086796ea"
      },
      "source": [
        "list_c = list()\r\n",
        "print(list_c)"
      ],
      "execution_count": 51,
      "outputs": [
        {
          "output_type": "stream",
          "text": [
            "[]\n"
          ],
          "name": "stdout"
        }
      ]
    },
    {
      "cell_type": "markdown",
      "metadata": {
        "id": "ry6eP9FaDJp4"
      },
      "source": [
        "#append() เพิ่มสมาชิกใน list\r\n"
      ]
    },
    {
      "cell_type": "markdown",
      "metadata": {
        "id": "bkHS7rkdDdvt"
      },
      "source": [
        ".append คือเอาสมาชิกไปต่อท้ายของ list"
      ]
    },
    {
      "cell_type": "code",
      "metadata": {
        "colab": {
          "base_uri": "https://localhost:8080/"
        },
        "id": "0OYhWeAUDmjN",
        "outputId": "00dcf83c-997e-4d09-f59f-c38f993e9356"
      },
      "source": [
        "list_b. append('u')\r\n",
        "print(list_b)"
      ],
      "execution_count": 52,
      "outputs": [
        {
          "output_type": "stream",
          "text": [
            "[111, 'c', 'ไข่ดาว', 1092, 'u']\n"
          ],
          "name": "stdout"
        }
      ]
    },
    {
      "cell_type": "markdown",
      "metadata": {
        "id": "PHhm48z5EOic"
      },
      "source": [
        "ชี้จากข้างหน้า คือ อยากได้ตัวไหนก็สามารถชี้เอาได้เลย\r\n",
        "\r\n",
        "ชี้จากข้างหลัง คือ ต้องใส่เครื่อง - เข้าไป เช่น [-1]"
      ]
    },
    {
      "cell_type": "markdown",
      "metadata": {
        "id": "La4ozXzdEt98"
      },
      "source": [
        "0 คือ สมาชิกตัวแรก , -1 คือ สมาชิกตัวสุดท้าย"
      ]
    },
    {
      "cell_type": "code",
      "metadata": {
        "colab": {
          "base_uri": "https://localhost:8080/"
        },
        "id": "x1_FgEuQDzPZ",
        "outputId": "ab3f04f1-1058-4df5-9fcf-b9f1b1a5b808"
      },
      "source": [
        "list_b[-2]  #ดังที่อยู่ในวงเล็บหลังจากตัวแปร list เรียก index ใช้สำหรับชี้ข้อมูลใน list (ชี้จากข้างหน้า,ชี้จากข้างหลัง)"
      ],
      "execution_count": 53,
      "outputs": [
        {
          "output_type": "execute_result",
          "data": {
            "text/plain": [
              "1092"
            ]
          },
          "metadata": {
            "tags": []
          },
          "execution_count": 53
        }
      ]
    },
    {
      "cell_type": "markdown",
      "metadata": {
        "id": "dMkghDfTFxY7"
      },
      "source": [
        "#String > list of charactrs "
      ]
    },
    {
      "cell_type": "markdown",
      "metadata": {
        "id": "IQZ8aY8QF-JZ"
      },
      "source": [
        "คำสั่งที่ใช้กับ list สามารถใช้กับ string"
      ]
    },
    {
      "cell_type": "code",
      "metadata": {
        "colab": {
          "base_uri": "https://localhost:8080/"
        },
        "id": "EwlSufyVFHF5",
        "outputId": "5d853d5e-bbb0-4c4c-ed14-0b78b4c30ddd"
      },
      "source": [
        "t = 'ploybongkot is cute'\r\n",
        "print(t)"
      ],
      "execution_count": 54,
      "outputs": [
        {
          "output_type": "stream",
          "text": [
            "ploybongkot is cute\n"
          ],
          "name": "stdout"
        }
      ]
    },
    {
      "cell_type": "code",
      "metadata": {
        "colab": {
          "base_uri": "https://localhost:8080/",
          "height": 35
        },
        "id": "-kcV0S8EGY2n",
        "outputId": "27838d38-686d-47e1-a4f8-19e3b72d625e"
      },
      "source": [
        "t[1] #หมายความคิดว่า ต้องการทราบ tตัวที่ 1"
      ],
      "execution_count": 55,
      "outputs": [
        {
          "output_type": "execute_result",
          "data": {
            "application/vnd.google.colaboratory.intrinsic+json": {
              "type": "string"
            },
            "text/plain": [
              "'l'"
            ]
          },
          "metadata": {
            "tags": []
          },
          "execution_count": 55
        }
      ]
    },
    {
      "cell_type": "code",
      "metadata": {
        "colab": {
          "base_uri": "https://localhost:8080/",
          "height": 35
        },
        "id": "3wVdmCT_GgtB",
        "outputId": "a246d767-74dc-4a1b-86b3-2cf038253f76"
      },
      "source": [
        "t[-4]"
      ],
      "execution_count": 56,
      "outputs": [
        {
          "output_type": "execute_result",
          "data": {
            "application/vnd.google.colaboratory.intrinsic+json": {
              "type": "string"
            },
            "text/plain": [
              "'c'"
            ]
          },
          "metadata": {
            "tags": []
          },
          "execution_count": 56
        }
      ]
    },
    {
      "cell_type": "code",
      "metadata": {
        "colab": {
          "base_uri": "https://localhost:8080/",
          "height": 35
        },
        "id": "_VvOxlXhGsb3",
        "outputId": "9f810d8a-1466-4ab9-a744-f07a45b1334d"
      },
      "source": [
        "t[3]"
      ],
      "execution_count": 57,
      "outputs": [
        {
          "output_type": "execute_result",
          "data": {
            "application/vnd.google.colaboratory.intrinsic+json": {
              "type": "string"
            },
            "text/plain": [
              "'y'"
            ]
          },
          "metadata": {
            "tags": []
          },
          "execution_count": 57
        }
      ]
    },
    {
      "cell_type": "code",
      "metadata": {
        "colab": {
          "base_uri": "https://localhost:8080/",
          "height": 35
        },
        "id": "RrIFdx3UGvIR",
        "outputId": "f523f97e-1d8c-4b43-f232-41db265aa562"
      },
      "source": [
        "t[6]"
      ],
      "execution_count": 58,
      "outputs": [
        {
          "output_type": "execute_result",
          "data": {
            "application/vnd.google.colaboratory.intrinsic+json": {
              "type": "string"
            },
            "text/plain": [
              "'n'"
            ]
          },
          "metadata": {
            "tags": []
          },
          "execution_count": 58
        }
      ]
    },
    {
      "cell_type": "markdown",
      "metadata": {
        "id": "aL8UMOoNG0bQ"
      },
      "source": [
        "#จบ 5 มค 2021 "
      ]
    },
    {
      "cell_type": "markdown",
      "metadata": {
        "id": "T_LI5wyRiPMQ"
      },
      "source": [
        "# คาบที่ 3 11 มค. 2021"
      ]
    },
    {
      "cell_type": "code",
      "metadata": {
        "colab": {
          "base_uri": "https://localhost:8080/"
        },
        "id": "XpCGjwyxiXTH",
        "outputId": "e60281c4-06c7-4d4d-8413-45f165aaa631"
      },
      "source": [
        "len(t)"
      ],
      "execution_count": 59,
      "outputs": [
        {
          "output_type": "execute_result",
          "data": {
            "text/plain": [
              "19"
            ]
          },
          "metadata": {
            "tags": []
          },
          "execution_count": 59
        }
      ]
    },
    {
      "cell_type": "code",
      "metadata": {
        "colab": {
          "base_uri": "https://localhost:8080/"
        },
        "id": "W_wA57awkM91",
        "outputId": "3a5403d1-bf40-4e12-d8d9-3a58c8c318d5"
      },
      "source": [
        "list_b"
      ],
      "execution_count": 47,
      "outputs": [
        {
          "output_type": "execute_result",
          "data": {
            "text/plain": [
              "[111, 'c', 'ไข่ดาว', 1092, 'u']"
            ]
          },
          "metadata": {
            "tags": []
          },
          "execution_count": 47
        }
      ]
    },
    {
      "cell_type": "markdown",
      "metadata": {
        "id": "ZuK4JW5RleJ0"
      },
      "source": [
        "ตัวที่อยู่ข้างใน[ ] เราเรียกว่า index (ตัวชี้)"
      ]
    },
    {
      "cell_type": "markdown",
      "metadata": {
        "id": "p5cSYHdYltgI"
      },
      "source": [
        "List slicing สามารถทำได้โดยใช้ colon"
      ]
    },
    {
      "cell_type": "code",
      "metadata": {
        "colab": {
          "base_uri": "https://localhost:8080/"
        },
        "id": "qgHiDrG6l3AF",
        "outputId": "36fab36c-d1dc-413c-e0f8-14576f563940"
      },
      "source": [
        "print(t)\r\n",
        "print(t[7:9])\r\n",
        "print(len(t[7:9]))"
      ],
      "execution_count": 60,
      "outputs": [
        {
          "output_type": "stream",
          "text": [
            "ploybongkot is cute\n",
            "gk\n",
            "2\n"
          ],
          "name": "stdout"
        }
      ]
    },
    {
      "cell_type": "code",
      "metadata": {
        "colab": {
          "base_uri": "https://localhost:8080/",
          "height": 35
        },
        "id": "xYGGqfGMnkK_",
        "outputId": "2f2ee20f-cf62-41cc-f442-09939374ebb6"
      },
      "source": [
        "t[0:19:2] #เริ่มตัวที่ 0 โดยหยิบทุกๆ 2 ตัว จนครบ 19 ตัว"
      ],
      "execution_count": 61,
      "outputs": [
        {
          "output_type": "execute_result",
          "data": {
            "application/vnd.google.colaboratory.intrinsic+json": {
              "type": "string"
            },
            "text/plain": [
              "'pobnkti ue'"
            ]
          },
          "metadata": {
            "tags": []
          },
          "execution_count": 61
        }
      ]
    },
    {
      "cell_type": "markdown",
      "metadata": {
        "id": "8wejcwlumagm"
      },
      "source": [
        "มันจะบอกว่าเริ่มที่ตัวไหนจบที่ตัวไหน แล้วถ้าเพิ่ม : อีกตัว คือ เริ่มตัวที่ 0 โดยหยิบทุกๆ 2 ตัว"
      ]
    },
    {
      "cell_type": "code",
      "metadata": {
        "colab": {
          "base_uri": "https://localhost:8080/"
        },
        "id": "-sTTJP20oSkj",
        "outputId": "5b61f5e9-2bc8-4a64-e1c3-d796fd4253b2"
      },
      "source": [
        "z = [1,2,3,4,5,6,7,8,9,10]\r\n",
        "z[1:10:2]"
      ],
      "execution_count": 62,
      "outputs": [
        {
          "output_type": "execute_result",
          "data": {
            "text/plain": [
              "[2, 4, 6, 8, 10]"
            ]
          },
          "metadata": {
            "tags": []
          },
          "execution_count": 62
        }
      ]
    },
    {
      "cell_type": "markdown",
      "metadata": {
        "id": "KS-IQ4bzoj5l"
      },
      "source": [
        "ถ้าเว้นว่างหน้า : หมายความว่า เริ่มตั้งแต่ตัวเลข (0) หรือตัวแรก\r\n",
        "\r\n",
        "ถ้าเว้นว่างหลัง : หมายความว่า ไปจนถึงตัวสุดท้าย (len(list))\r\n",
        "\r\n"
      ]
    },
    {
      "cell_type": "code",
      "metadata": {
        "colab": {
          "base_uri": "https://localhost:8080/"
        },
        "id": "3hPe488Ppr_S",
        "outputId": "66fe3f8a-5551-489c-be0d-0cbb20e9e231"
      },
      "source": [
        "print(t)\r\n",
        "print(t[:6]) # : มีข้อพิเศษถ้าเราไม่ใส่ตัวเลข คือเริ่มตัวแรก list โดยมันแทน 0 ให้เลย \r\n",
        "print(t[:10])\r\n",
        "print(t[-4:])\r\n",
        "print(t[:])"
      ],
      "execution_count": 63,
      "outputs": [
        {
          "output_type": "stream",
          "text": [
            "ploybongkot is cute\n",
            "ploybo\n",
            "ploybongko\n",
            "cute\n",
            "ploybongkot is cute\n"
          ],
          "name": "stdout"
        }
      ]
    },
    {
      "cell_type": "code",
      "metadata": {
        "colab": {
          "base_uri": "https://localhost:8080/"
        },
        "id": "bO2_gfikpz-6",
        "outputId": "fd1dd5c9-f312-4eb2-8305-d2918d55bfea"
      },
      "source": [
        "print(z[::2])"
      ],
      "execution_count": 64,
      "outputs": [
        {
          "output_type": "stream",
          "text": [
            "[1, 3, 5, 7, 9]\n"
          ],
          "name": "stdout"
        }
      ]
    },
    {
      "cell_type": "markdown",
      "metadata": {
        "id": "NTqYIQLVq_px"
      },
      "source": [
        "### เราสามารถเอา list มาต่อได้ด้วย + "
      ]
    },
    {
      "cell_type": "code",
      "metadata": {
        "colab": {
          "base_uri": "https://localhost:8080/",
          "height": 35
        },
        "id": "bsOrU4SCrjZN",
        "outputId": "808d2126-122f-4781-9ac1-d1d1a9791922"
      },
      "source": [
        "t + '??'"
      ],
      "execution_count": 65,
      "outputs": [
        {
          "output_type": "execute_result",
          "data": {
            "application/vnd.google.colaboratory.intrinsic+json": {
              "type": "string"
            },
            "text/plain": [
              "'ploybongkot is cute??'"
            ]
          },
          "metadata": {
            "tags": []
          },
          "execution_count": 65
        }
      ]
    },
    {
      "cell_type": "code",
      "metadata": {
        "colab": {
          "base_uri": "https://localhost:8080/",
          "height": 163
        },
        "id": "kThirb__r-SU",
        "outputId": "d54e2b6e-695c-4976-a6ba-3e7a74d0dc87"
      },
      "source": [
        "t + list_b ## ไม่สามารถเอา list ปกติมาต่อกับ string ได้"
      ],
      "execution_count": 66,
      "outputs": [
        {
          "output_type": "error",
          "ename": "TypeError",
          "evalue": "ignored",
          "traceback": [
            "\u001b[0;31m---------------------------------------------------------------------------\u001b[0m",
            "\u001b[0;31mTypeError\u001b[0m                                 Traceback (most recent call last)",
            "\u001b[0;32m<ipython-input-66-8ceeb7529eac>\u001b[0m in \u001b[0;36m<module>\u001b[0;34m()\u001b[0m\n\u001b[0;32m----> 1\u001b[0;31m \u001b[0mt\u001b[0m \u001b[0;34m+\u001b[0m \u001b[0mlist_b\u001b[0m \u001b[0;31m## ไม่สามารถเอา list ปกติมาต่อกับ string ได้\u001b[0m\u001b[0;34m\u001b[0m\u001b[0;34m\u001b[0m\u001b[0m\n\u001b[0m",
            "\u001b[0;31mTypeError\u001b[0m: must be str, not list"
          ]
        }
      ]
    },
    {
      "cell_type": "code",
      "metadata": {
        "id": "vZHYNM_MXuBo",
        "outputId": "6e0d6a4c-003a-4729-c40d-3d8905a564ef",
        "colab": {
          "base_uri": "https://localhost:8080/"
        }
      },
      "source": [
        "print(list_a)\r\n",
        "print(list_b)\r\n",
        "print(list_b + list_a)"
      ],
      "execution_count": 67,
      "outputs": [
        {
          "output_type": "stream",
          "text": [
            "[]\n",
            "[111, 'c', 'ไข่ดาว', 1092, 'u']\n",
            "[111, 'c', 'ไข่ดาว', 1092, 'u']\n"
          ],
          "name": "stdout"
        }
      ]
    },
    {
      "cell_type": "markdown",
      "metadata": {
        "id": "OUGPsv8pYlgr"
      },
      "source": [
        "### การแบ่ง String ตามสัญลักษณ์ที่กำหนด -> split string"
      ]
    },
    {
      "cell_type": "code",
      "metadata": {
        "id": "NKm6tqstY5u1",
        "outputId": "9626a7fe-cc6a-450e-b34f-9b7a4516200a",
        "colab": {
          "base_uri": "https://localhost:8080/",
          "height": 35
        }
      },
      "source": [
        "t"
      ],
      "execution_count": 68,
      "outputs": [
        {
          "output_type": "execute_result",
          "data": {
            "application/vnd.google.colaboratory.intrinsic+json": {
              "type": "string"
            },
            "text/plain": [
              "'ploybongkot is cute'"
            ]
          },
          "metadata": {
            "tags": []
          },
          "execution_count": 68
        }
      ]
    },
    {
      "cell_type": "code",
      "metadata": {
        "id": "D6USeEFbmofL",
        "outputId": "d0502c44-1a37-46fd-9014-ed2158401d18",
        "colab": {
          "base_uri": "https://localhost:8080/"
        }
      },
      "source": [
        "t.split(' ') #split คือการแบ่งโดยระบุเพื่อการแบ่งวรรค"
      ],
      "execution_count": 70,
      "outputs": [
        {
          "output_type": "execute_result",
          "data": {
            "text/plain": [
              "['ploybongkot', 'is', 'cute']"
            ]
          },
          "metadata": {
            "tags": []
          },
          "execution_count": 70
        }
      ]
    },
    {
      "cell_type": "code",
      "metadata": {
        "id": "foZWiu9qnEPQ"
      },
      "source": [
        "time = '12:30:15'"
      ],
      "execution_count": 71,
      "outputs": []
    },
    {
      "cell_type": "code",
      "metadata": {
        "id": "g_KaBSxenW7I",
        "outputId": "8d8853e4-55cf-4304-997a-735b936adf7e",
        "colab": {
          "base_uri": "https://localhost:8080/"
        }
      },
      "source": [
        "time.split(':')"
      ],
      "execution_count": 72,
      "outputs": [
        {
          "output_type": "execute_result",
          "data": {
            "text/plain": [
              "['12', '30', '15']"
            ]
          },
          "metadata": {
            "tags": []
          },
          "execution_count": 72
        }
      ]
    },
    {
      "cell_type": "code",
      "metadata": {
        "id": "rfAefv8lnjJI",
        "outputId": "5c18601f-315b-4bb2-daad-9ac9845232b6",
        "colab": {
          "base_uri": "https://localhost:8080/"
        }
      },
      "source": [
        "t_sp = t.split(' ')\r\n",
        "print(t_sp)"
      ],
      "execution_count": 73,
      "outputs": [
        {
          "output_type": "stream",
          "text": [
            "['ploybongkot', 'is', 'cute']\n"
          ],
          "name": "stdout"
        }
      ]
    },
    {
      "cell_type": "code",
      "metadata": {
        "id": "DTCS8Qfun4Te",
        "outputId": "9d2df3a3-56fc-434f-9894-c67c22df8ef3",
        "colab": {
          "base_uri": "https://localhost:8080/"
        }
      },
      "source": [
        "#วิธีรวมกลับ\r\n",
        "print(':'.join(t_sp))"
      ],
      "execution_count": 74,
      "outputs": [
        {
          "output_type": "stream",
          "text": [
            "ploybongkot:is:cute\n"
          ],
          "name": "stdout"
        }
      ]
    },
    {
      "cell_type": "markdown",
      "metadata": {
        "id": "tulvnNKoZHX6"
      },
      "source": [
        "HW คำนวณเวลาเป็นวินาทีต่อไปนี้โดยใช้คำสั่ง split() ช่วย (print ออกมาให้สวยงาม)\r\n",
        "\r\n",
        "12:30:15\r\n",
        "\r\n",
        "13:41:07\r\n",
        "\r\n",
        "12:53:15\r\n",
        "\r\n",
        "00:59:25\r\n",
        "\r\n",
        "11:11:11\r\n",
        "\r\n",
        "16:06:09\r\n",
        "\r\n",
        "21:12:30\r\n",
        "\r\n",
        "10:06:15\r\n",
        "\r\n",
        "exp => 00:01:10 = 70 วินาที\r\n",
        "\r\n",
        "exp => 01:00:01 = 3601 วินาที"
      ]
    },
    {
      "cell_type": "code",
      "metadata": {
        "id": "BkL6G9WVa8Hq",
        "outputId": "40fb6bd1-7d03-486f-b26c-6f584f60ccad",
        "colab": {
          "base_uri": "https://localhost:8080/"
        }
      },
      "source": [
        "q1 = '12:30:15'\r\n",
        "q1.split(':')\r\n",
        "list_q1 = [12,30,15]\r\n",
        "hr = list_q1[0]*3600\r\n",
        "mi = list_q1[1]*60\r\n",
        "s = list_q1[2]\r\n",
        "aq1 = hr+mi+s\r\n",
        "print(aq1) \r\n"
      ],
      "execution_count": 11,
      "outputs": [
        {
          "output_type": "stream",
          "text": [
            "45015\n"
          ],
          "name": "stdout"
        }
      ]
    },
    {
      "cell_type": "markdown",
      "metadata": {
        "id": "8w6YpYwpc3cH"
      },
      "source": [
        "q1 แปลงได้ 45015 วินาที"
      ]
    },
    {
      "cell_type": "code",
      "metadata": {
        "id": "mKiaWRMHdFi8",
        "outputId": "59bf6550-b4a9-490b-eea5-3de1ecf8deeb",
        "colab": {
          "base_uri": "https://localhost:8080/"
        }
      },
      "source": [
        "q2 = '13:41:07'\r\n",
        "q2.split(':')\r\n",
        "list_q2 = [13,41,7]\r\n",
        "hr2 = list_q2[0]*3600\r\n",
        "mi2 = list_q2[1]*60\r\n",
        "s2 = list_q2[2]\r\n",
        "aq2 = hr2+mi2+s2\r\n",
        "print(aq2) \r\n"
      ],
      "execution_count": 15,
      "outputs": [
        {
          "output_type": "stream",
          "text": [
            "49267\n"
          ],
          "name": "stdout"
        }
      ]
    },
    {
      "cell_type": "markdown",
      "metadata": {
        "id": "sMlb1unjfwYu"
      },
      "source": [
        "q2 แปลงได้ 49267 วินาที"
      ]
    },
    {
      "cell_type": "code",
      "metadata": {
        "id": "Zn6-igB7eeB6",
        "outputId": "2a57789c-0feb-48bc-d847-6e865fa7ccf3",
        "colab": {
          "base_uri": "https://localhost:8080/"
        }
      },
      "source": [
        "q3 = '12:53:15'\r\n",
        "q3.split(':')\r\n",
        "list_q3 = [12,53,15]\r\n",
        "hr3 = list_q3[0]*3600\r\n",
        "mi3 = list_q3[1]*60\r\n",
        "s3 = list_q3[2]\r\n",
        "aq3 = hr3+mi3+s3\r\n",
        "print(aq3) "
      ],
      "execution_count": 14,
      "outputs": [
        {
          "output_type": "stream",
          "text": [
            "46395\n"
          ],
          "name": "stdout"
        }
      ]
    },
    {
      "cell_type": "markdown",
      "metadata": {
        "id": "cyKCeFovf7_0"
      },
      "source": [
        "q3 แปลงได้ 46395 วินาที"
      ]
    },
    {
      "cell_type": "code",
      "metadata": {
        "id": "6HzxQBD0gFTB",
        "outputId": "bfa9273d-3cc3-4cb8-dd3c-8fb177fbe311",
        "colab": {
          "base_uri": "https://localhost:8080/"
        }
      },
      "source": [
        "q4 = '00:59:25'\r\n",
        "q4.split(':')\r\n",
        "list_q4 = [00,59,25]\r\n",
        "hr4 = list_q4[0]*3600\r\n",
        "mi4 = list_q4[1]*60\r\n",
        "s4 = list_q4[2]\r\n",
        "aq4 = hr4+mi4+s4\r\n",
        "print(aq4) "
      ],
      "execution_count": 16,
      "outputs": [
        {
          "output_type": "stream",
          "text": [
            "3565\n"
          ],
          "name": "stdout"
        }
      ]
    },
    {
      "cell_type": "markdown",
      "metadata": {
        "id": "JuubnMaKgnl_"
      },
      "source": [
        "q4 แปลงได้ 3565 วินาที"
      ]
    },
    {
      "cell_type": "code",
      "metadata": {
        "id": "LWhdQHWfgu2L",
        "outputId": "fe234430-8117-4dec-ef6d-f1ad08397bad",
        "colab": {
          "base_uri": "https://localhost:8080/"
        }
      },
      "source": [
        "q5 = '11:11:11'\r\n",
        "q5.split(':')\r\n",
        "list_q5 = [11,11,11]\r\n",
        "hr5 = list_q5[0]*3600\r\n",
        "mi5 = list_q5[1]*60\r\n",
        "s5 = list_q5[2]\r\n",
        "aq5 = hr5+mi5+s5\r\n",
        "print(aq5) "
      ],
      "execution_count": 17,
      "outputs": [
        {
          "output_type": "stream",
          "text": [
            "40271\n"
          ],
          "name": "stdout"
        }
      ]
    },
    {
      "cell_type": "markdown",
      "metadata": {
        "id": "bkMsR6qPhKUy"
      },
      "source": [
        "q5 แปลงได้ 40271 วินาที"
      ]
    },
    {
      "cell_type": "code",
      "metadata": {
        "id": "4BiF3k6KhRdb",
        "outputId": "92393bd7-3e0d-4d28-84b6-dbb418b529d5",
        "colab": {
          "base_uri": "https://localhost:8080/"
        }
      },
      "source": [
        "q6 = '19:06:09'\r\n",
        "q6.split(':')\r\n",
        "list_q6 = [16,6,9]\r\n",
        "hr6 = list_q6[0]*3600\r\n",
        "mi6 = list_q6[1]*60\r\n",
        "s6 = list_q6[2]\r\n",
        "aq6 = hr6+mi6+s6\r\n",
        "print(aq6) "
      ],
      "execution_count": 18,
      "outputs": [
        {
          "output_type": "stream",
          "text": [
            "57969\n"
          ],
          "name": "stdout"
        }
      ]
    },
    {
      "cell_type": "markdown",
      "metadata": {
        "id": "XS8Tlt5UiCvD"
      },
      "source": [
        "q6 แปลงได้ 57969 วินาที"
      ]
    },
    {
      "cell_type": "code",
      "metadata": {
        "id": "-zojN9NQiKz5",
        "outputId": "d9dea624-f033-419c-ce74-07540c33dee7",
        "colab": {
          "base_uri": "https://localhost:8080/"
        }
      },
      "source": [
        "q7 = '21:12:30'\r\n",
        "q7.split(':')\r\n",
        "list_q7 = [21,12,30]\r\n",
        "hr7 = list_q7[0]*3600\r\n",
        "mi7 = list_q7[1]*60\r\n",
        "s7 = list_q7[2]\r\n",
        "aq7 = hr7+mi7+s7\r\n",
        "print(aq7) "
      ],
      "execution_count": 19,
      "outputs": [
        {
          "output_type": "stream",
          "text": [
            "76350\n"
          ],
          "name": "stdout"
        }
      ]
    },
    {
      "cell_type": "markdown",
      "metadata": {
        "id": "Z4Vb3e51iudd"
      },
      "source": [
        "q7 แปลงได้ 76350 วินาที"
      ]
    },
    {
      "cell_type": "code",
      "metadata": {
        "id": "W6W6kxUBi3XQ",
        "outputId": "5b52224d-e90c-48b9-d9df-f0287b38dec6",
        "colab": {
          "base_uri": "https://localhost:8080/"
        }
      },
      "source": [
        "q8 = '10:06:15'\r\n",
        "q8.split(':')\r\n",
        "list_q8 = [10,6,15]\r\n",
        "hr8 = list_q8[0]*3600\r\n",
        "mi8 = list_q8[1]*60\r\n",
        "s8 = list_q8[2]\r\n",
        "aq8 = hr8+mi8+s8\r\n",
        "print(aq8) "
      ],
      "execution_count": 20,
      "outputs": [
        {
          "output_type": "stream",
          "text": [
            "36375\n"
          ],
          "name": "stdout"
        }
      ]
    },
    {
      "cell_type": "markdown",
      "metadata": {
        "id": "Jc1Ilz2LjYao"
      },
      "source": [
        "q8 แปลงได้ 36375 วินาที"
      ]
    }
  ]
}