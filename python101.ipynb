{
  "nbformat": 4,
  "nbformat_minor": 0,
  "metadata": {
    "colab": {
      "name": "python101.ipynb",
      "provenance": [],
      "authorship_tag": "ABX9TyMImTOfAFku053V6xzygu8+",
      "include_colab_link": true
    },
    "kernelspec": {
      "name": "python3",
      "display_name": "Python 3"
    }
  },
  "cells": [
    {
      "cell_type": "markdown",
      "metadata": {
        "id": "view-in-github",
        "colab_type": "text"
      },
      "source": [
        "<a href=\"https://colab.research.google.com/github/ploybongkot/Multivariate/blob/main/python101.ipynb\" target=\"_parent\"><img src=\"https://colab.research.google.com/assets/colab-badge.svg\" alt=\"Open In Colab\"/></a>"
      ]
    },
    {
      "cell_type": "markdown",
      "metadata": {
        "id": "q9q-dJe74L4f"
      },
      "source": [
        "ตัวแปร variable\r\n",
        "\r\n",
        "\r\n",
        "\r\n",
        "\r\n",
        "หลักการตั้งชื่อตัวแปรเบื้องต้น\r\n",
        "\r\n",
        "1.ตั้งให้สื่อ ว่าตัวแปรนี้คืออะไร เวลาย้อนมาดูจะได้ดูง่ายๆ\r\n",
        "\r\n",
        "2.ภาษาอังกฤษ เพราะภาษาไทยคอมอ่านไม่รู้เรื่อง\r\n",
        "\r\n",
        "3.ใช้ตัวเลขได้แต่ห้ามขึ้นต้นด้วยตัวเลข เช่น ตัวแปรชื่อ a1 a2 a3 ทำได้ แต่ว่าตัวแปรชื่อ 1a ทำไม่ได้\r\n",
        "\r\n",
        "4.ห้ามเว้นวรรค เพราะเว้นวรรคเป็นคำใหม่\r\n",
        "\r\n",
        "5.ตัวเล็กกับตัวใหญ่ไม่เหมือนกัน"
      ]
    },
    {
      "cell_type": "markdown",
      "metadata": {
        "id": "NmbXN0VS_EfZ"
      },
      "source": [
        "มี output 2 mode คือ ออกหน้าจอ ดับ เข้าไปก็บในตัวแปร"
      ]
    },
    {
      "cell_type": "code",
      "metadata": {
        "colab": {
          "base_uri": "https://localhost:8080/"
        },
        "id": "Ml8std9J-6Ow",
        "outputId": "5f62c35d-b27f-4b7e-cd51-0ac21d3856e2"
      },
      "source": [
        "3.14159  # hashtag หรือ sharp # คือ comment >>> อันนี้คือ output ที่ออกหน้าจอ"
      ],
      "execution_count": 32,
      "outputs": [
        {
          "output_type": "execute_result",
          "data": {
            "text/plain": [
              "3.14159"
            ]
          },
          "metadata": {
            "tags": []
          },
          "execution_count": 32
        }
      ]
    },
    {
      "cell_type": "code",
      "metadata": {
        "id": "qLeIx0nn5ZEM"
      },
      "source": [
        "Pi = 3.14159  # อันนี้คือ output ที่เข้าไปอยู่ในตัวแปร"
      ],
      "execution_count": 33,
      "outputs": []
    },
    {
      "cell_type": "code",
      "metadata": {
        "colab": {
          "base_uri": "https://localhost:8080/"
        },
        "id": "4Dph_L72_lmg",
        "outputId": "11575a4c-83a2-4184-d3b4-24d28c107d90"
      },
      "source": [
        "Pi"
      ],
      "execution_count": 34,
      "outputs": [
        {
          "output_type": "execute_result",
          "data": {
            "text/plain": [
              "3.14159"
            ]
          },
          "metadata": {
            "tags": []
          },
          "execution_count": 34
        }
      ]
    },
    {
      "cell_type": "code",
      "metadata": {
        "colab": {
          "base_uri": "https://localhost:8080/"
        },
        "id": "psEsmdrK_q5I",
        "outputId": "5144c2b1-bd6f-4abc-8613-16885768d1ca"
      },
      "source": [
        "a = 1234567\r\n",
        "print(a)"
      ],
      "execution_count": 35,
      "outputs": [
        {
          "output_type": "stream",
          "text": [
            "1234567\n"
          ],
          "name": "stdout"
        }
      ]
    },
    {
      "cell_type": "markdown",
      "metadata": {
        "id": "QQN_s2MaAJN3"
      },
      "source": [
        "ข้อดีของ code คือ มันสามารถ Enter ลงมาได้ ทำให้เราสามารถพิมพ์คำสั่งยาวๆหลายๆบรรทัดได้"
      ]
    },
    {
      "cell_type": "markdown",
      "metadata": {
        "id": "w_7xESJeAx8-"
      },
      "source": [
        "# ชนิดของตัวแปร 3 ชนิด"
      ]
    },
    {
      "cell_type": "markdown",
      "metadata": {
        "id": "tISgp8WbEGvK"
      },
      "source": [
        "### จำนวนเต็ม ( integer,int)"
      ]
    },
    {
      "cell_type": "code",
      "metadata": {
        "colab": {
          "base_uri": "https://localhost:8080/"
        },
        "id": "DUfI1fnKEYnM",
        "outputId": "164f4f44-ea8f-4979-9c8a-785799107223"
      },
      "source": [
        "aaa = 1092\r\n",
        "print(aaa)"
      ],
      "execution_count": 36,
      "outputs": [
        {
          "output_type": "stream",
          "text": [
            "1092\n"
          ],
          "name": "stdout"
        }
      ]
    },
    {
      "cell_type": "markdown",
      "metadata": {
        "id": "93U8xsHPE4qJ"
      },
      "source": [
        "### จำนวนจริง (float)"
      ]
    },
    {
      "cell_type": "code",
      "metadata": {
        "colab": {
          "base_uri": "https://localhost:8080/"
        },
        "id": "YRJkJHKjFEKK",
        "outputId": "98982d4e-e558-4d8d-c55a-2b71101cf748"
      },
      "source": [
        "bbb = 11.\r\n",
        "print(bbb)"
      ],
      "execution_count": 37,
      "outputs": [
        {
          "output_type": "stream",
          "text": [
            "11.0\n"
          ],
          "name": "stdout"
        }
      ]
    },
    {
      "cell_type": "markdown",
      "metadata": {
        "id": "bUciZaZiF4ZZ"
      },
      "source": [
        "### ตัวอักษร-ข้อความ (character และ text,string) คือ ค่าหลายๆค่าที่เอาเรียงต่อกัน\r\n",
        "\r\n"
      ]
    },
    {
      "cell_type": "code",
      "metadata": {
        "colab": {
          "base_uri": "https://localhost:8080/"
        },
        "id": "03IUb-LLGvC2",
        "outputId": "722fdbb9-a419-4f02-e058-65247f2facf2"
      },
      "source": [
        "ccc = '123456'  # เราใช้ single quote ' หรือ double qoute \" ล้อมรอบตัวหนังสือเพื่อระบุว่าเป็น charecter-string ไม่ว่จะเป็น ' หรือ \" ใช้ได้หมดเลย แต่ว่าเปิดด้วยตัวไหนก็ต้องปิดด้วยตัวนั้น \r\n",
        "print(ccc)"
      ],
      "execution_count": 38,
      "outputs": [
        {
          "output_type": "stream",
          "text": [
            "123456\n"
          ],
          "name": "stdout"
        }
      ]
    },
    {
      "cell_type": "markdown",
      "metadata": {
        "id": "wQ0wqQq9b_3a"
      },
      "source": [
        "ถึงเป็นตัวเลขแต่ถ้ามี qoute ล้อมรอบแปลว่าเป็นตัวอักษร หรือ string ไม่ได้เป็นตัวเลข เอาไปใช้บวกลบคูณหารไม่ได้ เหตุผลที่ต้องมี quote ล้อมรอมเพราะว่า ตัวแปรมันก็เป็นตัวอักษรเหมือนกันมันจะได้รู้ว่าอันนี้คือตัวแปล อันนี้คือข้อความไม่ใช่ตัวแปร"
      ]
    },
    {
      "cell_type": "code",
      "metadata": {
        "colab": {
          "base_uri": "https://localhost:8080/",
          "height": 129
        },
        "id": "w02H17YomEEw",
        "outputId": "8e7f76d3-0cd1-4564-dfb5-082ebccd20ae"
      },
      "source": [
        "aaa + bbb เอา float มาบวกกับ int = float"
      ],
      "execution_count": 39,
      "outputs": [
        {
          "output_type": "error",
          "ename": "SyntaxError",
          "evalue": "ignored",
          "traceback": [
            "\u001b[0;36m  File \u001b[0;32m\"<ipython-input-39-ed650990709b>\"\u001b[0;36m, line \u001b[0;32m1\u001b[0m\n\u001b[0;31m    aaa + bbb เอา float มาบวกกับ int = float\u001b[0m\n\u001b[0m                ^\u001b[0m\n\u001b[0;31mSyntaxError\u001b[0m\u001b[0;31m:\u001b[0m invalid syntax\n"
          ]
        }
      ]
    },
    {
      "cell_type": "code",
      "metadata": {
        "colab": {
          "base_uri": "https://localhost:8080/",
          "height": 129
        },
        "id": "abwq1jD5LsQ6",
        "outputId": "f2340485-f6d6-469d-e89b-281c4ddc55ce"
      },
      "source": [
        "bbb + ccc อันนี้มันจะไม่สามารถบวกได้เพราะว่ามันเป็นตัวแปลคนละชนิดกัน จริงๆตัวแปรคนละชนิดกันก็บวกกันได้"
      ],
      "execution_count": 40,
      "outputs": [
        {
          "output_type": "error",
          "ename": "SyntaxError",
          "evalue": "ignored",
          "traceback": [
            "\u001b[0;36m  File \u001b[0;32m\"<ipython-input-40-ca329416da09>\"\u001b[0;36m, line \u001b[0;32m1\u001b[0m\n\u001b[0;31m    bbb + ccc อันนี้มันจะไม่สามารถบวกได้เพราะว่ามันเป็นตัวแปลคนละชนิดกัน จริงๆตัวแปรคนละชนิดกันก็บวกกันได้\u001b[0m\n\u001b[0m                                                                       ^\u001b[0m\n\u001b[0;31mSyntaxError\u001b[0m\u001b[0;31m:\u001b[0m invalid syntax\n"
          ]
        }
      ]
    },
    {
      "cell_type": "markdown",
      "metadata": {
        "id": "n8PG_2MZmtV5"
      },
      "source": [
        "ใน python เวลามันทำอะไรไม่ได้มันก็จะ Error เกิดขึ้น จะสนใจแค่บรรทัดสุดท้าย มันจะบอกว่าทำไมถึง Error ถ้าเราอ่านไม่ออกก็สามารถคัดลอกเอาไปหาใน Google ได้ ใน Google จะมีคนอธิบาย Error ที่เกี่ยวกับ Python ไว้หมด"
      ]
    },
    {
      "cell_type": "code",
      "metadata": {
        "colab": {
          "base_uri": "https://localhost:8080/"
        },
        "id": "UNtoersJpgqy",
        "outputId": "716e4cd5-6195-4cec-b5cb-5879861da33e"
      },
      "source": [
        "ddd = 'พลอยบงกช' \r\n",
        "print(ddd)"
      ],
      "execution_count": 41,
      "outputs": [
        {
          "output_type": "stream",
          "text": [
            "พลอยบงกช\n"
          ],
          "name": "stdout"
        }
      ]
    },
    {
      "cell_type": "markdown",
      "metadata": {
        "id": "tk4OIGFiqHhr"
      },
      "source": [
        " ข้อความสามารถเป็นภาษาไทยได้ไม่มีปัญหาอะไร\r\n"
      ]
    },
    {
      "cell_type": "markdown",
      "metadata": {
        "id": "oAhaXToeqP9R"
      },
      "source": [
        "# การเปลี่ยนชนิดของตัวแปร variable casting"
      ]
    },
    {
      "cell_type": "code",
      "metadata": {
        "colab": {
          "base_uri": "https://localhost:8080/"
        },
        "id": "_ruml8x4qvZx",
        "outputId": "fb257b14-4ae6-42d4-e9e7-1f2e3bc6922b"
      },
      "source": [
        "aaa + int(ccc)"
      ],
      "execution_count": 42,
      "outputs": [
        {
          "output_type": "execute_result",
          "data": {
            "text/plain": [
              "124548"
            ]
          },
          "metadata": {
            "tags": []
          },
          "execution_count": 42
        }
      ]
    },
    {
      "cell_type": "code",
      "metadata": {
        "colab": {
          "base_uri": "https://localhost:8080/"
        },
        "id": "kiKA7LGqrTyu",
        "outputId": "96ac0c6e-8e06-45ee-830d-6929ba01dbf7"
      },
      "source": [
        "aaa + float(ccc)"
      ],
      "execution_count": 44,
      "outputs": [
        {
          "output_type": "execute_result",
          "data": {
            "text/plain": [
              "124548.0"
            ]
          },
          "metadata": {
            "tags": []
          },
          "execution_count": 44
        }
      ]
    },
    {
      "cell_type": "code",
      "metadata": {
        "colab": {
          "base_uri": "https://localhost:8080/",
          "height": 35
        },
        "id": "KTqTM0S4riJp",
        "outputId": "5fd6d689-12c2-4bbc-8810-fe335b2fb1c5"
      },
      "source": [
        "(str(aaa))"
      ],
      "execution_count": 45,
      "outputs": [
        {
          "output_type": "execute_result",
          "data": {
            "application/vnd.google.colaboratory.intrinsic+json": {
              "type": "string"
            },
            "text/plain": [
              "'1092'"
            ]
          },
          "metadata": {
            "tags": []
          },
          "execution_count": 45
        }
      ]
    },
    {
      "cell_type": "markdown",
      "metadata": {
        "id": "yj1QD6e3r_uw"
      },
      "source": [
        "การพิมพ์แบบนี้จะทำได้เฉพาะใน Notebook มันช่วยให้เราดูได้ว่าตอนนี้ค่าที่เราดูหน้าตามันเป็นยังไง ค่ามันคืออะไร"
      ]
    },
    {
      "cell_type": "markdown",
      "metadata": {
        "id": "2huZZvKOs-c0"
      },
      "source": [
        "# การดำเนินการ Operation (Operators +,-,*,/,%)"
      ]
    },
    {
      "cell_type": "code",
      "metadata": {
        "colab": {
          "base_uri": "https://localhost:8080/",
          "height": 163
        },
        "id": "aCO9cgHctqWl",
        "outputId": "112737b3-1df4-4b61-96ea-ce1b31a568ef"
      },
      "source": [
        "a+b"
      ],
      "execution_count": 46,
      "outputs": [
        {
          "output_type": "error",
          "ename": "NameError",
          "evalue": "ignored",
          "traceback": [
            "\u001b[0;31m---------------------------------------------------------------------------\u001b[0m",
            "\u001b[0;31mNameError\u001b[0m                                 Traceback (most recent call last)",
            "\u001b[0;32m<ipython-input-46-ca730b97bf8a>\u001b[0m in \u001b[0;36m<module>\u001b[0;34m()\u001b[0m\n\u001b[0;32m----> 1\u001b[0;31m \u001b[0ma\u001b[0m\u001b[0;34m+\u001b[0m\u001b[0mb\u001b[0m\u001b[0;34m\u001b[0m\u001b[0;34m\u001b[0m\u001b[0m\n\u001b[0m",
            "\u001b[0;31mNameError\u001b[0m: name 'b' is not defined"
          ]
        }
      ]
    },
    {
      "cell_type": "markdown",
      "metadata": {
        "id": "X7UsMh0kt6zz"
      },
      "source": [
        "Error นี้บอกว่า ตัวแปร b มันไม่มี แล้วก็บวกไม่ได้"
      ]
    },
    {
      "cell_type": "code",
      "metadata": {
        "colab": {
          "base_uri": "https://localhost:8080/"
        },
        "id": "g3h6mOY7uxNK",
        "outputId": "3aee05d3-ac93-4b31-d929-91fa481285ab"
      },
      "source": [
        "aaa + bbb"
      ],
      "execution_count": 47,
      "outputs": [
        {
          "output_type": "execute_result",
          "data": {
            "text/plain": [
              "1103.0"
            ]
          },
          "metadata": {
            "tags": []
          },
          "execution_count": 47
        }
      ]
    },
    {
      "cell_type": "code",
      "metadata": {
        "colab": {
          "base_uri": "https://localhost:8080/"
        },
        "id": "_IpqO0S-u2BU",
        "outputId": "88fbd45d-3c61-43f7-86a6-0262c5c8e7f2"
      },
      "source": [
        "aaa - bbb"
      ],
      "execution_count": 48,
      "outputs": [
        {
          "output_type": "execute_result",
          "data": {
            "text/plain": [
              "1081.0"
            ]
          },
          "metadata": {
            "tags": []
          },
          "execution_count": 48
        }
      ]
    },
    {
      "cell_type": "code",
      "metadata": {
        "colab": {
          "base_uri": "https://localhost:8080/"
        },
        "id": "7VmG3rRYu8yj",
        "outputId": "574b0fe6-a6a0-4421-a67b-ab8d1165420c"
      },
      "source": [
        "ab = aaa*bbb\r\n",
        "print(ab)"
      ],
      "execution_count": 49,
      "outputs": [
        {
          "output_type": "stream",
          "text": [
            "12012.0\n"
          ],
          "name": "stdout"
        }
      ]
    },
    {
      "cell_type": "code",
      "metadata": {
        "colab": {
          "base_uri": "https://localhost:8080/"
        },
        "id": "Vr_7LGQqvQ2f",
        "outputId": "ef22ad88-278f-4b95-d29e-38e6830b731a"
      },
      "source": [
        "ab + int(ccc)"
      ],
      "execution_count": 50,
      "outputs": [
        {
          "output_type": "execute_result",
          "data": {
            "text/plain": [
              "135468.0"
            ]
          },
          "metadata": {
            "tags": []
          },
          "execution_count": 50
        }
      ]
    },
    {
      "cell_type": "markdown",
      "metadata": {
        "id": "kONvnfkfv6kg"
      },
      "source": [
        "### % เครื่องหมาย modulo"
      ]
    },
    {
      "cell_type": "code",
      "metadata": {
        "colab": {
          "base_uri": "https://localhost:8080/"
        },
        "id": "uAuQ5XI9wSQ-",
        "outputId": "98179f30-4652-49a6-c4f7-4b28183d68c4"
      },
      "source": [
        "5%3"
      ],
      "execution_count": 51,
      "outputs": [
        {
          "output_type": "execute_result",
          "data": {
            "text/plain": [
              "2"
            ]
          },
          "metadata": {
            "tags": []
          },
          "execution_count": 51
        }
      ]
    },
    {
      "cell_type": "code",
      "metadata": {
        "colab": {
          "base_uri": "https://localhost:8080/"
        },
        "id": "62RSEb0bwiov",
        "outputId": "d00abf06-2c39-44e1-bfd9-b5a72c3850d8"
      },
      "source": [
        "7%3"
      ],
      "execution_count": 52,
      "outputs": [
        {
          "output_type": "execute_result",
          "data": {
            "text/plain": [
              "1"
            ]
          },
          "metadata": {
            "tags": []
          },
          "execution_count": 52
        }
      ]
    },
    {
      "cell_type": "markdown",
      "metadata": {
        "id": "wotNukmjw962"
      },
      "source": [
        "modulo คือการหารเอาเศษ เอาไว้ใช้เช็คว่าตัวเลขเป็นเลขคี่หรือเลขคู่ เอา 2 มาหาร ถ้าหารได้ 0  เป็นเลขคู่ ถ้าหารได้ 1 เป็นเลขคี่"
      ]
    },
    {
      "cell_type": "markdown",
      "metadata": {
        "id": "ZFYAv1EkyNCE"
      },
      "source": [
        "### คำสั่ง print แบบพิเศษ (การ fomat string)"
      ]
    },
    {
      "cell_type": "code",
      "metadata": {
        "colab": {
          "base_uri": "https://localhost:8080/"
        },
        "id": "2KQD0-2Hyqhd",
        "outputId": "fc7292ea-ff43-438e-f928-342012ec43c5"
      },
      "source": [
        "print('ตัวแปร') # สิ่งที่อยู่ข้างในวงเล็บคือ ตัวแปร และ string"
      ],
      "execution_count": 53,
      "outputs": [
        {
          "output_type": "stream",
          "text": [
            "ตัวแปร\n"
          ],
          "name": "stdout"
        }
      ]
    },
    {
      "cell_type": "markdown",
      "metadata": {
        "id": "ydsZJmb52jKV"
      },
      "source": [
        "-print สามารถ print ได้ทั้งตัวแปร และstring\r\n",
        "\r\n",
        "-เพื่อความสวยงามสามารถแก้ไขตัว print ให้ฉลาดมากขึ้นโดยการเพิ่ม f สามารถเอา code ใส่เข้าไปในตัวข้อความได้\r\n",
        "\r\n",
        "เครื่องหมาย {} จะแสดงแค่คำตอบของ 7%3 คือ เท่ากับ 1"
      ]
    },
    {
      "cell_type": "code",
      "metadata": {
        "colab": {
          "base_uri": "https://localhost:8080/"
        },
        "id": "UhiIRRLdzEQQ",
        "outputId": "2074ebc1-2fbc-4676-e7e0-58fa67a4e13d"
      },
      "source": [
        "print(f'%คือการหารเอาเศษ เช่น 7%3 = {7%3}') # เพิ่ม f หน้า 'string' และใช้ {} ใส่ code "
      ],
      "execution_count": 54,
      "outputs": [
        {
          "output_type": "stream",
          "text": [
            "%คือการหารเอาเศษ เช่น 7%3 = 1\n"
          ],
          "name": "stdout"
        }
      ]
    },
    {
      "cell_type": "code",
      "metadata": {
        "colab": {
          "base_uri": "https://localhost:8080/"
        },
        "id": "6Icrn7Qa08KO",
        "outputId": "167449de-008b-4c03-cebd-20b5ae4d3626"
      },
      "source": [
        "print (f'% คือการหารเอาเศษ เช่น 7%3 ={7%3}\\\r\n",
        "แต่\\n/ คือการหารปกติ เช่น 7/3 = {7/3}\\\r\n",
        "และ\\n// คือการหารเอาส่วน เช่น 7/3 = {7/3}\\\r\n",
        "หรือ\\nใช้ int() เพื่อหารเอาส่วน เช่น int(7/3) = {int(7/3)}') # \\n คือการขึ้นบรรทัดใหม่ที่ comเห็น \\ ใช้ในการตัด code แต่ com จะไม่เห็น"
      ],
      "execution_count": 55,
      "outputs": [
        {
          "output_type": "stream",
          "text": [
            "% คือการหารเอาเศษ เช่น 7%3 =1แต่\n",
            "/ คือการหารปกติ เช่น 7/3 = 2.3333333333333335และ\n",
            "// คือการหารเอาส่วน เช่น 7/3 = 2.3333333333333335หรือ\n",
            "ใช้ int() เพื่อหารเอาส่วน เช่น int(7/3) = 2\n"
          ],
          "name": "stdout"
        }
      ]
    },
    {
      "cell_type": "markdown",
      "metadata": {
        "id": "ijZyu0NV7mV7"
      },
      "source": [
        "# DATA STRUCTURE (โครงสร้างข้อมูล)"
      ]
    },
    {
      "cell_type": "markdown",
      "metadata": {
        "id": "3hJYuAZZ777K"
      },
      "source": [
        "### List คือการเอาข้อมูลหลายๆตัวมาเรียงต่อกัน\r\n",
        "list สามารถสร้างได้ 2 แบบ ดังนี้"
      ]
    },
    {
      "cell_type": "markdown",
      "metadata": {
        "id": "ILu8CkCi8Z5k"
      },
      "source": [
        "ข้อมูลสามารถเป็นได้ทั้ง ตัวเลข,ตัวอักษรและตัวแปร สัญลักษณ์ของ list คือ [ ]\r\n",
        "\r\n",
        "เราสามารถจัดกลุ่มตัวแปรหลายๆตัวมารวมอยู่ในที่เก็บเดียวกันได้"
      ]
    },
    {
      "cell_type": "code",
      "metadata": {
        "colab": {
          "base_uri": "https://localhost:8080/"
        },
        "id": "kSkaocxa84lC",
        "outputId": "d558416b-7cbb-4903-9a4b-3bd28cf75f3f"
      },
      "source": [
        "[111, 'c' ,'ไข่ดาว', aaa]"
      ],
      "execution_count": 56,
      "outputs": [
        {
          "output_type": "execute_result",
          "data": {
            "text/plain": [
              "[111, 'c', 'ไข่ดาว', 1092]"
            ]
          },
          "metadata": {
            "tags": []
          },
          "execution_count": 56
        }
      ]
    },
    {
      "cell_type": "markdown",
      "metadata": {
        "id": "3KpdJT5G9lIZ"
      },
      "source": [
        "# แบบที่ 1 > square brackets\r\n",
        "สร้างด้วยสัญลักษณ์ของ list"
      ]
    },
    {
      "cell_type": "code",
      "metadata": {
        "colab": {
          "base_uri": "https://localhost:8080/"
        },
        "id": "FheRfpaC-D6S",
        "outputId": "ef764eb6-d16e-4825-c0d1-a9bed9494564"
      },
      "source": [
        "list_a = []  #list [] = list ว่าง\r\n",
        "print(list_a)"
      ],
      "execution_count": 57,
      "outputs": [
        {
          "output_type": "stream",
          "text": [
            "[]\n"
          ],
          "name": "stdout"
        }
      ]
    },
    {
      "cell_type": "code",
      "metadata": {
        "colab": {
          "base_uri": "https://localhost:8080/"
        },
        "id": "Wq3vJh7_-hee",
        "outputId": "c6246f2e-1953-4861-9b3d-10acf769cb4c"
      },
      "source": [
        "list_b = [111,'c','ไข่ดาว',aaa]\r\n",
        "print(list_b)"
      ],
      "execution_count": 58,
      "outputs": [
        {
          "output_type": "stream",
          "text": [
            "[111, 'c', 'ไข่ดาว', 1092]\n"
          ],
          "name": "stdout"
        }
      ]
    },
    {
      "cell_type": "markdown",
      "metadata": {
        "id": "qQ2e8VVu_Erj"
      },
      "source": [
        "# ลำดับที่อยู่ใน list มีความสำคัญ (ลำดับใน list เริ่มจาก 0,1,2,...)"
      ]
    },
    {
      "cell_type": "code",
      "metadata": {
        "colab": {
          "base_uri": "https://localhost:8080/",
          "height": 35
        },
        "id": "uENMhR6e_cjt",
        "outputId": "80ec5e7e-8249-40e5-b7cb-89b7d044c961"
      },
      "source": [
        "list_b[2]  #หมายความว่าอยากได้สมาชิกตัวที่2 และลำดับไม่มีความเปลี่ยนแปลง"
      ],
      "execution_count": 59,
      "outputs": [
        {
          "output_type": "execute_result",
          "data": {
            "application/vnd.google.colaboratory.intrinsic+json": {
              "type": "string"
            },
            "text/plain": [
              "'ไข่ดาว'"
            ]
          },
          "metadata": {
            "tags": []
          },
          "execution_count": 59
        }
      ]
    },
    {
      "cell_type": "markdown",
      "metadata": {
        "id": "P99LpYYg_6oV"
      },
      "source": [
        "# แบบที่2\r\n",
        "จะบอกว่าตัวแปลเท่ากับ list"
      ]
    },
    {
      "cell_type": "code",
      "metadata": {
        "colab": {
          "base_uri": "https://localhost:8080/"
        },
        "id": "2NQ4mhUoAFvY",
        "outputId": "dcd202af-0790-4b10-ce28-bb9320e5173c"
      },
      "source": [
        "list_c = list()\r\n",
        "print(list_c)"
      ],
      "execution_count": 60,
      "outputs": [
        {
          "output_type": "stream",
          "text": [
            "[]\n"
          ],
          "name": "stdout"
        }
      ]
    },
    {
      "cell_type": "markdown",
      "metadata": {
        "id": "ry6eP9FaDJp4"
      },
      "source": [
        "#append() เพิ่มสมาชิกใน list\r\n"
      ]
    },
    {
      "cell_type": "markdown",
      "metadata": {
        "id": "bkHS7rkdDdvt"
      },
      "source": [
        ".append คือเอาสมาชิกไปต่อท้ายของ list"
      ]
    },
    {
      "cell_type": "code",
      "metadata": {
        "colab": {
          "base_uri": "https://localhost:8080/"
        },
        "id": "0OYhWeAUDmjN",
        "outputId": "63c98bbb-7650-4b6f-e25b-17fe2743bb5f"
      },
      "source": [
        "list_b. append('u')\r\n",
        "print(list_b)"
      ],
      "execution_count": 62,
      "outputs": [
        {
          "output_type": "stream",
          "text": [
            "[111, 'c', 'ไข่ดาว', 1092, 'u', 'u']\n"
          ],
          "name": "stdout"
        }
      ]
    },
    {
      "cell_type": "markdown",
      "metadata": {
        "id": "PHhm48z5EOic"
      },
      "source": [
        "ชี้จากข้างหน้า คือ อยากได้ตัวไหนก็สามารถชี้เอาได้เลย\r\n",
        "\r\n",
        "ชี้จากข้างหลัง คือ ต้องใส่เครื่อง - เข้าไป เช่น [-1]"
      ]
    },
    {
      "cell_type": "markdown",
      "metadata": {
        "id": "La4ozXzdEt98"
      },
      "source": [
        "0 คือ สมาชิกตัวแรก , -1 คือ สมาชิกตัวสุดท้าย"
      ]
    },
    {
      "cell_type": "code",
      "metadata": {
        "colab": {
          "base_uri": "https://localhost:8080/",
          "height": 35
        },
        "id": "x1_FgEuQDzPZ",
        "outputId": "8d8dad6d-8ed5-4a12-b6fa-0ed8a1898d5b"
      },
      "source": [
        "list_b[-2]  #ดังที่อยู่ในวงเล็บหลังจากตัวแปร list เรียก index ใช้สำหรับชี้ข้อมูลใน list (ชี้จากข้างหน้า,ชี้จากข้างหลัง)"
      ],
      "execution_count": 63,
      "outputs": [
        {
          "output_type": "execute_result",
          "data": {
            "application/vnd.google.colaboratory.intrinsic+json": {
              "type": "string"
            },
            "text/plain": [
              "'u'"
            ]
          },
          "metadata": {
            "tags": []
          },
          "execution_count": 63
        }
      ]
    },
    {
      "cell_type": "markdown",
      "metadata": {
        "id": "dMkghDfTFxY7"
      },
      "source": [
        "#String > list of charactrs "
      ]
    },
    {
      "cell_type": "markdown",
      "metadata": {
        "id": "IQZ8aY8QF-JZ"
      },
      "source": [
        "คำสั่งที่ใช้กับ list สามารถใช้กับ string"
      ]
    },
    {
      "cell_type": "code",
      "metadata": {
        "colab": {
          "base_uri": "https://localhost:8080/"
        },
        "id": "EwlSufyVFHF5",
        "outputId": "d465bf40-3936-45a8-a42b-bec4c97f8c77"
      },
      "source": [
        "t = 'ploybongkot is cute'\r\n",
        "print(t)"
      ],
      "execution_count": 64,
      "outputs": [
        {
          "output_type": "stream",
          "text": [
            "ploybongkot is cute\n"
          ],
          "name": "stdout"
        }
      ]
    },
    {
      "cell_type": "code",
      "metadata": {
        "colab": {
          "base_uri": "https://localhost:8080/",
          "height": 35
        },
        "id": "-kcV0S8EGY2n",
        "outputId": "b8d97a18-0748-4399-cc84-764137c40080"
      },
      "source": [
        "t[1] #หมายความคิดว่า ต้องการทราบ tตัวที่ 1"
      ],
      "execution_count": 65,
      "outputs": [
        {
          "output_type": "execute_result",
          "data": {
            "application/vnd.google.colaboratory.intrinsic+json": {
              "type": "string"
            },
            "text/plain": [
              "'l'"
            ]
          },
          "metadata": {
            "tags": []
          },
          "execution_count": 65
        }
      ]
    },
    {
      "cell_type": "code",
      "metadata": {
        "colab": {
          "base_uri": "https://localhost:8080/",
          "height": 35
        },
        "id": "3wVdmCT_GgtB",
        "outputId": "86073a99-dd24-4d33-a132-05e6b41f69cb"
      },
      "source": [
        "t[-4]"
      ],
      "execution_count": 66,
      "outputs": [
        {
          "output_type": "execute_result",
          "data": {
            "application/vnd.google.colaboratory.intrinsic+json": {
              "type": "string"
            },
            "text/plain": [
              "'c'"
            ]
          },
          "metadata": {
            "tags": []
          },
          "execution_count": 66
        }
      ]
    },
    {
      "cell_type": "code",
      "metadata": {
        "colab": {
          "base_uri": "https://localhost:8080/",
          "height": 35
        },
        "id": "_VvOxlXhGsb3",
        "outputId": "63f5d915-44a6-4075-e5ae-61dc2858837c"
      },
      "source": [
        "t[3]"
      ],
      "execution_count": 67,
      "outputs": [
        {
          "output_type": "execute_result",
          "data": {
            "application/vnd.google.colaboratory.intrinsic+json": {
              "type": "string"
            },
            "text/plain": [
              "'y'"
            ]
          },
          "metadata": {
            "tags": []
          },
          "execution_count": 67
        }
      ]
    },
    {
      "cell_type": "code",
      "metadata": {
        "colab": {
          "base_uri": "https://localhost:8080/",
          "height": 35
        },
        "id": "RrIFdx3UGvIR",
        "outputId": "8cfb5c7e-3245-4371-8605-0bfba3002f0c"
      },
      "source": [
        "t[6]"
      ],
      "execution_count": 68,
      "outputs": [
        {
          "output_type": "execute_result",
          "data": {
            "application/vnd.google.colaboratory.intrinsic+json": {
              "type": "string"
            },
            "text/plain": [
              "'n'"
            ]
          },
          "metadata": {
            "tags": []
          },
          "execution_count": 68
        }
      ]
    },
    {
      "cell_type": "markdown",
      "metadata": {
        "id": "aL8UMOoNG0bQ"
      },
      "source": [
        "#จบ 5 มค 2021 "
      ]
    },
    {
      "cell_type": "markdown",
      "metadata": {
        "id": "T_LI5wyRiPMQ"
      },
      "source": [
        "# คาบที่ 3 11 มค. 2021"
      ]
    },
    {
      "cell_type": "code",
      "metadata": {
        "colab": {
          "base_uri": "https://localhost:8080/"
        },
        "id": "XpCGjwyxiXTH",
        "outputId": "1a2c0d57-3af3-44df-f287-6674c19ad3ca"
      },
      "source": [
        "len(t)"
      ],
      "execution_count": 69,
      "outputs": [
        {
          "output_type": "execute_result",
          "data": {
            "text/plain": [
              "19"
            ]
          },
          "metadata": {
            "tags": []
          },
          "execution_count": 69
        }
      ]
    },
    {
      "cell_type": "code",
      "metadata": {
        "colab": {
          "base_uri": "https://localhost:8080/"
        },
        "id": "W_wA57awkM91",
        "outputId": "33463465-7fad-4b4c-8b75-0c91981c6e61"
      },
      "source": [
        "list_b"
      ],
      "execution_count": 70,
      "outputs": [
        {
          "output_type": "execute_result",
          "data": {
            "text/plain": [
              "[111, 'c', 'ไข่ดาว', 1092, 'u', 'u']"
            ]
          },
          "metadata": {
            "tags": []
          },
          "execution_count": 70
        }
      ]
    },
    {
      "cell_type": "markdown",
      "metadata": {
        "id": "ZuK4JW5RleJ0"
      },
      "source": [
        "ตัวที่อยู่ข้างใน[ ] เราเรียกว่า index (ตัวชี้)"
      ]
    },
    {
      "cell_type": "markdown",
      "metadata": {
        "id": "p5cSYHdYltgI"
      },
      "source": [
        "List slicing สามารถทำได้โดยใช้ colon"
      ]
    },
    {
      "cell_type": "code",
      "metadata": {
        "colab": {
          "base_uri": "https://localhost:8080/"
        },
        "id": "qgHiDrG6l3AF",
        "outputId": "cb00fe14-db67-43cb-bfa2-c7b895bb7306"
      },
      "source": [
        "print(t)\r\n",
        "print(t[7:9])\r\n",
        "print(len(t[7:9]))"
      ],
      "execution_count": 71,
      "outputs": [
        {
          "output_type": "stream",
          "text": [
            "ploybongkot is cute\n",
            "gk\n",
            "2\n"
          ],
          "name": "stdout"
        }
      ]
    },
    {
      "cell_type": "code",
      "metadata": {
        "colab": {
          "base_uri": "https://localhost:8080/",
          "height": 35
        },
        "id": "xYGGqfGMnkK_",
        "outputId": "11972494-a846-47ac-b858-1153de6c76bb"
      },
      "source": [
        "t[0:19:2] #เริ่มตัวที่ 0 โดยหยิบทุกๆ 2 ตัว จนครบ 19 ตัว"
      ],
      "execution_count": 72,
      "outputs": [
        {
          "output_type": "execute_result",
          "data": {
            "application/vnd.google.colaboratory.intrinsic+json": {
              "type": "string"
            },
            "text/plain": [
              "'pobnkti ue'"
            ]
          },
          "metadata": {
            "tags": []
          },
          "execution_count": 72
        }
      ]
    },
    {
      "cell_type": "markdown",
      "metadata": {
        "id": "8wejcwlumagm"
      },
      "source": [
        "มันจะบอกว่าเริ่มที่ตัวไหนจบที่ตัวไหน แล้วถ้าเพิ่ม : อีกตัว คือ เริ่มตัวที่ 0 โดยหยิบทุกๆ 2 ตัว"
      ]
    },
    {
      "cell_type": "code",
      "metadata": {
        "colab": {
          "base_uri": "https://localhost:8080/"
        },
        "id": "-sTTJP20oSkj",
        "outputId": "4e3e8168-18fb-4a70-d8eb-05a452377ca1"
      },
      "source": [
        "z = [1,2,3,4,5,6,7,8,9,10]\r\n",
        "z[1:10:2]"
      ],
      "execution_count": 73,
      "outputs": [
        {
          "output_type": "execute_result",
          "data": {
            "text/plain": [
              "[2, 4, 6, 8, 10]"
            ]
          },
          "metadata": {
            "tags": []
          },
          "execution_count": 73
        }
      ]
    },
    {
      "cell_type": "markdown",
      "metadata": {
        "id": "KS-IQ4bzoj5l"
      },
      "source": [
        "ถ้าเว้นว่างหน้า : หมายความว่า เริ่มตั้งแต่ตัวเลข (0) หรือตัวแรก\r\n",
        "\r\n",
        "ถ้าเว้นว่างหลัง : หมายความว่า ไปจนถึงตัวสุดท้าย (len(list))\r\n",
        "\r\n"
      ]
    },
    {
      "cell_type": "code",
      "metadata": {
        "colab": {
          "base_uri": "https://localhost:8080/"
        },
        "id": "3hPe488Ppr_S",
        "outputId": "4f773540-653b-4ec2-f9ca-5898f100a73f"
      },
      "source": [
        "print(t)\r\n",
        "print(t[:6]) # : มีข้อพิเศษถ้าเราไม่ใส่ตัวเลข คือเริ่มตัวแรก list โดยมันแทน 0 ให้เลย \r\n",
        "print(t[:10])\r\n",
        "print(t[-4:])\r\n",
        "print(t[:])"
      ],
      "execution_count": 74,
      "outputs": [
        {
          "output_type": "stream",
          "text": [
            "ploybongkot is cute\n",
            "ploybo\n",
            "ploybongko\n",
            "cute\n",
            "ploybongkot is cute\n"
          ],
          "name": "stdout"
        }
      ]
    },
    {
      "cell_type": "code",
      "metadata": {
        "colab": {
          "base_uri": "https://localhost:8080/"
        },
        "id": "bO2_gfikpz-6",
        "outputId": "9ae8b441-8990-4c24-cf0e-4079caebd02c"
      },
      "source": [
        "print(z[::2])"
      ],
      "execution_count": 75,
      "outputs": [
        {
          "output_type": "stream",
          "text": [
            "[1, 3, 5, 7, 9]\n"
          ],
          "name": "stdout"
        }
      ]
    },
    {
      "cell_type": "markdown",
      "metadata": {
        "id": "NTqYIQLVq_px"
      },
      "source": [
        "### เราสามารถเอา list มาต่อได้ด้วย + "
      ]
    },
    {
      "cell_type": "code",
      "metadata": {
        "colab": {
          "base_uri": "https://localhost:8080/",
          "height": 35
        },
        "id": "bsOrU4SCrjZN",
        "outputId": "d389f5c8-e266-4d51-8f11-f0fcbdf41bdd"
      },
      "source": [
        "t + '??'"
      ],
      "execution_count": 76,
      "outputs": [
        {
          "output_type": "execute_result",
          "data": {
            "application/vnd.google.colaboratory.intrinsic+json": {
              "type": "string"
            },
            "text/plain": [
              "'ploybongkot is cute??'"
            ]
          },
          "metadata": {
            "tags": []
          },
          "execution_count": 76
        }
      ]
    },
    {
      "cell_type": "code",
      "metadata": {
        "colab": {
          "base_uri": "https://localhost:8080/",
          "height": 163
        },
        "id": "kThirb__r-SU",
        "outputId": "3e61447c-6f6e-4331-89c1-70266623fa06"
      },
      "source": [
        "t + list_b ## ไม่สามารถเอา list ปกติมาต่อกับ string ได้"
      ],
      "execution_count": 77,
      "outputs": [
        {
          "output_type": "error",
          "ename": "TypeError",
          "evalue": "ignored",
          "traceback": [
            "\u001b[0;31m---------------------------------------------------------------------------\u001b[0m",
            "\u001b[0;31mTypeError\u001b[0m                                 Traceback (most recent call last)",
            "\u001b[0;32m<ipython-input-77-8ceeb7529eac>\u001b[0m in \u001b[0;36m<module>\u001b[0;34m()\u001b[0m\n\u001b[0;32m----> 1\u001b[0;31m \u001b[0mt\u001b[0m \u001b[0;34m+\u001b[0m \u001b[0mlist_b\u001b[0m \u001b[0;31m## ไม่สามารถเอา list ปกติมาต่อกับ string ได้\u001b[0m\u001b[0;34m\u001b[0m\u001b[0;34m\u001b[0m\u001b[0m\n\u001b[0m",
            "\u001b[0;31mTypeError\u001b[0m: must be str, not list"
          ]
        }
      ]
    },
    {
      "cell_type": "code",
      "metadata": {
        "id": "vZHYNM_MXuBo",
        "colab": {
          "base_uri": "https://localhost:8080/"
        },
        "outputId": "bff8ff35-37b0-4a9c-8b42-183d94b9a81e"
      },
      "source": [
        "print(list_a)\r\n",
        "print(list_b)\r\n",
        "print(list_b + list_a)"
      ],
      "execution_count": 78,
      "outputs": [
        {
          "output_type": "stream",
          "text": [
            "[]\n",
            "[111, 'c', 'ไข่ดาว', 1092, 'u', 'u']\n",
            "[111, 'c', 'ไข่ดาว', 1092, 'u', 'u']\n"
          ],
          "name": "stdout"
        }
      ]
    },
    {
      "cell_type": "markdown",
      "metadata": {
        "id": "OUGPsv8pYlgr"
      },
      "source": [
        "### การแบ่ง String ตามสัญลักษณ์ที่กำหนด -> split string"
      ]
    },
    {
      "cell_type": "code",
      "metadata": {
        "id": "NKm6tqstY5u1",
        "colab": {
          "base_uri": "https://localhost:8080/",
          "height": 35
        },
        "outputId": "6d4fd72b-43f6-433e-d490-072131d28cfa"
      },
      "source": [
        "t"
      ],
      "execution_count": 79,
      "outputs": [
        {
          "output_type": "execute_result",
          "data": {
            "application/vnd.google.colaboratory.intrinsic+json": {
              "type": "string"
            },
            "text/plain": [
              "'ploybongkot is cute'"
            ]
          },
          "metadata": {
            "tags": []
          },
          "execution_count": 79
        }
      ]
    },
    {
      "cell_type": "code",
      "metadata": {
        "id": "D6USeEFbmofL",
        "colab": {
          "base_uri": "https://localhost:8080/"
        },
        "outputId": "f4e20243-a318-4efb-8c79-fd320dfa4210"
      },
      "source": [
        "t.split(' ') #split คือการแบ่งโดยระบุเพื่อการแบ่งวรรค"
      ],
      "execution_count": 80,
      "outputs": [
        {
          "output_type": "execute_result",
          "data": {
            "text/plain": [
              "['ploybongkot', 'is', 'cute']"
            ]
          },
          "metadata": {
            "tags": []
          },
          "execution_count": 80
        }
      ]
    },
    {
      "cell_type": "code",
      "metadata": {
        "id": "foZWiu9qnEPQ"
      },
      "source": [
        "time = '12:30:15'"
      ],
      "execution_count": 81,
      "outputs": []
    },
    {
      "cell_type": "code",
      "metadata": {
        "id": "g_KaBSxenW7I",
        "colab": {
          "base_uri": "https://localhost:8080/"
        },
        "outputId": "ea34ebe6-9ae9-4572-a2f3-6897ded8d1cd"
      },
      "source": [
        "time.split(':')"
      ],
      "execution_count": 82,
      "outputs": [
        {
          "output_type": "execute_result",
          "data": {
            "text/plain": [
              "['12', '30', '15']"
            ]
          },
          "metadata": {
            "tags": []
          },
          "execution_count": 82
        }
      ]
    },
    {
      "cell_type": "code",
      "metadata": {
        "id": "rfAefv8lnjJI",
        "colab": {
          "base_uri": "https://localhost:8080/"
        },
        "outputId": "311e63a6-5b02-4fa2-b6c8-87190af6178e"
      },
      "source": [
        "t_sp = t.split(' ')\r\n",
        "print(t_sp)"
      ],
      "execution_count": 83,
      "outputs": [
        {
          "output_type": "stream",
          "text": [
            "['ploybongkot', 'is', 'cute']\n"
          ],
          "name": "stdout"
        }
      ]
    },
    {
      "cell_type": "code",
      "metadata": {
        "id": "DTCS8Qfun4Te",
        "colab": {
          "base_uri": "https://localhost:8080/"
        },
        "outputId": "f0e21cdf-1a10-4dd1-97e0-5b34ed4ca7a8"
      },
      "source": [
        "#วิธีรวมกลับ\r\n",
        "print(':'.join(t_sp))"
      ],
      "execution_count": 84,
      "outputs": [
        {
          "output_type": "stream",
          "text": [
            "ploybongkot:is:cute\n"
          ],
          "name": "stdout"
        }
      ]
    },
    {
      "cell_type": "markdown",
      "metadata": {
        "id": "tulvnNKoZHX6"
      },
      "source": [
        "HW คำนวณเวลาเป็นวินาทีต่อไปนี้โดยใช้คำสั่ง split() ช่วย (print ออกมาให้สวยงาม)\r\n",
        "\r\n",
        "12:30:15\r\n",
        "\r\n",
        "13:41:07\r\n",
        "\r\n",
        "12:53:15\r\n",
        "\r\n",
        "00:59:25\r\n",
        "\r\n",
        "11:11:11\r\n",
        "\r\n",
        "16:06:09\r\n",
        "\r\n",
        "21:12:30\r\n",
        "\r\n",
        "10:06:15\r\n",
        "\r\n",
        "exp => 00:01:10 = 70 วินาที\r\n",
        "\r\n",
        "exp => 01:00:01 = 3601 วินาที"
      ]
    },
    {
      "cell_type": "code",
      "metadata": {
        "id": "BkL6G9WVa8Hq",
        "colab": {
          "base_uri": "https://localhost:8080/"
        },
        "outputId": "9c1403fc-b2ac-4c73-ca40-de8f5162e5a8"
      },
      "source": [
        "q1 = '12:30:15'\r\n",
        "q1.split(':')\r\n",
        "list_q1 = [12,30,15]\r\n",
        "hr = list_q1[0]*3600\r\n",
        "mi = list_q1[1]*60\r\n",
        "s = list_q1[2]\r\n",
        "aq1 = hr+mi+s\r\n",
        "print(aq1) \r\n"
      ],
      "execution_count": 85,
      "outputs": [
        {
          "output_type": "stream",
          "text": [
            "45015\n"
          ],
          "name": "stdout"
        }
      ]
    },
    {
      "cell_type": "markdown",
      "metadata": {
        "id": "8w6YpYwpc3cH"
      },
      "source": [
        "q1 แปลงได้ 45015 วินาที"
      ]
    },
    {
      "cell_type": "code",
      "metadata": {
        "id": "mKiaWRMHdFi8",
        "colab": {
          "base_uri": "https://localhost:8080/"
        },
        "outputId": "12a68a3d-16b1-42cc-fcf8-ba510fa20f06"
      },
      "source": [
        "q2 = '13:41:07'\r\n",
        "q2.split(':')\r\n",
        "list_q2 = [13,41,7]\r\n",
        "hr2 = list_q2[0]*3600\r\n",
        "mi2 = list_q2[1]*60\r\n",
        "s2 = list_q2[2]\r\n",
        "aq2 = hr2+mi2+s2\r\n",
        "print(aq2) \r\n"
      ],
      "execution_count": 86,
      "outputs": [
        {
          "output_type": "stream",
          "text": [
            "49267\n"
          ],
          "name": "stdout"
        }
      ]
    },
    {
      "cell_type": "markdown",
      "metadata": {
        "id": "sMlb1unjfwYu"
      },
      "source": [
        "q2 แปลงได้ 49267 วินาที"
      ]
    },
    {
      "cell_type": "code",
      "metadata": {
        "id": "Zn6-igB7eeB6",
        "colab": {
          "base_uri": "https://localhost:8080/"
        },
        "outputId": "b14eb7bd-b72c-49e4-8127-8203d3a1bd96"
      },
      "source": [
        "q3 = '12:53:15'\r\n",
        "q3.split(':')\r\n",
        "list_q3 = [12,53,15]\r\n",
        "hr3 = list_q3[0]*3600\r\n",
        "mi3 = list_q3[1]*60\r\n",
        "s3 = list_q3[2]\r\n",
        "aq3 = hr3+mi3+s3\r\n",
        "print(aq3) "
      ],
      "execution_count": 87,
      "outputs": [
        {
          "output_type": "stream",
          "text": [
            "46395\n"
          ],
          "name": "stdout"
        }
      ]
    },
    {
      "cell_type": "markdown",
      "metadata": {
        "id": "cyKCeFovf7_0"
      },
      "source": [
        "q3 แปลงได้ 46395 วินาที"
      ]
    },
    {
      "cell_type": "code",
      "metadata": {
        "id": "6HzxQBD0gFTB",
        "colab": {
          "base_uri": "https://localhost:8080/"
        },
        "outputId": "1a0f0e8d-abaa-4d9c-b37b-8a8ba27f399d"
      },
      "source": [
        "q4 = '00:59:25'\r\n",
        "q4.split(':')\r\n",
        "list_q4 = [00,59,25]\r\n",
        "hr4 = list_q4[0]*3600\r\n",
        "mi4 = list_q4[1]*60\r\n",
        "s4 = list_q4[2]\r\n",
        "aq4 = hr4+mi4+s4\r\n",
        "print(aq4) "
      ],
      "execution_count": 88,
      "outputs": [
        {
          "output_type": "stream",
          "text": [
            "3565\n"
          ],
          "name": "stdout"
        }
      ]
    },
    {
      "cell_type": "markdown",
      "metadata": {
        "id": "JuubnMaKgnl_"
      },
      "source": [
        "q4 แปลงได้ 3565 วินาที"
      ]
    },
    {
      "cell_type": "code",
      "metadata": {
        "id": "LWhdQHWfgu2L",
        "colab": {
          "base_uri": "https://localhost:8080/"
        },
        "outputId": "0a939e57-0a69-49cc-e10b-05686dc448b5"
      },
      "source": [
        "q5 = '11:11:11'\r\n",
        "q5.split(':')\r\n",
        "list_q5 = [11,11,11]\r\n",
        "hr5 = list_q5[0]*3600\r\n",
        "mi5 = list_q5[1]*60\r\n",
        "s5 = list_q5[2]\r\n",
        "aq5 = hr5+mi5+s5\r\n",
        "print(aq5) "
      ],
      "execution_count": 89,
      "outputs": [
        {
          "output_type": "stream",
          "text": [
            "40271\n"
          ],
          "name": "stdout"
        }
      ]
    },
    {
      "cell_type": "markdown",
      "metadata": {
        "id": "bkMsR6qPhKUy"
      },
      "source": [
        "q5 แปลงได้ 40271 วินาที"
      ]
    },
    {
      "cell_type": "code",
      "metadata": {
        "id": "4BiF3k6KhRdb",
        "colab": {
          "base_uri": "https://localhost:8080/"
        },
        "outputId": "b682de6a-4f3f-4f61-89de-66d3fdba1fa6"
      },
      "source": [
        "q6 = '19:06:09'\r\n",
        "q6.split(':')\r\n",
        "list_q6 = [16,6,9]\r\n",
        "hr6 = list_q6[0]*3600\r\n",
        "mi6 = list_q6[1]*60\r\n",
        "s6 = list_q6[2]\r\n",
        "aq6 = hr6+mi6+s6\r\n",
        "print(aq6) "
      ],
      "execution_count": 90,
      "outputs": [
        {
          "output_type": "stream",
          "text": [
            "57969\n"
          ],
          "name": "stdout"
        }
      ]
    },
    {
      "cell_type": "markdown",
      "metadata": {
        "id": "XS8Tlt5UiCvD"
      },
      "source": [
        "q6 แปลงได้ 57969 วินาที"
      ]
    },
    {
      "cell_type": "code",
      "metadata": {
        "id": "-zojN9NQiKz5",
        "colab": {
          "base_uri": "https://localhost:8080/"
        },
        "outputId": "030ed607-83ac-4a97-9189-f603094718d0"
      },
      "source": [
        "q7 = '21:12:30'\r\n",
        "q7.split(':')\r\n",
        "list_q7 = [21,12,30]\r\n",
        "hr7 = list_q7[0]*3600\r\n",
        "mi7 = list_q7[1]*60\r\n",
        "s7 = list_q7[2]\r\n",
        "aq7 = hr7+mi7+s7\r\n",
        "print(aq7) "
      ],
      "execution_count": 91,
      "outputs": [
        {
          "output_type": "stream",
          "text": [
            "76350\n"
          ],
          "name": "stdout"
        }
      ]
    },
    {
      "cell_type": "markdown",
      "metadata": {
        "id": "Z4Vb3e51iudd"
      },
      "source": [
        "q7 แปลงได้ 76350 วินาที"
      ]
    },
    {
      "cell_type": "code",
      "metadata": {
        "id": "W6W6kxUBi3XQ",
        "colab": {
          "base_uri": "https://localhost:8080/"
        },
        "outputId": "95842b10-81bc-4a4f-d775-1463409463be"
      },
      "source": [
        "q8 = '10:06:15'\r\n",
        "q8.split(':')\r\n",
        "list_q8 = [10,6,15]\r\n",
        "hr8 = list_q8[0]*3600\r\n",
        "mi8 = list_q8[1]*60\r\n",
        "s8 = list_q8[2]\r\n",
        "aq8 = hr8+mi8+s8\r\n",
        "print(aq8) "
      ],
      "execution_count": 92,
      "outputs": [
        {
          "output_type": "stream",
          "text": [
            "36375\n"
          ],
          "name": "stdout"
        }
      ]
    },
    {
      "cell_type": "markdown",
      "metadata": {
        "id": "Jc1Ilz2LjYao"
      },
      "source": [
        "q8 แปลงได้ 36375 วินาที"
      ]
    },
    {
      "cell_type": "markdown",
      "metadata": {
        "id": "holrdLUwkloa"
      },
      "source": [
        "เฉลยการบ้าน\r\n",
        "\r\n",
        "1.ตั้งโจทย์เอาไว้ใส่ตัวแปร\r\n",
        "\r\n",
        "2.ทำการ split ก็คือแยก ชั่วโมง นาที วินาที ออกมา\r\n",
        "\r\n",
        "3.เปลี่ยนค่ามันจาก string ให้เป็น int แล้วก็เอามาบวกกัน จากนั้นก็ print ออกมา"
      ]
    },
    {
      "cell_type": "code",
      "metadata": {
        "id": "me2x8epgkw0b"
      },
      "source": [
        " q1 = '12:30:15'"
      ],
      "execution_count": null,
      "outputs": []
    },
    {
      "cell_type": "code",
      "metadata": {
        "id": "cqi0288Gld_y",
        "outputId": "6c8521bb-f672-4671-84a4-6ef41e261d40",
        "colab": {
          "base_uri": "https://localhost:8080/"
        }
      },
      "source": [
        "q1_sp = q1.split(':')\r\n",
        "print(q1_sp)"
      ],
      "execution_count": 93,
      "outputs": [
        {
          "output_type": "stream",
          "text": [
            "['12', '30', '15']\n"
          ],
          "name": "stdout"
        }
      ]
    },
    {
      "cell_type": "code",
      "metadata": {
        "id": "pJyfu5h_lrMs",
        "outputId": "eb53d048-2afd-4a74-b774-6cb1e132396c",
        "colab": {
          "base_uri": "https://localhost:8080/"
        }
      },
      "source": [
        "answer1 = int(q1_sp[0])*3600 + int(q1_sp[1])*60 + int(q1_sp[2])\r\n",
        "print(answer1)"
      ],
      "execution_count": 100,
      "outputs": [
        {
          "output_type": "stream",
          "text": [
            "45015\n"
          ],
          "name": "stdout"
        }
      ]
    },
    {
      "cell_type": "code",
      "metadata": {
        "id": "8JDzbOO0pDho",
        "outputId": "14e57ba4-3b44-4246-8f9d-dec3dfe8d87e",
        "colab": {
          "base_uri": "https://localhost:8080/"
        }
      },
      "source": [
        "print(f'เวลา {q1} คำนวณเป็นจำนวนวินาทีได้เท่ากับ {answer1}')"
      ],
      "execution_count": 101,
      "outputs": [
        {
          "output_type": "stream",
          "text": [
            "เวลา 12:30:15 คำนวณเป็นจำนวนวินาทีได้เท่ากับ 45015\n"
          ],
          "name": "stdout"
        }
      ]
    },
    {
      "cell_type": "code",
      "metadata": {
        "id": "DWcqedNCppxD",
        "outputId": "82de7abe-a94b-4836-e56a-76e445dbacba",
        "colab": {
          "base_uri": "https://localhost:8080/"
        }
      },
      "source": [
        "q1 = '12:30:15'\r\n",
        "q1_sp = q1.split(':')\r\n",
        "answer1 = int(q1_sp[0])*3600 + int(q1_sp[1])*60 + int(q1_sp[2])\r\n",
        "print(f'เวลา {q1} คำนวณเป็นจำนวนวินาทีได้เท่ากับ {answer1}')"
      ],
      "execution_count": 102,
      "outputs": [
        {
          "output_type": "stream",
          "text": [
            "เวลา 12:30:15 คำนวณเป็นจำนวนวินาทีได้เท่ากับ 45015\n"
          ],
          "name": "stdout"
        }
      ]
    }
  ]
}