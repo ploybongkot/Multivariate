{
  "nbformat": 4,
  "nbformat_minor": 0,
  "metadata": {
    "colab": {
      "name": "python101.ipynb",
      "provenance": [],
      "authorship_tag": "ABX9TyMkX4FvJJ4YlceGdKXs3fno",
      "include_colab_link": true
    },
    "kernelspec": {
      "name": "python3",
      "display_name": "Python 3"
    }
  },
  "cells": [
    {
      "cell_type": "markdown",
      "metadata": {
        "id": "view-in-github",
        "colab_type": "text"
      },
      "source": [
        "<a href=\"https://colab.research.google.com/github/ploybongkot/Multivariate/blob/main/python101.ipynb\" target=\"_parent\"><img src=\"https://colab.research.google.com/assets/colab-badge.svg\" alt=\"Open In Colab\"/></a>"
      ]
    },
    {
      "cell_type": "markdown",
      "metadata": {
        "id": "q9q-dJe74L4f"
      },
      "source": [
        "ตัวแปร variable\r\n",
        "\r\n",
        "\r\n",
        "\r\n",
        "\r\n",
        "หลักการตั้งชื่อตัวแปรเบื้องต้น\r\n",
        "\r\n",
        "1.ตั้งให้สื่อ ว่าตัวแปรนี้คืออะไร เวลาย้อนมาดูจะได้ดูง่ายๆ\r\n",
        "\r\n",
        "2.ภาษาอังกฤษ เพราะภาษาไทยคอมอ่านไม่รู้เรื่อง\r\n",
        "\r\n",
        "3.ใช้ตัวเลขได้แต่ห้ามขึ้นต้นด้วยตัวเลข เช่น ตัวแปรชื่อ a1 a2 a3 ทำได้ แต่ว่าตัวแปรชื่อ 1a ทำไม่ได้\r\n",
        "\r\n",
        "4.ห้ามเว้นวรรค เพราะเว้นวรรคเป็นคำใหม่\r\n",
        "\r\n",
        "5.ตัวเล็กกับตัวใหญ่ไม่เหมือนกัน"
      ]
    },
    {
      "cell_type": "markdown",
      "metadata": {
        "id": "NmbXN0VS_EfZ"
      },
      "source": [
        "มี output 2 mode คือ ออกหน้าจอ ดับ เข้าไปก็บในตัวแปร"
      ]
    },
    {
      "cell_type": "code",
      "metadata": {
        "colab": {
          "base_uri": "https://localhost:8080/"
        },
        "id": "Ml8std9J-6Ow",
        "outputId": "3b153a90-6fb6-49bb-8d5a-fed30b9f78d7"
      },
      "source": [
        "3.14159  # hashtag หรือ sharp # คือ comment >>> อันนี้คือ output ที่ออกหน้าจอ"
      ],
      "execution_count": 11,
      "outputs": [
        {
          "output_type": "execute_result",
          "data": {
            "text/plain": [
              "3.14159"
            ]
          },
          "metadata": {
            "tags": []
          },
          "execution_count": 11
        }
      ]
    },
    {
      "cell_type": "code",
      "metadata": {
        "id": "qLeIx0nn5ZEM"
      },
      "source": [
        "Pi = 3.14159  # อันนี้คือ output ที่เข้าไปอยู่ในตัวแปร"
      ],
      "execution_count": 12,
      "outputs": []
    },
    {
      "cell_type": "code",
      "metadata": {
        "colab": {
          "base_uri": "https://localhost:8080/"
        },
        "id": "4Dph_L72_lmg",
        "outputId": "fadc77bd-e444-4678-be42-1f7effbebf4b"
      },
      "source": [
        "Pi"
      ],
      "execution_count": 13,
      "outputs": [
        {
          "output_type": "execute_result",
          "data": {
            "text/plain": [
              "3.14159"
            ]
          },
          "metadata": {
            "tags": []
          },
          "execution_count": 13
        }
      ]
    },
    {
      "cell_type": "code",
      "metadata": {
        "colab": {
          "base_uri": "https://localhost:8080/"
        },
        "id": "psEsmdrK_q5I",
        "outputId": "b086ad59-741a-47dc-c6bc-bf262f961dd3"
      },
      "source": [
        "a = 1234567\r\n",
        "print(a)"
      ],
      "execution_count": 14,
      "outputs": [
        {
          "output_type": "stream",
          "text": [
            "1234567\n"
          ],
          "name": "stdout"
        }
      ]
    },
    {
      "cell_type": "markdown",
      "metadata": {
        "id": "QQN_s2MaAJN3"
      },
      "source": [
        "ข้อดีของ code คือ มันสามารถ Enter ลงมาได้ ทำให้เราสามารถพิมพ์คำสั่งยาวๆหลายๆบรรทัดได้"
      ]
    },
    {
      "cell_type": "markdown",
      "metadata": {
        "id": "w_7xESJeAx8-"
      },
      "source": [
        "# ชนิดของตัวแปร 3 ชนิด"
      ]
    },
    {
      "cell_type": "markdown",
      "metadata": {
        "id": "tISgp8WbEGvK"
      },
      "source": [
        "### จำนวนเต็ม ( integer,int)"
      ]
    },
    {
      "cell_type": "code",
      "metadata": {
        "colab": {
          "base_uri": "https://localhost:8080/"
        },
        "id": "DUfI1fnKEYnM",
        "outputId": "5e8b5cc3-d6af-4a4b-acfa-08366d33fb5c"
      },
      "source": [
        "aaa = 1092\r\n",
        "print(aaa)"
      ],
      "execution_count": 15,
      "outputs": [
        {
          "output_type": "stream",
          "text": [
            "1092\n"
          ],
          "name": "stdout"
        }
      ]
    },
    {
      "cell_type": "markdown",
      "metadata": {
        "id": "93U8xsHPE4qJ"
      },
      "source": [
        "### จำนวนจริง (float)"
      ]
    },
    {
      "cell_type": "code",
      "metadata": {
        "colab": {
          "base_uri": "https://localhost:8080/"
        },
        "id": "YRJkJHKjFEKK",
        "outputId": "215e87fe-3d74-4e51-d5ee-2de426fa0559"
      },
      "source": [
        "bbb = 11.\r\n",
        "print(bbb)"
      ],
      "execution_count": 16,
      "outputs": [
        {
          "output_type": "stream",
          "text": [
            "11.0\n"
          ],
          "name": "stdout"
        }
      ]
    },
    {
      "cell_type": "markdown",
      "metadata": {
        "id": "bUciZaZiF4ZZ"
      },
      "source": [
        "### ตัวอักษร-ข้อความ (character และ text,string) คือ ค่าหลายๆค่าที่เอาเรียงต่อกัน\r\n",
        "\r\n"
      ]
    },
    {
      "cell_type": "code",
      "metadata": {
        "colab": {
          "base_uri": "https://localhost:8080/"
        },
        "id": "03IUb-LLGvC2",
        "outputId": "5c2d9674-b51d-4269-88fc-1d55a5f71c2c"
      },
      "source": [
        "ccc = '123456'  # เราใช้ single quote ' หรือ double qoute \" ล้อมรอบตัวหนังสือเพื่อระบุว่าเป็น charecter-string ไม่ว่จะเป็น ' หรือ \" ใช้ได้หมดเลย แต่ว่าเปิดด้วยตัวไหนก็ต้องปิดด้วยตัวนั้น \r\n",
        "print(ccc)"
      ],
      "execution_count": 17,
      "outputs": [
        {
          "output_type": "stream",
          "text": [
            "123456\n"
          ],
          "name": "stdout"
        }
      ]
    },
    {
      "cell_type": "markdown",
      "metadata": {
        "id": "wQ0wqQq9b_3a"
      },
      "source": [
        "ถึงเป็นตัวเลขแต่ถ้ามี qoute ล้อมรอบแปลว่าเป็นตัวอักษร หรือ string ไม่ได้เป็นตัวเลข เอาไปใช้บวกลบคูณหารไม่ได้ เหตุผลที่ต้องมี quote ล้อมรอมเพราะว่า ตัวแปรมันก็เป็นตัวอักษรเหมือนกันมันจะได้รู้ว่าอันนี้คือตัวแปล อันนี้คือข้อความไม่ใช่ตัวแปร"
      ]
    },
    {
      "cell_type": "code",
      "metadata": {
        "colab": {
          "base_uri": "https://localhost:8080/",
          "height": 129
        },
        "id": "w02H17YomEEw",
        "outputId": "e128bb5e-f4b5-444e-b181-a4ada62975e6"
      },
      "source": [
        "aaa + bbb เอา float มาบวกกับ int = float"
      ],
      "execution_count": 18,
      "outputs": [
        {
          "output_type": "error",
          "ename": "SyntaxError",
          "evalue": "ignored",
          "traceback": [
            "\u001b[0;36m  File \u001b[0;32m\"<ipython-input-18-ed650990709b>\"\u001b[0;36m, line \u001b[0;32m1\u001b[0m\n\u001b[0;31m    aaa + bbb เอา float มาบวกกับ int = float\u001b[0m\n\u001b[0m                ^\u001b[0m\n\u001b[0;31mSyntaxError\u001b[0m\u001b[0;31m:\u001b[0m invalid syntax\n"
          ]
        }
      ]
    },
    {
      "cell_type": "code",
      "metadata": {
        "colab": {
          "base_uri": "https://localhost:8080/",
          "height": 129
        },
        "id": "abwq1jD5LsQ6",
        "outputId": "2026f953-0608-43e9-d2bb-ca9e5a74d33e"
      },
      "source": [
        "bbb + ccc อันนี้มันจะไม่สามารถบวกได้เพราะว่ามันเป็นตัวแปลคนละชนิดกัน จริงๆตัวแปรคนละชนิดกันก็บวกกันได้"
      ],
      "execution_count": 20,
      "outputs": [
        {
          "output_type": "error",
          "ename": "SyntaxError",
          "evalue": "ignored",
          "traceback": [
            "\u001b[0;36m  File \u001b[0;32m\"<ipython-input-20-ca329416da09>\"\u001b[0;36m, line \u001b[0;32m1\u001b[0m\n\u001b[0;31m    bbb + ccc อันนี้มันจะไม่สามารถบวกได้เพราะว่ามันเป็นตัวแปลคนละชนิดกัน จริงๆตัวแปรคนละชนิดกันก็บวกกันได้\u001b[0m\n\u001b[0m                                                                       ^\u001b[0m\n\u001b[0;31mSyntaxError\u001b[0m\u001b[0;31m:\u001b[0m invalid syntax\n"
          ]
        }
      ]
    },
    {
      "cell_type": "markdown",
      "metadata": {
        "id": "n8PG_2MZmtV5"
      },
      "source": [
        "ใน python เวลามันทำอะไรไม่ได้มันก็จะ Error เกิดขึ้น จะสนใจแค่บรรทัดสุดท้าย มันจะบอกว่าทำไมถึง Error ถ้าเราอ่านไม่ออกก็สามารถคัดลอกเอาไปหาใน Google ได้ ใน Google จะมีคนอธิบาย Error ที่เกี่ยวกับ Python ไว้หมด"
      ]
    },
    {
      "cell_type": "code",
      "metadata": {
        "colab": {
          "base_uri": "https://localhost:8080/"
        },
        "id": "UNtoersJpgqy",
        "outputId": "9573f5c2-f395-4caf-891c-e727842e0cf7"
      },
      "source": [
        "ddd = 'พลอยบงกช' \r\n",
        "print(ddd)"
      ],
      "execution_count": 21,
      "outputs": [
        {
          "output_type": "stream",
          "text": [
            "พลอยบงกช\n"
          ],
          "name": "stdout"
        }
      ]
    },
    {
      "cell_type": "markdown",
      "metadata": {
        "id": "tk4OIGFiqHhr"
      },
      "source": [
        " ข้อความสามารถเป็นภาษาไทยได้ไม่มีปัญหาอะไร\r\n"
      ]
    },
    {
      "cell_type": "markdown",
      "metadata": {
        "id": "oAhaXToeqP9R"
      },
      "source": [
        "# การเปลี่ยนชนิดของตัวแปร variable casting"
      ]
    },
    {
      "cell_type": "code",
      "metadata": {
        "colab": {
          "base_uri": "https://localhost:8080/"
        },
        "id": "_ruml8x4qvZx",
        "outputId": "e149dd7d-d809-485c-81b0-e41796a7c774"
      },
      "source": [
        "aaa + int(ccc)"
      ],
      "execution_count": 22,
      "outputs": [
        {
          "output_type": "execute_result",
          "data": {
            "text/plain": [
              "124548"
            ]
          },
          "metadata": {
            "tags": []
          },
          "execution_count": 22
        }
      ]
    },
    {
      "cell_type": "code",
      "metadata": {
        "colab": {
          "base_uri": "https://localhost:8080/"
        },
        "id": "kiKA7LGqrTyu",
        "outputId": "b139eb83-ca5d-41f6-ddd3-f399dce0a13f"
      },
      "source": [
        "aaa + float(ccc)"
      ],
      "execution_count": 23,
      "outputs": [
        {
          "output_type": "execute_result",
          "data": {
            "text/plain": [
              "124548.0"
            ]
          },
          "metadata": {
            "tags": []
          },
          "execution_count": 23
        }
      ]
    },
    {
      "cell_type": "code",
      "metadata": {
        "colab": {
          "base_uri": "https://localhost:8080/",
          "height": 35
        },
        "id": "KTqTM0S4riJp",
        "outputId": "e72d7ccd-49ba-4805-d19c-6bf9fd2cdb9d"
      },
      "source": [
        "(str(aaa))"
      ],
      "execution_count": 24,
      "outputs": [
        {
          "output_type": "execute_result",
          "data": {
            "application/vnd.google.colaboratory.intrinsic+json": {
              "type": "string"
            },
            "text/plain": [
              "'1092'"
            ]
          },
          "metadata": {
            "tags": []
          },
          "execution_count": 24
        }
      ]
    },
    {
      "cell_type": "markdown",
      "metadata": {
        "id": "yj1QD6e3r_uw"
      },
      "source": [
        "การพิมพ์แบบนี้จะทำได้เฉพาะใน Notebook มันช่วยให้เราดูได้ว่าตอนนี้ค่าที่เราดูหน้าตามันเป็นยังไง ค่ามันคืออะไร"
      ]
    },
    {
      "cell_type": "markdown",
      "metadata": {
        "id": "2huZZvKOs-c0"
      },
      "source": [
        "# การดำเนินการ Operation (Operators +,-,*,/,%)"
      ]
    },
    {
      "cell_type": "code",
      "metadata": {
        "colab": {
          "base_uri": "https://localhost:8080/",
          "height": 163
        },
        "id": "aCO9cgHctqWl",
        "outputId": "ce362c05-e9d6-4f07-acf4-1938bac570c6"
      },
      "source": [
        "a+b"
      ],
      "execution_count": 25,
      "outputs": [
        {
          "output_type": "error",
          "ename": "NameError",
          "evalue": "ignored",
          "traceback": [
            "\u001b[0;31m---------------------------------------------------------------------------\u001b[0m",
            "\u001b[0;31mNameError\u001b[0m                                 Traceback (most recent call last)",
            "\u001b[0;32m<ipython-input-25-ca730b97bf8a>\u001b[0m in \u001b[0;36m<module>\u001b[0;34m()\u001b[0m\n\u001b[0;32m----> 1\u001b[0;31m \u001b[0ma\u001b[0m\u001b[0;34m+\u001b[0m\u001b[0mb\u001b[0m\u001b[0;34m\u001b[0m\u001b[0;34m\u001b[0m\u001b[0m\n\u001b[0m",
            "\u001b[0;31mNameError\u001b[0m: name 'b' is not defined"
          ]
        }
      ]
    },
    {
      "cell_type": "markdown",
      "metadata": {
        "id": "X7UsMh0kt6zz"
      },
      "source": [
        "Error นี้บอกว่า ตัวแปร b มันไม่มี แล้วก็บวกไม่ได้"
      ]
    },
    {
      "cell_type": "code",
      "metadata": {
        "colab": {
          "base_uri": "https://localhost:8080/"
        },
        "id": "g3h6mOY7uxNK",
        "outputId": "b0bd792c-cc98-4235-bcee-7f6cb368c783"
      },
      "source": [
        "aaa + bbb"
      ],
      "execution_count": 26,
      "outputs": [
        {
          "output_type": "execute_result",
          "data": {
            "text/plain": [
              "1103.0"
            ]
          },
          "metadata": {
            "tags": []
          },
          "execution_count": 26
        }
      ]
    },
    {
      "cell_type": "code",
      "metadata": {
        "colab": {
          "base_uri": "https://localhost:8080/"
        },
        "id": "_IpqO0S-u2BU",
        "outputId": "ca729383-c422-4d04-e848-c871b4a49665"
      },
      "source": [
        "aaa - bbb"
      ],
      "execution_count": 27,
      "outputs": [
        {
          "output_type": "execute_result",
          "data": {
            "text/plain": [
              "1081.0"
            ]
          },
          "metadata": {
            "tags": []
          },
          "execution_count": 27
        }
      ]
    },
    {
      "cell_type": "code",
      "metadata": {
        "colab": {
          "base_uri": "https://localhost:8080/"
        },
        "id": "7VmG3rRYu8yj",
        "outputId": "9ec9a28d-0dbb-4957-c60d-d95d3820c6d6"
      },
      "source": [
        "ab = aaa*bbb\r\n",
        "print(ab)"
      ],
      "execution_count": 28,
      "outputs": [
        {
          "output_type": "stream",
          "text": [
            "12012.0\n"
          ],
          "name": "stdout"
        }
      ]
    },
    {
      "cell_type": "code",
      "metadata": {
        "colab": {
          "base_uri": "https://localhost:8080/"
        },
        "id": "Vr_7LGQqvQ2f",
        "outputId": "4ec03cb8-312b-4b0a-83af-db32f7d6858a"
      },
      "source": [
        "ab + int(ccc)"
      ],
      "execution_count": 29,
      "outputs": [
        {
          "output_type": "execute_result",
          "data": {
            "text/plain": [
              "135468.0"
            ]
          },
          "metadata": {
            "tags": []
          },
          "execution_count": 29
        }
      ]
    },
    {
      "cell_type": "markdown",
      "metadata": {
        "id": "kONvnfkfv6kg"
      },
      "source": [
        "### % เครื่องหมาย modulo"
      ]
    },
    {
      "cell_type": "code",
      "metadata": {
        "colab": {
          "base_uri": "https://localhost:8080/"
        },
        "id": "uAuQ5XI9wSQ-",
        "outputId": "1246b289-2996-425d-eddb-199cf096211d"
      },
      "source": [
        "5%3"
      ],
      "execution_count": 32,
      "outputs": [
        {
          "output_type": "execute_result",
          "data": {
            "text/plain": [
              "2"
            ]
          },
          "metadata": {
            "tags": []
          },
          "execution_count": 32
        }
      ]
    },
    {
      "cell_type": "code",
      "metadata": {
        "colab": {
          "base_uri": "https://localhost:8080/"
        },
        "id": "62RSEb0bwiov",
        "outputId": "fc5c4c5d-ed44-47c0-d7cf-27b7029b5baf"
      },
      "source": [
        "7%3"
      ],
      "execution_count": 33,
      "outputs": [
        {
          "output_type": "execute_result",
          "data": {
            "text/plain": [
              "1"
            ]
          },
          "metadata": {
            "tags": []
          },
          "execution_count": 33
        }
      ]
    },
    {
      "cell_type": "markdown",
      "metadata": {
        "id": "wotNukmjw962"
      },
      "source": [
        "modulo คือการหารเอาเศษ เอาไว้ใช้เช็คว่าตัวเลขเป็นเลขคี่หรือเลขคู่ เอา 2 มาหาร ถ้าหารได้ 0  เป็นเลขคู่ ถ้าหารได้ 1 เป็นเลขคี่"
      ]
    },
    {
      "cell_type": "markdown",
      "metadata": {
        "id": "ZFYAv1EkyNCE"
      },
      "source": [
        "### คำสั่ง print แบบพิเศษ (การ fomat string)"
      ]
    },
    {
      "cell_type": "code",
      "metadata": {
        "colab": {
          "base_uri": "https://localhost:8080/"
        },
        "id": "2KQD0-2Hyqhd",
        "outputId": "cecd4c58-d3ed-46cd-ecf9-92aaff571847"
      },
      "source": [
        "print('ตัวแปร') # สิ่งที่อยู่ข้างในวงเล็บคือ ตัวแปร และ string"
      ],
      "execution_count": 34,
      "outputs": [
        {
          "output_type": "stream",
          "text": [
            "ตัวแปร\n"
          ],
          "name": "stdout"
        }
      ]
    },
    {
      "cell_type": "markdown",
      "metadata": {
        "id": "ydsZJmb52jKV"
      },
      "source": [
        "-print สามารถ print ได้ทั้งตัวแปร และstring\r\n",
        "\r\n",
        "-เพื่อความสวยงามสามารถแก้ไขตัว print ให้ฉลาดมากขึ้นโดยการเพิ่ม f สามารถเอา code ใส่เข้าไปในตัวข้อความได้\r\n",
        "\r\n",
        "เครื่องหมาย {} จะแสดงแค่คำตอบของ 7%3 คือ เท่ากับ 1"
      ]
    },
    {
      "cell_type": "code",
      "metadata": {
        "colab": {
          "base_uri": "https://localhost:8080/"
        },
        "id": "UhiIRRLdzEQQ",
        "outputId": "4677354d-22bd-4e06-d787-2c6fb7c7a3b3"
      },
      "source": [
        "print(f'%คือการหารเอาเศษ เช่น 7%3 = {7%3}') # เพิ่ม f หน้า 'string' และใช้ {} ใส่ code "
      ],
      "execution_count": 35,
      "outputs": [
        {
          "output_type": "stream",
          "text": [
            "%คือการหารเอาเศษ เช่น 7%3 = 1\n"
          ],
          "name": "stdout"
        }
      ]
    },
    {
      "cell_type": "code",
      "metadata": {
        "colab": {
          "base_uri": "https://localhost:8080/"
        },
        "id": "6Icrn7Qa08KO",
        "outputId": "f6aadd3e-b79e-4680-9d91-1f6258b7e8da"
      },
      "source": [
        "print (f'% คือการหารเอาเศษ เช่น 7%3 ={7%3}\\\r\n",
        "แต่\\n/ คือการหารปกติ เช่น 7/3 = {7/3}\\\r\n",
        "และ\\n// คือการหารเอาส่วน เช่น 7/3 = {7/3}\\\r\n",
        "หรือ\\nใช้ int() เพื่อหารเอาส่วน เช่น int(7/3) = {int(7/3)}') # \\n คือการขึ้นบรรทัดใหม่ที่ comเห็น \\ ใช้ในการตัด code แต่ com จะไม่เห็น"
      ],
      "execution_count": 36,
      "outputs": [
        {
          "output_type": "stream",
          "text": [
            "% คือการหารเอาเศษ เช่น 7%3 =1แต่\n",
            "/ คือการหารปกติ เช่น 7/3 = 2.3333333333333335และ\n",
            "// คือการหารเอาส่วน เช่น 7/3 = 2.3333333333333335หรือ\n",
            "ใช้ int() เพื่อหารเอาส่วน เช่น int(7/3) = 2\n"
          ],
          "name": "stdout"
        }
      ]
    },
    {
      "cell_type": "markdown",
      "metadata": {
        "id": "ijZyu0NV7mV7"
      },
      "source": [
        "# DATA STRUCTURE (โครงสร้างข้อมูล)"
      ]
    },
    {
      "cell_type": "markdown",
      "metadata": {
        "id": "3hJYuAZZ777K"
      },
      "source": [
        "### List คือการเอาข้อมูลหลายๆตัวมาเรียงต่อกัน\r\n",
        "list สามารถสร้างได้ 2 แบบ ดังนี้"
      ]
    },
    {
      "cell_type": "markdown",
      "metadata": {
        "id": "ILu8CkCi8Z5k"
      },
      "source": [
        "ข้อมูลสามารถเป็นได้ทั้ง ตัวเลข,ตัวอักษรและตัวแปร สัญลักษณ์ของ list คือ [ ]\r\n",
        "\r\n",
        "เราสามารถจัดกลุ่มตัวแปรหลายๆตัวมารวมอยู่ในที่เก็บเดียวกันได้"
      ]
    },
    {
      "cell_type": "code",
      "metadata": {
        "colab": {
          "base_uri": "https://localhost:8080/"
        },
        "id": "kSkaocxa84lC",
        "outputId": "ef884c74-7cb0-41d1-e340-d28f1316a463"
      },
      "source": [
        "[111, 'c' ,'ไข่ดาว', aaa]"
      ],
      "execution_count": 37,
      "outputs": [
        {
          "output_type": "execute_result",
          "data": {
            "text/plain": [
              "[111, 'c', 'ไข่ดาว', 1092]"
            ]
          },
          "metadata": {
            "tags": []
          },
          "execution_count": 37
        }
      ]
    },
    {
      "cell_type": "markdown",
      "metadata": {
        "id": "3KpdJT5G9lIZ"
      },
      "source": [
        "# แบบที่ 1 > square brackets\r\n",
        "สร้างด้วยสัญลักษณ์ของ list"
      ]
    },
    {
      "cell_type": "code",
      "metadata": {
        "colab": {
          "base_uri": "https://localhost:8080/"
        },
        "id": "FheRfpaC-D6S",
        "outputId": "6c1c1d5c-8467-4d19-c7a5-d66e514c001d"
      },
      "source": [
        "list_a = []  #list [] = list ว่าง\r\n",
        "print(list_a)"
      ],
      "execution_count": 38,
      "outputs": [
        {
          "output_type": "stream",
          "text": [
            "[]\n"
          ],
          "name": "stdout"
        }
      ]
    },
    {
      "cell_type": "code",
      "metadata": {
        "colab": {
          "base_uri": "https://localhost:8080/"
        },
        "id": "Wq3vJh7_-hee",
        "outputId": "bc55cad2-ecd9-4860-af42-185958520e56"
      },
      "source": [
        "list_b = [111,'c','ไข่ดาว',aaa]\r\n",
        "print(list_b)"
      ],
      "execution_count": 39,
      "outputs": [
        {
          "output_type": "stream",
          "text": [
            "[111, 'c', 'ไข่ดาว', 1092]\n"
          ],
          "name": "stdout"
        }
      ]
    },
    {
      "cell_type": "markdown",
      "metadata": {
        "id": "qQ2e8VVu_Erj"
      },
      "source": [
        "# ลำดับที่อยู่ใน list มีความสำคัญ (ลำดับใน list เริ่มจาก 0,1,2,...)"
      ]
    },
    {
      "cell_type": "code",
      "metadata": {
        "id": "uENMhR6e_cjt"
      },
      "source": [
        "list_b[2]  #หมายความว่าอยากได้สมาชิกตัวที่2 และลำดับไม่มีความเปลี่ยนแปลง"
      ],
      "execution_count": null,
      "outputs": []
    },
    {
      "cell_type": "markdown",
      "metadata": {
        "id": "P99LpYYg_6oV"
      },
      "source": [
        "# แบบที่2\r\n",
        "จะบอกว่าตัวแปลเท่ากับ list"
      ]
    },
    {
      "cell_type": "code",
      "metadata": {
        "colab": {
          "base_uri": "https://localhost:8080/"
        },
        "id": "2NQ4mhUoAFvY",
        "outputId": "ccf64c50-eb5d-4003-a022-13b904696a4e"
      },
      "source": [
        "list_c = list()\r\n",
        "print(list_c)"
      ],
      "execution_count": 40,
      "outputs": [
        {
          "output_type": "stream",
          "text": [
            "[]\n"
          ],
          "name": "stdout"
        }
      ]
    },
    {
      "cell_type": "markdown",
      "metadata": {
        "id": "ry6eP9FaDJp4"
      },
      "source": [
        "#append() เพิ่มสมาชิกใน list\r\n"
      ]
    },
    {
      "cell_type": "markdown",
      "metadata": {
        "id": "bkHS7rkdDdvt"
      },
      "source": [
        ".append คือเอาสมาชิกไปต่อท้ายของ list"
      ]
    },
    {
      "cell_type": "code",
      "metadata": {
        "colab": {
          "base_uri": "https://localhost:8080/"
        },
        "id": "0OYhWeAUDmjN",
        "outputId": "9edffdd1-47b4-43c1-ded6-092dddb0abde"
      },
      "source": [
        "list_b. append('u')\r\n",
        "print(list_b)"
      ],
      "execution_count": 41,
      "outputs": [
        {
          "output_type": "stream",
          "text": [
            "[111, 'c', 'ไข่ดาว', 1092, 'u']\n"
          ],
          "name": "stdout"
        }
      ]
    },
    {
      "cell_type": "markdown",
      "metadata": {
        "id": "PHhm48z5EOic"
      },
      "source": [
        "ชี้จากข้างหน้า คือ อยากได้ตัวไหนก็สามารถชี้เอาได้เลย\r\n",
        "\r\n",
        "ชี้จากข้างหลัง คือ ต้องใส่เครื่อง - เข้าไป เช่น [-1]"
      ]
    },
    {
      "cell_type": "markdown",
      "metadata": {
        "id": "La4ozXzdEt98"
      },
      "source": [
        "0 คือ สมาชิกตัวแรก , -1 คือ สมาชิกตัวสุดท้าย"
      ]
    },
    {
      "cell_type": "code",
      "metadata": {
        "colab": {
          "base_uri": "https://localhost:8080/"
        },
        "id": "x1_FgEuQDzPZ",
        "outputId": "656f7b94-f1d1-483e-a16e-87ff6c663b33"
      },
      "source": [
        "list_b[-2]  #ดังที่อยู่ในวงเล็บหลังจากตัวแปร list เรียก index ใช้สำหรับชี้ข้อมูลใน list (ชี้จากข้างหน้า,ชี้จากข้างหลัง)"
      ],
      "execution_count": 42,
      "outputs": [
        {
          "output_type": "execute_result",
          "data": {
            "text/plain": [
              "1092"
            ]
          },
          "metadata": {
            "tags": []
          },
          "execution_count": 42
        }
      ]
    },
    {
      "cell_type": "markdown",
      "metadata": {
        "id": "dMkghDfTFxY7"
      },
      "source": [
        "#String > list of charactrs "
      ]
    },
    {
      "cell_type": "markdown",
      "metadata": {
        "id": "IQZ8aY8QF-JZ"
      },
      "source": [
        "คำสั่งที่ใช้กับ list สามารถใช้กับ string"
      ]
    },
    {
      "cell_type": "code",
      "metadata": {
        "colab": {
          "base_uri": "https://localhost:8080/"
        },
        "id": "EwlSufyVFHF5",
        "outputId": "b8bfd34b-d875-4e23-bc9c-14dd9fb4ef4d"
      },
      "source": [
        "t = 'ploybongkot is cute'\r\n",
        "print(t)"
      ],
      "execution_count": 43,
      "outputs": [
        {
          "output_type": "stream",
          "text": [
            "ploybongkot is cute\n"
          ],
          "name": "stdout"
        }
      ]
    },
    {
      "cell_type": "code",
      "metadata": {
        "colab": {
          "base_uri": "https://localhost:8080/",
          "height": 35
        },
        "id": "-kcV0S8EGY2n",
        "outputId": "e3bce21c-6020-4244-be4d-29a3ab0b9b8b"
      },
      "source": [
        "t[1] #หมายความคิดว่า ต้องการทราบ tตัวที่ 1"
      ],
      "execution_count": 44,
      "outputs": [
        {
          "output_type": "execute_result",
          "data": {
            "application/vnd.google.colaboratory.intrinsic+json": {
              "type": "string"
            },
            "text/plain": [
              "'l'"
            ]
          },
          "metadata": {
            "tags": []
          },
          "execution_count": 44
        }
      ]
    },
    {
      "cell_type": "code",
      "metadata": {
        "colab": {
          "base_uri": "https://localhost:8080/",
          "height": 35
        },
        "id": "3wVdmCT_GgtB",
        "outputId": "2d183e5e-1990-4c4d-86e0-932f4dd03f19"
      },
      "source": [
        "t[-4]"
      ],
      "execution_count": 45,
      "outputs": [
        {
          "output_type": "execute_result",
          "data": {
            "application/vnd.google.colaboratory.intrinsic+json": {
              "type": "string"
            },
            "text/plain": [
              "'c'"
            ]
          },
          "metadata": {
            "tags": []
          },
          "execution_count": 45
        }
      ]
    },
    {
      "cell_type": "code",
      "metadata": {
        "id": "_VvOxlXhGsb3"
      },
      "source": [
        "t[3]"
      ],
      "execution_count": null,
      "outputs": []
    },
    {
      "cell_type": "code",
      "metadata": {
        "colab": {
          "base_uri": "https://localhost:8080/",
          "height": 35
        },
        "id": "RrIFdx3UGvIR",
        "outputId": "d7c77e1d-0206-434e-fd7b-bd376d6c2d40"
      },
      "source": [
        "t[6]"
      ],
      "execution_count": 46,
      "outputs": [
        {
          "output_type": "execute_result",
          "data": {
            "application/vnd.google.colaboratory.intrinsic+json": {
              "type": "string"
            },
            "text/plain": [
              "'n'"
            ]
          },
          "metadata": {
            "tags": []
          },
          "execution_count": 46
        }
      ]
    },
    {
      "cell_type": "markdown",
      "metadata": {
        "id": "aL8UMOoNG0bQ"
      },
      "source": [
        "#จบ 5 มค 2021 "
      ]
    },
    {
      "cell_type": "markdown",
      "metadata": {
        "id": "T_LI5wyRiPMQ"
      },
      "source": [
        "# คาบที่ 3 11 มค. 2021"
      ]
    },
    {
      "cell_type": "code",
      "metadata": {
        "id": "XpCGjwyxiXTH"
      },
      "source": [
        "len(t)"
      ],
      "execution_count": null,
      "outputs": []
    },
    {
      "cell_type": "code",
      "metadata": {
        "id": "W_wA57awkM91",
        "outputId": "3a5403d1-bf40-4e12-d8d9-3a58c8c318d5",
        "colab": {
          "base_uri": "https://localhost:8080/"
        }
      },
      "source": [
        "list_b"
      ],
      "execution_count": 47,
      "outputs": [
        {
          "output_type": "execute_result",
          "data": {
            "text/plain": [
              "[111, 'c', 'ไข่ดาว', 1092, 'u']"
            ]
          },
          "metadata": {
            "tags": []
          },
          "execution_count": 47
        }
      ]
    },
    {
      "cell_type": "markdown",
      "metadata": {
        "id": "ZuK4JW5RleJ0"
      },
      "source": [
        "ตัวที่อยู่ข้างใน[ ] เราเรียกว่า index (ตัวชี้)"
      ]
    },
    {
      "cell_type": "markdown",
      "metadata": {
        "id": "p5cSYHdYltgI"
      },
      "source": [
        "List slicing สามารถทำได้โดยใช้ colon"
      ]
    },
    {
      "cell_type": "code",
      "metadata": {
        "id": "qgHiDrG6l3AF",
        "outputId": "48d45d69-ed3a-45f8-b046-01a3b98cbd80",
        "colab": {
          "base_uri": "https://localhost:8080/"
        }
      },
      "source": [
        "print(t)\r\n",
        "print(t[7:9])\r\n",
        "print(len(t[7:9]))"
      ],
      "execution_count": 49,
      "outputs": [
        {
          "output_type": "stream",
          "text": [
            "ploybongkot is cute\n",
            "gk\n",
            "2\n"
          ],
          "name": "stdout"
        }
      ]
    },
    {
      "cell_type": "code",
      "metadata": {
        "id": "xYGGqfGMnkK_",
        "outputId": "bb78aa70-be7c-4602-b667-5cbd97920a7b",
        "colab": {
          "base_uri": "https://localhost:8080/",
          "height": 35
        }
      },
      "source": [
        "t[0:19:2]"
      ],
      "execution_count": 50,
      "outputs": [
        {
          "output_type": "execute_result",
          "data": {
            "application/vnd.google.colaboratory.intrinsic+json": {
              "type": "string"
            },
            "text/plain": [
              "'pobnkti ue'"
            ]
          },
          "metadata": {
            "tags": []
          },
          "execution_count": 50
        }
      ]
    },
    {
      "cell_type": "markdown",
      "metadata": {
        "id": "8wejcwlumagm"
      },
      "source": [
        "มันจะบอกว่าเริ่มที่ตัวไหนจบที่ตัวไหน แล้วถ้าเพิ่ม : อีกตัว คือ เริ่มตัวที่ 0 โดยหยิบทุกๆ 2 ตัว"
      ]
    },
    {
      "cell_type": "code",
      "metadata": {
        "id": "-sTTJP20oSkj",
        "outputId": "cb2f6adb-2a5f-445f-dde3-c221694158c0",
        "colab": {
          "base_uri": "https://localhost:8080/"
        }
      },
      "source": [
        "z = [1,2,3,4,5,6,7,8,9,10]\r\n",
        "z[1:10:2]"
      ],
      "execution_count": 54,
      "outputs": [
        {
          "output_type": "execute_result",
          "data": {
            "text/plain": [
              "[2, 4, 6, 8, 10]"
            ]
          },
          "metadata": {
            "tags": []
          },
          "execution_count": 54
        }
      ]
    },
    {
      "cell_type": "markdown",
      "metadata": {
        "id": "KS-IQ4bzoj5l"
      },
      "source": [
        "ถ้าเว้นว่างหน้า : หมายความว่า เริ่มตั้งแต่ตัวเลข (0)\r\n",
        "\r\n",
        "ถ้าเว้นว่างหลัง : หมายความว่า ไปจนถึงตัวสุดท้าย (len(list))"
      ]
    },
    {
      "cell_type": "code",
      "metadata": {
        "id": "3hPe488Ppr_S",
        "outputId": "ed2b424d-a5f3-403d-bf51-6a9b087ac2ca",
        "colab": {
          "base_uri": "https://localhost:8080/"
        }
      },
      "source": [
        "print(t)\r\n",
        "print(t[:6])\r\n",
        "print(t[:10])\r\n",
        "print(t[-4:])\r\n",
        "print(t[:])"
      ],
      "execution_count": 61,
      "outputs": [
        {
          "output_type": "stream",
          "text": [
            "ploybongkot is cute\n",
            "ploybo\n",
            "ploybongko\n",
            "cute\n",
            "ploybongkot is cute\n"
          ],
          "name": "stdout"
        }
      ]
    },
    {
      "cell_type": "code",
      "metadata": {
        "id": "bO2_gfikpz-6",
        "outputId": "4bf02d23-faea-4c8e-8c95-13d81f0f9bb6",
        "colab": {
          "base_uri": "https://localhost:8080/"
        }
      },
      "source": [
        "print(z[::2])"
      ],
      "execution_count": 62,
      "outputs": [
        {
          "output_type": "stream",
          "text": [
            "[1, 3, 5, 7, 9]\n"
          ],
          "name": "stdout"
        }
      ]
    },
    {
      "cell_type": "markdown",
      "metadata": {
        "id": "NTqYIQLVq_px"
      },
      "source": [
        "### เราสามารถเอา list มาต่อได้ด้วย + "
      ]
    },
    {
      "cell_type": "code",
      "metadata": {
        "id": "bsOrU4SCrjZN",
        "outputId": "389fb641-b044-4e01-92de-d5aab8a916e0",
        "colab": {
          "base_uri": "https://localhost:8080/",
          "height": 35
        }
      },
      "source": [
        "t + '??'"
      ],
      "execution_count": 63,
      "outputs": [
        {
          "output_type": "execute_result",
          "data": {
            "application/vnd.google.colaboratory.intrinsic+json": {
              "type": "string"
            },
            "text/plain": [
              "'ploybongkot is cute??'"
            ]
          },
          "metadata": {
            "tags": []
          },
          "execution_count": 63
        }
      ]
    },
    {
      "cell_type": "code",
      "metadata": {
        "id": "kThirb__r-SU",
        "outputId": "6647a89f-8e8c-4b1c-f1ae-9938e1dcaef1",
        "colab": {
          "base_uri": "https://localhost:8080/",
          "height": 163
        }
      },
      "source": [
        "t + list_b ## ไม่สามารถเอา list ปกติมาต่อกับ string ได้"
      ],
      "execution_count": 64,
      "outputs": [
        {
          "output_type": "error",
          "ename": "TypeError",
          "evalue": "ignored",
          "traceback": [
            "\u001b[0;31m---------------------------------------------------------------------------\u001b[0m",
            "\u001b[0;31mTypeError\u001b[0m                                 Traceback (most recent call last)",
            "\u001b[0;32m<ipython-input-64-8ceeb7529eac>\u001b[0m in \u001b[0;36m<module>\u001b[0;34m()\u001b[0m\n\u001b[0;32m----> 1\u001b[0;31m \u001b[0mt\u001b[0m \u001b[0;34m+\u001b[0m \u001b[0mlist_b\u001b[0m \u001b[0;31m## ไม่สามารถเอา list ปกติมาต่อกับ string ได้\u001b[0m\u001b[0;34m\u001b[0m\u001b[0;34m\u001b[0m\u001b[0m\n\u001b[0m",
            "\u001b[0;31mTypeError\u001b[0m: must be str, not list"
          ]
        }
      ]
    },
    {
      "cell_type": "code",
      "metadata": {
        "id": "RkA6BlYlsQCT",
        "outputId": "513a89db-42bb-4b07-d414-5c86c84a4ed1",
        "colab": {
          "base_uri": "https://localhost:8080/"
        }
      },
      "source": [
        "print(list_a)\r\n",
        "print(list_b)\r\n",
        "p"
      ],
      "execution_count": 66,
      "outputs": [
        {
          "output_type": "stream",
          "text": [
            "[]\n",
            "[111, 'c', 'ไข่ดาว', 1092, 'u']\n"
          ],
          "name": "stdout"
        }
      ]
    }
  ]
}