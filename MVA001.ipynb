{
  "nbformat": 4,
  "nbformat_minor": 0,
  "metadata": {
    "colab": {
      "name": "MVA001.ipynb",
      "provenance": [],
      "authorship_tag": "ABX9TyOYnfruuHrjjIhUjpTviTW4",
      "include_colab_link": true
    },
    "kernelspec": {
      "name": "python3",
      "display_name": "Python 3"
    }
  },
  "cells": [
    {
      "cell_type": "markdown",
      "metadata": {
        "id": "view-in-github",
        "colab_type": "text"
      },
      "source": [
        "<a href=\"https://colab.research.google.com/github/ploybongkot/Multivariate/blob/main/MVA001.ipynb\" target=\"_parent\"><img src=\"https://colab.research.google.com/assets/colab-badge.svg\" alt=\"Open In Colab\"/></a>"
      ]
    },
    {
      "cell_type": "markdown",
      "metadata": {
        "id": "caKH9cngW4bm"
      },
      "source": [
        "Scalar, Vector, Matrix"
      ]
    },
    {
      "cell_type": "markdown",
      "metadata": {
        "id": "bDgXh2KrY4IL"
      },
      "source": [
        "# Scalar"
      ]
    },
    {
      "cell_type": "code",
      "metadata": {
        "id": "fvN-Q8HxXEey"
      },
      "source": [
        " import numpy as np"
      ],
      "execution_count": null,
      "outputs": []
    },
    {
      "cell_type": "code",
      "metadata": {
        "colab": {
          "base_uri": "https://localhost:8080/"
        },
        "id": "FQJW89ulXVzj",
        "outputId": "b198b978-ce68-4ae1-e1b8-cbda97437aa8"
      },
      "source": [
        " scalar_a = 10 #scalar\r\n",
        " print(scalar_a)"
      ],
      "execution_count": null,
      "outputs": [
        {
          "output_type": "stream",
          "text": [
            "10\n"
          ],
          "name": "stdout"
        }
      ]
    },
    {
      "cell_type": "markdown",
      "metadata": {
        "id": "v3fE8P1fWTNe"
      },
      "source": [
        ""
      ]
    },
    {
      "cell_type": "code",
      "metadata": {
        "id": "O2Nbi7QeWMy2"
      },
      "source": [
        "1 plt.plot"
      ],
      "execution_count": null,
      "outputs": []
    },
    {
      "cell_type": "markdown",
      "metadata": {
        "id": "Hx4efmGQYKzl"
      },
      "source": [
        ""
      ]
    },
    {
      "cell_type": "code",
      "metadata": {
        "id": "c7lVXJLQZkpb"
      },
      "source": [
        "from matplotlip import pyplot as plt"
      ],
      "execution_count": null,
      "outputs": []
    },
    {
      "cell_type": "code",
      "metadata": {
        "id": "WZqZ9qVhYWsW"
      },
      "source": [
        " plt.plot((vector_b[0,0],vector_b[1,0],'or'))"
      ],
      "execution_count": null,
      "outputs": []
    },
    {
      "cell_type": "markdown",
      "metadata": {
        "id": "UjOOqDU3aM3Z"
      },
      "source": [
        "\r\n",
        "Scalar, Vector, Matrix\r\n",
        "\r\n",
        "Scalar\r\n",
        "[5]\r\n",
        " import numpy as np\r\n",
        "[4]\r\n",
        " scalar_a = 10 #scalar\r\n",
        " print(scalar_a)\r\n",
        "10\r\n",
        "Double-click (or enter) to edit\r\n",
        "\r\n",
        "[ ]\r\n",
        "1 plt.plot\r\n",
        "ขนาดของ vector คำนวณได้โดย พิธากอรัส vector มีทั้งขนาดและทิศทาง"
      ]
    },
    {
      "cell_type": "markdown",
      "metadata": {
        "id": "aJJ7S9ZyaZwX"
      },
      "source": [
        ""
      ]
    },
    {
      "cell_type": "markdown",
      "metadata": {
        "id": "SYCa5ErWf1cl"
      },
      "source": [
        "Hw 5 หา Eigen value กับ Eigen vector ของ\r\n",
        "\r\n",
        "![download.png](data:image/png;base64,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)"
      ]
    },
    {
      "cell_type": "code",
      "metadata": {
        "id": "W_coeFOcgZun",
        "outputId": "f69bcf99-3820-475e-b011-4be63a99a34a",
        "colab": {
          "base_uri": "https://localhost:8080/",
          "height": 180
        }
      },
      "source": [
        "A = np.array([[1,0],[1,3]])\r\n",
        "A"
      ],
      "execution_count": 4,
      "outputs": [
        {
          "output_type": "error",
          "ename": "NameError",
          "evalue": "ignored",
          "traceback": [
            "\u001b[0;31m---------------------------------------------------------------------------\u001b[0m",
            "\u001b[0;31mNameError\u001b[0m                                 Traceback (most recent call last)",
            "\u001b[0;32m<ipython-input-4-4b50fe582284>\u001b[0m in \u001b[0;36m<module>\u001b[0;34m()\u001b[0m\n\u001b[0;32m----> 1\u001b[0;31m \u001b[0mA\u001b[0m \u001b[0;34m=\u001b[0m \u001b[0mnp\u001b[0m\u001b[0;34m.\u001b[0m\u001b[0marray\u001b[0m\u001b[0;34m(\u001b[0m\u001b[0;34m[\u001b[0m\u001b[0;34m[\u001b[0m\u001b[0;36m1\u001b[0m\u001b[0;34m,\u001b[0m\u001b[0;36m0\u001b[0m\u001b[0;34m]\u001b[0m\u001b[0;34m,\u001b[0m\u001b[0;34m[\u001b[0m\u001b[0;36m1\u001b[0m\u001b[0;34m,\u001b[0m\u001b[0;36m3\u001b[0m\u001b[0;34m]\u001b[0m\u001b[0;34m]\u001b[0m\u001b[0;34m)\u001b[0m\u001b[0;34m\u001b[0m\u001b[0;34m\u001b[0m\u001b[0m\n\u001b[0m\u001b[1;32m      2\u001b[0m \u001b[0mA\u001b[0m\u001b[0;34m\u001b[0m\u001b[0;34m\u001b[0m\u001b[0m\n",
            "\u001b[0;31mNameError\u001b[0m: name 'np' is not defined"
          ]
        }
      ]
    },
    {
      "cell_type": "code",
      "metadata": {
        "id": "zueZJcAGgkxc",
        "outputId": "b816d885-7403-4c0e-8fa8-e4547f176174",
        "colab": {
          "base_uri": "https://localhost:8080/",
          "height": 197
        }
      },
      "source": [
        "W,V = np.linalg.eig(A)\r\n",
        "print(W)\r\n",
        "print(V)"
      ],
      "execution_count": 5,
      "outputs": [
        {
          "output_type": "error",
          "ename": "NameError",
          "evalue": "ignored",
          "traceback": [
            "\u001b[0;31m---------------------------------------------------------------------------\u001b[0m",
            "\u001b[0;31mNameError\u001b[0m                                 Traceback (most recent call last)",
            "\u001b[0;32m<ipython-input-5-a7fe3a16364f>\u001b[0m in \u001b[0;36m<module>\u001b[0;34m()\u001b[0m\n\u001b[0;32m----> 1\u001b[0;31m \u001b[0mW\u001b[0m\u001b[0;34m,\u001b[0m\u001b[0mV\u001b[0m \u001b[0;34m=\u001b[0m \u001b[0mnp\u001b[0m\u001b[0;34m.\u001b[0m\u001b[0mlinalg\u001b[0m\u001b[0;34m.\u001b[0m\u001b[0meig\u001b[0m\u001b[0;34m(\u001b[0m\u001b[0mA\u001b[0m\u001b[0;34m)\u001b[0m\u001b[0;34m\u001b[0m\u001b[0;34m\u001b[0m\u001b[0m\n\u001b[0m\u001b[1;32m      2\u001b[0m \u001b[0mprint\u001b[0m\u001b[0;34m(\u001b[0m\u001b[0mW\u001b[0m\u001b[0;34m)\u001b[0m\u001b[0;34m\u001b[0m\u001b[0;34m\u001b[0m\u001b[0m\n\u001b[1;32m      3\u001b[0m \u001b[0mprint\u001b[0m\u001b[0;34m(\u001b[0m\u001b[0mV\u001b[0m\u001b[0;34m)\u001b[0m\u001b[0;34m\u001b[0m\u001b[0;34m\u001b[0m\u001b[0m\n",
            "\u001b[0;31mNameError\u001b[0m: name 'np' is not defined"
          ]
        }
      ]
    },
    {
      "cell_type": "code",
      "metadata": {
        "id": "96MnNx2GgtJT"
      },
      "source": [
        "np.linalg.eigvals(A)"
      ],
      "execution_count": null,
      "outputs": []
    },
    {
      "cell_type": "code",
      "metadata": {
        "id": "yb1DKzaPh0-B"
      },
      "source": [
        "print(f'eight value = {W[0]} มี eigen vector คือ {V[:,0]}')"
      ],
      "execution_count": null,
      "outputs": []
    }
  ]
}