{
  "nbformat": 4,
  "nbformat_minor": 0,
  "metadata": {
    "colab": {
      "name": "MVA001.ipynb",
      "provenance": [],
      "authorship_tag": "ABX9TyPjKzB+WzsLmur46xViu4Du",
      "include_colab_link": true
    },
    "kernelspec": {
      "name": "python3",
      "display_name": "Python 3"
    }
  },
  "cells": [
    {
      "cell_type": "markdown",
      "metadata": {
        "id": "view-in-github",
        "colab_type": "text"
      },
      "source": [
        "<a href=\"https://colab.research.google.com/github/ploybongkot/Multivariate/blob/main/MVA001.ipynb\" target=\"_parent\"><img src=\"https://colab.research.google.com/assets/colab-badge.svg\" alt=\"Open In Colab\"/></a>"
      ]
    },
    {
      "cell_type": "markdown",
      "metadata": {
        "id": "caKH9cngW4bm"
      },
      "source": [
        "Scalar, Vector, Matrix"
      ]
    },
    {
      "cell_type": "markdown",
      "metadata": {
        "id": "bDgXh2KrY4IL"
      },
      "source": [
        "# Scalar"
      ]
    },
    {
      "cell_type": "code",
      "metadata": {
        "id": "fvN-Q8HxXEey"
      },
      "source": [
        " import numpy as np"
      ],
      "execution_count": 5,
      "outputs": []
    },
    {
      "cell_type": "code",
      "metadata": {
        "colab": {
          "base_uri": "https://localhost:8080/"
        },
        "id": "FQJW89ulXVzj",
        "outputId": "b198b978-ce68-4ae1-e1b8-cbda97437aa8"
      },
      "source": [
        " scalar_a = 10 #scalar\r\n",
        " print(scalar_a)"
      ],
      "execution_count": 4,
      "outputs": [
        {
          "output_type": "stream",
          "text": [
            "10\n"
          ],
          "name": "stdout"
        }
      ]
    },
    {
      "cell_type": "markdown",
      "metadata": {
        "id": "v3fE8P1fWTNe"
      },
      "source": [
        ""
      ]
    },
    {
      "cell_type": "code",
      "metadata": {
        "id": "O2Nbi7QeWMy2"
      },
      "source": [
        "1 plt.plot"
      ],
      "execution_count": null,
      "outputs": []
    },
    {
      "cell_type": "markdown",
      "metadata": {
        "id": "Hx4efmGQYKzl"
      },
      "source": [
        ""
      ]
    },
    {
      "cell_type": "code",
      "metadata": {
        "id": "c7lVXJLQZkpb"
      },
      "source": [
        "from matplotlip import pyplot as plt"
      ],
      "execution_count": null,
      "outputs": []
    },
    {
      "cell_type": "code",
      "metadata": {
        "id": "WZqZ9qVhYWsW"
      },
      "source": [
        " plt.plot((vector_b[0,0],vector_b[1,0],'or'))"
      ],
      "execution_count": null,
      "outputs": []
    },
    {
      "cell_type": "markdown",
      "metadata": {
        "id": "UjOOqDU3aM3Z"
      },
      "source": [
        "\r\n",
        "Scalar, Vector, Matrix\r\n",
        "\r\n",
        "Scalar\r\n",
        "[5]\r\n",
        " import numpy as np\r\n",
        "[4]\r\n",
        " scalar_a = 10 #scalar\r\n",
        " print(scalar_a)\r\n",
        "10\r\n",
        "Double-click (or enter) to edit\r\n",
        "\r\n",
        "[ ]\r\n",
        "1 plt.plot\r\n",
        "ขนาดของ vector คำนวณได้โดย พิธากอรัส vector มีทั้งขนาดและทิศทาง"
      ]
    },
    {
      "cell_type": "markdown",
      "metadata": {
        "id": "aJJ7S9ZyaZwX"
      },
      "source": [
        ""
      ]
    }
  ]
}