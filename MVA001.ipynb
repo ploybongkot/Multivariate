{
  "nbformat": 4,
  "nbformat_minor": 0,
  "metadata": {
    "colab": {
      "name": "MVA001.ipynb",
      "provenance": [],
      "toc_visible": true,
      "authorship_tag": "ABX9TyPn2xG9l64eJrFHhbZVipBI",
      "include_colab_link": true
    },
    "kernelspec": {
      "name": "python3",
      "display_name": "Python 3"
    }
  },
  "cells": [
    {
      "cell_type": "markdown",
      "metadata": {
        "id": "view-in-github",
        "colab_type": "text"
      },
      "source": [
        "<a href=\"https://colab.research.google.com/github/ploybongkot/Multivariate/blob/main/MVA001.ipynb\" target=\"_parent\"><img src=\"https://colab.research.google.com/assets/colab-badge.svg\" alt=\"Open In Colab\"/></a>"
      ]
    },
    {
      "cell_type": "markdown",
      "metadata": {
        "id": "caKH9cngW4bm"
      },
      "source": [
        "Scalar, Vector, Matrix"
      ]
    },
    {
      "cell_type": "markdown",
      "metadata": {
        "id": "bDgXh2KrY4IL"
      },
      "source": [
        "# Scalar"
      ]
    },
    {
      "cell_type": "code",
      "metadata": {
        "id": "fvN-Q8HxXEey"
      },
      "source": [
        " import numpy as np #ตั้งชื่อให้สั้นลง"
      ],
      "execution_count": 89,
      "outputs": []
    },
    {
      "cell_type": "code",
      "metadata": {
        "colab": {
          "base_uri": "https://localhost:8080/"
        },
        "id": "FQJW89ulXVzj",
        "outputId": "4223d319-150b-49ec-d66a-116a99f5ca74"
      },
      "source": [
        " scalar_a = 10 #scalar ไม่สามารถเป็นรูปได้\r\n",
        " print(scalar_a)"
      ],
      "execution_count": 90,
      "outputs": [
        {
          "output_type": "stream",
          "text": [
            "10\n"
          ],
          "name": "stdout"
        }
      ]
    },
    {
      "cell_type": "markdown",
      "metadata": {
        "id": "v3fE8P1fWTNe"
      },
      "source": [
        "##Vector"
      ]
    },
    {
      "cell_type": "code",
      "metadata": {
        "id": "H3uWR7XOznyJ",
        "colab": {
          "base_uri": "https://localhost:8080/"
        },
        "outputId": "0b329250-7fe5-44e8-c125-8d1313635298"
      },
      "source": [
        "vector_b = np.zeros([2,1])   # ทำมาจากvectorเริ่มต้น\r\n",
        "vector_b[0,0] = 2 #กำหนดเวกเตอร์ให้เป็นหลัก0เเถว0 = 2\r\n",
        "vector_b[1,0] = 3 #กำหนดเวกเตอร์ให้เป็นหลัก1เเถว0 = 3\r\n",
        "print(vector_b)\r\n",
        "print(vector_b.shape)  # สร้างshape"
      ],
      "execution_count": 91,
      "outputs": [
        {
          "output_type": "stream",
          "text": [
            "[[2.]\n",
            " [3.]]\n",
            "(2, 1)\n"
          ],
          "name": "stdout"
        }
      ]
    },
    {
      "cell_type": "code",
      "metadata": {
        "id": "MaU0atHxz4lP",
        "colab": {
          "base_uri": "https://localhost:8080/"
        },
        "outputId": "0c775f6f-9142-4937-b491-db1a58eaf1c5"
      },
      "source": [
        "vector_c = np.array([[1],[3]]) # การใช้list ในการพร็อตเวกเตอร์ ([x],[y])\r\n",
        "print(vector_c)\r\n",
        "print(vector_c.shape) #กำหนดขนาดเวกเตอร์"
      ],
      "execution_count": 92,
      "outputs": [
        {
          "output_type": "stream",
          "text": [
            "[[1]\n",
            " [3]]\n",
            "(2, 1)\n"
          ],
          "name": "stdout"
        }
      ]
    },
    {
      "cell_type": "code",
      "metadata": {
        "id": "r_Gzmnuyz9V8"
      },
      "source": [
        "from matplotlib import pyplot as plt # import ... import ก็คือ การอิมพอตใหญ่ๆไปย่อย"
      ],
      "execution_count": null,
      "outputs": []
    },
    {
      "cell_type": "code",
      "metadata": {
        "id": "YeixMzNU2UCQ",
        "colab": {
          "base_uri": "https://localhost:8080/",
          "height": 299
        },
        "outputId": "8ac136c9-a66c-494b-dfdb-d5f2a17368cd"
      },
      "source": [
        "plt.plot(vector_b[0,0],vector_b[1,0],'or')  # การ plot vector จริงๆมันคือจุด "
      ],
      "execution_count": 93,
      "outputs": [
        {
          "output_type": "execute_result",
          "data": {
            "text/plain": [
              "[<matplotlib.lines.Line2D at 0x7f66d163f610>]"
            ]
          },
          "metadata": {
            "tags": []
          },
          "execution_count": 93
        },
        {
          "output_type": "display_data",
          "data": {
            "image/png": "[encoded data removed]",
            "text/plain": [
              "<Figure size 432x288 with 1 Axes>"
            ]
          },
          "metadata": {
            "tags": [],
            "needs_background": "light"
          }
        },
        {
          "output_type": "execute_result",
          "data": {
            "text/plain": [
              "[<matplotlib.lines.Line2D at 0x7f66d9e7e410>]"
            ]
          },
          "metadata": {
            "tags": []
          },
          "execution_count": 94
        }
      ]
    },
    {
      "cell_type": "markdown",
      "metadata": {
        "id": "R9fm3MbL05wo"
      },
      "source": [
        "ขนาดของ vector คำนวณได้โดย พิธากอรัส"
      ]
    },
    {
      "cell_type": "code",
      "metadata": {
        "id": "fb5S8vkX09fl",
        "colab": {
          "base_uri": "https://localhost:8080/"
        },
        "outputId": "24e20ed9-8de6-4039-fd4e-31ea169cd3ee"
      },
      "source": [
        "vector_b_size = ((vector_b[0,0]**2)+(vector_b[1,0]**2))**0.5 #การคำนวณขนาดเวกเตอร์\r\n",
        "print(vector_b_size)"
      ],
      "execution_count": 95,
      "outputs": [
        {
          "output_type": "stream",
          "text": [
            "3.605551275463989\n"
          ],
          "name": "stdout"
        }
      ]
    },
    {
      "cell_type": "markdown",
      "metadata": {
        "id": "Hx4efmGQYKzl"
      },
      "source": [
        "## Matrix"
      ]
    },
    {
      "cell_type": "code",
      "metadata": {
        "id": "tigR53Z21tRT",
        "colab": {
          "base_uri": "https://localhost:8080/"
        },
        "outputId": "8215f6e5-9d0d-433d-d9f2-c7b33619e0de"
      },
      "source": [
        "matrix_d = np.array([[2,3],[1,4],[-1,1]]) # ยังไม่ใช่matrix จริงๆ\r\n",
        "print(matrix_d)"
      ],
      "execution_count": 96,
      "outputs": [
        {
          "output_type": "stream",
          "text": [
            "[[ 2  3]\n",
            " [ 1  4]\n",
            " [-1  1]]\n"
          ],
          "name": "stdout"
        }
      ]
    },
    {
      "cell_type": "code",
      "metadata": {
        "id": "vMs_fBQV1xoZ",
        "colab": {
          "base_uri": "https://localhost:8080/"
        },
        "outputId": "f97eafb3-f8ba-411b-b5e1-8dd2dd71f84a"
      },
      "source": [
        "matrix_d = matrix_d.T #นำเอาไปทำเป็นmatrixตามทฤษฎี\r\n",
        "print(matrix_d)"
      ],
      "execution_count": 97,
      "outputs": [
        {
          "output_type": "stream",
          "text": [
            "[[ 2  1 -1]\n",
            " [ 3  4  1]]\n"
          ],
          "name": "stdout"
        }
      ]
    },
    {
      "cell_type": "code",
      "metadata": {
        "id": "Ok-hQick12GZ",
        "colab": {
          "base_uri": "https://localhost:8080/"
        },
        "outputId": "c1b4dc05-2202-485f-ae24-725f1d33f7a5"
      },
      "source": [
        "matrix_d[0,:] # บอกว่าค่า x มีค่าอะไรบ้าง"
      ],
      "execution_count": 98,
      "outputs": [
        {
          "output_type": "execute_result",
          "data": {
            "text/plain": [
              "array([ 2,  1, -1])"
            ]
          },
          "metadata": {
            "tags": []
          },
          "execution_count": 98
        }
      ]
    },
    {
      "cell_type": "code",
      "metadata": {
        "id": "c7lVXJLQZkpb"
      },
      "source": [
        "from matplotlip import pyplot as plt"
      ],
      "execution_count": null,
      "outputs": []
    },
    {
      "cell_type": "code",
      "metadata": {
        "id": "ZkKjfZk217zK",
        "colab": {
          "base_uri": "https://localhost:8080/",
          "height": 282
        },
        "outputId": "2879ac4f-d950-4a7f-cc52-ea48cd29ac8b"
      },
      "source": [
        "plt.plot(matrix_d[0,:],matrix_d[1,:],'or') #ใช้สำหรับplotจุดลงไปในspace -> plot(ค่าx,ค่าy,หน้าตาของจุด) o คือ จุด r คือ สีเเดง\r\n",
        "plt.plot(0,0,'.b') # อันนี้คือจุดกำเนิด\r\n",
        "plt.plot([0,0],[-1,5],'^:k') # ^ คือ หัวลูกศร : คือ ลายจุด k คือ สีดำ ดูว่ามีกี่จุดคือว่ามี x 2 ตัว y 2 ตัว เพราะฉะนั้น 2 จุด\r\n",
        "plt.plot([-1.5,2.5],[0,0],'>--b') # > คือ หัวลูกศร -- คือทำเป็นเส้น b คือสีน้ำเงิน"
      ],
      "execution_count": 100,
      "outputs": [
        {
          "output_type": "execute_result",
          "data": {
            "text/plain": [
              "[<matplotlib.lines.Line2D at 0x7f66d13fb890>]"
            ]
          },
          "metadata": {
            "tags": []
          },
          "execution_count": 100
        },
        {
          "output_type": "display_data",
          "data": {
            "image/png": "[encoded data removed]",
            "text/plain": [
              "<Figure size 432x288 with 1 Axes>"
            ]
          },
          "metadata": {
            "tags": [],
            "needs_background": "light"
          }
        }
      ]
    },
    {
      "cell_type": "markdown",
      "metadata": {
        "id": "RctdLKKR2eUC"
      },
      "source": [
        "รูปเเบบ(Format)fmt = '[marker][line][color]"
      ]
    },
    {
      "cell_type": "markdown",
      "metadata": {
        "id": "n4DMQ4fv2i0h"
      },
      "source": [
        "# Transpose"
      ]
    },
    {
      "cell_type": "code",
      "metadata": {
        "id": "L4G1ckDh2t6n",
        "colab": {
          "base_uri": "https://localhost:8080/"
        },
        "outputId": "ec59a608-3d87-4150-ccdb-738ae47d1a8e"
      },
      "source": [
        "A = np.array([[3,-1,2],[1,5,4]]) \r\n",
        "print(A)"
      ],
      "execution_count": 101,
      "outputs": [
        {
          "output_type": "stream",
          "text": [
            "[[ 3 -1  2]\n",
            " [ 1  5  4]]\n"
          ],
          "name": "stdout"
        }
      ]
    },
    {
      "cell_type": "code",
      "metadata": {
        "id": "87Kz4Lvf2yyH",
        "colab": {
          "base_uri": "https://localhost:8080/"
        },
        "outputId": "cc1cb80f-ba48-4c43-d9df-c8742daa0c8a"
      },
      "source": [
        "A.T # การใส่ .T เพื่อ ทำให้เป็นเมทริกซ์"
      ],
      "execution_count": 102,
      "outputs": [
        {
          "output_type": "execute_result",
          "data": {
            "text/plain": [
              "array([[ 3,  1],\n",
              "       [-1,  5],\n",
              "       [ 2,  4]])"
            ]
          },
          "metadata": {
            "tags": []
          },
          "execution_count": 102
        }
      ]
    },
    {
      "cell_type": "markdown",
      "metadata": {
        "id": "G7c_7prz3KpR"
      },
      "source": [
        "##Matrix Multiply\r\n",
        "\r\n",
        "B=A∗A′  #$ใช้เพื่อทำให้เอียง"
      ]
    },
    {
      "cell_type": "code",
      "metadata": {
        "id": "xmrgJAJN3agG",
        "colab": {
          "base_uri": "https://localhost:8080/"
        },
        "outputId": "df660c06-8667-49cf-e072-ec9d7157f256"
      },
      "source": [
        "B = np.dot(A,A.T) # การคูณเมทริกซ์\r\n",
        "print(B)"
      ],
      "execution_count": 103,
      "outputs": [
        {
          "output_type": "stream",
          "text": [
            "[[14  6]\n",
            " [ 6 42]]\n"
          ],
          "name": "stdout"
        }
      ]
    },
    {
      "cell_type": "markdown",
      "metadata": {
        "id": "FjgAizoM3DUm"
      },
      "source": [
        "## Determinant\r\n",
        "\r\n",
        "Det(B)"
      ]
    },
    {
      "cell_type": "code",
      "metadata": {
        "id": "TnyViWET3-oX",
        "colab": {
          "base_uri": "https://localhost:8080/"
        },
        "outputId": "192d1351-d8f4-4eec-bc85-dc250e23791f"
      },
      "source": [
        "np.linalg.det(B)     #linalg = linear algorithm  การหา Det(B)"
      ],
      "execution_count": 104,
      "outputs": [
        {
          "output_type": "execute_result",
          "data": {
            "text/plain": [
              "551.9999999999998"
            ]
          },
          "metadata": {
            "tags": []
          },
          "execution_count": 104
        }
      ]
    },
    {
      "cell_type": "markdown",
      "metadata": {
        "id": "gokaOqEs4D1E"
      },
      "source": [
        "matrix algebra เพิ่มเติม พีชคณิต"
      ]
    },
    {
      "cell_type": "code",
      "metadata": {
        "id": "ViJzJNy64JTY"
      },
      "source": [
        ""
      ],
      "execution_count": null,
      "outputs": []
    },
    {
      "cell_type": "code",
      "metadata": {
        "id": "WZqZ9qVhYWsW",
        "colab": {
          "base_uri": "https://localhost:8080/",
          "height": 282
        },
        "outputId": "58518f30-a064-4209-c8cf-d1916732476f"
      },
      "source": [
        " plt.plot((vector_b[0,0],vector_b[1,0],'or'))"
      ],
      "execution_count": 105,
      "outputs": [
        {
          "output_type": "execute_result",
          "data": {
            "text/plain": [
              "[<matplotlib.lines.Line2D at 0x7f66d111bc10>]"
            ]
          },
          "metadata": {
            "tags": []
          },
          "execution_count": 105
        },
        {
          "output_type": "display_data",
          "data": {
            "image/png": "[encoded data removed]",
            "text/plain": [
              "<Figure size 432x288 with 1 Axes>"
            ]
          },
          "metadata": {
            "tags": [],
            "needs_background": "light"
          }
        }
      ]
    },
    {
      "cell_type": "code",
      "metadata": {
        "id": "riMfWFw33YgH",
        "colab": {
          "base_uri": "https://localhost:8080/",
          "height": 282
        },
        "outputId": "86324572-6cb6-4b29-da9c-4a2bf885434e"
      },
      "source": [
        "plt.plot([0,1],[0,1],'-r') #plot(ค่าx,ค่าy,หน้าตาของจุด) vector[1,1]\r\n",
        "plt.plot(0,0,'.b')\r\n",
        "plt.plot([0,0],[-1,5],'^:k')\r\n",
        "plt.plot([-1.5,2.5],[0,0],'>:k')"
      ],
      "execution_count": 106,
      "outputs": [
        {
          "output_type": "execute_result",
          "data": {
            "text/plain": [
              "[<matplotlib.lines.Line2D at 0x7f66d10d5f90>]"
            ]
          },
          "metadata": {
            "tags": []
          },
          "execution_count": 106
        },
        {
          "output_type": "display_data",
          "data": {
            "image/png": "[encoded data removed]",
            "text/plain": [
              "<Figure size 432x288 with 1 Axes>"
            ]
          },
          "metadata": {
            "tags": [],
            "needs_background": "light"
          }
        }
      ]
    },
    {
      "cell_type": "code",
      "metadata": {
        "id": "burPF2HZ4O3b",
        "colab": {
          "base_uri": "https://localhost:8080/"
        },
        "outputId": "a3d2a3e6-1ab5-4a07-a222-f1b7c005ee50"
      },
      "source": [
        "B = np.array([[1,2],[3,4]]) # การสร้างเมทริกซ์\r\n",
        "B"
      ],
      "execution_count": 107,
      "outputs": [
        {
          "output_type": "execute_result",
          "data": {
            "text/plain": [
              "array([[1, 2],\n",
              "       [3, 4]])"
            ]
          },
          "metadata": {
            "tags": []
          },
          "execution_count": 107
        }
      ]
    },
    {
      "cell_type": "markdown",
      "metadata": {
        "id": "ICPOAPao4Ur7"
      },
      "source": [
        "การคูณ Matrix ( B.v ) คือ การทำ linear transformation"
      ]
    },
    {
      "cell_type": "code",
      "metadata": {
        "id": "QYXrly294Ztr",
        "colab": {
          "base_uri": "https://localhost:8080/"
        },
        "outputId": "22d39cea-350f-4b34-85e2-47ae294911ae"
      },
      "source": [
        "Bv = np.dot(B,np.array([[1],[1]])) # การคูณเวกเตอร์\r\n",
        "Bv"
      ],
      "execution_count": 108,
      "outputs": [
        {
          "output_type": "execute_result",
          "data": {
            "text/plain": [
              "array([[3],\n",
              "       [7]])"
            ]
          },
          "metadata": {
            "tags": []
          },
          "execution_count": 108
        }
      ]
    },
    {
      "cell_type": "code",
      "metadata": {
        "id": "Rx9rM6j34e0k",
        "colab": {
          "base_uri": "https://localhost:8080/",
          "height": 282
        },
        "outputId": "65504486-7279-44f7-eb41-710557012293"
      },
      "source": [
        "plt.plot([0,Bv[0,0]],[0,Bv[1,0]],'-g')  # การเเปลงเชิงเส้น  ## vector Bv\r\n",
        "plt.plot([0,1],[0,1],'-r') #plot(ค่าx,ค่าy,หน้าตาของจุด) vector[1,1]\r\n",
        "plt.plot(0,0,'.b')\r\n",
        "plt.plot([0,0],[-1,5],'^:k')\r\n",
        "plt.plot([-1.5,2.5],[0,0],'>:k')"
      ],
      "execution_count": 109,
      "outputs": [
        {
          "output_type": "execute_result",
          "data": {
            "text/plain": [
              "[<matplotlib.lines.Line2D at 0x7f66d10a44d0>]"
            ]
          },
          "metadata": {
            "tags": []
          },
          "execution_count": 109
        },
        {
          "output_type": "display_data",
          "data": {
            "image/png": "[encoded data removed]",
            "text/plain": [
              "<Figure size 432x288 with 1 Axes>"
            ]
          },
          "metadata": {
            "tags": [],
            "needs_background": "light"
          }
        }
      ]
    },
    {
      "cell_type": "markdown",
      "metadata": {
        "id": "usi0O4Rj4kCz"
      },
      "source": [
        "Determinant ของ Matrix ( Det(B) ) คือ พื้นที่ของ unit vector ที่ถูกเปลี่ยนไป โดย Matrix นั้นๆ"
      ]
    },
    {
      "cell_type": "code",
      "metadata": {
        "id": "oYsG-L_a4oX6",
        "colab": {
          "base_uri": "https://localhost:8080/",
          "height": 282
        },
        "outputId": "06e8bd77-d874-42ed-d1c8-fcedf4c284de"
      },
      "source": [
        "plt.plot([0,Bv[0,0]],[0,Bv[1,0]],'-g')  # การเเปลงเชิงเส้น  ## vector Bv\r\n",
        "plt.plot([1,1],[1,0],':r') ##วาดจุดไข่ปลา พื้นที่ของ v\r\n",
        "plt.plot([1,0],[1,1],':r') ##วาดจุดไข่ปลา พื้นที่ของ v\r\n",
        "plt.plot([3,3],[7,0],':g') ##วาดจุดไข่ปลา พื้นที่ของ Bv\r\n",
        "plt.plot([3,0],[7,7],':g') ##วาดจุดไข่ปลา พื้นที่ของ Bv\r\n",
        "plt.plot([0,1],[0,1],'-r') #plot(ค่าx,ค่าy,หน้าตาของจุด) vector[1,1]\r\n",
        "plt.plot(0,0,'.b')\r\n",
        "plt.plot([0,0],[-1,8],'^:k')\r\n",
        "plt.plot([-1.5,3.5],[0,0],'>:k')"
      ],
      "execution_count": 110,
      "outputs": [
        {
          "output_type": "execute_result",
          "data": {
            "text/plain": [
              "[<matplotlib.lines.Line2D at 0x7f66d102a950>]"
            ]
          },
          "metadata": {
            "tags": []
          },
          "execution_count": 110
        },
        {
          "output_type": "display_data",
          "data": {
            "image/png": "[encoded data removed]",
            "text/plain": [
              "<Figure size 432x288 with 1 Axes>"
            ]
          },
          "metadata": {
            "tags": [],
            "needs_background": "light"
          }
        }
      ]
    },
    {
      "cell_type": "markdown",
      "metadata": {
        "id": "GbSxMSY44tsT"
      },
      "source": [
        "Identity matrix (I) คูณกับเมทริกซ์ตัวไหนก็ได้ตัวเดิม\r\n",
        "\r\n",
        "ฺBI=B=IB"
      ]
    },
    {
      "cell_type": "code",
      "metadata": {
        "id": "6hGrOPne4ytS"
      },
      "source": [
        "iden2 = np.identity(2) #สร้างidentity matrix"
      ],
      "execution_count": 111,
      "outputs": []
    },
    {
      "cell_type": "code",
      "metadata": {
        "id": "iccM8S4Z43fC",
        "colab": {
          "base_uri": "https://localhost:8080/"
        },
        "outputId": "ba2c846c-84ef-4a66-9608-4daa2fdca6db"
      },
      "source": [
        "B "
      ],
      "execution_count": 112,
      "outputs": [
        {
          "output_type": "execute_result",
          "data": {
            "text/plain": [
              "array([[1, 2],\n",
              "       [3, 4]])"
            ]
          },
          "metadata": {
            "tags": []
          },
          "execution_count": 112
        }
      ]
    },
    {
      "cell_type": "code",
      "metadata": {
        "id": "n0caASSO464a",
        "colab": {
          "base_uri": "https://localhost:8080/"
        },
        "outputId": "ae9bccfd-ca6d-4395-e0bb-9d5d518fe288"
      },
      "source": [
        "np.dot(B,iden2) # เลขเหมือนเดิมเเค่เปลี่ยนมาเป็น float"
      ],
      "execution_count": 113,
      "outputs": [
        {
          "output_type": "execute_result",
          "data": {
            "text/plain": [
              "array([[1., 2.],\n",
              "       [3., 4.]])"
            ]
          },
          "metadata": {
            "tags": []
          },
          "execution_count": 113
        }
      ]
    },
    {
      "cell_type": "code",
      "metadata": {
        "id": "QWw1vw6n4-r8",
        "colab": {
          "base_uri": "https://localhost:8080/"
        },
        "outputId": "b3859eb1-e177-45ed-dc55-8fd543109ab7"
      },
      "source": [
        "np.dot(iden2,B) # สลับการคูณเเต่ก็เหมือนเดิม"
      ],
      "execution_count": 114,
      "outputs": [
        {
          "output_type": "execute_result",
          "data": {
            "text/plain": [
              "array([[1., 2.],\n",
              "       [3., 4.]])"
            ]
          },
          "metadata": {
            "tags": []
          },
          "execution_count": 114
        }
      ]
    },
    {
      "cell_type": "code",
      "metadata": {
        "id": "_dTm-wjZ5DKd",
        "colab": {
          "base_uri": "https://localhost:8080/"
        },
        "outputId": "b14b3e11-837b-44da-864f-ee01884b7b8a"
      },
      "source": [
        "C = np.array([[-1,2],[2,4]]) #สร้างเมทริกซ์ C\r\n",
        "C"
      ],
      "execution_count": 115,
      "outputs": [
        {
          "output_type": "execute_result",
          "data": {
            "text/plain": [
              "array([[-1,  2],\n",
              "       [ 2,  4]])"
            ]
          },
          "metadata": {
            "tags": []
          },
          "execution_count": 115
        }
      ]
    },
    {
      "cell_type": "code",
      "metadata": {
        "id": "Hsl-NVZb5QbY",
        "colab": {
          "base_uri": "https://localhost:8080/"
        },
        "outputId": "34860834-b515-4d89-8524-50c2c19ef753"
      },
      "source": [
        "np.dot(B,C)  # ตัวต่างกันก็จะผลลัพธ์เมื่อสลับที่ต่างกัน"
      ],
      "execution_count": 116,
      "outputs": [
        {
          "output_type": "execute_result",
          "data": {
            "text/plain": [
              "array([[ 3, 10],\n",
              "       [ 5, 22]])"
            ]
          },
          "metadata": {
            "tags": []
          },
          "execution_count": 116
        }
      ]
    },
    {
      "cell_type": "code",
      "metadata": {
        "id": "uKO_DLvL5VN3",
        "colab": {
          "base_uri": "https://localhost:8080/"
        },
        "outputId": "f5a1c3c2-c9ad-4806-9904-707918f63413"
      },
      "source": [
        "np.dot(C,B) # ตัวต่างกันก็จะผลลัพธ์เมื่อสลับที่ต่างกัน"
      ],
      "execution_count": 117,
      "outputs": [
        {
          "output_type": "execute_result",
          "data": {
            "text/plain": [
              "array([[ 5,  6],\n",
              "       [14, 20]])"
            ]
          },
          "metadata": {
            "tags": []
          },
          "execution_count": 117
        }
      ]
    },
    {
      "cell_type": "markdown",
      "metadata": {
        "id": "q9UnJRL75nWf"
      },
      "source": [
        "การบ้านในห้อง (Quiz 1- commit:quiz 1feb21)หา\r\n",
        "\r\n",
        "![download (8).png](data:image/png;base64,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)"
      ]
    },
    {
      "cell_type": "code",
      "metadata": {
        "id": "KAZB5Eww5z8v",
        "colab": {
          "base_uri": "https://localhost:8080/"
        },
        "outputId": "95765639-6d0c-4168-e79a-98dc640e77ae"
      },
      "source": [
        "D = np.array([[3,1,6],[7,4,5],[2,-7,1]])\r\n",
        "D"
      ],
      "execution_count": 118,
      "outputs": [
        {
          "output_type": "execute_result",
          "data": {
            "text/plain": [
              "array([[ 3,  1,  6],\n",
              "       [ 7,  4,  5],\n",
              "       [ 2, -7,  1]])"
            ]
          },
          "metadata": {
            "tags": []
          },
          "execution_count": 118
        }
      ]
    },
    {
      "cell_type": "code",
      "metadata": {
        "id": "T7gZbEbzdGDe",
        "colab": {
          "base_uri": "https://localhost:8080/"
        },
        "outputId": "a854953e-245d-4af8-9b55-6c426cd1b287"
      },
      "source": [
        "np.linalg.det(D)"
      ],
      "execution_count": 119,
      "outputs": [
        {
          "output_type": "execute_result",
          "data": {
            "text/plain": [
              "-221.99999999999997"
            ]
          },
          "metadata": {
            "tags": []
          },
          "execution_count": 119
        }
      ]
    },
    {
      "cell_type": "markdown",
      "metadata": {
        "id": "GslpLBRkdYEw"
      },
      "source": [
        "Eigen value กับ Eigen vector\r\n",
        "\r\n",
        "    Eigen value ( λ )->  |A−λI|=0  ##  latex \r\n",
        "\r\n",
        "    Eigen vector( x ) ->  Ax=λx"
      ]
    },
    {
      "cell_type": "markdown",
      "metadata": {
        "id": "H-u_E3L_6Jom"
      },
      "source": [
        "Hw 5 หา Eigen value กับ Eigen vector ของ\r\n",
        "\r\n",
        "![download (10).png](data:image/png;base64,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)"
      ]
    },
    {
      "cell_type": "code",
      "metadata": {
        "id": "W_coeFOcgZun",
        "colab": {
          "base_uri": "https://localhost:8080/"
        },
        "outputId": "29491388-c14a-4b49-b195-80b362c22ace"
      },
      "source": [
        "A = np.array([[1,0],[1,3]])\r\n",
        "A"
      ],
      "execution_count": 120,
      "outputs": [
        {
          "output_type": "execute_result",
          "data": {
            "text/plain": [
              "array([[1, 0],\n",
              "       [1, 3]])"
            ]
          },
          "metadata": {
            "tags": []
          },
          "execution_count": 120
        }
      ]
    },
    {
      "cell_type": "code",
      "metadata": {
        "id": "zueZJcAGgkxc",
        "colab": {
          "base_uri": "https://localhost:8080/"
        },
        "outputId": "601cea67-94ae-4653-e42a-b89ec40bbcf9"
      },
      "source": [
        "W,V = np.linalg.eig(A)\r\n",
        "print(W)\r\n",
        "print(V) #ได้ออกมาเป็น numpy array ขนาด 2*2"
      ],
      "execution_count": 121,
      "outputs": [
        {
          "output_type": "stream",
          "text": [
            "[3. 1.]\n",
            "[[ 0.          0.89442719]\n",
            " [ 1.         -0.4472136 ]]\n"
          ],
          "name": "stdout"
        }
      ]
    },
    {
      "cell_type": "code",
      "metadata": {
        "id": "96MnNx2GgtJT",
        "colab": {
          "base_uri": "https://localhost:8080/"
        },
        "outputId": "c209e96b-68b2-44cc-929d-8fa7cc7c3be3"
      },
      "source": [
        "np.linalg.eigvals(A)"
      ],
      "execution_count": 122,
      "outputs": [
        {
          "output_type": "execute_result",
          "data": {
            "text/plain": [
              "array([3., 1.])"
            ]
          },
          "metadata": {
            "tags": []
          },
          "execution_count": 122
        }
      ]
    },
    {
      "cell_type": "code",
      "metadata": {
        "id": "yb1DKzaPh0-B",
        "colab": {
          "base_uri": "https://localhost:8080/"
        },
        "outputId": "be16c2d9-0f7a-4bba-9e84-82ef17247d7a"
      },
      "source": [
        "print(f'eight value = {W[0]} มี eigen vector คือ {V[:,0]}')"
      ],
      "execution_count": 123,
      "outputs": [
        {
          "output_type": "stream",
          "text": [
            "eight value = 3.0 มี eigen vector คือ [0. 1.]\n"
          ],
          "name": "stdout"
        }
      ]
    },
    {
      "cell_type": "markdown",
      "metadata": {
        "id": "ZPBGSAG2hnav"
      },
      "source": [
        "eigen vectors and eigen values of covarience matrix of data\r\n",
        "\r\n",
        "จากรูป มีจุดข้อมูล 16 จุด และมี attribute 2 มิติ เราจะสร้างเป็น datamatrix ที่มีรูปร่าง(shape) ? = (2,16) ตัวนี้ยังเอามาคำนวณเป็น eigen ไม่ได้ เพราะแถวกับหลักยังไม่เท่ากัน \r\n",
        "\r\n",
        "![รูปเหมือนชีวะ.png](data:image/png;base64,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)"
      ]
    },
    {
      "cell_type": "markdown",
      "metadata": {
        "id": "VudjcJmB6l25"
      },
      "source": [
        "Eigen value -> ( λ 1) = 3 เเละ ( λ 2) = 1\r\n",
        "\r\n",
        "Eigen vector -> ได้เป็น ( x ) ของ ( λ 1) มีค่าเท่ากับ [0,1]\r\n",
        "\r\n",
        "เเละ ( λ 2) = 1 มีค่าเท่ากับ [0.89442719,-0.4472136]"
      ]
    },
    {
      "cell_type": "markdown",
      "metadata": {
        "id": "D-cScM417Lnj"
      },
      "source": [
        "eigen vectors and eigen values od covarience matrix of data จากรูป มีจุดข้อมูล 16 จุด เเละมี attribute 2 มิติ เราจะสร้างเป็น data matrix ที่มีรูปร่าง(shape) ? = (2,16"
      ]
    },
    {
      "cell_type": "code",
      "metadata": {
        "id": "7815KDQJ7QqM",
        "colab": {
          "base_uri": "https://localhost:8080/"
        },
        "outputId": "70b60529-b878-4f79-bf35-5a3e41019184"
      },
      "source": [
        "X = np.array([[1,2,-3,4],[4,5,-3,2]])  # มี X ทั้งหมด 4 จุด\r\n",
        "print(f'data X =\\n {X}')\r\n",
        "C_X = np.cov(X)\r\n",
        "print(f'Covarience ของ X คือ \\n {C_X}') # Cov อธิบายการกระจายของ data"
      ],
      "execution_count": 124,
      "outputs": [
        {
          "output_type": "stream",
          "text": [
            "data X =\n",
            " [[ 1  2 -3  4]\n",
            " [ 4  5 -3  2]]\n",
            "Covarience ของ X คือ \n",
            " [[ 8.66666667  7.66666667]\n",
            " [ 7.66666667 12.66666667]]\n"
          ],
          "name": "stdout"
        }
      ]
    },
    {
      "cell_type": "code",
      "metadata": {
        "id": "m14PEsb97Vci",
        "colab": {
          "base_uri": "https://localhost:8080/"
        },
        "outputId": "f766eb06-8778-4b75-f017-aeccf7d74a08"
      },
      "source": [
        "W,V = np.linalg.eig(C_X)\r\n",
        "W"
      ],
      "execution_count": 125,
      "outputs": [
        {
          "output_type": "execute_result",
          "data": {
            "text/plain": [
              "array([ 2.74342378, 18.58990955])"
            ]
          },
          "metadata": {
            "tags": []
          },
          "execution_count": 125
        }
      ]
    },
    {
      "cell_type": "code",
      "metadata": {
        "id": "Fjiy8C8o7Yx7",
        "colab": {
          "base_uri": "https://localhost:8080/"
        },
        "outputId": "1f68b7ac-9011-4e17-9fe7-be9412594fc2"
      },
      "source": [
        "print(W[1])\r\n",
        "print(V[:,1])"
      ],
      "execution_count": 126,
      "outputs": [
        {
          "output_type": "stream",
          "text": [
            "18.589909549336475\n",
            "[-0.6113829  -0.79133492]\n"
          ],
          "name": "stdout"
        }
      ]
    },
    {
      "cell_type": "code",
      "metadata": {
        "id": "xaIYOTDv7dZD",
        "colab": {
          "base_uri": "https://localhost:8080/",
          "height": 282
        },
        "outputId": "46bf7887-3292-453b-ff48-4709f3171c01"
      },
      "source": [
        "plt.plot(X[0,:],X[1,:],'or') # มี X ทั้งหมด 4 จุด\r\n",
        "plt.plot([0,3*V[0,1]],[0,3*V[1,1]],'<-b')  #ลากเส้นน้ำเงิร เป็น eigen vector"
      ],
      "execution_count": 127,
      "outputs": [
        {
          "output_type": "execute_result",
          "data": {
            "text/plain": [
              "[<matplotlib.lines.Line2D at 0x7f66d0f26b90>]"
            ]
          },
          "metadata": {
            "tags": []
          },
          "execution_count": 127
        },
        {
          "output_type": "display_data",
          "data": {
            "image/png": "[encoded data removed]",
            "text/plain": [
              "<Figure size 432x288 with 1 Axes>"
            ]
          },
          "metadata": {
            "tags": [],
            "needs_background": "light"
          }
        }
      ]
    },
    {
      "cell_type": "markdown",
      "metadata": {
        "id": "VJw5hlGU7h4b"
      },
      "source": [
        "### Inverse Matrix\r\n",
        "\r\n",
        "inverse ของ $A$ เขียน  $A^{-1}$  นิยาม  $A∗A^{-1} = I = A^{-1}∗A$\r\n"
      ]
    },
    {
      "cell_type": "code",
      "metadata": {
        "id": "OHhHisld7liC",
        "colab": {
          "base_uri": "https://localhost:8080/"
        },
        "outputId": "9653ce72-c1ce-4f8b-c949-1e361b342773"
      },
      "source": [
        "inv_C_X = np.linalg.inv(C_X) # inverse ของ C_X\r\n",
        "print(inv_C_X)"
      ],
      "execution_count": 128,
      "outputs": [
        {
          "output_type": "stream",
          "text": [
            "[[ 0.24836601 -0.1503268 ]\n",
            " [-0.1503268   0.16993464]]\n"
          ],
          "name": "stdout"
        }
      ]
    },
    {
      "cell_type": "markdown",
      "metadata": {
        "id": "Ta2osWTt7tMK"
      },
      "source": [
        "ตรวจสอบ"
      ]
    },
    {
      "cell_type": "code",
      "metadata": {
        "id": "vK49L7Zz7xBj",
        "colab": {
          "base_uri": "https://localhost:8080/"
        },
        "outputId": "d84a15de-ced7-42e5-d4ee-34264036e12f"
      },
      "source": [
        "np.dot(C_X,inv_C_X)  # ก็จะออกมาเป็นเมทริกซ์เอกลักษณ์"
      ],
      "execution_count": 129,
      "outputs": [
        {
          "output_type": "execute_result",
          "data": {
            "text/plain": [
              "array([[1.00000000e+00, 2.23193529e-16],\n",
              "       [1.26018779e-16, 1.00000000e+00]])"
            ]
          },
          "metadata": {
            "tags": []
          },
          "execution_count": 129
        }
      ]
    },
    {
      "cell_type": "code",
      "metadata": {
        "id": "Pr5a9qpa70af",
        "colab": {
          "base_uri": "https://localhost:8080/"
        },
        "outputId": "02f92638-92db-40c2-d635-aaabdd653132"
      },
      "source": [
        "np.dot(inv_C_X,C_X) # ลองสลับก็จะได้ค่าเท่าเดิม"
      ],
      "execution_count": 130,
      "outputs": [
        {
          "output_type": "execute_result",
          "data": {
            "text/plain": [
              "array([[1.00000000e+00, 1.26018779e-16],\n",
              "       [2.23193529e-16, 1.00000000e+00]])"
            ]
          },
          "metadata": {
            "tags": []
          },
          "execution_count": 130
        }
      ]
    },
    {
      "cell_type": "code",
      "metadata": {
        "id": "VzncPfA275e5",
        "colab": {
          "base_uri": "https://localhost:8080/"
        },
        "outputId": "80f361f1-972e-4ce2-8daf-0b93780d4fb8"
      },
      "source": [
        "np.linalg.inv(inv_C_X) # ก็จะออกมาเป็นตัวเดิมของก่อน inverse"
      ],
      "execution_count": 131,
      "outputs": [
        {
          "output_type": "execute_result",
          "data": {
            "text/plain": [
              "array([[ 8.66666667,  7.66666667],\n",
              "       [ 7.66666667, 12.66666667]])"
            ]
          },
          "metadata": {
            "tags": []
          },
          "execution_count": 131
        }
      ]
    },
    {
      "cell_type": "markdown",
      "metadata": {
        "id": "VSRqNi3t91Rw"
      },
      "source": [
        "## การ load data"
      ]
    },
    {
      "cell_type": "code",
      "metadata": {
        "id": "_PZs-d8l8GWw"
      },
      "source": [
        "import pandas as pd #เปลี่ยนชื่อให้pandas เป็น pd"
      ],
      "execution_count": 137,
      "outputs": []
    },
    {
      "cell_type": "code",
      "metadata": {
        "id": "vfwCviBQ8Sph",
        "outputId": "f3eaa706-17ea-49b5-b09b-649f111caa88",
        "colab": {
          "base_uri": "https://localhost:8080/",
          "height": 1000
        }
      },
      "source": [
        "pollution_data = pd.read_csv('/content/pollution.txt',sep='\\t') #('ที่อยู่ของไฟล์ คือ copy path',seperater คือการเเบ่งข้อมูล เเบ่งโดนtabs(\\t)) #\\t+ คือใช้ tab เเบ่งข้อมูล \\s+ คือใช้space เเบ่งข้อมูล\r\n",
        "pollution_data"
      ],
      "execution_count": 138,
      "outputs": [
        {
          "output_type": "execute_result",
          "data": {
            "text/html": [
              "<div>\n",
              "<style scoped>\n",
              "    .dataframe tbody tr th:only-of-type {\n",
              "        vertical-align: middle;\n",
              "    }\n",
              "\n",
              "    .dataframe tbody tr th {\n",
              "        vertical-align: top;\n",
              "    }\n",
              "\n",
              "    .dataframe thead th {\n",
              "        text-align: right;\n",
              "    }\n",
              "</style>\n",
              "<table border=\"1\" class=\"dataframe\">\n",
              "  <thead>\n",
              "    <tr style=\"text-align: right;\">\n",
              "      <th></th>\n",
              "      <th>City</th>\n",
              "      <th>SO2</th>\n",
              "      <th>Temp</th>\n",
              "      <th>Man</th>\n",
              "      <th>Pop</th>\n",
              "      <th>Wind</th>\n",
              "      <th>Rain</th>\n",
              "      <th>RainDays</th>\n",
              "    </tr>\n",
              "  </thead>\n",
              "  <tbody>\n",
              "    <tr>\n",
              "      <th>0</th>\n",
              "      <td>Phoenix</td>\n",
              "      <td>10</td>\n",
              "      <td>70.3</td>\n",
              "      <td>213</td>\n",
              "      <td>582</td>\n",
              "      <td>6.0</td>\n",
              "      <td>7.05</td>\n",
              "      <td>36</td>\n",
              "    </tr>\n",
              "    <tr>\n",
              "      <th>1</th>\n",
              "      <td>Little Rock</td>\n",
              "      <td>13</td>\n",
              "      <td>61.0</td>\n",
              "      <td>91</td>\n",
              "      <td>132</td>\n",
              "      <td>8.2</td>\n",
              "      <td>48.52</td>\n",
              "      <td>100</td>\n",
              "    </tr>\n",
              "    <tr>\n",
              "      <th>2</th>\n",
              "      <td>San Francisco</td>\n",
              "      <td>12</td>\n",
              "      <td>56.7</td>\n",
              "      <td>453</td>\n",
              "      <td>716</td>\n",
              "      <td>8.7</td>\n",
              "      <td>20.66</td>\n",
              "      <td>67</td>\n",
              "    </tr>\n",
              "    <tr>\n",
              "      <th>3</th>\n",
              "      <td>Denver</td>\n",
              "      <td>17</td>\n",
              "      <td>51.9</td>\n",
              "      <td>454</td>\n",
              "      <td>515</td>\n",
              "      <td>9.0</td>\n",
              "      <td>12.95</td>\n",
              "      <td>86</td>\n",
              "    </tr>\n",
              "    <tr>\n",
              "      <th>4</th>\n",
              "      <td>Hartford</td>\n",
              "      <td>56</td>\n",
              "      <td>49.1</td>\n",
              "      <td>412</td>\n",
              "      <td>158</td>\n",
              "      <td>9.0</td>\n",
              "      <td>43.37</td>\n",
              "      <td>127</td>\n",
              "    </tr>\n",
              "    <tr>\n",
              "      <th>5</th>\n",
              "      <td>Wilmington</td>\n",
              "      <td>36</td>\n",
              "      <td>54.0</td>\n",
              "      <td>80</td>\n",
              "      <td>80</td>\n",
              "      <td>9.0</td>\n",
              "      <td>40.25</td>\n",
              "      <td>114</td>\n",
              "    </tr>\n",
              "    <tr>\n",
              "      <th>6</th>\n",
              "      <td>Washington</td>\n",
              "      <td>29</td>\n",
              "      <td>57.3</td>\n",
              "      <td>434</td>\n",
              "      <td>757</td>\n",
              "      <td>9.3</td>\n",
              "      <td>38.89</td>\n",
              "      <td>111</td>\n",
              "    </tr>\n",
              "    <tr>\n",
              "      <th>7</th>\n",
              "      <td>Jacksonville</td>\n",
              "      <td>14</td>\n",
              "      <td>68.4</td>\n",
              "      <td>136</td>\n",
              "      <td>529</td>\n",
              "      <td>8.8</td>\n",
              "      <td>54.47</td>\n",
              "      <td>116</td>\n",
              "    </tr>\n",
              "    <tr>\n",
              "      <th>8</th>\n",
              "      <td>Miami</td>\n",
              "      <td>10</td>\n",
              "      <td>75.5</td>\n",
              "      <td>207</td>\n",
              "      <td>335</td>\n",
              "      <td>9.0</td>\n",
              "      <td>59.80</td>\n",
              "      <td>128</td>\n",
              "    </tr>\n",
              "    <tr>\n",
              "      <th>9</th>\n",
              "      <td>Atlanta</td>\n",
              "      <td>24</td>\n",
              "      <td>61.5</td>\n",
              "      <td>368</td>\n",
              "      <td>497</td>\n",
              "      <td>9.1</td>\n",
              "      <td>48.34</td>\n",
              "      <td>115</td>\n",
              "    </tr>\n",
              "    <tr>\n",
              "      <th>10</th>\n",
              "      <td>Chicago</td>\n",
              "      <td>110</td>\n",
              "      <td>50.6</td>\n",
              "      <td>3344</td>\n",
              "      <td>3369</td>\n",
              "      <td>10.4</td>\n",
              "      <td>34.44</td>\n",
              "      <td>122</td>\n",
              "    </tr>\n",
              "    <tr>\n",
              "      <th>11</th>\n",
              "      <td>Indianapolis</td>\n",
              "      <td>28</td>\n",
              "      <td>52.3</td>\n",
              "      <td>361</td>\n",
              "      <td>746</td>\n",
              "      <td>9.7</td>\n",
              "      <td>38.74</td>\n",
              "      <td>121</td>\n",
              "    </tr>\n",
              "    <tr>\n",
              "      <th>12</th>\n",
              "      <td>Des Moines</td>\n",
              "      <td>17</td>\n",
              "      <td>49.0</td>\n",
              "      <td>104</td>\n",
              "      <td>201</td>\n",
              "      <td>11.2</td>\n",
              "      <td>30.85</td>\n",
              "      <td>103</td>\n",
              "    </tr>\n",
              "    <tr>\n",
              "      <th>13</th>\n",
              "      <td>Wichita</td>\n",
              "      <td>8</td>\n",
              "      <td>56.6</td>\n",
              "      <td>125</td>\n",
              "      <td>277</td>\n",
              "      <td>12.7</td>\n",
              "      <td>30.58</td>\n",
              "      <td>82</td>\n",
              "    </tr>\n",
              "    <tr>\n",
              "      <th>14</th>\n",
              "      <td>Louisville</td>\n",
              "      <td>30</td>\n",
              "      <td>55.6</td>\n",
              "      <td>291</td>\n",
              "      <td>593</td>\n",
              "      <td>8.3</td>\n",
              "      <td>43.11</td>\n",
              "      <td>123</td>\n",
              "    </tr>\n",
              "    <tr>\n",
              "      <th>15</th>\n",
              "      <td>New Orleans</td>\n",
              "      <td>9</td>\n",
              "      <td>68.3</td>\n",
              "      <td>204</td>\n",
              "      <td>361</td>\n",
              "      <td>8.4</td>\n",
              "      <td>56.77</td>\n",
              "      <td>113</td>\n",
              "    </tr>\n",
              "    <tr>\n",
              "      <th>16</th>\n",
              "      <td>Baltimore</td>\n",
              "      <td>47</td>\n",
              "      <td>55.0</td>\n",
              "      <td>625</td>\n",
              "      <td>905</td>\n",
              "      <td>9.6</td>\n",
              "      <td>41.31</td>\n",
              "      <td>111</td>\n",
              "    </tr>\n",
              "    <tr>\n",
              "      <th>17</th>\n",
              "      <td>Detroit</td>\n",
              "      <td>35</td>\n",
              "      <td>49.9</td>\n",
              "      <td>1064</td>\n",
              "      <td>1513</td>\n",
              "      <td>10.1</td>\n",
              "      <td>30.96</td>\n",
              "      <td>129</td>\n",
              "    </tr>\n",
              "    <tr>\n",
              "      <th>18</th>\n",
              "      <td>Minn-St. Paul</td>\n",
              "      <td>29</td>\n",
              "      <td>43.5</td>\n",
              "      <td>699</td>\n",
              "      <td>744</td>\n",
              "      <td>10.6</td>\n",
              "      <td>25.94</td>\n",
              "      <td>137</td>\n",
              "    </tr>\n",
              "    <tr>\n",
              "      <th>19</th>\n",
              "      <td>Kansas City</td>\n",
              "      <td>14</td>\n",
              "      <td>54.5</td>\n",
              "      <td>381</td>\n",
              "      <td>507</td>\n",
              "      <td>10.0</td>\n",
              "      <td>37.00</td>\n",
              "      <td>99</td>\n",
              "    </tr>\n",
              "    <tr>\n",
              "      <th>20</th>\n",
              "      <td>St. Louis</td>\n",
              "      <td>56</td>\n",
              "      <td>55.9</td>\n",
              "      <td>775</td>\n",
              "      <td>622</td>\n",
              "      <td>9.5</td>\n",
              "      <td>35.89</td>\n",
              "      <td>105</td>\n",
              "    </tr>\n",
              "    <tr>\n",
              "      <th>21</th>\n",
              "      <td>Omaha</td>\n",
              "      <td>14</td>\n",
              "      <td>51.5</td>\n",
              "      <td>181</td>\n",
              "      <td>347</td>\n",
              "      <td>10.9</td>\n",
              "      <td>30.18</td>\n",
              "      <td>98</td>\n",
              "    </tr>\n",
              "    <tr>\n",
              "      <th>22</th>\n",
              "      <td>Albuquerque</td>\n",
              "      <td>11</td>\n",
              "      <td>56.8</td>\n",
              "      <td>46</td>\n",
              "      <td>244</td>\n",
              "      <td>8.9</td>\n",
              "      <td>7.77</td>\n",
              "      <td>58</td>\n",
              "    </tr>\n",
              "    <tr>\n",
              "      <th>23</th>\n",
              "      <td>Albany</td>\n",
              "      <td>46</td>\n",
              "      <td>47.6</td>\n",
              "      <td>44</td>\n",
              "      <td>116</td>\n",
              "      <td>8.8</td>\n",
              "      <td>33.36</td>\n",
              "      <td>135</td>\n",
              "    </tr>\n",
              "    <tr>\n",
              "      <th>24</th>\n",
              "      <td>Buffalo</td>\n",
              "      <td>11</td>\n",
              "      <td>47.1</td>\n",
              "      <td>391</td>\n",
              "      <td>463</td>\n",
              "      <td>12.4</td>\n",
              "      <td>36.11</td>\n",
              "      <td>166</td>\n",
              "    </tr>\n",
              "    <tr>\n",
              "      <th>25</th>\n",
              "      <td>Cincinnati</td>\n",
              "      <td>23</td>\n",
              "      <td>54.0</td>\n",
              "      <td>462</td>\n",
              "      <td>453</td>\n",
              "      <td>7.1</td>\n",
              "      <td>39.04</td>\n",
              "      <td>132</td>\n",
              "    </tr>\n",
              "    <tr>\n",
              "      <th>26</th>\n",
              "      <td>Cleveland</td>\n",
              "      <td>65</td>\n",
              "      <td>49.7</td>\n",
              "      <td>1007</td>\n",
              "      <td>751</td>\n",
              "      <td>10.9</td>\n",
              "      <td>34.99</td>\n",
              "      <td>155</td>\n",
              "    </tr>\n",
              "    <tr>\n",
              "      <th>27</th>\n",
              "      <td>Columbus</td>\n",
              "      <td>26</td>\n",
              "      <td>51.5</td>\n",
              "      <td>266</td>\n",
              "      <td>540</td>\n",
              "      <td>8.6</td>\n",
              "      <td>37.01</td>\n",
              "      <td>134</td>\n",
              "    </tr>\n",
              "    <tr>\n",
              "      <th>28</th>\n",
              "      <td>Philadelphia</td>\n",
              "      <td>69</td>\n",
              "      <td>54.6</td>\n",
              "      <td>1692</td>\n",
              "      <td>1950</td>\n",
              "      <td>9.6</td>\n",
              "      <td>39.93</td>\n",
              "      <td>115</td>\n",
              "    </tr>\n",
              "    <tr>\n",
              "      <th>29</th>\n",
              "      <td>Pittsburgh</td>\n",
              "      <td>61</td>\n",
              "      <td>50.4</td>\n",
              "      <td>347</td>\n",
              "      <td>520</td>\n",
              "      <td>9.4</td>\n",
              "      <td>36.22</td>\n",
              "      <td>147</td>\n",
              "    </tr>\n",
              "    <tr>\n",
              "      <th>30</th>\n",
              "      <td>Providence</td>\n",
              "      <td>94</td>\n",
              "      <td>50.0</td>\n",
              "      <td>343</td>\n",
              "      <td>179</td>\n",
              "      <td>10.6</td>\n",
              "      <td>42.75</td>\n",
              "      <td>125</td>\n",
              "    </tr>\n",
              "    <tr>\n",
              "      <th>31</th>\n",
              "      <td>Memphis</td>\n",
              "      <td>10</td>\n",
              "      <td>61.6</td>\n",
              "      <td>337</td>\n",
              "      <td>624</td>\n",
              "      <td>9.2</td>\n",
              "      <td>49.10</td>\n",
              "      <td>105</td>\n",
              "    </tr>\n",
              "    <tr>\n",
              "      <th>32</th>\n",
              "      <td>Nashville</td>\n",
              "      <td>18</td>\n",
              "      <td>59.4</td>\n",
              "      <td>275</td>\n",
              "      <td>448</td>\n",
              "      <td>7.9</td>\n",
              "      <td>46.00</td>\n",
              "      <td>119</td>\n",
              "    </tr>\n",
              "    <tr>\n",
              "      <th>33</th>\n",
              "      <td>Dallas</td>\n",
              "      <td>9</td>\n",
              "      <td>66.2</td>\n",
              "      <td>641</td>\n",
              "      <td>844</td>\n",
              "      <td>10.9</td>\n",
              "      <td>35.94</td>\n",
              "      <td>78</td>\n",
              "    </tr>\n",
              "    <tr>\n",
              "      <th>34</th>\n",
              "      <td>Houston</td>\n",
              "      <td>10</td>\n",
              "      <td>68.9</td>\n",
              "      <td>721</td>\n",
              "      <td>1233</td>\n",
              "      <td>10.8</td>\n",
              "      <td>48.19</td>\n",
              "      <td>103</td>\n",
              "    </tr>\n",
              "    <tr>\n",
              "      <th>35</th>\n",
              "      <td>Salt Lake City</td>\n",
              "      <td>28</td>\n",
              "      <td>51.0</td>\n",
              "      <td>137</td>\n",
              "      <td>176</td>\n",
              "      <td>8.7</td>\n",
              "      <td>15.17</td>\n",
              "      <td>89</td>\n",
              "    </tr>\n",
              "    <tr>\n",
              "      <th>36</th>\n",
              "      <td>Norfolk</td>\n",
              "      <td>31</td>\n",
              "      <td>59.3</td>\n",
              "      <td>96</td>\n",
              "      <td>308</td>\n",
              "      <td>10.6</td>\n",
              "      <td>44.68</td>\n",
              "      <td>116</td>\n",
              "    </tr>\n",
              "    <tr>\n",
              "      <th>37</th>\n",
              "      <td>Richmond</td>\n",
              "      <td>26</td>\n",
              "      <td>57.8</td>\n",
              "      <td>197</td>\n",
              "      <td>299</td>\n",
              "      <td>7.6</td>\n",
              "      <td>42.59</td>\n",
              "      <td>115</td>\n",
              "    </tr>\n",
              "    <tr>\n",
              "      <th>38</th>\n",
              "      <td>Seattle</td>\n",
              "      <td>29</td>\n",
              "      <td>51.1</td>\n",
              "      <td>379</td>\n",
              "      <td>531</td>\n",
              "      <td>9.4</td>\n",
              "      <td>38.79</td>\n",
              "      <td>164</td>\n",
              "    </tr>\n",
              "    <tr>\n",
              "      <th>39</th>\n",
              "      <td>Charleston</td>\n",
              "      <td>31</td>\n",
              "      <td>55.2</td>\n",
              "      <td>35</td>\n",
              "      <td>71</td>\n",
              "      <td>6.5</td>\n",
              "      <td>40.75</td>\n",
              "      <td>148</td>\n",
              "    </tr>\n",
              "    <tr>\n",
              "      <th>40</th>\n",
              "      <td>Milwaukee</td>\n",
              "      <td>16</td>\n",
              "      <td>45.7</td>\n",
              "      <td>569</td>\n",
              "      <td>717</td>\n",
              "      <td>11.8</td>\n",
              "      <td>29.07</td>\n",
              "      <td>123</td>\n",
              "    </tr>\n",
              "  </tbody>\n",
              "</table>\n",
              "</div>"
            ],
            "text/plain": [
              "              City  SO2  Temp   Man   Pop  Wind   Rain  RainDays\n",
              "0          Phoenix   10  70.3   213   582   6.0   7.05        36\n",
              "1      Little Rock   13  61.0    91   132   8.2  48.52       100\n",
              "2    San Francisco   12  56.7   453   716   8.7  20.66        67\n",
              "3           Denver   17  51.9   454   515   9.0  12.95        86\n",
              "4         Hartford   56  49.1   412   158   9.0  43.37       127\n",
              "5       Wilmington   36  54.0    80    80   9.0  40.25       114\n",
              "6       Washington   29  57.3   434   757   9.3  38.89       111\n",
              "7     Jacksonville   14  68.4   136   529   8.8  54.47       116\n",
              "8            Miami   10  75.5   207   335   9.0  59.80       128\n",
              "9          Atlanta   24  61.5   368   497   9.1  48.34       115\n",
              "10         Chicago  110  50.6  3344  3369  10.4  34.44       122\n",
              "11    Indianapolis   28  52.3   361   746   9.7  38.74       121\n",
              "12      Des Moines   17  49.0   104   201  11.2  30.85       103\n",
              "13         Wichita    8  56.6   125   277  12.7  30.58        82\n",
              "14      Louisville   30  55.6   291   593   8.3  43.11       123\n",
              "15     New Orleans    9  68.3   204   361   8.4  56.77       113\n",
              "16       Baltimore   47  55.0   625   905   9.6  41.31       111\n",
              "17         Detroit   35  49.9  1064  1513  10.1  30.96       129\n",
              "18   Minn-St. Paul   29  43.5   699   744  10.6  25.94       137\n",
              "19     Kansas City   14  54.5   381   507  10.0  37.00        99\n",
              "20       St. Louis   56  55.9   775   622   9.5  35.89       105\n",
              "21           Omaha   14  51.5   181   347  10.9  30.18        98\n",
              "22     Albuquerque   11  56.8    46   244   8.9   7.77        58\n",
              "23          Albany   46  47.6    44   116   8.8  33.36       135\n",
              "24         Buffalo   11  47.1   391   463  12.4  36.11       166\n",
              "25      Cincinnati   23  54.0   462   453   7.1  39.04       132\n",
              "26       Cleveland   65  49.7  1007   751  10.9  34.99       155\n",
              "27        Columbus   26  51.5   266   540   8.6  37.01       134\n",
              "28    Philadelphia   69  54.6  1692  1950   9.6  39.93       115\n",
              "29      Pittsburgh   61  50.4   347   520   9.4  36.22       147\n",
              "30      Providence   94  50.0   343   179  10.6  42.75       125\n",
              "31         Memphis   10  61.6   337   624   9.2  49.10       105\n",
              "32       Nashville   18  59.4   275   448   7.9  46.00       119\n",
              "33          Dallas    9  66.2   641   844  10.9  35.94        78\n",
              "34         Houston   10  68.9   721  1233  10.8  48.19       103\n",
              "35  Salt Lake City   28  51.0   137   176   8.7  15.17        89\n",
              "36         Norfolk   31  59.3    96   308  10.6  44.68       116\n",
              "37        Richmond   26  57.8   197   299   7.6  42.59       115\n",
              "38         Seattle   29  51.1   379   531   9.4  38.79       164\n",
              "39      Charleston   31  55.2    35    71   6.5  40.75       148\n",
              "40       Milwaukee   16  45.7   569   717  11.8  29.07       123"
            ]
          },
          "metadata": {
            "tags": []
          },
          "execution_count": 138
        }
      ]
    },
    {
      "cell_type": "markdown",
      "metadata": {
        "id": "B-A5Z9Ii8C3b"
      },
      "source": [
        ""
      ]
    }
  ]
}