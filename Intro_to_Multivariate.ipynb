{
  "nbformat": 4,
  "nbformat_minor": 0,
  "metadata": {
    "colab": {
      "name": "Intro to Multivariate.ipynb",
      "provenance": [],
      "authorship_tag": "ABX9TyNHlT+1000xfQqvoivCL25v",
      "include_colab_link": true
    },
    "kernelspec": {
      "name": "python3",
      "display_name": "Python 3"
    }
  },
  "cells": [
    {
      "cell_type": "markdown",
      "metadata": {
        "id": "view-in-github",
        "colab_type": "text"
      },
      "source": [
        "<a href=\"https://colab.research.google.com/github/ploybongkot/Multivariate/blob/main/Intro_to_Multivariate.ipynb\" target=\"_parent\"><img src=\"https://colab.research.google.com/assets/colab-badge.svg\" alt=\"Open In Colab\"/></a>"
      ]
    },
    {
      "cell_type": "markdown",
      "metadata": {
        "id": "9AX1ZIcsqOxa"
      },
      "source": [
        "พลอยบงกช แสงโทโพธิ์ ID 6230210514\r\n"
      ]
    },
    {
      "cell_type": "code",
      "metadata": {
        "id": "OHViYD7eqgro"
      },
      "source": [
        ""
      ],
      "execution_count": null,
      "outputs": []
    },
    {
      "cell_type": "code",
      "metadata": {
        "colab": {
          "base_uri": "https://localhost:8080/"
        },
        "id": "0LEdisWosYaQ",
        "outputId": "060ef84f-e877-4937-c26c-28506654d88c"
      },
      "source": [
        "print ('พลอยบงกช') #single quote (') ใช้ล้อมรอบข้อความ"
      ],
      "execution_count": 1,
      "outputs": [
        {
          "output_type": "stream",
          "text": [
            "พลอยบงกช\n"
          ],
          "name": "stdout"
        }
      ]
    }
  ]
}