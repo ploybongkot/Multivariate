{
  "nbformat": 4,
  "nbformat_minor": 0,
  "metadata": {
    "colab": {
      "name": "Multivariate Exam.ipynb",
      "provenance": [],
      "authorship_tag": "ABX9TyNM8QBiu3B4f+vWzxz4l7SI",
      "include_colab_link": true
    },
    "kernelspec": {
      "name": "python3",
      "display_name": "Python 3"
    },
    "language_info": {
      "name": "python"
    }
  },
  "cells": [
    {
      "cell_type": "markdown",
      "metadata": {
        "id": "view-in-github",
        "colab_type": "text"
      },
      "source": [
        "<a href=\"https://colab.research.google.com/github/ploybongkot/Multivariate/blob/main/Multivariate_Exam.ipynb\" target=\"_parent\"><img src=\"https://colab.research.google.com/assets/colab-badge.svg\" alt=\"Open In Colab\"/></a>"
      ]
    },
    {
      "cell_type": "markdown",
      "metadata": {
        "id": "udWQ5G9yUdUq"
      },
      "source": [
        "ให้นักศึกษาทำข้อสอบใน Colab Notebook นี้โดยกรอกข้อมูลของตัวเองใน cell ที่ 2 แล้วรัน cell ที่ 1 - 5 และเริ่มทำข้อสอบใน cell ที่ 6 เป็นต้นไป\n",
        "\n",
        "โดยโจทย์คือ\n",
        "\n",
        "1.ข้อมูลโจทย์ อยู่ใน ตัวแปร Data\n",
        "\n",
        "2.ทำ clustering แล้วทำ visualize ข้อมูลแบบ 2 มิติ\n",
        "\n",
        "3.ลด Dimension ของข้อมูลเหลือ 2 มิติ แล้วทำ clustering แล้ว visualize ข้อมูลแบบ 2 มิติ\n",
        "\n",
        "4.เปรียบเทียบความแตกต่างของผลข้อ 2. กับ ข้อ 3.\n",
        "\n",
        "5.เขียน comments อธิบายทุกขั้นตอน\n",
        "\n",
        "6.อัด video อธิบาย code ทุกๆขั้นตอนรวมถึงผลแล้วอัพลง youtube ในรูปแบบ unlist\n",
        "\n",
        "7.commit โดยใช้ชื่อ commit เป็น link youtube ที่อธิบาย code ในข้อ 6.\n",
        "\n",
        "\n",
        "กำหนดส่งวันที่ 2 พฤษภาคม 2564 (โดยให้มากรอกวันที่ commit ครั้งสุดท้ายใน sheet: https://docs.google.com/spreadsheets/d/1_qJwLDJVtOW1HxBcf_FHVc6UT4J_SOonuR6o3EEnVzw/edit?usp=sharing ช่อง Final)"
      ]
    },
    {
      "cell_type": "code",
      "metadata": {
        "id": "bFQfO_zKGaPF"
      },
      "source": [
        "from sklearn.datasets import make_blobs\n",
        "import random,math\n",
        "import numpy as np\n",
        "import pandas"
      ],
      "execution_count": 1,
      "outputs": []
    },
    {
      "cell_type": "code",
      "metadata": {
        "id": "eQo4vbo-IpBC"
      },
      "source": [
        "Name = 'พลอยบงกช แสงโทโพธิ์'\n",
        "ID = '6230210514'"
      ],
      "execution_count": 2,
      "outputs": []
    },
    {
      "cell_type": "code",
      "metadata": {
        "id": "qvr6MbuCI6jw"
      },
      "source": [
        "def DataGenerator(name,id):\n",
        "    random.seed(int(id[3:6]))\n",
        "    numfeat = random.randint(20,30)\n",
        "    ct = random.randint(len(name)-6,len(name))\n",
        "    \n",
        "    X, y = make_blobs(n_samples=10000, centers=ct, n_features=numfeat , random_state=int(id[3:6]))\n",
        "\n",
        "    print(f'{id[3:6]}:{numfeat}:{ct}')\n",
        "    X_t = (X[:,1]*2)+int(id[3])\n",
        "    X_t2 = (X[:,-1]*5)+int(id[4])\n",
        "\n",
        "    DT = np.append(X,X_t.reshape([10000,1]),axis=1)\n",
        "    DT = np.append(DT,X_t2.reshape([10000,1]),axis=1)\n",
        "    \n",
        "    return pandas.DataFrame(DT)"
      ],
      "execution_count": 3,
      "outputs": []
    },
    {
      "cell_type": "code",
      "metadata": {
        "colab": {
          "base_uri": "https://localhost:8080/"
        },
        "id": "DDQe-3M1I9xg",
        "outputId": "9c4968ab-970a-424c-ef3d-9c866d4bce86"
      },
      "source": [
        "Data = DataGenerator(Name,ID)"
      ],
      "execution_count": 4,
      "outputs": [
        {
          "output_type": "stream",
          "text": [
            "021:22:16\n"
          ],
          "name": "stdout"
        }
      ]
    },
    {
      "cell_type": "code",
      "metadata": {
        "colab": {
          "base_uri": "https://localhost:8080/",
          "height": 435
        },
        "id": "mpPPEUk-JvIQ",
        "outputId": "3e377106-3bd5-49ed-ea2c-dd45c4bd9199"
      },
      "source": [
        "Data"
      ],
      "execution_count": 5,
      "outputs": [
        {
          "output_type": "execute_result",
          "data": {
            "text/html": [
              "<div>\n",
              "<style scoped>\n",
              "    .dataframe tbody tr th:only-of-type {\n",
              "        vertical-align: middle;\n",
              "    }\n",
              "\n",
              "    .dataframe tbody tr th {\n",
              "        vertical-align: top;\n",
              "    }\n",
              "\n",
              "    .dataframe thead th {\n",
              "        text-align: right;\n",
              "    }\n",
              "</style>\n",
              "<table border=\"1\" class=\"dataframe\">\n",
              "  <thead>\n",
              "    <tr style=\"text-align: right;\">\n",
              "      <th></th>\n",
              "      <th>0</th>\n",
              "      <th>1</th>\n",
              "      <th>2</th>\n",
              "      <th>3</th>\n",
              "      <th>4</th>\n",
              "      <th>5</th>\n",
              "      <th>6</th>\n",
              "      <th>7</th>\n",
              "      <th>8</th>\n",
              "      <th>9</th>\n",
              "      <th>10</th>\n",
              "      <th>11</th>\n",
              "      <th>12</th>\n",
              "      <th>13</th>\n",
              "      <th>14</th>\n",
              "      <th>15</th>\n",
              "      <th>16</th>\n",
              "      <th>17</th>\n",
              "      <th>18</th>\n",
              "      <th>19</th>\n",
              "      <th>20</th>\n",
              "      <th>21</th>\n",
              "      <th>22</th>\n",
              "      <th>23</th>\n",
              "    </tr>\n",
              "  </thead>\n",
              "  <tbody>\n",
              "    <tr>\n",
              "      <th>0</th>\n",
              "      <td>1.039391</td>\n",
              "      <td>-2.387036</td>\n",
              "      <td>-3.497922</td>\n",
              "      <td>-5.328267</td>\n",
              "      <td>-8.678718</td>\n",
              "      <td>5.779481</td>\n",
              "      <td>4.693726</td>\n",
              "      <td>-9.039305</td>\n",
              "      <td>-6.856747</td>\n",
              "      <td>-3.051316</td>\n",
              "      <td>6.208178</td>\n",
              "      <td>-0.728674</td>\n",
              "      <td>-1.209568</td>\n",
              "      <td>-4.733171</td>\n",
              "      <td>0.827332</td>\n",
              "      <td>6.909030</td>\n",
              "      <td>10.460851</td>\n",
              "      <td>-7.759243</td>\n",
              "      <td>-0.127631</td>\n",
              "      <td>-9.629069</td>\n",
              "      <td>6.704932</td>\n",
              "      <td>3.139379</td>\n",
              "      <td>-4.774071</td>\n",
              "      <td>17.696893</td>\n",
              "    </tr>\n",
              "    <tr>\n",
              "      <th>1</th>\n",
              "      <td>-2.999958</td>\n",
              "      <td>-4.629015</td>\n",
              "      <td>-10.804170</td>\n",
              "      <td>7.985572</td>\n",
              "      <td>5.308159</td>\n",
              "      <td>8.399965</td>\n",
              "      <td>8.504110</td>\n",
              "      <td>-9.641025</td>\n",
              "      <td>5.591738</td>\n",
              "      <td>-8.668149</td>\n",
              "      <td>10.835163</td>\n",
              "      <td>4.685492</td>\n",
              "      <td>8.879597</td>\n",
              "      <td>6.214357</td>\n",
              "      <td>9.352480</td>\n",
              "      <td>4.336378</td>\n",
              "      <td>6.581569</td>\n",
              "      <td>-10.334358</td>\n",
              "      <td>2.683914</td>\n",
              "      <td>5.646710</td>\n",
              "      <td>6.793222</td>\n",
              "      <td>-11.571979</td>\n",
              "      <td>-9.258030</td>\n",
              "      <td>-55.859897</td>\n",
              "    </tr>\n",
              "    <tr>\n",
              "      <th>2</th>\n",
              "      <td>-2.283070</td>\n",
              "      <td>-3.935774</td>\n",
              "      <td>-8.418309</td>\n",
              "      <td>8.670313</td>\n",
              "      <td>9.549606</td>\n",
              "      <td>8.862807</td>\n",
              "      <td>8.557430</td>\n",
              "      <td>-9.420667</td>\n",
              "      <td>4.948781</td>\n",
              "      <td>-9.387406</td>\n",
              "      <td>9.019193</td>\n",
              "      <td>5.089031</td>\n",
              "      <td>8.126972</td>\n",
              "      <td>4.569491</td>\n",
              "      <td>8.980044</td>\n",
              "      <td>4.464475</td>\n",
              "      <td>6.643625</td>\n",
              "      <td>-11.016075</td>\n",
              "      <td>3.601535</td>\n",
              "      <td>8.752679</td>\n",
              "      <td>7.641445</td>\n",
              "      <td>-10.735928</td>\n",
              "      <td>-7.871548</td>\n",
              "      <td>-51.679641</td>\n",
              "    </tr>\n",
              "    <tr>\n",
              "      <th>3</th>\n",
              "      <td>-9.194473</td>\n",
              "      <td>-1.185524</td>\n",
              "      <td>-7.995901</td>\n",
              "      <td>-2.984028</td>\n",
              "      <td>7.249680</td>\n",
              "      <td>9.372627</td>\n",
              "      <td>-3.179537</td>\n",
              "      <td>-7.506007</td>\n",
              "      <td>7.405280</td>\n",
              "      <td>9.820167</td>\n",
              "      <td>-2.988439</td>\n",
              "      <td>-9.940277</td>\n",
              "      <td>-5.472871</td>\n",
              "      <td>7.402530</td>\n",
              "      <td>-9.224066</td>\n",
              "      <td>-3.228680</td>\n",
              "      <td>-4.187613</td>\n",
              "      <td>-6.418757</td>\n",
              "      <td>-7.754833</td>\n",
              "      <td>-10.555908</td>\n",
              "      <td>-7.064370</td>\n",
              "      <td>0.923576</td>\n",
              "      <td>-2.371048</td>\n",
              "      <td>6.617879</td>\n",
              "    </tr>\n",
              "    <tr>\n",
              "      <th>4</th>\n",
              "      <td>-9.444201</td>\n",
              "      <td>-1.702016</td>\n",
              "      <td>-9.139871</td>\n",
              "      <td>-5.528101</td>\n",
              "      <td>8.312870</td>\n",
              "      <td>9.514219</td>\n",
              "      <td>-3.243645</td>\n",
              "      <td>-8.603491</td>\n",
              "      <td>7.066946</td>\n",
              "      <td>10.185779</td>\n",
              "      <td>-2.530092</td>\n",
              "      <td>-10.427762</td>\n",
              "      <td>-7.104209</td>\n",
              "      <td>6.688527</td>\n",
              "      <td>-8.415212</td>\n",
              "      <td>-2.749131</td>\n",
              "      <td>-2.056412</td>\n",
              "      <td>-4.710402</td>\n",
              "      <td>-8.011179</td>\n",
              "      <td>-10.562339</td>\n",
              "      <td>-8.208584</td>\n",
              "      <td>0.777821</td>\n",
              "      <td>-3.404031</td>\n",
              "      <td>5.889103</td>\n",
              "    </tr>\n",
              "    <tr>\n",
              "      <th>...</th>\n",
              "      <td>...</td>\n",
              "      <td>...</td>\n",
              "      <td>...</td>\n",
              "      <td>...</td>\n",
              "      <td>...</td>\n",
              "      <td>...</td>\n",
              "      <td>...</td>\n",
              "      <td>...</td>\n",
              "      <td>...</td>\n",
              "      <td>...</td>\n",
              "      <td>...</td>\n",
              "      <td>...</td>\n",
              "      <td>...</td>\n",
              "      <td>...</td>\n",
              "      <td>...</td>\n",
              "      <td>...</td>\n",
              "      <td>...</td>\n",
              "      <td>...</td>\n",
              "      <td>...</td>\n",
              "      <td>...</td>\n",
              "      <td>...</td>\n",
              "      <td>...</td>\n",
              "      <td>...</td>\n",
              "      <td>...</td>\n",
              "    </tr>\n",
              "    <tr>\n",
              "      <th>9995</th>\n",
              "      <td>8.570663</td>\n",
              "      <td>7.745031</td>\n",
              "      <td>3.332551</td>\n",
              "      <td>-0.131125</td>\n",
              "      <td>7.754660</td>\n",
              "      <td>5.628446</td>\n",
              "      <td>-9.137776</td>\n",
              "      <td>4.680007</td>\n",
              "      <td>2.081125</td>\n",
              "      <td>-0.116858</td>\n",
              "      <td>-2.020254</td>\n",
              "      <td>-1.964122</td>\n",
              "      <td>-5.301779</td>\n",
              "      <td>6.363146</td>\n",
              "      <td>4.393194</td>\n",
              "      <td>-5.639505</td>\n",
              "      <td>5.383566</td>\n",
              "      <td>4.412469</td>\n",
              "      <td>5.423917</td>\n",
              "      <td>-5.223493</td>\n",
              "      <td>-3.606812</td>\n",
              "      <td>-3.393692</td>\n",
              "      <td>15.490063</td>\n",
              "      <td>-14.968462</td>\n",
              "    </tr>\n",
              "    <tr>\n",
              "      <th>9996</th>\n",
              "      <td>-3.842826</td>\n",
              "      <td>7.761330</td>\n",
              "      <td>8.457160</td>\n",
              "      <td>5.945992</td>\n",
              "      <td>-1.103217</td>\n",
              "      <td>-7.615587</td>\n",
              "      <td>-3.665617</td>\n",
              "      <td>-5.104629</td>\n",
              "      <td>-3.402164</td>\n",
              "      <td>-1.193836</td>\n",
              "      <td>0.588533</td>\n",
              "      <td>-5.866029</td>\n",
              "      <td>4.177580</td>\n",
              "      <td>4.930785</td>\n",
              "      <td>9.306959</td>\n",
              "      <td>-5.063622</td>\n",
              "      <td>2.325805</td>\n",
              "      <td>1.291390</td>\n",
              "      <td>-1.833363</td>\n",
              "      <td>-2.649395</td>\n",
              "      <td>5.420599</td>\n",
              "      <td>1.574869</td>\n",
              "      <td>15.522659</td>\n",
              "      <td>9.874343</td>\n",
              "    </tr>\n",
              "    <tr>\n",
              "      <th>9997</th>\n",
              "      <td>-0.311583</td>\n",
              "      <td>-5.155992</td>\n",
              "      <td>-0.031352</td>\n",
              "      <td>-3.847010</td>\n",
              "      <td>-7.231104</td>\n",
              "      <td>5.254831</td>\n",
              "      <td>6.039680</td>\n",
              "      <td>-12.467927</td>\n",
              "      <td>-5.154640</td>\n",
              "      <td>-4.414190</td>\n",
              "      <td>4.902544</td>\n",
              "      <td>-1.413603</td>\n",
              "      <td>0.676148</td>\n",
              "      <td>-3.840611</td>\n",
              "      <td>3.680246</td>\n",
              "      <td>8.088712</td>\n",
              "      <td>8.842759</td>\n",
              "      <td>-10.749802</td>\n",
              "      <td>0.801560</td>\n",
              "      <td>-8.552788</td>\n",
              "      <td>8.095367</td>\n",
              "      <td>4.019561</td>\n",
              "      <td>-10.311985</td>\n",
              "      <td>22.097806</td>\n",
              "    </tr>\n",
              "    <tr>\n",
              "      <th>9998</th>\n",
              "      <td>-4.375030</td>\n",
              "      <td>6.055453</td>\n",
              "      <td>7.682048</td>\n",
              "      <td>6.146512</td>\n",
              "      <td>0.789055</td>\n",
              "      <td>-6.143570</td>\n",
              "      <td>-3.665225</td>\n",
              "      <td>-3.816322</td>\n",
              "      <td>-4.300116</td>\n",
              "      <td>0.127750</td>\n",
              "      <td>1.098119</td>\n",
              "      <td>-5.090588</td>\n",
              "      <td>7.040712</td>\n",
              "      <td>4.018777</td>\n",
              "      <td>7.543468</td>\n",
              "      <td>-4.984854</td>\n",
              "      <td>1.728996</td>\n",
              "      <td>1.402700</td>\n",
              "      <td>-0.007905</td>\n",
              "      <td>-2.044807</td>\n",
              "      <td>5.931352</td>\n",
              "      <td>1.403840</td>\n",
              "      <td>12.110906</td>\n",
              "      <td>9.019200</td>\n",
              "    </tr>\n",
              "    <tr>\n",
              "      <th>9999</th>\n",
              "      <td>-4.407427</td>\n",
              "      <td>7.399718</td>\n",
              "      <td>8.619109</td>\n",
              "      <td>6.417425</td>\n",
              "      <td>-0.310546</td>\n",
              "      <td>-6.351155</td>\n",
              "      <td>-4.303254</td>\n",
              "      <td>-3.220005</td>\n",
              "      <td>-5.589985</td>\n",
              "      <td>-1.852675</td>\n",
              "      <td>4.098193</td>\n",
              "      <td>-6.252206</td>\n",
              "      <td>5.252065</td>\n",
              "      <td>5.746834</td>\n",
              "      <td>7.832322</td>\n",
              "      <td>-5.440472</td>\n",
              "      <td>2.133159</td>\n",
              "      <td>2.241358</td>\n",
              "      <td>-3.560922</td>\n",
              "      <td>-2.330735</td>\n",
              "      <td>5.967876</td>\n",
              "      <td>4.238111</td>\n",
              "      <td>14.799437</td>\n",
              "      <td>23.190554</td>\n",
              "    </tr>\n",
              "  </tbody>\n",
              "</table>\n",
              "<p>10000 rows × 24 columns</p>\n",
              "</div>"
            ],
            "text/plain": [
              "            0         1          2   ...         21         22         23\n",
              "0     1.039391 -2.387036  -3.497922  ...   3.139379  -4.774071  17.696893\n",
              "1    -2.999958 -4.629015 -10.804170  ... -11.571979  -9.258030 -55.859897\n",
              "2    -2.283070 -3.935774  -8.418309  ... -10.735928  -7.871548 -51.679641\n",
              "3    -9.194473 -1.185524  -7.995901  ...   0.923576  -2.371048   6.617879\n",
              "4    -9.444201 -1.702016  -9.139871  ...   0.777821  -3.404031   5.889103\n",
              "...        ...       ...        ...  ...        ...        ...        ...\n",
              "9995  8.570663  7.745031   3.332551  ...  -3.393692  15.490063 -14.968462\n",
              "9996 -3.842826  7.761330   8.457160  ...   1.574869  15.522659   9.874343\n",
              "9997 -0.311583 -5.155992  -0.031352  ...   4.019561 -10.311985  22.097806\n",
              "9998 -4.375030  6.055453   7.682048  ...   1.403840  12.110906   9.019200\n",
              "9999 -4.407427  7.399718   8.619109  ...   4.238111  14.799437  23.190554\n",
              "\n",
              "[10000 rows x 24 columns]"
            ]
          },
          "metadata": {
            "tags": []
          },
          "execution_count": 5
        }
      ]
    },
    {
      "cell_type": "markdown",
      "metadata": {
        "id": "cvXTzqgQYnhb"
      },
      "source": [
        "# clustering"
      ]
    },
    {
      "cell_type": "code",
      "metadata": {
        "colab": {
          "base_uri": "https://localhost:8080/"
        },
        "id": "QgoPx7jIK9RZ",
        "outputId": "0be6a210-914d-404b-a014-7b2ce139a2ef"
      },
      "source": [
        "Data.shape"
      ],
      "execution_count": 6,
      "outputs": [
        {
          "output_type": "execute_result",
          "data": {
            "text/plain": [
              "(10000, 24)"
            ]
          },
          "metadata": {
            "tags": []
          },
          "execution_count": 6
        }
      ]
    },
    {
      "cell_type": "code",
      "metadata": {
        "id": "ubPaQ701YFoU"
      },
      "source": [
        "corr = np.corrcoef(Data.to_numpy().T)"
      ],
      "execution_count": 7,
      "outputs": []
    },
    {
      "cell_type": "code",
      "metadata": {
        "colab": {
          "base_uri": "https://localhost:8080/"
        },
        "id": "SbZs8bjDYJ-K",
        "outputId": "89f31994-26a1-4a39-ccf1-f1466b40267f"
      },
      "source": [
        "corr.shape"
      ],
      "execution_count": 8,
      "outputs": [
        {
          "output_type": "execute_result",
          "data": {
            "text/plain": [
              "(24, 24)"
            ]
          },
          "metadata": {
            "tags": []
          },
          "execution_count": 8
        }
      ]
    },
    {
      "cell_type": "markdown",
      "metadata": {
        "id": "25ItYjNsZ13t"
      },
      "source": [
        "#### Kmean"
      ]
    },
    {
      "cell_type": "markdown",
      "metadata": {
        "id": "j3PsAHecaFbC"
      },
      "source": [
        "##### Import"
      ]
    },
    {
      "cell_type": "code",
      "metadata": {
        "id": "u4NXMD_MaB1y"
      },
      "source": [
        "from sklearn.cluster import KMeans"
      ],
      "execution_count": 10,
      "outputs": []
    },
    {
      "cell_type": "markdown",
      "metadata": {
        "id": "kZBPUDPsaJyy"
      },
      "source": [
        "##### Define"
      ]
    },
    {
      "cell_type": "code",
      "metadata": {
        "id": "DzRFc7yyaNAj"
      },
      "source": [
        "kmeans = KMeans(random_state=2021)"
      ],
      "execution_count": 11,
      "outputs": []
    },
    {
      "cell_type": "markdown",
      "metadata": {
        "id": "TxEZLAHaaS0z"
      },
      "source": [
        "##### Fit - Transform"
      ]
    },
    {
      "cell_type": "code",
      "metadata": {
        "colab": {
          "base_uri": "https://localhost:8080/"
        },
        "id": "la7Hg9PxaW67",
        "outputId": "488044dc-c0c7-49fa-bc05-b8f686836bc6"
      },
      "source": [
        "kmeans.fit(Data) # เเสดง จุด cluster centers ที่คำนวณออกมาได้"
      ],
      "execution_count": 12,
      "outputs": [
        {
          "output_type": "execute_result",
          "data": {
            "text/plain": [
              "KMeans(algorithm='auto', copy_x=True, init='k-means++', max_iter=300,\n",
              "       n_clusters=8, n_init=10, n_jobs=None, precompute_distances='auto',\n",
              "       random_state=2021, tol=0.0001, verbose=0)"
            ]
          },
          "metadata": {
            "tags": []
          },
          "execution_count": 12
        }
      ]
    },
    {
      "cell_type": "code",
      "metadata": {
        "colab": {
          "base_uri": "https://localhost:8080/"
        },
        "id": "q3KyK4raaalk",
        "outputId": "c709fc35-9ca3-4f5a-997d-511973d56dee"
      },
      "source": [
        "kmeans.cluster_centers_"
      ],
      "execution_count": 13,
      "outputs": [
        {
          "output_type": "execute_result",
          "data": {
            "text/plain": [
              "array([[-2.85948735e+00, -4.87325277e+00, -5.97566922e+00,\n",
              "        -5.17517341e-01,  8.04617973e+00,  8.39356118e-01,\n",
              "        -1.00110097e+00, -4.73106633e+00,  3.32891575e+00,\n",
              "         6.22381223e+00,  9.86448583e-02, -2.87812870e+00,\n",
              "        -1.65170876e+00,  2.31487686e+00, -4.38840717e+00,\n",
              "         9.27079352e-01, -5.64030895e+00, -3.28697926e+00,\n",
              "        -4.41429977e+00, -3.32807147e+00, -4.58421637e+00,\n",
              "         3.97059025e+00, -9.74650554e+00,  2.18529512e+01],\n",
              "       [-1.20337136e-01, -4.51431767e+00,  6.24131922e+00,\n",
              "        -3.23424896e+00, -6.09072172e+00, -3.16912334e+00,\n",
              "         3.39099802e+00, -4.41127612e+00, -4.70484952e+00,\n",
              "         7.63516033e+00,  8.03168286e-01,  4.90019774e+00,\n",
              "         7.89477681e+00, -4.52592577e+00,  5.84201257e-01,\n",
              "        -7.27946834e+00,  9.15341087e+00,  6.24224747e+00,\n",
              "         3.03227025e+00, -5.87822947e+00,  9.40920695e+00,\n",
              "        -9.25472757e+00, -9.02863534e+00, -4.42736379e+01],\n",
              "       [ 8.85733419e+00,  3.30416706e+00,  5.20885447e+00,\n",
              "         3.17940803e+00,  6.99416068e+00,  6.23543429e+00,\n",
              "        -3.01439230e+00,  1.24489792e+00, -1.12283742e+00,\n",
              "         2.94315315e+00, -4.23640084e+00, -2.40629822e+00,\n",
              "        -4.88576080e+00,  3.61059512e+00,  6.01090672e+00,\n",
              "        -5.13092969e+00,  5.70615972e+00,  5.82918259e+00,\n",
              "         4.01017294e+00, -5.26731933e+00,  1.50641463e+00,\n",
              "        -2.60978699e+00,  6.60833412e+00, -1.10489350e+01],\n",
              "       [ 7.98963994e+00,  8.48270086e+00,  2.35660779e+00,\n",
              "        -7.28991613e+00, -7.23339707e+00, -2.69144274e+00,\n",
              "        -7.65488690e+00,  2.56395823e-01, -4.77255165e+00,\n",
              "        -7.76819481e+00, -6.21612911e+00, -3.55767831e+00,\n",
              "         3.27813181e+00, -3.77240083e+00,  5.10369110e-01,\n",
              "        -3.31260226e+00, -8.27374034e+00, -8.21995020e+00,\n",
              "        -4.94348030e+00, -5.66597862e+00, -8.73856614e+00,\n",
              "         5.48201771e+00,  1.69654017e+01,  2.94100885e+01],\n",
              "       [-2.10271675e+00, -3.90047493e+00, -8.80747632e+00,\n",
              "         7.90266258e+00,  8.16519985e+00,  9.04575288e+00,\n",
              "         8.42603717e+00, -9.38733678e+00,  7.50892788e+00,\n",
              "        -9.14745584e+00,  9.66660911e+00,  5.14301736e+00,\n",
              "         7.97313867e+00,  5.06873480e+00,  8.13162718e+00,\n",
              "         4.84973393e+00,  8.10766890e+00, -9.40378105e+00,\n",
              "         3.58989207e+00,  6.85266176e+00,  7.70836659e+00,\n",
              "        -9.15771178e+00, -7.80094987e+00, -4.37885589e+01],\n",
              "       [-2.10113946e+00,  5.19664694e+00, -7.34824568e-01,\n",
              "         2.84366412e+00,  3.80521528e+00,  2.79877487e-02,\n",
              "         6.39073748e-01,  2.63084072e+00, -5.16863476e+00,\n",
              "        -4.96328043e-01, -3.93235227e+00, -2.68002098e+00,\n",
              "         3.93902307e+00, -2.37557866e+00, -1.04655043e+00,\n",
              "        -3.88639667e+00,  4.10474354e+00,  3.11685790e+00,\n",
              "        -3.69714176e-01,  3.64875196e+00,  1.64181706e+00,\n",
              "         1.55124527e+00,  1.03932939e+01,  9.75622636e+00],\n",
              "       [ 4.71219421e+00, -3.32721291e+00, -3.82453695e-01,\n",
              "         1.94514907e+00, -6.24571750e+00,  7.32198898e-01,\n",
              "         6.67856489e+00, -7.08061011e+00, -6.67729096e-01,\n",
              "        -7.68368375e+00,  2.93493500e+00,  1.64916039e+00,\n",
              "         3.69673916e+00, -1.77078238e+00,  3.59209867e-02,\n",
              "        -2.46785815e+00,  3.15234618e+00, -2.50873368e+00,\n",
              "        -1.67285819e+00, -2.16933416e+00,  1.44542465e-01,\n",
              "         8.43961418e-01, -6.65442582e+00,  6.21980709e+00],\n",
              "       [-8.96594850e+00, -4.22374502e+00,  4.41989125e+00,\n",
              "        -9.52112058e+00, -5.87887546e+00, -8.92385924e+00,\n",
              "        -3.99156562e+00,  3.34491949e+00, -3.82969791e+00,\n",
              "         1.68931508e+00, -8.62311802e+00,  7.35708760e+00,\n",
              "        -7.32586364e+00, -6.44936054e+00, -1.15771771e-01,\n",
              "         7.28348859e+00,  5.18858755e+00,  9.43176961e+00,\n",
              "         5.21704189e+00, -2.30310565e+00, -1.89496963e+00,\n",
              "         4.25465464e+00, -8.44749004e+00,  2.32732732e+01]])"
            ]
          },
          "metadata": {
            "tags": []
          },
          "execution_count": 13
        }
      ]
    },
    {
      "cell_type": "markdown",
      "metadata": {
        "id": "Nw3EmWTMaepE"
      },
      "source": [
        "#### ทดสอบการจัดกลุ่มของ Data"
      ]
    },
    {
      "cell_type": "code",
      "metadata": {
        "colab": {
          "base_uri": "https://localhost:8080/"
        },
        "id": "oxv4hT0Aais0",
        "outputId": "93455429-9195-4612-dc3b-d029f6d66a3f"
      },
      "source": [
        "y = kmeans.predict(Data)\n",
        "y"
      ],
      "execution_count": 14,
      "outputs": [
        {
          "output_type": "execute_result",
          "data": {
            "text/plain": [
              "array([6, 4, 4, ..., 6, 5, 5], dtype=int32)"
            ]
          },
          "metadata": {
            "tags": []
          },
          "execution_count": 14
        }
      ]
    },
    {
      "cell_type": "markdown",
      "metadata": {
        "id": "Fw0MhdSraoXt"
      },
      "source": [
        "## ทำ PCA เพื่อลด Dimension ของข้อมูลเนื่องจากมีจำนวน Dimension ที่เยอะเกินไป"
      ]
    },
    {
      "cell_type": "markdown",
      "metadata": {
        "id": "uzybFoeibJ3U"
      },
      "source": [
        "###### Import"
      ]
    },
    {
      "cell_type": "code",
      "metadata": {
        "id": "QRZVK0cKbNAz"
      },
      "source": [
        "from sklearn.decomposition import PCA"
      ],
      "execution_count": 16,
      "outputs": []
    },
    {
      "cell_type": "markdown",
      "metadata": {
        "id": "IW7GPu8pbRvk"
      },
      "source": [
        "##### Define"
      ]
    },
    {
      "cell_type": "code",
      "metadata": {
        "id": "Xl1jx_l8bUNC"
      },
      "source": [
        "pca = PCA(n_components=2)"
      ],
      "execution_count": 17,
      "outputs": []
    },
    {
      "cell_type": "markdown",
      "metadata": {
        "id": "iyJEsRKtbYaT"
      },
      "source": [
        "#####  Fit - Transform"
      ]
    },
    {
      "cell_type": "code",
      "metadata": {
        "id": "fhnp8TVtbmHD"
      },
      "source": [
        "new_pca = pca.fit_transform(Data)"
      ],
      "execution_count": 19,
      "outputs": []
    },
    {
      "cell_type": "code",
      "metadata": {
        "colab": {
          "base_uri": "https://localhost:8080/"
        },
        "id": "XrhicYVmbdvU",
        "outputId": "bed1a47c-a685-49f9-dfbe-4d0e4e002b3c"
      },
      "source": [
        "new_pca.shape # จะเห็นว่า dimension เหลือเเค่ 2 dimension"
      ],
      "execution_count": 20,
      "outputs": [
        {
          "output_type": "execute_result",
          "data": {
            "text/plain": [
              "(10000, 2)"
            ]
          },
          "metadata": {
            "tags": []
          },
          "execution_count": 20
        }
      ]
    },
    {
      "cell_type": "code",
      "metadata": {
        "id": "H9j_7qWLbxLV"
      },
      "source": [
        "from matplotlib import pyplot as plt"
      ],
      "execution_count": 21,
      "outputs": []
    },
    {
      "cell_type": "code",
      "metadata": {
        "colab": {
          "base_uri": "https://localhost:8080/",
          "height": 283
        },
        "id": "L39j07YFb32M",
        "outputId": "1f8aa17c-37b6-416e-db12-cf6c877fda51"
      },
      "source": [
        "plt.plot(new_pca[:50,0],new_pca[:50,1],'or')\n",
        "plt.plot(new_pca[50:100,0],new_pca[50:100,1],'og')\n",
        "plt.plot(new_pca[100:,0],new_pca[100:,1],'oy')"
      ],
      "execution_count": 22,
      "outputs": [
        {
          "output_type": "execute_result",
          "data": {
            "text/plain": [
              "[<matplotlib.lines.Line2D at 0x7f251b8fce90>]"
            ]
          },
          "metadata": {
            "tags": []
          },
          "execution_count": 22
        },
        {
          "output_type": "display_data",
          "data": {
            "image/png": "[encoded data removed]",
            "text/plain": [
              "<Figure size 432x288 with 1 Axes>"
            ]
          },
          "metadata": {
            "tags": [],
            "needs_background": "light"
          }
        }
      ]
    },
    {
      "cell_type": "code",
      "metadata": {
        "colab": {
          "base_uri": "https://localhost:8080/",
          "height": 283
        },
        "id": "owBJfFNvb8xk",
        "outputId": "ecdf3595-e478-4eb1-c6d2-1bbda2f79d07"
      },
      "source": [
        "kmeans = KMeans(n_clusters=3,random_state=2021)\n",
        "kmeans.fit(Data)\n",
        "y = kmeans.predict(Data)\n",
        "plt.scatter(new_pca[:,0],new_pca[:,1],c=y)"
      ],
      "execution_count": 23,
      "outputs": [
        {
          "output_type": "execute_result",
          "data": {
            "text/plain": [
              "<matplotlib.collections.PathCollection at 0x7f251b3e28d0>"
            ]
          },
          "metadata": {
            "tags": []
          },
          "execution_count": 23
        },
        {
          "output_type": "display_data",
          "data": {
            "image/png": "[encoded data removed]",
            "text/plain": [
              "<Figure size 432x288 with 1 Axes>"
            ]
          },
          "metadata": {
            "tags": [],
            "needs_background": "light"
          }
        }
      ]
    },
    {
      "cell_type": "code",
      "metadata": {
        "colab": {
          "base_uri": "https://localhost:8080/",
          "height": 283
        },
        "id": "Bmj7DzrVcCdb",
        "outputId": "26396caa-66fc-4c02-b0c7-c6ca691be640"
      },
      "source": [
        "plt.scatter(new_pca[:,0],new_pca[:,1],c=y) # cluster center\n",
        "plt.plot(kmeans.cluster_centers_[:,0],kmeans.cluster_centers_[:,1],'or')"
      ],
      "execution_count": 24,
      "outputs": [
        {
          "output_type": "execute_result",
          "data": {
            "text/plain": [
              "[<matplotlib.lines.Line2D at 0x7f251b365f50>]"
            ]
          },
          "metadata": {
            "tags": []
          },
          "execution_count": 24
        },
        {
          "output_type": "display_data",
          "data": {
            "image/png": "[encoded data removed]",
            "text/plain": [
              "<Figure size 432x288 with 1 Axes>"
            ]
          },
          "metadata": {
            "tags": [],
            "needs_background": "light"
          }
        }
      ]
    },
    {
      "cell_type": "markdown",
      "metadata": {
        "id": "I4Fp3MOEcIMO"
      },
      "source": [
        "หลังจากนั้น จะทำการหาค่า k ว่าควรจะเป็นเท่าไหร่ โดบการใช้ Elbow Method ในการช่วยหาค่า k ที่เหมาะสม\n"
      ]
    },
    {
      "cell_type": "markdown",
      "metadata": {
        "id": "nW6HSpsKcOBs"
      },
      "source": [
        "##### SSE (Sum of Squared Errors)\n",
        "SSE คือ ความไม่ใกล้เคียงกับจุดศูนย์กลางมากน้อยเท่าไหน"
      ]
    },
    {
      "cell_type": "code",
      "metadata": {
        "colab": {
          "base_uri": "https://localhost:8080/"
        },
        "id": "TzXe7Zn2cRz8",
        "outputId": "7c4e8939-31fc-462e-97f7-d79272ad8380"
      },
      "source": [
        "kmeans.inertia_"
      ],
      "execution_count": 25,
      "outputs": [
        {
          "output_type": "execute_result",
          "data": {
            "text/plain": [
              "7893793.770690319"
            ]
          },
          "metadata": {
            "tags": []
          },
          "execution_count": 25
        }
      ]
    },
    {
      "cell_type": "code",
      "metadata": {
        "id": "Xjvkn6YOcXm7"
      },
      "source": [
        "SSE = list()\n",
        "for k in [1,2,3,4,5,6,7,8]:\n",
        "    kmeans = KMeans(n_clusters=k,random_state=2021)\n",
        "    kmeans.fit(Data)\n",
        "    SSE.append(kmeans.inertia_)"
      ],
      "execution_count": 26,
      "outputs": []
    },
    {
      "cell_type": "code",
      "metadata": {
        "colab": {
          "base_uri": "https://localhost:8080/"
        },
        "id": "zMv0yAvDccRn",
        "outputId": "daa1064e-365d-444d-a11b-03ae5ea3af48"
      },
      "source": [
        "SSE"
      ],
      "execution_count": 27,
      "outputs": [
        {
          "output_type": "execute_result",
          "data": {
            "text/plain": [
              "[13781913.857352642,\n",
              " 9531047.93527796,\n",
              " 7893793.770690319,\n",
              " 6909815.866515603,\n",
              " 5921999.64541768,\n",
              " 5212367.236653116,\n",
              " 4637506.289524077,\n",
              " 4108690.5643300726]"
            ]
          },
          "metadata": {
            "tags": []
          },
          "execution_count": 27
        }
      ]
    },
    {
      "cell_type": "code",
      "metadata": {
        "colab": {
          "base_uri": "https://localhost:8080/",
          "height": 290
        },
        "id": "b53_2XoTcgY9",
        "outputId": "b6d27d09-17a5-47a4-d38f-49f384670e36"
      },
      "source": [
        "plt.plot([1,2,3,4,5,6,7,8],SSE,'o-b') \n",
        "plt.xlabel('k')\n",
        "plt.ylabel('SSE');"
      ],
      "execution_count": 28,
      "outputs": [
        {
          "output_type": "display_data",
          "data": {
            "image/png": "[encoded data removed]",
            "text/plain": [
              "<Figure size 432x288 with 1 Axes>"
            ]
          },
          "metadata": {
            "tags": [],
            "needs_background": "light"
          }
        }
      ]
    },
    {
      "cell_type": "markdown",
      "metadata": {
        "id": "oqbt7L6mcpwj"
      },
      "source": [
        "## Silhouette coefficient "
      ]
    },
    {
      "cell_type": "code",
      "metadata": {
        "id": "JDrh9wGLctBb"
      },
      "source": [
        "from sklearn import metrics"
      ],
      "execution_count": 29,
      "outputs": []
    },
    {
      "cell_type": "code",
      "metadata": {
        "id": "alh4i9AAcvrl"
      },
      "source": [
        "SilH = list()\n",
        "for k in [2,3,4,5,6,7,8]:\n",
        "    kmeans = KMeans(n_clusters=k,random_state=2021)\n",
        "    kmeans.fit(Data)\n",
        "    score = metrics.silhouette_score(Data,kmeans.labels_)\n",
        "    SilH.append(score)"
      ],
      "execution_count": 30,
      "outputs": []
    },
    {
      "cell_type": "code",
      "metadata": {
        "colab": {
          "base_uri": "https://localhost:8080/",
          "height": 280
        },
        "id": "hD4IqLRAcy1w",
        "outputId": "35362579-35bf-472f-df6e-560a2398d99a"
      },
      "source": [
        "plt.plot([2,3,4,5,6,7,8],SilH,'o-g') # ทำการ Silhouette ดีที่สุดที่ คือ 2\n",
        "plt.xlabel('k')\n",
        "plt.ylabel('Silhouette Score');"
      ],
      "execution_count": 31,
      "outputs": [
        {
          "output_type": "display_data",
          "data": {
            "image/png": "[encoded data removed]",
            "text/plain": [
              "<Figure size 432x288 with 1 Axes>"
            ]
          },
          "metadata": {
            "tags": [],
            "needs_background": "light"
          }
        }
      ]
    }
  ]
}