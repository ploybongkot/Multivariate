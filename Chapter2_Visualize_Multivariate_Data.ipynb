{
  "nbformat": 4,
  "nbformat_minor": 0,
  "metadata": {
    "colab": {
      "name": "Chapter2 Visualize Multivariate Data.ipynb",
      "provenance": [],
      "toc_visible": true,
      "authorship_tag": "ABX9TyMswoV/pV3V9J+avT+Fs85X",
      "include_colab_link": true
    },
    "kernelspec": {
      "name": "python3",
      "display_name": "Python 3"
    }
  },
  "cells": [
    {
      "cell_type": "markdown",
      "metadata": {
        "id": "view-in-github",
        "colab_type": "text"
      },
      "source": [
        "<a href=\"https://colab.research.google.com/github/ploybongkot/Multivariate/blob/main/Chapter2_Visualize_Multivariate_Data.ipynb\" target=\"_parent\"><img src=\"https://colab.research.google.com/assets/colab-badge.svg\" alt=\"Open In Colab\"/></a>"
      ]
    },
    {
      "cell_type": "markdown",
      "metadata": {
        "id": "utCY-RDoV20Z"
      },
      "source": [
        "ใช้ข้อมูลจาก http://my.ilstu.edu/~gjin/gjtpage/HSC445/Data/AirPollution.html"
      ]
    },
    {
      "cell_type": "code",
      "metadata": {
        "id": "RbDeeJH6uRbG"
      },
      "source": [
        "import pandas as pd"
      ],
      "execution_count": 1,
      "outputs": []
    },
    {
      "cell_type": "code",
      "metadata": {
        "id": "iDtHPsh9uuKN"
      },
      "source": [
        "pollution_data\r\n",
        "\r\n"
      ],
      "execution_count": null,
      "outputs": []
    },
    {
      "cell_type": "markdown",
      "metadata": {
        "id": "gbhkJ6opxi0f"
      },
      "source": [
        "#Very basic plot to visualize any daya"
      ]
    },
    {
      "cell_type": "markdown",
      "metadata": {
        "id": "maKh4yi4yKAe"
      },
      "source": [
        "###scatter plot"
      ]
    },
    {
      "cell_type": "code",
      "metadata": {
        "id": "ILkxZq-KZJqH"
      },
      "source": [
        ""
      ],
      "execution_count": null,
      "outputs": []
    },
    {
      "cell_type": "code",
      "metadata": {
        "id": "gB5qYkvDx0oN"
      },
      "source": [
        "pollution_data.plot.scatter('SO2','Wind')"
      ],
      "execution_count": null,
      "outputs": []
    },
    {
      "cell_type": "markdown",
      "metadata": {
        "id": "ymTad4HEzmx0"
      },
      "source": [
        "เทคนิคที่ 1 ใช้ขนาดของจุกแสดงปริมาณของ dimention ที่ 3 ได้"
      ]
    },
    {
      "cell_type": "markdown",
      "metadata": {
        "id": "cHIOdsgm1sv_"
      },
      "source": [
        "เทคนิคที่ 2"
      ]
    },
    {
      "cell_type": "code",
      "metadata": {
        "id": "pkNXQhfxzciU"
      },
      "source": [
        "pollution_data.plot.scatter('SO2','Wind',s=10'r')"
      ],
      "execution_count": null,
      "outputs": []
    },
    {
      "cell_type": "markdown",
      "metadata": {
        "id": "i7B_kCGX15uG"
      },
      "source": [
        "### scatter matrix"
      ]
    },
    {
      "cell_type": "code",
      "metadata": {
        "id": "lXWSHN9M2Bwo"
      },
      "source": [
        "pd.plotting.scatter_matrix(pollution_data);"
      ],
      "execution_count": null,
      "outputs": []
    },
    {
      "cell_type": "markdown",
      "metadata": {
        "id": "syb03B0U9V_i"
      },
      "source": [
        "#Parallel Coordinate"
      ]
    },
    {
      "cell_type": "code",
      "metadata": {
        "colab": {
          "base_uri": "https://localhost:8080/",
          "height": 163
        },
        "id": "jEfiie0f5gpy",
        "outputId": "1d53c540-d573-4a76-9664-8286e2904ba0"
      },
      "source": [
        "examledf = pd.read_csv('https://raw.github.com/pandas-dev/''pandas/master/pandas/tests/io/data/csv/iris.csv')"
      ],
      "execution_count": null,
      "outputs": [
        {
          "output_type": "error",
          "ename": "NameError",
          "evalue": "ignored",
          "traceback": [
            "\u001b[0;31m---------------------------------------------------------------------------\u001b[0m",
            "\u001b[0;31mNameError\u001b[0m                                 Traceback (most recent call last)",
            "\u001b[0;32m<ipython-input-9-c44a31a6affc>\u001b[0m in \u001b[0;36m<module>\u001b[0;34m()\u001b[0m\n\u001b[0;32m----> 1\u001b[0;31m \u001b[0mexamledf\u001b[0m \u001b[0;34m=\u001b[0m \u001b[0mpd\u001b[0m\u001b[0;34m.\u001b[0m\u001b[0mread_csv\u001b[0m\u001b[0;34m(\u001b[0m\u001b[0;34m'https://raw.github.com/pandas-dev/'\u001b[0m\u001b[0;34m'pandas/master/pandas/tests/io/data/csv/iris.csv'\u001b[0m\u001b[0;34m)\u001b[0m\u001b[0;34m\u001b[0m\u001b[0;34m\u001b[0m\u001b[0m\n\u001b[0m",
            "\u001b[0;31mNameError\u001b[0m: name 'pd' is not defined"
          ]
        }
      ]
    },
    {
      "cell_type": "code",
      "metadata": {
        "colab": {
          "base_uri": "https://localhost:8080/",
          "height": 163
        },
        "id": "mkZWGg8t9gO5",
        "outputId": "f9fcc2f7-29c6-4fd5-d484-274f68e3d76a"
      },
      "source": [
        "example_df"
      ],
      "execution_count": null,
      "outputs": [
        {
          "output_type": "error",
          "ename": "NameError",
          "evalue": "ignored",
          "traceback": [
            "\u001b[0;31m---------------------------------------------------------------------------\u001b[0m",
            "\u001b[0;31mNameError\u001b[0m                                 Traceback (most recent call last)",
            "\u001b[0;32m<ipython-input-10-f7dc5de0543d>\u001b[0m in \u001b[0;36m<module>\u001b[0;34m()\u001b[0m\n\u001b[0;32m----> 1\u001b[0;31m \u001b[0mexample_df\u001b[0m\u001b[0;34m\u001b[0m\u001b[0;34m\u001b[0m\u001b[0m\n\u001b[0m",
            "\u001b[0;31mNameError\u001b[0m: name 'example_df' is not defined"
          ]
        }
      ]
    },
    {
      "cell_type": "code",
      "metadata": {
        "colab": {
          "base_uri": "https://localhost:8080/",
          "height": 163
        },
        "id": "GjX-o56b53oH",
        "outputId": "980af141-9b35-4787-b77a-e3b3493c3ae7"
      },
      "source": [
        "pd.plotting.parallel_coordinates(example_df, 'Name')"
      ],
      "execution_count": null,
      "outputs": [
        {
          "output_type": "error",
          "ename": "NameError",
          "evalue": "ignored",
          "traceback": [
            "\u001b[0;31m---------------------------------------------------------------------------\u001b[0m",
            "\u001b[0;31mNameError\u001b[0m                                 Traceback (most recent call last)",
            "\u001b[0;32m<ipython-input-4-ef176bb545a9>\u001b[0m in \u001b[0;36m<module>\u001b[0;34m()\u001b[0m\n\u001b[0;32m----> 1\u001b[0;31m \u001b[0mpd\u001b[0m\u001b[0;34m.\u001b[0m\u001b[0mplotting\u001b[0m\u001b[0;34m.\u001b[0m\u001b[0mparallel_coordinates\u001b[0m\u001b[0;34m(\u001b[0m\u001b[0mexample_df\u001b[0m\u001b[0;34m,\u001b[0m \u001b[0;34m'Name'\u001b[0m\u001b[0;34m)\u001b[0m\u001b[0;34m\u001b[0m\u001b[0;34m\u001b[0m\u001b[0m\n\u001b[0m",
            "\u001b[0;31mNameError\u001b[0m: name 'pd' is not defined"
          ]
        }
      ]
    },
    {
      "cell_type": "markdown",
      "metadata": {
        "id": "xi4PyXTk7cKG"
      },
      "source": [
        "#Quiz2\r\n",
        "\r\n",
        "พล็อตกราฟ parallel_coordinates ของข้อมูล pollution"
      ]
    },
    {
      "cell_type": "code",
      "metadata": {
        "id": "FQ_m4PGD8LKH"
      },
      "source": [
        "pd.plotting.parallel_coordinates(pollution_data, 'City')"
      ],
      "execution_count": null,
      "outputs": []
    }
  ]
}