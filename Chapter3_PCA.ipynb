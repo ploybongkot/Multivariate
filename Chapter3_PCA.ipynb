{
  "nbformat": 4,
  "nbformat_minor": 0,
  "metadata": {
    "colab": {
      "name": "Chapter3 PCA.ipynb",
      "provenance": [],
      "toc_visible": true,
      "authorship_tag": "ABX9TyMxDzTz9MVBMVaC6zTM4aBY",
      "include_colab_link": true
    },
    "kernelspec": {
      "name": "python3",
      "display_name": "Python 3"
    }
  },
  "cells": [
    {
      "cell_type": "markdown",
      "metadata": {
        "id": "view-in-github",
        "colab_type": "text"
      },
      "source": [
        "<a href=\"https://colab.research.google.com/github/ploybongkot/Multivariate/blob/main/Chapter3_PCA.ipynb\" target=\"_parent\"><img src=\"https://colab.research.google.com/assets/colab-badge.svg\" alt=\"Open In Colab\"/></a>"
      ]
    },
    {
      "cell_type": "markdown",
      "metadata": {
        "id": "UWVE74jtHW4w"
      },
      "source": [
        "# PCA (Principle Component Analysis)\r\n",
        "\r\n",
        "![download (1).png](data:image/png;base64,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)"
      ]
    },
    {
      "cell_type": "markdown",
      "metadata": {
        "id": "vXQ0ZJDyHjKz"
      },
      "source": [
        "ขั้นตอน 5 ขั้นตอน\r\n",
        "\r\n",
        "Standardizing the Data (ปรับ mean เเละ std ให้มี mean=0 std=1)\r\n",
        "Calculating the covariance matrix (หา Covariance matrix ของข้อมูลเรา)\r\n",
        "Computing the Eigenvectors and Eigenvalues (คำนวณ eigen values-vectors)\r\n",
        "Picking Principal Components Using the Explained Variance (เลือกมาเฉพาะ eigens ที่จำเป็น)\r\n",
        "Project Data Onto Lower-Dimensional Linear Subspace (map data ไปบนเเกนใหม่) https://wendynavarrete.com/principal-component-analysis-with-numpy/"
      ]
    },
    {
      "cell_type": "markdown",
      "metadata": {
        "id": "51F321nKHo07"
      },
      "source": [
        "Projection ไว้ช่วยลดความซับซ้อน\r\n",
        "\r\n",
        "PCA step by step"
      ]
    },
    {
      "cell_type": "code",
      "metadata": {
        "id": "wbDSrfJuHuVV"
      },
      "source": [
        "import pandas as pd "
      ],
      "execution_count": null,
      "outputs": []
    },
    {
      "cell_type": "markdown",
      "metadata": {
        "id": "i3TxMIQKHzMb"
      },
      "source": [
        "###load data"
      ]
    },
    {
      "cell_type": "code",
      "metadata": {
        "id": "dJijIGQ0H68E"
      },
      "source": [
        "example_df = pd.read_csv(\r\n",
        "    'https://raw.github.com/pandas-dev/'\r\n",
        "    'pandas/master/pandas/tests/io/data/csv/iris.csv'\r\n",
        ")\r\n"
      ],
      "execution_count": null,
      "outputs": []
    },
    {
      "cell_type": "code",
      "metadata": {
        "id": "sA9G0jm1gFsC",
        "colab": {
          "base_uri": "https://localhost:8080/",
          "height": 419
        },
        "outputId": "fb2db4c0-43ca-4ed0-b6c0-7264fbb7f032"
      },
      "source": [
        "example_df "
      ],
      "execution_count": null,
      "outputs": [
        {
          "output_type": "execute_result",
          "data": {
            "text/html": [
              "<div>\n",
              "<style scoped>\n",
              "    .dataframe tbody tr th:only-of-type {\n",
              "        vertical-align: middle;\n",
              "    }\n",
              "\n",
              "    .dataframe tbody tr th {\n",
              "        vertical-align: top;\n",
              "    }\n",
              "\n",
              "    .dataframe thead th {\n",
              "        text-align: right;\n",
              "    }\n",
              "</style>\n",
              "<table border=\"1\" class=\"dataframe\">\n",
              "  <thead>\n",
              "    <tr style=\"text-align: right;\">\n",
              "      <th></th>\n",
              "      <th>SepalLength</th>\n",
              "      <th>SepalWidth</th>\n",
              "      <th>PetalLength</th>\n",
              "      <th>PetalWidth</th>\n",
              "      <th>Name</th>\n",
              "    </tr>\n",
              "  </thead>\n",
              "  <tbody>\n",
              "    <tr>\n",
              "      <th>0</th>\n",
              "      <td>5.1</td>\n",
              "      <td>3.5</td>\n",
              "      <td>1.4</td>\n",
              "      <td>0.2</td>\n",
              "      <td>Iris-setosa</td>\n",
              "    </tr>\n",
              "    <tr>\n",
              "      <th>1</th>\n",
              "      <td>4.9</td>\n",
              "      <td>3.0</td>\n",
              "      <td>1.4</td>\n",
              "      <td>0.2</td>\n",
              "      <td>Iris-setosa</td>\n",
              "    </tr>\n",
              "    <tr>\n",
              "      <th>2</th>\n",
              "      <td>4.7</td>\n",
              "      <td>3.2</td>\n",
              "      <td>1.3</td>\n",
              "      <td>0.2</td>\n",
              "      <td>Iris-setosa</td>\n",
              "    </tr>\n",
              "    <tr>\n",
              "      <th>3</th>\n",
              "      <td>4.6</td>\n",
              "      <td>3.1</td>\n",
              "      <td>1.5</td>\n",
              "      <td>0.2</td>\n",
              "      <td>Iris-setosa</td>\n",
              "    </tr>\n",
              "    <tr>\n",
              "      <th>4</th>\n",
              "      <td>5.0</td>\n",
              "      <td>3.6</td>\n",
              "      <td>1.4</td>\n",
              "      <td>0.2</td>\n",
              "      <td>Iris-setosa</td>\n",
              "    </tr>\n",
              "    <tr>\n",
              "      <th>...</th>\n",
              "      <td>...</td>\n",
              "      <td>...</td>\n",
              "      <td>...</td>\n",
              "      <td>...</td>\n",
              "      <td>...</td>\n",
              "    </tr>\n",
              "    <tr>\n",
              "      <th>145</th>\n",
              "      <td>6.7</td>\n",
              "      <td>3.0</td>\n",
              "      <td>5.2</td>\n",
              "      <td>2.3</td>\n",
              "      <td>Iris-virginica</td>\n",
              "    </tr>\n",
              "    <tr>\n",
              "      <th>146</th>\n",
              "      <td>6.3</td>\n",
              "      <td>2.5</td>\n",
              "      <td>5.0</td>\n",
              "      <td>1.9</td>\n",
              "      <td>Iris-virginica</td>\n",
              "    </tr>\n",
              "    <tr>\n",
              "      <th>147</th>\n",
              "      <td>6.5</td>\n",
              "      <td>3.0</td>\n",
              "      <td>5.2</td>\n",
              "      <td>2.0</td>\n",
              "      <td>Iris-virginica</td>\n",
              "    </tr>\n",
              "    <tr>\n",
              "      <th>148</th>\n",
              "      <td>6.2</td>\n",
              "      <td>3.4</td>\n",
              "      <td>5.4</td>\n",
              "      <td>2.3</td>\n",
              "      <td>Iris-virginica</td>\n",
              "    </tr>\n",
              "    <tr>\n",
              "      <th>149</th>\n",
              "      <td>5.9</td>\n",
              "      <td>3.0</td>\n",
              "      <td>5.1</td>\n",
              "      <td>1.8</td>\n",
              "      <td>Iris-virginica</td>\n",
              "    </tr>\n",
              "  </tbody>\n",
              "</table>\n",
              "<p>150 rows × 5 columns</p>\n",
              "</div>"
            ],
            "text/plain": [
              "     SepalLength  SepalWidth  PetalLength  PetalWidth            Name\n",
              "0            5.1         3.5          1.4         0.2     Iris-setosa\n",
              "1            4.9         3.0          1.4         0.2     Iris-setosa\n",
              "2            4.7         3.2          1.3         0.2     Iris-setosa\n",
              "3            4.6         3.1          1.5         0.2     Iris-setosa\n",
              "4            5.0         3.6          1.4         0.2     Iris-setosa\n",
              "..           ...         ...          ...         ...             ...\n",
              "145          6.7         3.0          5.2         2.3  Iris-virginica\n",
              "146          6.3         2.5          5.0         1.9  Iris-virginica\n",
              "147          6.5         3.0          5.2         2.0  Iris-virginica\n",
              "148          6.2         3.4          5.4         2.3  Iris-virginica\n",
              "149          5.9         3.0          5.1         1.8  Iris-virginica\n",
              "\n",
              "[150 rows x 5 columns]"
            ]
          },
          "metadata": {
            "tags": []
          },
          "execution_count": 4
        }
      ]
    },
    {
      "cell_type": "code",
      "metadata": {
        "id": "oJZxckg6IfZz",
        "colab": {
          "base_uri": "https://localhost:8080/",
          "height": 286
        },
        "outputId": "a9ead78f-d0e7-46af-9ee9-018437d7867c"
      },
      "source": [
        "pd.plotting.scatter_matrix(example_df);"
      ],
      "execution_count": null,
      "outputs": [
        {
          "output_type": "display_data",
          "data": {
            "image/png": "[encoded data removed]",
            "text/plain": [
              "<Figure size 432x288 with 16 Axes>"
            ]
          },
          "metadata": {
            "tags": [],
            "needs_background": "light"
          }
        }
      ]
    },
    {
      "cell_type": "code",
      "metadata": {
        "id": "R-1pGdY2IxQB"
      },
      "source": [
        "import numpy as np"
      ],
      "execution_count": null,
      "outputs": []
    },
    {
      "cell_type": "code",
      "metadata": {
        "id": "YqibUQbDIz8p",
        "colab": {
          "base_uri": "https://localhost:8080/"
        },
        "outputId": "01993894-e316-4543-bc82-da34ce949532"
      },
      "source": [
        "data_matrix = np.array(example_df.iloc[:,:-1]) #สร้างเมทริกซ์\r\n",
        "data_matrix"
      ],
      "execution_count": null,
      "outputs": [
        {
          "output_type": "execute_result",
          "data": {
            "text/plain": [
              "array([[5.1, 3.5, 1.4, 0.2],\n",
              "       [4.9, 3. , 1.4, 0.2],\n",
              "       [4.7, 3.2, 1.3, 0.2],\n",
              "       [4.6, 3.1, 1.5, 0.2],\n",
              "       [5. , 3.6, 1.4, 0.2],\n",
              "       [5.4, 3.9, 1.7, 0.4],\n",
              "       [4.6, 3.4, 1.4, 0.3],\n",
              "       [5. , 3.4, 1.5, 0.2],\n",
              "       [4.4, 2.9, 1.4, 0.2],\n",
              "       [4.9, 3.1, 1.5, 0.1],\n",
              "       [5.4, 3.7, 1.5, 0.2],\n",
              "       [4.8, 3.4, 1.6, 0.2],\n",
              "       [4.8, 3. , 1.4, 0.1],\n",
              "       [4.3, 3. , 1.1, 0.1],\n",
              "       [5.8, 4. , 1.2, 0.2],\n",
              "       [5.7, 4.4, 1.5, 0.4],\n",
              "       [5.4, 3.9, 1.3, 0.4],\n",
              "       [5.1, 3.5, 1.4, 0.3],\n",
              "       [5.7, 3.8, 1.7, 0.3],\n",
              "       [5.1, 3.8, 1.5, 0.3],\n",
              "       [5.4, 3.4, 1.7, 0.2],\n",
              "       [5.1, 3.7, 1.5, 0.4],\n",
              "       [4.6, 3.6, 1. , 0.2],\n",
              "       [5.1, 3.3, 1.7, 0.5],\n",
              "       [4.8, 3.4, 1.9, 0.2],\n",
              "       [5. , 3. , 1.6, 0.2],\n",
              "       [5. , 3.4, 1.6, 0.4],\n",
              "       [5.2, 3.5, 1.5, 0.2],\n",
              "       [5.2, 3.4, 1.4, 0.2],\n",
              "       [4.7, 3.2, 1.6, 0.2],\n",
              "       [4.8, 3.1, 1.6, 0.2],\n",
              "       [5.4, 3.4, 1.5, 0.4],\n",
              "       [5.2, 4.1, 1.5, 0.1],\n",
              "       [5.5, 4.2, 1.4, 0.2],\n",
              "       [4.9, 3.1, 1.5, 0.1],\n",
              "       [5. , 3.2, 1.2, 0.2],\n",
              "       [5.5, 3.5, 1.3, 0.2],\n",
              "       [4.9, 3.1, 1.5, 0.1],\n",
              "       [4.4, 3. , 1.3, 0.2],\n",
              "       [5.1, 3.4, 1.5, 0.2],\n",
              "       [5. , 3.5, 1.3, 0.3],\n",
              "       [4.5, 2.3, 1.3, 0.3],\n",
              "       [4.4, 3.2, 1.3, 0.2],\n",
              "       [5. , 3.5, 1.6, 0.6],\n",
              "       [5.1, 3.8, 1.9, 0.4],\n",
              "       [4.8, 3. , 1.4, 0.3],\n",
              "       [5.1, 3.8, 1.6, 0.2],\n",
              "       [4.6, 3.2, 1.4, 0.2],\n",
              "       [5.3, 3.7, 1.5, 0.2],\n",
              "       [5. , 3.3, 1.4, 0.2],\n",
              "       [7. , 3.2, 4.7, 1.4],\n",
              "       [6.4, 3.2, 4.5, 1.5],\n",
              "       [6.9, 3.1, 4.9, 1.5],\n",
              "       [5.5, 2.3, 4. , 1.3],\n",
              "       [6.5, 2.8, 4.6, 1.5],\n",
              "       [5.7, 2.8, 4.5, 1.3],\n",
              "       [6.3, 3.3, 4.7, 1.6],\n",
              "       [4.9, 2.4, 3.3, 1. ],\n",
              "       [6.6, 2.9, 4.6, 1.3],\n",
              "       [5.2, 2.7, 3.9, 1.4],\n",
              "       [5. , 2. , 3.5, 1. ],\n",
              "       [5.9, 3. , 4.2, 1.5],\n",
              "       [6. , 2.2, 4. , 1. ],\n",
              "       [6.1, 2.9, 4.7, 1.4],\n",
              "       [5.6, 2.9, 3.6, 1.3],\n",
              "       [6.7, 3.1, 4.4, 1.4],\n",
              "       [5.6, 3. , 4.5, 1.5],\n",
              "       [5.8, 2.7, 4.1, 1. ],\n",
              "       [6.2, 2.2, 4.5, 1.5],\n",
              "       [5.6, 2.5, 3.9, 1.1],\n",
              "       [5.9, 3.2, 4.8, 1.8],\n",
              "       [6.1, 2.8, 4. , 1.3],\n",
              "       [6.3, 2.5, 4.9, 1.5],\n",
              "       [6.1, 2.8, 4.7, 1.2],\n",
              "       [6.4, 2.9, 4.3, 1.3],\n",
              "       [6.6, 3. , 4.4, 1.4],\n",
              "       [6.8, 2.8, 4.8, 1.4],\n",
              "       [6.7, 3. , 5. , 1.7],\n",
              "       [6. , 2.9, 4.5, 1.5],\n",
              "       [5.7, 2.6, 3.5, 1. ],\n",
              "       [5.5, 2.4, 3.8, 1.1],\n",
              "       [5.5, 2.4, 3.7, 1. ],\n",
              "       [5.8, 2.7, 3.9, 1.2],\n",
              "       [6. , 2.7, 5.1, 1.6],\n",
              "       [5.4, 3. , 4.5, 1.5],\n",
              "       [6. , 3.4, 4.5, 1.6],\n",
              "       [6.7, 3.1, 4.7, 1.5],\n",
              "       [6.3, 2.3, 4.4, 1.3],\n",
              "       [5.6, 3. , 4.1, 1.3],\n",
              "       [5.5, 2.5, 4. , 1.3],\n",
              "       [5.5, 2.6, 4.4, 1.2],\n",
              "       [6.1, 3. , 4.6, 1.4],\n",
              "       [5.8, 2.6, 4. , 1.2],\n",
              "       [5. , 2.3, 3.3, 1. ],\n",
              "       [5.6, 2.7, 4.2, 1.3],\n",
              "       [5.7, 3. , 4.2, 1.2],\n",
              "       [5.7, 2.9, 4.2, 1.3],\n",
              "       [6.2, 2.9, 4.3, 1.3],\n",
              "       [5.1, 2.5, 3. , 1.1],\n",
              "       [5.7, 2.8, 4.1, 1.3],\n",
              "       [6.3, 3.3, 6. , 2.5],\n",
              "       [5.8, 2.7, 5.1, 1.9],\n",
              "       [7.1, 3. , 5.9, 2.1],\n",
              "       [6.3, 2.9, 5.6, 1.8],\n",
              "       [6.5, 3. , 5.8, 2.2],\n",
              "       [7.6, 3. , 6.6, 2.1],\n",
              "       [4.9, 2.5, 4.5, 1.7],\n",
              "       [7.3, 2.9, 6.3, 1.8],\n",
              "       [6.7, 2.5, 5.8, 1.8],\n",
              "       [7.2, 3.6, 6.1, 2.5],\n",
              "       [6.5, 3.2, 5.1, 2. ],\n",
              "       [6.4, 2.7, 5.3, 1.9],\n",
              "       [6.8, 3. , 5.5, 2.1],\n",
              "       [5.7, 2.5, 5. , 2. ],\n",
              "       [5.8, 2.8, 5.1, 2.4],\n",
              "       [6.4, 3.2, 5.3, 2.3],\n",
              "       [6.5, 3. , 5.5, 1.8],\n",
              "       [7.7, 3.8, 6.7, 2.2],\n",
              "       [7.7, 2.6, 6.9, 2.3],\n",
              "       [6. , 2.2, 5. , 1.5],\n",
              "       [6.9, 3.2, 5.7, 2.3],\n",
              "       [5.6, 2.8, 4.9, 2. ],\n",
              "       [7.7, 2.8, 6.7, 2. ],\n",
              "       [6.3, 2.7, 4.9, 1.8],\n",
              "       [6.7, 3.3, 5.7, 2.1],\n",
              "       [7.2, 3.2, 6. , 1.8],\n",
              "       [6.2, 2.8, 4.8, 1.8],\n",
              "       [6.1, 3. , 4.9, 1.8],\n",
              "       [6.4, 2.8, 5.6, 2.1],\n",
              "       [7.2, 3. , 5.8, 1.6],\n",
              "       [7.4, 2.8, 6.1, 1.9],\n",
              "       [7.9, 3.8, 6.4, 2. ],\n",
              "       [6.4, 2.8, 5.6, 2.2],\n",
              "       [6.3, 2.8, 5.1, 1.5],\n",
              "       [6.1, 2.6, 5.6, 1.4],\n",
              "       [7.7, 3. , 6.1, 2.3],\n",
              "       [6.3, 3.4, 5.6, 2.4],\n",
              "       [6.4, 3.1, 5.5, 1.8],\n",
              "       [6. , 3. , 4.8, 1.8],\n",
              "       [6.9, 3.1, 5.4, 2.1],\n",
              "       [6.7, 3.1, 5.6, 2.4],\n",
              "       [6.9, 3.1, 5.1, 2.3],\n",
              "       [5.8, 2.7, 5.1, 1.9],\n",
              "       [6.8, 3.2, 5.9, 2.3],\n",
              "       [6.7, 3.3, 5.7, 2.5],\n",
              "       [6.7, 3. , 5.2, 2.3],\n",
              "       [6.3, 2.5, 5. , 1.9],\n",
              "       [6.5, 3. , 5.2, 2. ],\n",
              "       [6.2, 3.4, 5.4, 2.3],\n",
              "       [5.9, 3. , 5.1, 1.8]])"
            ]
          },
          "metadata": {
            "tags": []
          },
          "execution_count": 7
        }
      ]
    },
    {
      "cell_type": "code",
      "metadata": {
        "id": "qtWp_tw7I8gs",
        "colab": {
          "base_uri": "https://localhost:8080/"
        },
        "outputId": "042ab2f4-63cc-49f3-a2b1-3863e140ff27"
      },
      "source": [
        "data_matrix = data_matrix.T # ทรานสพอร์ท\r\n",
        "print(data_matrix.shape)\r\n",
        "data_matrix"
      ],
      "execution_count": null,
      "outputs": [
        {
          "output_type": "stream",
          "text": [
            "(4, 150)\n"
          ],
          "name": "stdout"
        },
        {
          "output_type": "execute_result",
          "data": {
            "text/plain": [
              "array([[5.1, 4.9, 4.7, 4.6, 5. , 5.4, 4.6, 5. , 4.4, 4.9, 5.4, 4.8, 4.8,\n",
              "        4.3, 5.8, 5.7, 5.4, 5.1, 5.7, 5.1, 5.4, 5.1, 4.6, 5.1, 4.8, 5. ,\n",
              "        5. , 5.2, 5.2, 4.7, 4.8, 5.4, 5.2, 5.5, 4.9, 5. , 5.5, 4.9, 4.4,\n",
              "        5.1, 5. , 4.5, 4.4, 5. , 5.1, 4.8, 5.1, 4.6, 5.3, 5. , 7. , 6.4,\n",
              "        6.9, 5.5, 6.5, 5.7, 6.3, 4.9, 6.6, 5.2, 5. , 5.9, 6. , 6.1, 5.6,\n",
              "        6.7, 5.6, 5.8, 6.2, 5.6, 5.9, 6.1, 6.3, 6.1, 6.4, 6.6, 6.8, 6.7,\n",
              "        6. , 5.7, 5.5, 5.5, 5.8, 6. , 5.4, 6. , 6.7, 6.3, 5.6, 5.5, 5.5,\n",
              "        6.1, 5.8, 5. , 5.6, 5.7, 5.7, 6.2, 5.1, 5.7, 6.3, 5.8, 7.1, 6.3,\n",
              "        6.5, 7.6, 4.9, 7.3, 6.7, 7.2, 6.5, 6.4, 6.8, 5.7, 5.8, 6.4, 6.5,\n",
              "        7.7, 7.7, 6. , 6.9, 5.6, 7.7, 6.3, 6.7, 7.2, 6.2, 6.1, 6.4, 7.2,\n",
              "        7.4, 7.9, 6.4, 6.3, 6.1, 7.7, 6.3, 6.4, 6. , 6.9, 6.7, 6.9, 5.8,\n",
              "        6.8, 6.7, 6.7, 6.3, 6.5, 6.2, 5.9],\n",
              "       [3.5, 3. , 3.2, 3.1, 3.6, 3.9, 3.4, 3.4, 2.9, 3.1, 3.7, 3.4, 3. ,\n",
              "        3. , 4. , 4.4, 3.9, 3.5, 3.8, 3.8, 3.4, 3.7, 3.6, 3.3, 3.4, 3. ,\n",
              "        3.4, 3.5, 3.4, 3.2, 3.1, 3.4, 4.1, 4.2, 3.1, 3.2, 3.5, 3.1, 3. ,\n",
              "        3.4, 3.5, 2.3, 3.2, 3.5, 3.8, 3. , 3.8, 3.2, 3.7, 3.3, 3.2, 3.2,\n",
              "        3.1, 2.3, 2.8, 2.8, 3.3, 2.4, 2.9, 2.7, 2. , 3. , 2.2, 2.9, 2.9,\n",
              "        3.1, 3. , 2.7, 2.2, 2.5, 3.2, 2.8, 2.5, 2.8, 2.9, 3. , 2.8, 3. ,\n",
              "        2.9, 2.6, 2.4, 2.4, 2.7, 2.7, 3. , 3.4, 3.1, 2.3, 3. , 2.5, 2.6,\n",
              "        3. , 2.6, 2.3, 2.7, 3. , 2.9, 2.9, 2.5, 2.8, 3.3, 2.7, 3. , 2.9,\n",
              "        3. , 3. , 2.5, 2.9, 2.5, 3.6, 3.2, 2.7, 3. , 2.5, 2.8, 3.2, 3. ,\n",
              "        3.8, 2.6, 2.2, 3.2, 2.8, 2.8, 2.7, 3.3, 3.2, 2.8, 3. , 2.8, 3. ,\n",
              "        2.8, 3.8, 2.8, 2.8, 2.6, 3. , 3.4, 3.1, 3. , 3.1, 3.1, 3.1, 2.7,\n",
              "        3.2, 3.3, 3. , 2.5, 3. , 3.4, 3. ],\n",
              "       [1.4, 1.4, 1.3, 1.5, 1.4, 1.7, 1.4, 1.5, 1.4, 1.5, 1.5, 1.6, 1.4,\n",
              "        1.1, 1.2, 1.5, 1.3, 1.4, 1.7, 1.5, 1.7, 1.5, 1. , 1.7, 1.9, 1.6,\n",
              "        1.6, 1.5, 1.4, 1.6, 1.6, 1.5, 1.5, 1.4, 1.5, 1.2, 1.3, 1.5, 1.3,\n",
              "        1.5, 1.3, 1.3, 1.3, 1.6, 1.9, 1.4, 1.6, 1.4, 1.5, 1.4, 4.7, 4.5,\n",
              "        4.9, 4. , 4.6, 4.5, 4.7, 3.3, 4.6, 3.9, 3.5, 4.2, 4. , 4.7, 3.6,\n",
              "        4.4, 4.5, 4.1, 4.5, 3.9, 4.8, 4. , 4.9, 4.7, 4.3, 4.4, 4.8, 5. ,\n",
              "        4.5, 3.5, 3.8, 3.7, 3.9, 5.1, 4.5, 4.5, 4.7, 4.4, 4.1, 4. , 4.4,\n",
              "        4.6, 4. , 3.3, 4.2, 4.2, 4.2, 4.3, 3. , 4.1, 6. , 5.1, 5.9, 5.6,\n",
              "        5.8, 6.6, 4.5, 6.3, 5.8, 6.1, 5.1, 5.3, 5.5, 5. , 5.1, 5.3, 5.5,\n",
              "        6.7, 6.9, 5. , 5.7, 4.9, 6.7, 4.9, 5.7, 6. , 4.8, 4.9, 5.6, 5.8,\n",
              "        6.1, 6.4, 5.6, 5.1, 5.6, 6.1, 5.6, 5.5, 4.8, 5.4, 5.6, 5.1, 5.1,\n",
              "        5.9, 5.7, 5.2, 5. , 5.2, 5.4, 5.1],\n",
              "       [0.2, 0.2, 0.2, 0.2, 0.2, 0.4, 0.3, 0.2, 0.2, 0.1, 0.2, 0.2, 0.1,\n",
              "        0.1, 0.2, 0.4, 0.4, 0.3, 0.3, 0.3, 0.2, 0.4, 0.2, 0.5, 0.2, 0.2,\n",
              "        0.4, 0.2, 0.2, 0.2, 0.2, 0.4, 0.1, 0.2, 0.1, 0.2, 0.2, 0.1, 0.2,\n",
              "        0.2, 0.3, 0.3, 0.2, 0.6, 0.4, 0.3, 0.2, 0.2, 0.2, 0.2, 1.4, 1.5,\n",
              "        1.5, 1.3, 1.5, 1.3, 1.6, 1. , 1.3, 1.4, 1. , 1.5, 1. , 1.4, 1.3,\n",
              "        1.4, 1.5, 1. , 1.5, 1.1, 1.8, 1.3, 1.5, 1.2, 1.3, 1.4, 1.4, 1.7,\n",
              "        1.5, 1. , 1.1, 1. , 1.2, 1.6, 1.5, 1.6, 1.5, 1.3, 1.3, 1.3, 1.2,\n",
              "        1.4, 1.2, 1. , 1.3, 1.2, 1.3, 1.3, 1.1, 1.3, 2.5, 1.9, 2.1, 1.8,\n",
              "        2.2, 2.1, 1.7, 1.8, 1.8, 2.5, 2. , 1.9, 2.1, 2. , 2.4, 2.3, 1.8,\n",
              "        2.2, 2.3, 1.5, 2.3, 2. , 2. , 1.8, 2.1, 1.8, 1.8, 1.8, 2.1, 1.6,\n",
              "        1.9, 2. , 2.2, 1.5, 1.4, 2.3, 2.4, 1.8, 1.8, 2.1, 2.4, 2.3, 1.9,\n",
              "        2.3, 2.5, 2.3, 1.9, 2. , 2.3, 1.8]])"
            ]
          },
          "metadata": {
            "tags": []
          },
          "execution_count": 8
        }
      ]
    },
    {
      "cell_type": "markdown",
      "metadata": {
        "id": "zI3-v8f8fflm"
      },
      "source": [
        "# 1.Standardizing the Data (ปรับ mean และ std ให้ มี mean=0 std=1)\r\n",
        "\r\n",
        "เพื่อให้เป็นมาตรฐาน\r\n",
        "\r\n",
        "![ภาพประกอบ mean=0.png](data:image/png;base64,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)"
      ]
    },
    {
      "cell_type": "markdown",
      "metadata": {
        "id": "K1_3a8JQo0nU"
      },
      "source": [
        "## วิธีซับซ้อน"
      ]
    },
    {
      "cell_type": "code",
      "metadata": {
        "id": "xRfS_MGAJj6J",
        "colab": {
          "base_uri": "https://localhost:8080/"
        },
        "outputId": "f255da86-5f30-4ab0-9ae3-cc8aee636a21"
      },
      "source": [
        "meanD = np.mean(data_matrix) # mean ของทั้งเมทริกซ์ ใช้ไม่ได้\r\n",
        "meanD"
      ],
      "execution_count": null,
      "outputs": [
        {
          "output_type": "execute_result",
          "data": {
            "text/plain": [
              "3.4636666666666662"
            ]
          },
          "metadata": {
            "tags": []
          },
          "execution_count": 9
        }
      ]
    },
    {
      "cell_type": "code",
      "metadata": {
        "id": "6W_QsZ_8JoQI",
        "colab": {
          "base_uri": "https://localhost:8080/"
        },
        "outputId": "71d97bb6-0ddc-4d40-9a29-f9c8fc76a0fd"
      },
      "source": [
        "meanD = np.mean(data_matrix,axis=0) # axis หาในเเนวเเกน 0\r\n",
        "meanD"
      ],
      "execution_count": null,
      "outputs": [
        {
          "output_type": "execute_result",
          "data": {
            "text/plain": [
              "array([2.55 , 2.375, 2.35 , 2.35 , 2.55 , 2.85 , 2.425, 2.525, 2.225,\n",
              "       2.4  , 2.7  , 2.5  , 2.325, 2.125, 2.8  , 3.   , 2.75 , 2.575,\n",
              "       2.875, 2.675, 2.675, 2.675, 2.35 , 2.65 , 2.575, 2.45 , 2.6  ,\n",
              "       2.6  , 2.55 , 2.425, 2.425, 2.675, 2.725, 2.825, 2.4  , 2.4  ,\n",
              "       2.625, 2.4  , 2.225, 2.55 , 2.525, 2.1  , 2.275, 2.675, 2.8  ,\n",
              "       2.375, 2.675, 2.35 , 2.675, 2.475, 4.075, 3.9  , 4.1  , 3.275,\n",
              "       3.85 , 3.575, 3.975, 2.9  , 3.85 , 3.3  , 2.875, 3.65 , 3.3  ,\n",
              "       3.775, 3.35 , 3.9  , 3.65 , 3.4  , 3.6  , 3.275, 3.925, 3.55 ,\n",
              "       3.8  , 3.7  , 3.725, 3.85 , 3.95 , 4.1  , 3.725, 3.2  , 3.2  ,\n",
              "       3.15 , 3.4  , 3.85 , 3.6  , 3.875, 4.   , 3.575, 3.5  , 3.325,\n",
              "       3.425, 3.775, 3.4  , 2.9  , 3.45 , 3.525, 3.525, 3.675, 2.925,\n",
              "       3.475, 4.525, 3.875, 4.525, 4.15 , 4.375, 4.825, 3.4  , 4.575,\n",
              "       4.2  , 4.85 , 4.2  , 4.075, 4.35 , 3.8  , 4.025, 4.3  , 4.2  ,\n",
              "       5.1  , 4.875, 3.675, 4.525, 3.825, 4.8  , 3.925, 4.45 , 4.55 ,\n",
              "       3.9  , 3.95 , 4.225, 4.4  , 4.55 , 5.025, 4.25 , 3.925, 3.925,\n",
              "       4.775, 4.425, 4.2  , 3.9  , 4.375, 4.45 , 4.35 , 3.875, 4.55 ,\n",
              "       4.55 , 4.3  , 3.925, 4.175, 4.325, 3.95 ])"
            ]
          },
          "metadata": {
            "tags": []
          },
          "execution_count": 10
        }
      ]
    },
    {
      "cell_type": "code",
      "metadata": {
        "id": "vjU0vsGHgAB1",
        "colab": {
          "base_uri": "https://localhost:8080/"
        },
        "outputId": "9e4ff5cf-2ac7-4b54-e252-419b30b2eec9"
      },
      "source": [
        "meanD = np.mean(data_matrix,axis=1)# ได้ mean ทั้งหมด 4 ตัว ใช้อันนี้\r\n",
        "meanD"
      ],
      "execution_count": null,
      "outputs": [
        {
          "output_type": "execute_result",
          "data": {
            "text/plain": [
              "array([5.84333333, 3.054     , 3.75866667, 1.19866667])"
            ]
          },
          "metadata": {
            "tags": []
          },
          "execution_count": 11
        }
      ]
    },
    {
      "cell_type": "code",
      "metadata": {
        "id": "ly_NeazGJ_HY",
        "colab": {
          "base_uri": "https://localhost:8080/"
        },
        "outputId": "612c1ed4-1677-4dce-90ac-f5088860f8f2"
      },
      "source": [
        "stdD = np.std(data_matrix,axis=1) # การหา std\r\n",
        "stdD"
      ],
      "execution_count": null,
      "outputs": [
        {
          "output_type": "execute_result",
          "data": {
            "text/plain": [
              "array([0.82530129, 0.43214658, 1.75852918, 0.76061262])"
            ]
          },
          "metadata": {
            "tags": []
          },
          "execution_count": 12
        }
      ]
    },
    {
      "cell_type": "code",
      "metadata": {
        "id": "-2iOESUDjK4K",
        "colab": {
          "base_uri": "https://localhost:8080/"
        },
        "outputId": "f4bb770b-9f77-4f0a-fbbc-1e4ef2705a2c"
      },
      "source": [
        "zeromatrix = np.zeros((4,10))# สร้างเมทรกซ์ 0 ที่มี 4เเถว 10 หลัก\r\n",
        "zeromatrix"
      ],
      "execution_count": null,
      "outputs": [
        {
          "output_type": "execute_result",
          "data": {
            "text/plain": [
              "array([[0., 0., 0., 0., 0., 0., 0., 0., 0., 0.],\n",
              "       [0., 0., 0., 0., 0., 0., 0., 0., 0., 0.],\n",
              "       [0., 0., 0., 0., 0., 0., 0., 0., 0., 0.],\n",
              "       [0., 0., 0., 0., 0., 0., 0., 0., 0., 0.]])"
            ]
          },
          "metadata": {
            "tags": []
          },
          "execution_count": 13
        }
      ]
    },
    {
      "cell_type": "code",
      "metadata": {
        "id": "qAOFbLeLj4Fo",
        "colab": {
          "base_uri": "https://localhost:8080/",
          "height": 163
        },
        "outputId": "bac74308-10af-423b-d4fe-00dfb655f847"
      },
      "source": [
        "zeromatrix-meanD# หลักเเละเเถวไม่เท่ากัน"
      ],
      "execution_count": null,
      "outputs": [
        {
          "output_type": "error",
          "ename": "ValueError",
          "evalue": "ignored",
          "traceback": [
            "\u001b[0;31m---------------------------------------------------------------------------\u001b[0m",
            "\u001b[0;31mValueError\u001b[0m                                Traceback (most recent call last)",
            "\u001b[0;32m<ipython-input-14-47df7e4d6f3e>\u001b[0m in \u001b[0;36m<module>\u001b[0;34m()\u001b[0m\n\u001b[0;32m----> 1\u001b[0;31m \u001b[0mzeromatrix\u001b[0m\u001b[0;34m-\u001b[0m\u001b[0mmeanD\u001b[0m\u001b[0;31m# หลักเเละเเถวไม่เท่ากัน\u001b[0m\u001b[0;34m\u001b[0m\u001b[0;34m\u001b[0m\u001b[0m\n\u001b[0m",
            "\u001b[0;31mValueError\u001b[0m: operands could not be broadcast together with shapes (4,10) (4,) "
          ]
        }
      ]
    },
    {
      "cell_type": "code",
      "metadata": {
        "id": "NJ8ZP4p9Ka1g",
        "colab": {
          "base_uri": "https://localhost:8080/"
        },
        "outputId": "b19668ad-eee6-4dc0-ce06-237118b4936c"
      },
      "source": [
        "onematrix = np.ones((4,10)) # เมทริกซ์ หนึ่ง 4 เเถว 10 หลัก\r\n",
        "onematrix"
      ],
      "execution_count": null,
      "outputs": [
        {
          "output_type": "execute_result",
          "data": {
            "text/plain": [
              "array([[1., 1., 1., 1., 1., 1., 1., 1., 1., 1.],\n",
              "       [1., 1., 1., 1., 1., 1., 1., 1., 1., 1.],\n",
              "       [1., 1., 1., 1., 1., 1., 1., 1., 1., 1.],\n",
              "       [1., 1., 1., 1., 1., 1., 1., 1., 1., 1.]])"
            ]
          },
          "metadata": {
            "tags": []
          },
          "execution_count": 15
        }
      ]
    },
    {
      "cell_type": "code",
      "metadata": {
        "id": "9Fl1bLKDliYE",
        "colab": {
          "base_uri": "https://localhost:8080/"
        },
        "outputId": "cb6b1e3a-686d-490e-a639-7be0191052d0"
      },
      "source": [
        "zeromatrix - meanD . reshape((4,1))## reshape บังคับขนาดของ matrix ให้เป็นไปตามที่เราต้องการ"
      ],
      "execution_count": null,
      "outputs": [
        {
          "output_type": "execute_result",
          "data": {
            "text/plain": [
              "array([[-5.84333333, -5.84333333, -5.84333333, -5.84333333, -5.84333333,\n",
              "        -5.84333333, -5.84333333, -5.84333333, -5.84333333, -5.84333333],\n",
              "       [-3.054     , -3.054     , -3.054     , -3.054     , -3.054     ,\n",
              "        -3.054     , -3.054     , -3.054     , -3.054     , -3.054     ],\n",
              "       [-3.75866667, -3.75866667, -3.75866667, -3.75866667, -3.75866667,\n",
              "        -3.75866667, -3.75866667, -3.75866667, -3.75866667, -3.75866667],\n",
              "       [-1.19866667, -1.19866667, -1.19866667, -1.19866667, -1.19866667,\n",
              "        -1.19866667, -1.19866667, -1.19866667, -1.19866667, -1.19866667]])"
            ]
          },
          "metadata": {
            "tags": []
          },
          "execution_count": 16
        }
      ]
    },
    {
      "cell_type": "markdown",
      "metadata": {
        "id": "e1rmUScEl81O"
      },
      "source": [
        "####  เลื่อน mean มาที่ 0"
      ]
    },
    {
      "cell_type": "code",
      "metadata": {
        "id": "2TWBmfHymEub",
        "colab": {
          "base_uri": "https://localhost:8080/"
        },
        "outputId": "065a2bee-ccce-4002-8cea-885ca20550ad"
      },
      "source": [
        "data_matrix_m0 = data_matrix- meanD.reshape((4,1)) # การเลื่อน data มารอบๆเลื่อน mean มาที่ 0\r\n",
        "data_matrix_m0"
      ],
      "execution_count": null,
      "outputs": [
        {
          "output_type": "execute_result",
          "data": {
            "text/plain": [
              "array([[-7.43333333e-01, -9.43333333e-01, -1.14333333e+00,\n",
              "        -1.24333333e+00, -8.43333333e-01, -4.43333333e-01,\n",
              "        -1.24333333e+00, -8.43333333e-01, -1.44333333e+00,\n",
              "        -9.43333333e-01, -4.43333333e-01, -1.04333333e+00,\n",
              "        -1.04333333e+00, -1.54333333e+00, -4.33333333e-02,\n",
              "        -1.43333333e-01, -4.43333333e-01, -7.43333333e-01,\n",
              "        -1.43333333e-01, -7.43333333e-01, -4.43333333e-01,\n",
              "        -7.43333333e-01, -1.24333333e+00, -7.43333333e-01,\n",
              "        -1.04333333e+00, -8.43333333e-01, -8.43333333e-01,\n",
              "        -6.43333333e-01, -6.43333333e-01, -1.14333333e+00,\n",
              "        -1.04333333e+00, -4.43333333e-01, -6.43333333e-01,\n",
              "        -3.43333333e-01, -9.43333333e-01, -8.43333333e-01,\n",
              "        -3.43333333e-01, -9.43333333e-01, -1.44333333e+00,\n",
              "        -7.43333333e-01, -8.43333333e-01, -1.34333333e+00,\n",
              "        -1.44333333e+00, -8.43333333e-01, -7.43333333e-01,\n",
              "        -1.04333333e+00, -7.43333333e-01, -1.24333333e+00,\n",
              "        -5.43333333e-01, -8.43333333e-01,  1.15666667e+00,\n",
              "         5.56666667e-01,  1.05666667e+00, -3.43333333e-01,\n",
              "         6.56666667e-01, -1.43333333e-01,  4.56666667e-01,\n",
              "        -9.43333333e-01,  7.56666667e-01, -6.43333333e-01,\n",
              "        -8.43333333e-01,  5.66666667e-02,  1.56666667e-01,\n",
              "         2.56666667e-01, -2.43333333e-01,  8.56666667e-01,\n",
              "        -2.43333333e-01, -4.33333333e-02,  3.56666667e-01,\n",
              "        -2.43333333e-01,  5.66666667e-02,  2.56666667e-01,\n",
              "         4.56666667e-01,  2.56666667e-01,  5.56666667e-01,\n",
              "         7.56666667e-01,  9.56666667e-01,  8.56666667e-01,\n",
              "         1.56666667e-01, -1.43333333e-01, -3.43333333e-01,\n",
              "        -3.43333333e-01, -4.33333333e-02,  1.56666667e-01,\n",
              "        -4.43333333e-01,  1.56666667e-01,  8.56666667e-01,\n",
              "         4.56666667e-01, -2.43333333e-01, -3.43333333e-01,\n",
              "        -3.43333333e-01,  2.56666667e-01, -4.33333333e-02,\n",
              "        -8.43333333e-01, -2.43333333e-01, -1.43333333e-01,\n",
              "        -1.43333333e-01,  3.56666667e-01, -7.43333333e-01,\n",
              "        -1.43333333e-01,  4.56666667e-01, -4.33333333e-02,\n",
              "         1.25666667e+00,  4.56666667e-01,  6.56666667e-01,\n",
              "         1.75666667e+00, -9.43333333e-01,  1.45666667e+00,\n",
              "         8.56666667e-01,  1.35666667e+00,  6.56666667e-01,\n",
              "         5.56666667e-01,  9.56666667e-01, -1.43333333e-01,\n",
              "        -4.33333333e-02,  5.56666667e-01,  6.56666667e-01,\n",
              "         1.85666667e+00,  1.85666667e+00,  1.56666667e-01,\n",
              "         1.05666667e+00, -2.43333333e-01,  1.85666667e+00,\n",
              "         4.56666667e-01,  8.56666667e-01,  1.35666667e+00,\n",
              "         3.56666667e-01,  2.56666667e-01,  5.56666667e-01,\n",
              "         1.35666667e+00,  1.55666667e+00,  2.05666667e+00,\n",
              "         5.56666667e-01,  4.56666667e-01,  2.56666667e-01,\n",
              "         1.85666667e+00,  4.56666667e-01,  5.56666667e-01,\n",
              "         1.56666667e-01,  1.05666667e+00,  8.56666667e-01,\n",
              "         1.05666667e+00, -4.33333333e-02,  9.56666667e-01,\n",
              "         8.56666667e-01,  8.56666667e-01,  4.56666667e-01,\n",
              "         6.56666667e-01,  3.56666667e-01,  5.66666667e-02],\n",
              "       [ 4.46000000e-01, -5.40000000e-02,  1.46000000e-01,\n",
              "         4.60000000e-02,  5.46000000e-01,  8.46000000e-01,\n",
              "         3.46000000e-01,  3.46000000e-01, -1.54000000e-01,\n",
              "         4.60000000e-02,  6.46000000e-01,  3.46000000e-01,\n",
              "        -5.40000000e-02, -5.40000000e-02,  9.46000000e-01,\n",
              "         1.34600000e+00,  8.46000000e-01,  4.46000000e-01,\n",
              "         7.46000000e-01,  7.46000000e-01,  3.46000000e-01,\n",
              "         6.46000000e-01,  5.46000000e-01,  2.46000000e-01,\n",
              "         3.46000000e-01, -5.40000000e-02,  3.46000000e-01,\n",
              "         4.46000000e-01,  3.46000000e-01,  1.46000000e-01,\n",
              "         4.60000000e-02,  3.46000000e-01,  1.04600000e+00,\n",
              "         1.14600000e+00,  4.60000000e-02,  1.46000000e-01,\n",
              "         4.46000000e-01,  4.60000000e-02, -5.40000000e-02,\n",
              "         3.46000000e-01,  4.46000000e-01, -7.54000000e-01,\n",
              "         1.46000000e-01,  4.46000000e-01,  7.46000000e-01,\n",
              "        -5.40000000e-02,  7.46000000e-01,  1.46000000e-01,\n",
              "         6.46000000e-01,  2.46000000e-01,  1.46000000e-01,\n",
              "         1.46000000e-01,  4.60000000e-02, -7.54000000e-01,\n",
              "        -2.54000000e-01, -2.54000000e-01,  2.46000000e-01,\n",
              "        -6.54000000e-01, -1.54000000e-01, -3.54000000e-01,\n",
              "        -1.05400000e+00, -5.40000000e-02, -8.54000000e-01,\n",
              "        -1.54000000e-01, -1.54000000e-01,  4.60000000e-02,\n",
              "        -5.40000000e-02, -3.54000000e-01, -8.54000000e-01,\n",
              "        -5.54000000e-01,  1.46000000e-01, -2.54000000e-01,\n",
              "        -5.54000000e-01, -2.54000000e-01, -1.54000000e-01,\n",
              "        -5.40000000e-02, -2.54000000e-01, -5.40000000e-02,\n",
              "        -1.54000000e-01, -4.54000000e-01, -6.54000000e-01,\n",
              "        -6.54000000e-01, -3.54000000e-01, -3.54000000e-01,\n",
              "        -5.40000000e-02,  3.46000000e-01,  4.60000000e-02,\n",
              "        -7.54000000e-01, -5.40000000e-02, -5.54000000e-01,\n",
              "        -4.54000000e-01, -5.40000000e-02, -4.54000000e-01,\n",
              "        -7.54000000e-01, -3.54000000e-01, -5.40000000e-02,\n",
              "        -1.54000000e-01, -1.54000000e-01, -5.54000000e-01,\n",
              "        -2.54000000e-01,  2.46000000e-01, -3.54000000e-01,\n",
              "        -5.40000000e-02, -1.54000000e-01, -5.40000000e-02,\n",
              "        -5.40000000e-02, -5.54000000e-01, -1.54000000e-01,\n",
              "        -5.54000000e-01,  5.46000000e-01,  1.46000000e-01,\n",
              "        -3.54000000e-01, -5.40000000e-02, -5.54000000e-01,\n",
              "        -2.54000000e-01,  1.46000000e-01, -5.40000000e-02,\n",
              "         7.46000000e-01, -4.54000000e-01, -8.54000000e-01,\n",
              "         1.46000000e-01, -2.54000000e-01, -2.54000000e-01,\n",
              "        -3.54000000e-01,  2.46000000e-01,  1.46000000e-01,\n",
              "        -2.54000000e-01, -5.40000000e-02, -2.54000000e-01,\n",
              "        -5.40000000e-02, -2.54000000e-01,  7.46000000e-01,\n",
              "        -2.54000000e-01, -2.54000000e-01, -4.54000000e-01,\n",
              "        -5.40000000e-02,  3.46000000e-01,  4.60000000e-02,\n",
              "        -5.40000000e-02,  4.60000000e-02,  4.60000000e-02,\n",
              "         4.60000000e-02, -3.54000000e-01,  1.46000000e-01,\n",
              "         2.46000000e-01, -5.40000000e-02, -5.54000000e-01,\n",
              "        -5.40000000e-02,  3.46000000e-01, -5.40000000e-02],\n",
              "       [-2.35866667e+00, -2.35866667e+00, -2.45866667e+00,\n",
              "        -2.25866667e+00, -2.35866667e+00, -2.05866667e+00,\n",
              "        -2.35866667e+00, -2.25866667e+00, -2.35866667e+00,\n",
              "        -2.25866667e+00, -2.25866667e+00, -2.15866667e+00,\n",
              "        -2.35866667e+00, -2.65866667e+00, -2.55866667e+00,\n",
              "        -2.25866667e+00, -2.45866667e+00, -2.35866667e+00,\n",
              "        -2.05866667e+00, -2.25866667e+00, -2.05866667e+00,\n",
              "        -2.25866667e+00, -2.75866667e+00, -2.05866667e+00,\n",
              "        -1.85866667e+00, -2.15866667e+00, -2.15866667e+00,\n",
              "        -2.25866667e+00, -2.35866667e+00, -2.15866667e+00,\n",
              "        -2.15866667e+00, -2.25866667e+00, -2.25866667e+00,\n",
              "        -2.35866667e+00, -2.25866667e+00, -2.55866667e+00,\n",
              "        -2.45866667e+00, -2.25866667e+00, -2.45866667e+00,\n",
              "        -2.25866667e+00, -2.45866667e+00, -2.45866667e+00,\n",
              "        -2.45866667e+00, -2.15866667e+00, -1.85866667e+00,\n",
              "        -2.35866667e+00, -2.15866667e+00, -2.35866667e+00,\n",
              "        -2.25866667e+00, -2.35866667e+00,  9.41333333e-01,\n",
              "         7.41333333e-01,  1.14133333e+00,  2.41333333e-01,\n",
              "         8.41333333e-01,  7.41333333e-01,  9.41333333e-01,\n",
              "        -4.58666667e-01,  8.41333333e-01,  1.41333333e-01,\n",
              "        -2.58666667e-01,  4.41333333e-01,  2.41333333e-01,\n",
              "         9.41333333e-01, -1.58666667e-01,  6.41333333e-01,\n",
              "         7.41333333e-01,  3.41333333e-01,  7.41333333e-01,\n",
              "         1.41333333e-01,  1.04133333e+00,  2.41333333e-01,\n",
              "         1.14133333e+00,  9.41333333e-01,  5.41333333e-01,\n",
              "         6.41333333e-01,  1.04133333e+00,  1.24133333e+00,\n",
              "         7.41333333e-01, -2.58666667e-01,  4.13333333e-02,\n",
              "        -5.86666667e-02,  1.41333333e-01,  1.34133333e+00,\n",
              "         7.41333333e-01,  7.41333333e-01,  9.41333333e-01,\n",
              "         6.41333333e-01,  3.41333333e-01,  2.41333333e-01,\n",
              "         6.41333333e-01,  8.41333333e-01,  2.41333333e-01,\n",
              "        -4.58666667e-01,  4.41333333e-01,  4.41333333e-01,\n",
              "         4.41333333e-01,  5.41333333e-01, -7.58666667e-01,\n",
              "         3.41333333e-01,  2.24133333e+00,  1.34133333e+00,\n",
              "         2.14133333e+00,  1.84133333e+00,  2.04133333e+00,\n",
              "         2.84133333e+00,  7.41333333e-01,  2.54133333e+00,\n",
              "         2.04133333e+00,  2.34133333e+00,  1.34133333e+00,\n",
              "         1.54133333e+00,  1.74133333e+00,  1.24133333e+00,\n",
              "         1.34133333e+00,  1.54133333e+00,  1.74133333e+00,\n",
              "         2.94133333e+00,  3.14133333e+00,  1.24133333e+00,\n",
              "         1.94133333e+00,  1.14133333e+00,  2.94133333e+00,\n",
              "         1.14133333e+00,  1.94133333e+00,  2.24133333e+00,\n",
              "         1.04133333e+00,  1.14133333e+00,  1.84133333e+00,\n",
              "         2.04133333e+00,  2.34133333e+00,  2.64133333e+00,\n",
              "         1.84133333e+00,  1.34133333e+00,  1.84133333e+00,\n",
              "         2.34133333e+00,  1.84133333e+00,  1.74133333e+00,\n",
              "         1.04133333e+00,  1.64133333e+00,  1.84133333e+00,\n",
              "         1.34133333e+00,  1.34133333e+00,  2.14133333e+00,\n",
              "         1.94133333e+00,  1.44133333e+00,  1.24133333e+00,\n",
              "         1.44133333e+00,  1.64133333e+00,  1.34133333e+00],\n",
              "       [-9.98666667e-01, -9.98666667e-01, -9.98666667e-01,\n",
              "        -9.98666667e-01, -9.98666667e-01, -7.98666667e-01,\n",
              "        -8.98666667e-01, -9.98666667e-01, -9.98666667e-01,\n",
              "        -1.09866667e+00, -9.98666667e-01, -9.98666667e-01,\n",
              "        -1.09866667e+00, -1.09866667e+00, -9.98666667e-01,\n",
              "        -7.98666667e-01, -7.98666667e-01, -8.98666667e-01,\n",
              "        -8.98666667e-01, -8.98666667e-01, -9.98666667e-01,\n",
              "        -7.98666667e-01, -9.98666667e-01, -6.98666667e-01,\n",
              "        -9.98666667e-01, -9.98666667e-01, -7.98666667e-01,\n",
              "        -9.98666667e-01, -9.98666667e-01, -9.98666667e-01,\n",
              "        -9.98666667e-01, -7.98666667e-01, -1.09866667e+00,\n",
              "        -9.98666667e-01, -1.09866667e+00, -9.98666667e-01,\n",
              "        -9.98666667e-01, -1.09866667e+00, -9.98666667e-01,\n",
              "        -9.98666667e-01, -8.98666667e-01, -8.98666667e-01,\n",
              "        -9.98666667e-01, -5.98666667e-01, -7.98666667e-01,\n",
              "        -8.98666667e-01, -9.98666667e-01, -9.98666667e-01,\n",
              "        -9.98666667e-01, -9.98666667e-01,  2.01333333e-01,\n",
              "         3.01333333e-01,  3.01333333e-01,  1.01333333e-01,\n",
              "         3.01333333e-01,  1.01333333e-01,  4.01333333e-01,\n",
              "        -1.98666667e-01,  1.01333333e-01,  2.01333333e-01,\n",
              "        -1.98666667e-01,  3.01333333e-01, -1.98666667e-01,\n",
              "         2.01333333e-01,  1.01333333e-01,  2.01333333e-01,\n",
              "         3.01333333e-01, -1.98666667e-01,  3.01333333e-01,\n",
              "        -9.86666667e-02,  6.01333333e-01,  1.01333333e-01,\n",
              "         3.01333333e-01,  1.33333333e-03,  1.01333333e-01,\n",
              "         2.01333333e-01,  2.01333333e-01,  5.01333333e-01,\n",
              "         3.01333333e-01, -1.98666667e-01, -9.86666667e-02,\n",
              "        -1.98666667e-01,  1.33333333e-03,  4.01333333e-01,\n",
              "         3.01333333e-01,  4.01333333e-01,  3.01333333e-01,\n",
              "         1.01333333e-01,  1.01333333e-01,  1.01333333e-01,\n",
              "         1.33333333e-03,  2.01333333e-01,  1.33333333e-03,\n",
              "        -1.98666667e-01,  1.01333333e-01,  1.33333333e-03,\n",
              "         1.01333333e-01,  1.01333333e-01, -9.86666667e-02,\n",
              "         1.01333333e-01,  1.30133333e+00,  7.01333333e-01,\n",
              "         9.01333333e-01,  6.01333333e-01,  1.00133333e+00,\n",
              "         9.01333333e-01,  5.01333333e-01,  6.01333333e-01,\n",
              "         6.01333333e-01,  1.30133333e+00,  8.01333333e-01,\n",
              "         7.01333333e-01,  9.01333333e-01,  8.01333333e-01,\n",
              "         1.20133333e+00,  1.10133333e+00,  6.01333333e-01,\n",
              "         1.00133333e+00,  1.10133333e+00,  3.01333333e-01,\n",
              "         1.10133333e+00,  8.01333333e-01,  8.01333333e-01,\n",
              "         6.01333333e-01,  9.01333333e-01,  6.01333333e-01,\n",
              "         6.01333333e-01,  6.01333333e-01,  9.01333333e-01,\n",
              "         4.01333333e-01,  7.01333333e-01,  8.01333333e-01,\n",
              "         1.00133333e+00,  3.01333333e-01,  2.01333333e-01,\n",
              "         1.10133333e+00,  1.20133333e+00,  6.01333333e-01,\n",
              "         6.01333333e-01,  9.01333333e-01,  1.20133333e+00,\n",
              "         1.10133333e+00,  7.01333333e-01,  1.10133333e+00,\n",
              "         1.30133333e+00,  1.10133333e+00,  7.01333333e-01,\n",
              "         8.01333333e-01,  1.10133333e+00,  6.01333333e-01]])"
            ]
          },
          "metadata": {
            "tags": []
          },
          "execution_count": 17
        }
      ]
    },
    {
      "cell_type": "code",
      "metadata": {
        "id": "InLeIPBmmUZh"
      },
      "source": [
        "from matplotlib import pyplot as plt"
      ],
      "execution_count": null,
      "outputs": []
    },
    {
      "cell_type": "code",
      "metadata": {
        "id": "W_PVaePJLILe",
        "colab": {
          "base_uri": "https://localhost:8080/",
          "height": 350
        },
        "outputId": "41935eda-bb24-4320-ddca-f144ef799cf4"
      },
      "source": [
        "plt.hist(data_matrix[0,:],bins = 'rice') # การพร็อตกราฟฮิสโตเเกรม"
      ],
      "execution_count": null,
      "outputs": [
        {
          "output_type": "execute_result",
          "data": {
            "text/plain": [
              "(array([ 9., 13., 23., 20., 18., 16., 21., 17.,  5.,  2.,  6.]),\n",
              " array([4.3       , 4.62727273, 4.95454545, 5.28181818, 5.60909091,\n",
              "        5.93636364, 6.26363636, 6.59090909, 6.91818182, 7.24545455,\n",
              "        7.57272727, 7.9       ]),\n",
              " <a list of 11 Patch objects>)"
            ]
          },
          "metadata": {
            "tags": []
          },
          "execution_count": 19
        },
        {
          "output_type": "display_data",
          "data": {
            "image/png": "[encoded data removed]",
            "text/plain": [
              "<Figure size 432x288 with 1 Axes>"
            ]
          },
          "metadata": {
            "tags": [],
            "needs_background": "light"
          }
        }
      ]
    },
    {
      "cell_type": "code",
      "metadata": {
        "id": "86SmZT18LVxW",
        "colab": {
          "base_uri": "https://localhost:8080/",
          "height": 350
        },
        "outputId": "d74b4121-ab9c-45fd-eb6a-d6c5ecb65711"
      },
      "source": [
        "plt.hist(data_matrix_m0[0,:],bins = 'rice')"
      ],
      "execution_count": null,
      "outputs": [
        {
          "output_type": "execute_result",
          "data": {
            "text/plain": [
              "(array([ 9., 13., 23., 20., 18., 16., 21., 17.,  5.,  2.,  6.]),\n",
              " array([-1.54333333, -1.21606061, -0.88878788, -0.56151515, -0.23424242,\n",
              "         0.0930303 ,  0.42030303,  0.74757576,  1.07484848,  1.40212121,\n",
              "         1.72939394,  2.05666667]),\n",
              " <a list of 11 Patch objects>)"
            ]
          },
          "metadata": {
            "tags": []
          },
          "execution_count": 20
        },
        {
          "output_type": "display_data",
          "data": {
            "image/png": "[encoded data removed]",
            "text/plain": [
              "<Figure size 432x288 with 1 Axes>"
            ]
          },
          "metadata": {
            "tags": [],
            "needs_background": "light"
          }
        }
      ]
    },
    {
      "cell_type": "code",
      "metadata": {
        "id": "tYiEDtbxoLT2",
        "colab": {
          "base_uri": "https://localhost:8080/"
        },
        "outputId": "a89016cb-9306-4c10-b62a-d548fef60ea4"
      },
      "source": [
        "data_matrix_m0_std1 = data_matrix_m0/stdD.reshape((4,1))\r\n",
        "data_matrix_m0_std1"
      ],
      "execution_count": null,
      "outputs": [
        {
          "output_type": "execute_result",
          "data": {
            "text/plain": [
              "array([[-9.00681170e-01, -1.14301691e+00, -1.38535265e+00,\n",
              "        -1.50652052e+00, -1.02184904e+00, -5.37177559e-01,\n",
              "        -1.50652052e+00, -1.02184904e+00, -1.74885626e+00,\n",
              "        -1.14301691e+00, -5.37177559e-01, -1.26418478e+00,\n",
              "        -1.26418478e+00, -1.87002413e+00, -5.25060772e-02,\n",
              "        -1.73673948e-01, -5.37177559e-01, -9.00681170e-01,\n",
              "        -1.73673948e-01, -9.00681170e-01, -5.37177559e-01,\n",
              "        -9.00681170e-01, -1.50652052e+00, -9.00681170e-01,\n",
              "        -1.26418478e+00, -1.02184904e+00, -1.02184904e+00,\n",
              "        -7.79513300e-01, -7.79513300e-01, -1.38535265e+00,\n",
              "        -1.26418478e+00, -5.37177559e-01, -7.79513300e-01,\n",
              "        -4.16009689e-01, -1.14301691e+00, -1.02184904e+00,\n",
              "        -4.16009689e-01, -1.14301691e+00, -1.74885626e+00,\n",
              "        -9.00681170e-01, -1.02184904e+00, -1.62768839e+00,\n",
              "        -1.74885626e+00, -1.02184904e+00, -9.00681170e-01,\n",
              "        -1.26418478e+00, -9.00681170e-01, -1.50652052e+00,\n",
              "        -6.58345429e-01, -1.02184904e+00,  1.40150837e+00,\n",
              "         6.74501145e-01,  1.28034050e+00, -4.16009689e-01,\n",
              "         7.95669016e-01, -1.73673948e-01,  5.53333275e-01,\n",
              "        -1.14301691e+00,  9.16836886e-01, -7.79513300e-01,\n",
              "        -1.02184904e+00,  6.86617933e-02,  1.89829664e-01,\n",
              "         3.10997534e-01, -2.94841818e-01,  1.03800476e+00,\n",
              "        -2.94841818e-01, -5.25060772e-02,  4.32165405e-01,\n",
              "        -2.94841818e-01,  6.86617933e-02,  3.10997534e-01,\n",
              "         5.53333275e-01,  3.10997534e-01,  6.74501145e-01,\n",
              "         9.16836886e-01,  1.15917263e+00,  1.03800476e+00,\n",
              "         1.89829664e-01, -1.73673948e-01, -4.16009689e-01,\n",
              "        -4.16009689e-01, -5.25060772e-02,  1.89829664e-01,\n",
              "        -5.37177559e-01,  1.89829664e-01,  1.03800476e+00,\n",
              "         5.53333275e-01, -2.94841818e-01, -4.16009689e-01,\n",
              "        -4.16009689e-01,  3.10997534e-01, -5.25060772e-02,\n",
              "        -1.02184904e+00, -2.94841818e-01, -1.73673948e-01,\n",
              "        -1.73673948e-01,  4.32165405e-01, -9.00681170e-01,\n",
              "        -1.73673948e-01,  5.53333275e-01, -5.25060772e-02,\n",
              "         1.52267624e+00,  5.53333275e-01,  7.95669016e-01,\n",
              "         2.12851559e+00, -1.14301691e+00,  1.76501198e+00,\n",
              "         1.03800476e+00,  1.64384411e+00,  7.95669016e-01,\n",
              "         6.74501145e-01,  1.15917263e+00, -1.73673948e-01,\n",
              "        -5.25060772e-02,  6.74501145e-01,  7.95669016e-01,\n",
              "         2.24968346e+00,  2.24968346e+00,  1.89829664e-01,\n",
              "         1.28034050e+00, -2.94841818e-01,  2.24968346e+00,\n",
              "         5.53333275e-01,  1.03800476e+00,  1.64384411e+00,\n",
              "         4.32165405e-01,  3.10997534e-01,  6.74501145e-01,\n",
              "         1.64384411e+00,  1.88617985e+00,  2.49201920e+00,\n",
              "         6.74501145e-01,  5.53333275e-01,  3.10997534e-01,\n",
              "         2.24968346e+00,  5.53333275e-01,  6.74501145e-01,\n",
              "         1.89829664e-01,  1.28034050e+00,  1.03800476e+00,\n",
              "         1.28034050e+00, -5.25060772e-02,  1.15917263e+00,\n",
              "         1.03800476e+00,  1.03800476e+00,  5.53333275e-01,\n",
              "         7.95669016e-01,  4.32165405e-01,  6.86617933e-02],\n",
              "       [ 1.03205722e+00, -1.24957601e-01,  3.37848329e-01,\n",
              "         1.06445364e-01,  1.26346019e+00,  1.95766909e+00,\n",
              "         8.00654259e-01,  8.00654259e-01, -3.56360566e-01,\n",
              "         1.06445364e-01,  1.49486315e+00,  8.00654259e-01,\n",
              "        -1.24957601e-01, -1.24957601e-01,  2.18907205e+00,\n",
              "         3.11468391e+00,  1.95766909e+00,  1.03205722e+00,\n",
              "         1.72626612e+00,  1.72626612e+00,  8.00654259e-01,\n",
              "         1.49486315e+00,  1.26346019e+00,  5.69251294e-01,\n",
              "         8.00654259e-01, -1.24957601e-01,  8.00654259e-01,\n",
              "         1.03205722e+00,  8.00654259e-01,  3.37848329e-01,\n",
              "         1.06445364e-01,  8.00654259e-01,  2.42047502e+00,\n",
              "         2.65187798e+00,  1.06445364e-01,  3.37848329e-01,\n",
              "         1.03205722e+00,  1.06445364e-01, -1.24957601e-01,\n",
              "         8.00654259e-01,  1.03205722e+00, -1.74477836e+00,\n",
              "         3.37848329e-01,  1.03205722e+00,  1.72626612e+00,\n",
              "        -1.24957601e-01,  1.72626612e+00,  3.37848329e-01,\n",
              "         1.49486315e+00,  5.69251294e-01,  3.37848329e-01,\n",
              "         3.37848329e-01,  1.06445364e-01, -1.74477836e+00,\n",
              "        -5.87763531e-01, -5.87763531e-01,  5.69251294e-01,\n",
              "        -1.51337539e+00, -3.56360566e-01, -8.19166497e-01,\n",
              "        -2.43898725e+00, -1.24957601e-01, -1.97618132e+00,\n",
              "        -3.56360566e-01, -3.56360566e-01,  1.06445364e-01,\n",
              "        -1.24957601e-01, -8.19166497e-01, -1.97618132e+00,\n",
              "        -1.28197243e+00,  3.37848329e-01, -5.87763531e-01,\n",
              "        -1.28197243e+00, -5.87763531e-01, -3.56360566e-01,\n",
              "        -1.24957601e-01, -5.87763531e-01, -1.24957601e-01,\n",
              "        -3.56360566e-01, -1.05056946e+00, -1.51337539e+00,\n",
              "        -1.51337539e+00, -8.19166497e-01, -8.19166497e-01,\n",
              "        -1.24957601e-01,  8.00654259e-01,  1.06445364e-01,\n",
              "        -1.74477836e+00, -1.24957601e-01, -1.28197243e+00,\n",
              "        -1.05056946e+00, -1.24957601e-01, -1.05056946e+00,\n",
              "        -1.74477836e+00, -8.19166497e-01, -1.24957601e-01,\n",
              "        -3.56360566e-01, -3.56360566e-01, -1.28197243e+00,\n",
              "        -5.87763531e-01,  5.69251294e-01, -8.19166497e-01,\n",
              "        -1.24957601e-01, -3.56360566e-01, -1.24957601e-01,\n",
              "        -1.24957601e-01, -1.28197243e+00, -3.56360566e-01,\n",
              "        -1.28197243e+00,  1.26346019e+00,  3.37848329e-01,\n",
              "        -8.19166497e-01, -1.24957601e-01, -1.28197243e+00,\n",
              "        -5.87763531e-01,  3.37848329e-01, -1.24957601e-01,\n",
              "         1.72626612e+00, -1.05056946e+00, -1.97618132e+00,\n",
              "         3.37848329e-01, -5.87763531e-01, -5.87763531e-01,\n",
              "        -8.19166497e-01,  5.69251294e-01,  3.37848329e-01,\n",
              "        -5.87763531e-01, -1.24957601e-01, -5.87763531e-01,\n",
              "        -1.24957601e-01, -5.87763531e-01,  1.72626612e+00,\n",
              "        -5.87763531e-01, -5.87763531e-01, -1.05056946e+00,\n",
              "        -1.24957601e-01,  8.00654259e-01,  1.06445364e-01,\n",
              "        -1.24957601e-01,  1.06445364e-01,  1.06445364e-01,\n",
              "         1.06445364e-01, -8.19166497e-01,  3.37848329e-01,\n",
              "         5.69251294e-01, -1.24957601e-01, -1.28197243e+00,\n",
              "        -1.24957601e-01,  8.00654259e-01, -1.24957601e-01],\n",
              "       [-1.34127240e+00, -1.34127240e+00, -1.39813811e+00,\n",
              "        -1.28440670e+00, -1.34127240e+00, -1.17067529e+00,\n",
              "        -1.34127240e+00, -1.28440670e+00, -1.34127240e+00,\n",
              "        -1.28440670e+00, -1.28440670e+00, -1.22754100e+00,\n",
              "        -1.34127240e+00, -1.51186952e+00, -1.45500381e+00,\n",
              "        -1.28440670e+00, -1.39813811e+00, -1.34127240e+00,\n",
              "        -1.17067529e+00, -1.28440670e+00, -1.17067529e+00,\n",
              "        -1.28440670e+00, -1.56873522e+00, -1.17067529e+00,\n",
              "        -1.05694388e+00, -1.22754100e+00, -1.22754100e+00,\n",
              "        -1.28440670e+00, -1.34127240e+00, -1.22754100e+00,\n",
              "        -1.22754100e+00, -1.28440670e+00, -1.28440670e+00,\n",
              "        -1.34127240e+00, -1.28440670e+00, -1.45500381e+00,\n",
              "        -1.39813811e+00, -1.28440670e+00, -1.39813811e+00,\n",
              "        -1.28440670e+00, -1.39813811e+00, -1.39813811e+00,\n",
              "        -1.39813811e+00, -1.22754100e+00, -1.05694388e+00,\n",
              "        -1.34127240e+00, -1.22754100e+00, -1.34127240e+00,\n",
              "        -1.28440670e+00, -1.34127240e+00,  5.35295827e-01,\n",
              "         4.21564419e-01,  6.49027235e-01,  1.37235899e-01,\n",
              "         4.78430123e-01,  4.21564419e-01,  5.35295827e-01,\n",
              "        -2.60824029e-01,  4.78430123e-01,  8.03701950e-02,\n",
              "        -1.47092621e-01,  2.50967307e-01,  1.37235899e-01,\n",
              "         5.35295827e-01, -9.02269170e-02,  3.64698715e-01,\n",
              "         4.21564419e-01,  1.94101603e-01,  4.21564419e-01,\n",
              "         8.03701950e-02,  5.92161531e-01,  1.37235899e-01,\n",
              "         6.49027235e-01,  5.35295827e-01,  3.07833011e-01,\n",
              "         3.64698715e-01,  5.92161531e-01,  7.05892939e-01,\n",
              "         4.21564419e-01, -1.47092621e-01,  2.35044910e-02,\n",
              "        -3.33612130e-02,  8.03701950e-02,  7.62758643e-01,\n",
              "         4.21564419e-01,  4.21564419e-01,  5.35295827e-01,\n",
              "         3.64698715e-01,  1.94101603e-01,  1.37235899e-01,\n",
              "         3.64698715e-01,  4.78430123e-01,  1.37235899e-01,\n",
              "        -2.60824029e-01,  2.50967307e-01,  2.50967307e-01,\n",
              "         2.50967307e-01,  3.07833011e-01, -4.31421141e-01,\n",
              "         1.94101603e-01,  1.27454998e+00,  7.62758643e-01,\n",
              "         1.21768427e+00,  1.04708716e+00,  1.16081857e+00,\n",
              "         1.61574420e+00,  4.21564419e-01,  1.44514709e+00,\n",
              "         1.16081857e+00,  1.33141568e+00,  7.62758643e-01,\n",
              "         8.76490051e-01,  9.90221459e-01,  7.05892939e-01,\n",
              "         7.62758643e-01,  8.76490051e-01,  9.90221459e-01,\n",
              "         1.67260991e+00,  1.78634131e+00,  7.05892939e-01,\n",
              "         1.10395287e+00,  6.49027235e-01,  1.67260991e+00,\n",
              "         6.49027235e-01,  1.10395287e+00,  1.27454998e+00,\n",
              "         5.92161531e-01,  6.49027235e-01,  1.04708716e+00,\n",
              "         1.16081857e+00,  1.33141568e+00,  1.50201279e+00,\n",
              "         1.04708716e+00,  7.62758643e-01,  1.04708716e+00,\n",
              "         1.33141568e+00,  1.04708716e+00,  9.90221459e-01,\n",
              "         5.92161531e-01,  9.33355755e-01,  1.04708716e+00,\n",
              "         7.62758643e-01,  7.62758643e-01,  1.21768427e+00,\n",
              "         1.10395287e+00,  8.19624347e-01,  7.05892939e-01,\n",
              "         8.19624347e-01,  9.33355755e-01,  7.62758643e-01],\n",
              "       [-1.31297673e+00, -1.31297673e+00, -1.31297673e+00,\n",
              "        -1.31297673e+00, -1.31297673e+00, -1.05003079e+00,\n",
              "        -1.18150376e+00, -1.31297673e+00, -1.31297673e+00,\n",
              "        -1.44444970e+00, -1.31297673e+00, -1.31297673e+00,\n",
              "        -1.44444970e+00, -1.44444970e+00, -1.31297673e+00,\n",
              "        -1.05003079e+00, -1.05003079e+00, -1.18150376e+00,\n",
              "        -1.18150376e+00, -1.18150376e+00, -1.31297673e+00,\n",
              "        -1.05003079e+00, -1.31297673e+00, -9.18557817e-01,\n",
              "        -1.31297673e+00, -1.31297673e+00, -1.05003079e+00,\n",
              "        -1.31297673e+00, -1.31297673e+00, -1.31297673e+00,\n",
              "        -1.31297673e+00, -1.05003079e+00, -1.44444970e+00,\n",
              "        -1.31297673e+00, -1.44444970e+00, -1.31297673e+00,\n",
              "        -1.31297673e+00, -1.44444970e+00, -1.31297673e+00,\n",
              "        -1.31297673e+00, -1.18150376e+00, -1.18150376e+00,\n",
              "        -1.31297673e+00, -7.87084847e-01, -1.05003079e+00,\n",
              "        -1.18150376e+00, -1.31297673e+00, -1.31297673e+00,\n",
              "        -1.31297673e+00, -1.31297673e+00,  2.64698913e-01,\n",
              "         3.96171883e-01,  3.96171883e-01,  1.33225943e-01,\n",
              "         3.96171883e-01,  1.33225943e-01,  5.27644853e-01,\n",
              "        -2.61192967e-01,  1.33225943e-01,  2.64698913e-01,\n",
              "        -2.61192967e-01,  3.96171883e-01, -2.61192967e-01,\n",
              "         2.64698913e-01,  1.33225943e-01,  2.64698913e-01,\n",
              "         3.96171883e-01, -2.61192967e-01,  3.96171883e-01,\n",
              "        -1.29719997e-01,  7.90590793e-01,  1.33225943e-01,\n",
              "         3.96171883e-01,  1.75297293e-03,  1.33225943e-01,\n",
              "         2.64698913e-01,  2.64698913e-01,  6.59117823e-01,\n",
              "         3.96171883e-01, -2.61192967e-01, -1.29719997e-01,\n",
              "        -2.61192967e-01,  1.75297293e-03,  5.27644853e-01,\n",
              "         3.96171883e-01,  5.27644853e-01,  3.96171883e-01,\n",
              "         1.33225943e-01,  1.33225943e-01,  1.33225943e-01,\n",
              "         1.75297293e-03,  2.64698913e-01,  1.75297293e-03,\n",
              "        -2.61192967e-01,  1.33225943e-01,  1.75297293e-03,\n",
              "         1.33225943e-01,  1.33225943e-01, -1.29719997e-01,\n",
              "         1.33225943e-01,  1.71090158e+00,  9.22063763e-01,\n",
              "         1.18500970e+00,  7.90590793e-01,  1.31648267e+00,\n",
              "         1.18500970e+00,  6.59117823e-01,  7.90590793e-01,\n",
              "         7.90590793e-01,  1.71090158e+00,  1.05353673e+00,\n",
              "         9.22063763e-01,  1.18500970e+00,  1.05353673e+00,\n",
              "         1.57942861e+00,  1.44795564e+00,  7.90590793e-01,\n",
              "         1.31648267e+00,  1.44795564e+00,  3.96171883e-01,\n",
              "         1.44795564e+00,  1.05353673e+00,  1.05353673e+00,\n",
              "         7.90590793e-01,  1.18500970e+00,  7.90590793e-01,\n",
              "         7.90590793e-01,  7.90590793e-01,  1.18500970e+00,\n",
              "         5.27644853e-01,  9.22063763e-01,  1.05353673e+00,\n",
              "         1.31648267e+00,  3.96171883e-01,  2.64698913e-01,\n",
              "         1.44795564e+00,  1.57942861e+00,  7.90590793e-01,\n",
              "         7.90590793e-01,  1.18500970e+00,  1.57942861e+00,\n",
              "         1.44795564e+00,  9.22063763e-01,  1.44795564e+00,\n",
              "         1.71090158e+00,  1.44795564e+00,  9.22063763e-01,\n",
              "         1.05353673e+00,  1.44795564e+00,  7.90590793e-01]])"
            ]
          },
          "metadata": {
            "tags": []
          },
          "execution_count": 21
        }
      ]
    },
    {
      "cell_type": "code",
      "metadata": {
        "id": "cPiKUnqJLivv",
        "colab": {
          "base_uri": "https://localhost:8080/",
          "height": 350
        },
        "outputId": "162bf0dd-e8a8-4f1a-9751-9ae07a95684e"
      },
      "source": [
        "plt.hist(data_matrix[0,:],bins = 'rice',color = 'b')    # วางบรรทัดไหนก่อนมันจะพล็อตก่อน\r\n",
        "plt.hist(data_matrix_m0_std1[0,:],bins = 'rice',color = 'r') # ข้อมูลจะกระจายมากขึ้น\r\n",
        "plt.hist(data_matrix_m0[0,:],bins = 'rice',color = 'y')   "
      ],
      "execution_count": null,
      "outputs": [
        {
          "output_type": "execute_result",
          "data": {
            "text/plain": [
              "(array([ 9., 13., 23., 20., 18., 16., 21., 17.,  5.,  2.,  6.]),\n",
              " array([-1.54333333, -1.21606061, -0.88878788, -0.56151515, -0.23424242,\n",
              "         0.0930303 ,  0.42030303,  0.74757576,  1.07484848,  1.40212121,\n",
              "         1.72939394,  2.05666667]),\n",
              " <a list of 11 Patch objects>)"
            ]
          },
          "metadata": {
            "tags": []
          },
          "execution_count": 22
        },
        {
          "output_type": "display_data",
          "data": {
            "image/png": "[encoded data removed]",
            "text/plain": [
              "<Figure size 432x288 with 1 Axes>"
            ]
          },
          "metadata": {
            "tags": [],
            "needs_background": "light"
          }
        }
      ]
    },
    {
      "cell_type": "code",
      "metadata": {
        "id": "p_cXAF2NLntV",
        "colab": {
          "base_uri": "https://localhost:8080/"
        },
        "outputId": "c90d2bc1-cf2e-4f59-c617-dfd9b9c738b1"
      },
      "source": [
        "data_matrix_m0_std1"
      ],
      "execution_count": null,
      "outputs": [
        {
          "output_type": "execute_result",
          "data": {
            "text/plain": [
              "array([[-9.00681170e-01, -1.14301691e+00, -1.38535265e+00,\n",
              "        -1.50652052e+00, -1.02184904e+00, -5.37177559e-01,\n",
              "        -1.50652052e+00, -1.02184904e+00, -1.74885626e+00,\n",
              "        -1.14301691e+00, -5.37177559e-01, -1.26418478e+00,\n",
              "        -1.26418478e+00, -1.87002413e+00, -5.25060772e-02,\n",
              "        -1.73673948e-01, -5.37177559e-01, -9.00681170e-01,\n",
              "        -1.73673948e-01, -9.00681170e-01, -5.37177559e-01,\n",
              "        -9.00681170e-01, -1.50652052e+00, -9.00681170e-01,\n",
              "        -1.26418478e+00, -1.02184904e+00, -1.02184904e+00,\n",
              "        -7.79513300e-01, -7.79513300e-01, -1.38535265e+00,\n",
              "        -1.26418478e+00, -5.37177559e-01, -7.79513300e-01,\n",
              "        -4.16009689e-01, -1.14301691e+00, -1.02184904e+00,\n",
              "        -4.16009689e-01, -1.14301691e+00, -1.74885626e+00,\n",
              "        -9.00681170e-01, -1.02184904e+00, -1.62768839e+00,\n",
              "        -1.74885626e+00, -1.02184904e+00, -9.00681170e-01,\n",
              "        -1.26418478e+00, -9.00681170e-01, -1.50652052e+00,\n",
              "        -6.58345429e-01, -1.02184904e+00,  1.40150837e+00,\n",
              "         6.74501145e-01,  1.28034050e+00, -4.16009689e-01,\n",
              "         7.95669016e-01, -1.73673948e-01,  5.53333275e-01,\n",
              "        -1.14301691e+00,  9.16836886e-01, -7.79513300e-01,\n",
              "        -1.02184904e+00,  6.86617933e-02,  1.89829664e-01,\n",
              "         3.10997534e-01, -2.94841818e-01,  1.03800476e+00,\n",
              "        -2.94841818e-01, -5.25060772e-02,  4.32165405e-01,\n",
              "        -2.94841818e-01,  6.86617933e-02,  3.10997534e-01,\n",
              "         5.53333275e-01,  3.10997534e-01,  6.74501145e-01,\n",
              "         9.16836886e-01,  1.15917263e+00,  1.03800476e+00,\n",
              "         1.89829664e-01, -1.73673948e-01, -4.16009689e-01,\n",
              "        -4.16009689e-01, -5.25060772e-02,  1.89829664e-01,\n",
              "        -5.37177559e-01,  1.89829664e-01,  1.03800476e+00,\n",
              "         5.53333275e-01, -2.94841818e-01, -4.16009689e-01,\n",
              "        -4.16009689e-01,  3.10997534e-01, -5.25060772e-02,\n",
              "        -1.02184904e+00, -2.94841818e-01, -1.73673948e-01,\n",
              "        -1.73673948e-01,  4.32165405e-01, -9.00681170e-01,\n",
              "        -1.73673948e-01,  5.53333275e-01, -5.25060772e-02,\n",
              "         1.52267624e+00,  5.53333275e-01,  7.95669016e-01,\n",
              "         2.12851559e+00, -1.14301691e+00,  1.76501198e+00,\n",
              "         1.03800476e+00,  1.64384411e+00,  7.95669016e-01,\n",
              "         6.74501145e-01,  1.15917263e+00, -1.73673948e-01,\n",
              "        -5.25060772e-02,  6.74501145e-01,  7.95669016e-01,\n",
              "         2.24968346e+00,  2.24968346e+00,  1.89829664e-01,\n",
              "         1.28034050e+00, -2.94841818e-01,  2.24968346e+00,\n",
              "         5.53333275e-01,  1.03800476e+00,  1.64384411e+00,\n",
              "         4.32165405e-01,  3.10997534e-01,  6.74501145e-01,\n",
              "         1.64384411e+00,  1.88617985e+00,  2.49201920e+00,\n",
              "         6.74501145e-01,  5.53333275e-01,  3.10997534e-01,\n",
              "         2.24968346e+00,  5.53333275e-01,  6.74501145e-01,\n",
              "         1.89829664e-01,  1.28034050e+00,  1.03800476e+00,\n",
              "         1.28034050e+00, -5.25060772e-02,  1.15917263e+00,\n",
              "         1.03800476e+00,  1.03800476e+00,  5.53333275e-01,\n",
              "         7.95669016e-01,  4.32165405e-01,  6.86617933e-02],\n",
              "       [ 1.03205722e+00, -1.24957601e-01,  3.37848329e-01,\n",
              "         1.06445364e-01,  1.26346019e+00,  1.95766909e+00,\n",
              "         8.00654259e-01,  8.00654259e-01, -3.56360566e-01,\n",
              "         1.06445364e-01,  1.49486315e+00,  8.00654259e-01,\n",
              "        -1.24957601e-01, -1.24957601e-01,  2.18907205e+00,\n",
              "         3.11468391e+00,  1.95766909e+00,  1.03205722e+00,\n",
              "         1.72626612e+00,  1.72626612e+00,  8.00654259e-01,\n",
              "         1.49486315e+00,  1.26346019e+00,  5.69251294e-01,\n",
              "         8.00654259e-01, -1.24957601e-01,  8.00654259e-01,\n",
              "         1.03205722e+00,  8.00654259e-01,  3.37848329e-01,\n",
              "         1.06445364e-01,  8.00654259e-01,  2.42047502e+00,\n",
              "         2.65187798e+00,  1.06445364e-01,  3.37848329e-01,\n",
              "         1.03205722e+00,  1.06445364e-01, -1.24957601e-01,\n",
              "         8.00654259e-01,  1.03205722e+00, -1.74477836e+00,\n",
              "         3.37848329e-01,  1.03205722e+00,  1.72626612e+00,\n",
              "        -1.24957601e-01,  1.72626612e+00,  3.37848329e-01,\n",
              "         1.49486315e+00,  5.69251294e-01,  3.37848329e-01,\n",
              "         3.37848329e-01,  1.06445364e-01, -1.74477836e+00,\n",
              "        -5.87763531e-01, -5.87763531e-01,  5.69251294e-01,\n",
              "        -1.51337539e+00, -3.56360566e-01, -8.19166497e-01,\n",
              "        -2.43898725e+00, -1.24957601e-01, -1.97618132e+00,\n",
              "        -3.56360566e-01, -3.56360566e-01,  1.06445364e-01,\n",
              "        -1.24957601e-01, -8.19166497e-01, -1.97618132e+00,\n",
              "        -1.28197243e+00,  3.37848329e-01, -5.87763531e-01,\n",
              "        -1.28197243e+00, -5.87763531e-01, -3.56360566e-01,\n",
              "        -1.24957601e-01, -5.87763531e-01, -1.24957601e-01,\n",
              "        -3.56360566e-01, -1.05056946e+00, -1.51337539e+00,\n",
              "        -1.51337539e+00, -8.19166497e-01, -8.19166497e-01,\n",
              "        -1.24957601e-01,  8.00654259e-01,  1.06445364e-01,\n",
              "        -1.74477836e+00, -1.24957601e-01, -1.28197243e+00,\n",
              "        -1.05056946e+00, -1.24957601e-01, -1.05056946e+00,\n",
              "        -1.74477836e+00, -8.19166497e-01, -1.24957601e-01,\n",
              "        -3.56360566e-01, -3.56360566e-01, -1.28197243e+00,\n",
              "        -5.87763531e-01,  5.69251294e-01, -8.19166497e-01,\n",
              "        -1.24957601e-01, -3.56360566e-01, -1.24957601e-01,\n",
              "        -1.24957601e-01, -1.28197243e+00, -3.56360566e-01,\n",
              "        -1.28197243e+00,  1.26346019e+00,  3.37848329e-01,\n",
              "        -8.19166497e-01, -1.24957601e-01, -1.28197243e+00,\n",
              "        -5.87763531e-01,  3.37848329e-01, -1.24957601e-01,\n",
              "         1.72626612e+00, -1.05056946e+00, -1.97618132e+00,\n",
              "         3.37848329e-01, -5.87763531e-01, -5.87763531e-01,\n",
              "        -8.19166497e-01,  5.69251294e-01,  3.37848329e-01,\n",
              "        -5.87763531e-01, -1.24957601e-01, -5.87763531e-01,\n",
              "        -1.24957601e-01, -5.87763531e-01,  1.72626612e+00,\n",
              "        -5.87763531e-01, -5.87763531e-01, -1.05056946e+00,\n",
              "        -1.24957601e-01,  8.00654259e-01,  1.06445364e-01,\n",
              "        -1.24957601e-01,  1.06445364e-01,  1.06445364e-01,\n",
              "         1.06445364e-01, -8.19166497e-01,  3.37848329e-01,\n",
              "         5.69251294e-01, -1.24957601e-01, -1.28197243e+00,\n",
              "        -1.24957601e-01,  8.00654259e-01, -1.24957601e-01],\n",
              "       [-1.34127240e+00, -1.34127240e+00, -1.39813811e+00,\n",
              "        -1.28440670e+00, -1.34127240e+00, -1.17067529e+00,\n",
              "        -1.34127240e+00, -1.28440670e+00, -1.34127240e+00,\n",
              "        -1.28440670e+00, -1.28440670e+00, -1.22754100e+00,\n",
              "        -1.34127240e+00, -1.51186952e+00, -1.45500381e+00,\n",
              "        -1.28440670e+00, -1.39813811e+00, -1.34127240e+00,\n",
              "        -1.17067529e+00, -1.28440670e+00, -1.17067529e+00,\n",
              "        -1.28440670e+00, -1.56873522e+00, -1.17067529e+00,\n",
              "        -1.05694388e+00, -1.22754100e+00, -1.22754100e+00,\n",
              "        -1.28440670e+00, -1.34127240e+00, -1.22754100e+00,\n",
              "        -1.22754100e+00, -1.28440670e+00, -1.28440670e+00,\n",
              "        -1.34127240e+00, -1.28440670e+00, -1.45500381e+00,\n",
              "        -1.39813811e+00, -1.28440670e+00, -1.39813811e+00,\n",
              "        -1.28440670e+00, -1.39813811e+00, -1.39813811e+00,\n",
              "        -1.39813811e+00, -1.22754100e+00, -1.05694388e+00,\n",
              "        -1.34127240e+00, -1.22754100e+00, -1.34127240e+00,\n",
              "        -1.28440670e+00, -1.34127240e+00,  5.35295827e-01,\n",
              "         4.21564419e-01,  6.49027235e-01,  1.37235899e-01,\n",
              "         4.78430123e-01,  4.21564419e-01,  5.35295827e-01,\n",
              "        -2.60824029e-01,  4.78430123e-01,  8.03701950e-02,\n",
              "        -1.47092621e-01,  2.50967307e-01,  1.37235899e-01,\n",
              "         5.35295827e-01, -9.02269170e-02,  3.64698715e-01,\n",
              "         4.21564419e-01,  1.94101603e-01,  4.21564419e-01,\n",
              "         8.03701950e-02,  5.92161531e-01,  1.37235899e-01,\n",
              "         6.49027235e-01,  5.35295827e-01,  3.07833011e-01,\n",
              "         3.64698715e-01,  5.92161531e-01,  7.05892939e-01,\n",
              "         4.21564419e-01, -1.47092621e-01,  2.35044910e-02,\n",
              "        -3.33612130e-02,  8.03701950e-02,  7.62758643e-01,\n",
              "         4.21564419e-01,  4.21564419e-01,  5.35295827e-01,\n",
              "         3.64698715e-01,  1.94101603e-01,  1.37235899e-01,\n",
              "         3.64698715e-01,  4.78430123e-01,  1.37235899e-01,\n",
              "        -2.60824029e-01,  2.50967307e-01,  2.50967307e-01,\n",
              "         2.50967307e-01,  3.07833011e-01, -4.31421141e-01,\n",
              "         1.94101603e-01,  1.27454998e+00,  7.62758643e-01,\n",
              "         1.21768427e+00,  1.04708716e+00,  1.16081857e+00,\n",
              "         1.61574420e+00,  4.21564419e-01,  1.44514709e+00,\n",
              "         1.16081857e+00,  1.33141568e+00,  7.62758643e-01,\n",
              "         8.76490051e-01,  9.90221459e-01,  7.05892939e-01,\n",
              "         7.62758643e-01,  8.76490051e-01,  9.90221459e-01,\n",
              "         1.67260991e+00,  1.78634131e+00,  7.05892939e-01,\n",
              "         1.10395287e+00,  6.49027235e-01,  1.67260991e+00,\n",
              "         6.49027235e-01,  1.10395287e+00,  1.27454998e+00,\n",
              "         5.92161531e-01,  6.49027235e-01,  1.04708716e+00,\n",
              "         1.16081857e+00,  1.33141568e+00,  1.50201279e+00,\n",
              "         1.04708716e+00,  7.62758643e-01,  1.04708716e+00,\n",
              "         1.33141568e+00,  1.04708716e+00,  9.90221459e-01,\n",
              "         5.92161531e-01,  9.33355755e-01,  1.04708716e+00,\n",
              "         7.62758643e-01,  7.62758643e-01,  1.21768427e+00,\n",
              "         1.10395287e+00,  8.19624347e-01,  7.05892939e-01,\n",
              "         8.19624347e-01,  9.33355755e-01,  7.62758643e-01],\n",
              "       [-1.31297673e+00, -1.31297673e+00, -1.31297673e+00,\n",
              "        -1.31297673e+00, -1.31297673e+00, -1.05003079e+00,\n",
              "        -1.18150376e+00, -1.31297673e+00, -1.31297673e+00,\n",
              "        -1.44444970e+00, -1.31297673e+00, -1.31297673e+00,\n",
              "        -1.44444970e+00, -1.44444970e+00, -1.31297673e+00,\n",
              "        -1.05003079e+00, -1.05003079e+00, -1.18150376e+00,\n",
              "        -1.18150376e+00, -1.18150376e+00, -1.31297673e+00,\n",
              "        -1.05003079e+00, -1.31297673e+00, -9.18557817e-01,\n",
              "        -1.31297673e+00, -1.31297673e+00, -1.05003079e+00,\n",
              "        -1.31297673e+00, -1.31297673e+00, -1.31297673e+00,\n",
              "        -1.31297673e+00, -1.05003079e+00, -1.44444970e+00,\n",
              "        -1.31297673e+00, -1.44444970e+00, -1.31297673e+00,\n",
              "        -1.31297673e+00, -1.44444970e+00, -1.31297673e+00,\n",
              "        -1.31297673e+00, -1.18150376e+00, -1.18150376e+00,\n",
              "        -1.31297673e+00, -7.87084847e-01, -1.05003079e+00,\n",
              "        -1.18150376e+00, -1.31297673e+00, -1.31297673e+00,\n",
              "        -1.31297673e+00, -1.31297673e+00,  2.64698913e-01,\n",
              "         3.96171883e-01,  3.96171883e-01,  1.33225943e-01,\n",
              "         3.96171883e-01,  1.33225943e-01,  5.27644853e-01,\n",
              "        -2.61192967e-01,  1.33225943e-01,  2.64698913e-01,\n",
              "        -2.61192967e-01,  3.96171883e-01, -2.61192967e-01,\n",
              "         2.64698913e-01,  1.33225943e-01,  2.64698913e-01,\n",
              "         3.96171883e-01, -2.61192967e-01,  3.96171883e-01,\n",
              "        -1.29719997e-01,  7.90590793e-01,  1.33225943e-01,\n",
              "         3.96171883e-01,  1.75297293e-03,  1.33225943e-01,\n",
              "         2.64698913e-01,  2.64698913e-01,  6.59117823e-01,\n",
              "         3.96171883e-01, -2.61192967e-01, -1.29719997e-01,\n",
              "        -2.61192967e-01,  1.75297293e-03,  5.27644853e-01,\n",
              "         3.96171883e-01,  5.27644853e-01,  3.96171883e-01,\n",
              "         1.33225943e-01,  1.33225943e-01,  1.33225943e-01,\n",
              "         1.75297293e-03,  2.64698913e-01,  1.75297293e-03,\n",
              "        -2.61192967e-01,  1.33225943e-01,  1.75297293e-03,\n",
              "         1.33225943e-01,  1.33225943e-01, -1.29719997e-01,\n",
              "         1.33225943e-01,  1.71090158e+00,  9.22063763e-01,\n",
              "         1.18500970e+00,  7.90590793e-01,  1.31648267e+00,\n",
              "         1.18500970e+00,  6.59117823e-01,  7.90590793e-01,\n",
              "         7.90590793e-01,  1.71090158e+00,  1.05353673e+00,\n",
              "         9.22063763e-01,  1.18500970e+00,  1.05353673e+00,\n",
              "         1.57942861e+00,  1.44795564e+00,  7.90590793e-01,\n",
              "         1.31648267e+00,  1.44795564e+00,  3.96171883e-01,\n",
              "         1.44795564e+00,  1.05353673e+00,  1.05353673e+00,\n",
              "         7.90590793e-01,  1.18500970e+00,  7.90590793e-01,\n",
              "         7.90590793e-01,  7.90590793e-01,  1.18500970e+00,\n",
              "         5.27644853e-01,  9.22063763e-01,  1.05353673e+00,\n",
              "         1.31648267e+00,  3.96171883e-01,  2.64698913e-01,\n",
              "         1.44795564e+00,  1.57942861e+00,  7.90590793e-01,\n",
              "         7.90590793e-01,  1.18500970e+00,  1.57942861e+00,\n",
              "         1.44795564e+00,  9.22063763e-01,  1.44795564e+00,\n",
              "         1.71090158e+00,  1.44795564e+00,  9.22063763e-01,\n",
              "         1.05353673e+00,  1.44795564e+00,  7.90590793e-01]])"
            ]
          },
          "metadata": {
            "tags": []
          },
          "execution_count": 23
        }
      ]
    },
    {
      "cell_type": "markdown",
      "metadata": {
        "id": "ceXL5nYZo-Vi"
      },
      "source": [
        "## วิธีแบบเร็ว"
      ]
    },
    {
      "cell_type": "code",
      "metadata": {
        "id": "yU8G7IZapS4S"
      },
      "source": [
        "from scipy import stats# เอาไว้ใช้ในวิทยาศาสตร์ "
      ],
      "execution_count": null,
      "outputs": []
    },
    {
      "cell_type": "code",
      "metadata": {
        "id": "3TIvdiv0Ly_B",
        "colab": {
          "base_uri": "https://localhost:8080/"
        },
        "outputId": "b60cc692-7edf-4a10-f2a0-c61f72ce7c0c"
      },
      "source": [
        "data_matrix_m0_std1_useSTAT = stats.zscore(data_matrix,axis=1)\r\n",
        "data_matrix_m0_std1_useSTAT    # use stat"
      ],
      "execution_count": null,
      "outputs": [
        {
          "output_type": "execute_result",
          "data": {
            "text/plain": [
              "array([[-9.00681170e-01, -1.14301691e+00, -1.38535265e+00,\n",
              "        -1.50652052e+00, -1.02184904e+00, -5.37177559e-01,\n",
              "        -1.50652052e+00, -1.02184904e+00, -1.74885626e+00,\n",
              "        -1.14301691e+00, -5.37177559e-01, -1.26418478e+00,\n",
              "        -1.26418478e+00, -1.87002413e+00, -5.25060772e-02,\n",
              "        -1.73673948e-01, -5.37177559e-01, -9.00681170e-01,\n",
              "        -1.73673948e-01, -9.00681170e-01, -5.37177559e-01,\n",
              "        -9.00681170e-01, -1.50652052e+00, -9.00681170e-01,\n",
              "        -1.26418478e+00, -1.02184904e+00, -1.02184904e+00,\n",
              "        -7.79513300e-01, -7.79513300e-01, -1.38535265e+00,\n",
              "        -1.26418478e+00, -5.37177559e-01, -7.79513300e-01,\n",
              "        -4.16009689e-01, -1.14301691e+00, -1.02184904e+00,\n",
              "        -4.16009689e-01, -1.14301691e+00, -1.74885626e+00,\n",
              "        -9.00681170e-01, -1.02184904e+00, -1.62768839e+00,\n",
              "        -1.74885626e+00, -1.02184904e+00, -9.00681170e-01,\n",
              "        -1.26418478e+00, -9.00681170e-01, -1.50652052e+00,\n",
              "        -6.58345429e-01, -1.02184904e+00,  1.40150837e+00,\n",
              "         6.74501145e-01,  1.28034050e+00, -4.16009689e-01,\n",
              "         7.95669016e-01, -1.73673948e-01,  5.53333275e-01,\n",
              "        -1.14301691e+00,  9.16836886e-01, -7.79513300e-01,\n",
              "        -1.02184904e+00,  6.86617933e-02,  1.89829664e-01,\n",
              "         3.10997534e-01, -2.94841818e-01,  1.03800476e+00,\n",
              "        -2.94841818e-01, -5.25060772e-02,  4.32165405e-01,\n",
              "        -2.94841818e-01,  6.86617933e-02,  3.10997534e-01,\n",
              "         5.53333275e-01,  3.10997534e-01,  6.74501145e-01,\n",
              "         9.16836886e-01,  1.15917263e+00,  1.03800476e+00,\n",
              "         1.89829664e-01, -1.73673948e-01, -4.16009689e-01,\n",
              "        -4.16009689e-01, -5.25060772e-02,  1.89829664e-01,\n",
              "        -5.37177559e-01,  1.89829664e-01,  1.03800476e+00,\n",
              "         5.53333275e-01, -2.94841818e-01, -4.16009689e-01,\n",
              "        -4.16009689e-01,  3.10997534e-01, -5.25060772e-02,\n",
              "        -1.02184904e+00, -2.94841818e-01, -1.73673948e-01,\n",
              "        -1.73673948e-01,  4.32165405e-01, -9.00681170e-01,\n",
              "        -1.73673948e-01,  5.53333275e-01, -5.25060772e-02,\n",
              "         1.52267624e+00,  5.53333275e-01,  7.95669016e-01,\n",
              "         2.12851559e+00, -1.14301691e+00,  1.76501198e+00,\n",
              "         1.03800476e+00,  1.64384411e+00,  7.95669016e-01,\n",
              "         6.74501145e-01,  1.15917263e+00, -1.73673948e-01,\n",
              "        -5.25060772e-02,  6.74501145e-01,  7.95669016e-01,\n",
              "         2.24968346e+00,  2.24968346e+00,  1.89829664e-01,\n",
              "         1.28034050e+00, -2.94841818e-01,  2.24968346e+00,\n",
              "         5.53333275e-01,  1.03800476e+00,  1.64384411e+00,\n",
              "         4.32165405e-01,  3.10997534e-01,  6.74501145e-01,\n",
              "         1.64384411e+00,  1.88617985e+00,  2.49201920e+00,\n",
              "         6.74501145e-01,  5.53333275e-01,  3.10997534e-01,\n",
              "         2.24968346e+00,  5.53333275e-01,  6.74501145e-01,\n",
              "         1.89829664e-01,  1.28034050e+00,  1.03800476e+00,\n",
              "         1.28034050e+00, -5.25060772e-02,  1.15917263e+00,\n",
              "         1.03800476e+00,  1.03800476e+00,  5.53333275e-01,\n",
              "         7.95669016e-01,  4.32165405e-01,  6.86617933e-02],\n",
              "       [ 1.03205722e+00, -1.24957601e-01,  3.37848329e-01,\n",
              "         1.06445364e-01,  1.26346019e+00,  1.95766909e+00,\n",
              "         8.00654259e-01,  8.00654259e-01, -3.56360566e-01,\n",
              "         1.06445364e-01,  1.49486315e+00,  8.00654259e-01,\n",
              "        -1.24957601e-01, -1.24957601e-01,  2.18907205e+00,\n",
              "         3.11468391e+00,  1.95766909e+00,  1.03205722e+00,\n",
              "         1.72626612e+00,  1.72626612e+00,  8.00654259e-01,\n",
              "         1.49486315e+00,  1.26346019e+00,  5.69251294e-01,\n",
              "         8.00654259e-01, -1.24957601e-01,  8.00654259e-01,\n",
              "         1.03205722e+00,  8.00654259e-01,  3.37848329e-01,\n",
              "         1.06445364e-01,  8.00654259e-01,  2.42047502e+00,\n",
              "         2.65187798e+00,  1.06445364e-01,  3.37848329e-01,\n",
              "         1.03205722e+00,  1.06445364e-01, -1.24957601e-01,\n",
              "         8.00654259e-01,  1.03205722e+00, -1.74477836e+00,\n",
              "         3.37848329e-01,  1.03205722e+00,  1.72626612e+00,\n",
              "        -1.24957601e-01,  1.72626612e+00,  3.37848329e-01,\n",
              "         1.49486315e+00,  5.69251294e-01,  3.37848329e-01,\n",
              "         3.37848329e-01,  1.06445364e-01, -1.74477836e+00,\n",
              "        -5.87763531e-01, -5.87763531e-01,  5.69251294e-01,\n",
              "        -1.51337539e+00, -3.56360566e-01, -8.19166497e-01,\n",
              "        -2.43898725e+00, -1.24957601e-01, -1.97618132e+00,\n",
              "        -3.56360566e-01, -3.56360566e-01,  1.06445364e-01,\n",
              "        -1.24957601e-01, -8.19166497e-01, -1.97618132e+00,\n",
              "        -1.28197243e+00,  3.37848329e-01, -5.87763531e-01,\n",
              "        -1.28197243e+00, -5.87763531e-01, -3.56360566e-01,\n",
              "        -1.24957601e-01, -5.87763531e-01, -1.24957601e-01,\n",
              "        -3.56360566e-01, -1.05056946e+00, -1.51337539e+00,\n",
              "        -1.51337539e+00, -8.19166497e-01, -8.19166497e-01,\n",
              "        -1.24957601e-01,  8.00654259e-01,  1.06445364e-01,\n",
              "        -1.74477836e+00, -1.24957601e-01, -1.28197243e+00,\n",
              "        -1.05056946e+00, -1.24957601e-01, -1.05056946e+00,\n",
              "        -1.74477836e+00, -8.19166497e-01, -1.24957601e-01,\n",
              "        -3.56360566e-01, -3.56360566e-01, -1.28197243e+00,\n",
              "        -5.87763531e-01,  5.69251294e-01, -8.19166497e-01,\n",
              "        -1.24957601e-01, -3.56360566e-01, -1.24957601e-01,\n",
              "        -1.24957601e-01, -1.28197243e+00, -3.56360566e-01,\n",
              "        -1.28197243e+00,  1.26346019e+00,  3.37848329e-01,\n",
              "        -8.19166497e-01, -1.24957601e-01, -1.28197243e+00,\n",
              "        -5.87763531e-01,  3.37848329e-01, -1.24957601e-01,\n",
              "         1.72626612e+00, -1.05056946e+00, -1.97618132e+00,\n",
              "         3.37848329e-01, -5.87763531e-01, -5.87763531e-01,\n",
              "        -8.19166497e-01,  5.69251294e-01,  3.37848329e-01,\n",
              "        -5.87763531e-01, -1.24957601e-01, -5.87763531e-01,\n",
              "        -1.24957601e-01, -5.87763531e-01,  1.72626612e+00,\n",
              "        -5.87763531e-01, -5.87763531e-01, -1.05056946e+00,\n",
              "        -1.24957601e-01,  8.00654259e-01,  1.06445364e-01,\n",
              "        -1.24957601e-01,  1.06445364e-01,  1.06445364e-01,\n",
              "         1.06445364e-01, -8.19166497e-01,  3.37848329e-01,\n",
              "         5.69251294e-01, -1.24957601e-01, -1.28197243e+00,\n",
              "        -1.24957601e-01,  8.00654259e-01, -1.24957601e-01],\n",
              "       [-1.34127240e+00, -1.34127240e+00, -1.39813811e+00,\n",
              "        -1.28440670e+00, -1.34127240e+00, -1.17067529e+00,\n",
              "        -1.34127240e+00, -1.28440670e+00, -1.34127240e+00,\n",
              "        -1.28440670e+00, -1.28440670e+00, -1.22754100e+00,\n",
              "        -1.34127240e+00, -1.51186952e+00, -1.45500381e+00,\n",
              "        -1.28440670e+00, -1.39813811e+00, -1.34127240e+00,\n",
              "        -1.17067529e+00, -1.28440670e+00, -1.17067529e+00,\n",
              "        -1.28440670e+00, -1.56873522e+00, -1.17067529e+00,\n",
              "        -1.05694388e+00, -1.22754100e+00, -1.22754100e+00,\n",
              "        -1.28440670e+00, -1.34127240e+00, -1.22754100e+00,\n",
              "        -1.22754100e+00, -1.28440670e+00, -1.28440670e+00,\n",
              "        -1.34127240e+00, -1.28440670e+00, -1.45500381e+00,\n",
              "        -1.39813811e+00, -1.28440670e+00, -1.39813811e+00,\n",
              "        -1.28440670e+00, -1.39813811e+00, -1.39813811e+00,\n",
              "        -1.39813811e+00, -1.22754100e+00, -1.05694388e+00,\n",
              "        -1.34127240e+00, -1.22754100e+00, -1.34127240e+00,\n",
              "        -1.28440670e+00, -1.34127240e+00,  5.35295827e-01,\n",
              "         4.21564419e-01,  6.49027235e-01,  1.37235899e-01,\n",
              "         4.78430123e-01,  4.21564419e-01,  5.35295827e-01,\n",
              "        -2.60824029e-01,  4.78430123e-01,  8.03701950e-02,\n",
              "        -1.47092621e-01,  2.50967307e-01,  1.37235899e-01,\n",
              "         5.35295827e-01, -9.02269170e-02,  3.64698715e-01,\n",
              "         4.21564419e-01,  1.94101603e-01,  4.21564419e-01,\n",
              "         8.03701950e-02,  5.92161531e-01,  1.37235899e-01,\n",
              "         6.49027235e-01,  5.35295827e-01,  3.07833011e-01,\n",
              "         3.64698715e-01,  5.92161531e-01,  7.05892939e-01,\n",
              "         4.21564419e-01, -1.47092621e-01,  2.35044910e-02,\n",
              "        -3.33612130e-02,  8.03701950e-02,  7.62758643e-01,\n",
              "         4.21564419e-01,  4.21564419e-01,  5.35295827e-01,\n",
              "         3.64698715e-01,  1.94101603e-01,  1.37235899e-01,\n",
              "         3.64698715e-01,  4.78430123e-01,  1.37235899e-01,\n",
              "        -2.60824029e-01,  2.50967307e-01,  2.50967307e-01,\n",
              "         2.50967307e-01,  3.07833011e-01, -4.31421141e-01,\n",
              "         1.94101603e-01,  1.27454998e+00,  7.62758643e-01,\n",
              "         1.21768427e+00,  1.04708716e+00,  1.16081857e+00,\n",
              "         1.61574420e+00,  4.21564419e-01,  1.44514709e+00,\n",
              "         1.16081857e+00,  1.33141568e+00,  7.62758643e-01,\n",
              "         8.76490051e-01,  9.90221459e-01,  7.05892939e-01,\n",
              "         7.62758643e-01,  8.76490051e-01,  9.90221459e-01,\n",
              "         1.67260991e+00,  1.78634131e+00,  7.05892939e-01,\n",
              "         1.10395287e+00,  6.49027235e-01,  1.67260991e+00,\n",
              "         6.49027235e-01,  1.10395287e+00,  1.27454998e+00,\n",
              "         5.92161531e-01,  6.49027235e-01,  1.04708716e+00,\n",
              "         1.16081857e+00,  1.33141568e+00,  1.50201279e+00,\n",
              "         1.04708716e+00,  7.62758643e-01,  1.04708716e+00,\n",
              "         1.33141568e+00,  1.04708716e+00,  9.90221459e-01,\n",
              "         5.92161531e-01,  9.33355755e-01,  1.04708716e+00,\n",
              "         7.62758643e-01,  7.62758643e-01,  1.21768427e+00,\n",
              "         1.10395287e+00,  8.19624347e-01,  7.05892939e-01,\n",
              "         8.19624347e-01,  9.33355755e-01,  7.62758643e-01],\n",
              "       [-1.31297673e+00, -1.31297673e+00, -1.31297673e+00,\n",
              "        -1.31297673e+00, -1.31297673e+00, -1.05003079e+00,\n",
              "        -1.18150376e+00, -1.31297673e+00, -1.31297673e+00,\n",
              "        -1.44444970e+00, -1.31297673e+00, -1.31297673e+00,\n",
              "        -1.44444970e+00, -1.44444970e+00, -1.31297673e+00,\n",
              "        -1.05003079e+00, -1.05003079e+00, -1.18150376e+00,\n",
              "        -1.18150376e+00, -1.18150376e+00, -1.31297673e+00,\n",
              "        -1.05003079e+00, -1.31297673e+00, -9.18557817e-01,\n",
              "        -1.31297673e+00, -1.31297673e+00, -1.05003079e+00,\n",
              "        -1.31297673e+00, -1.31297673e+00, -1.31297673e+00,\n",
              "        -1.31297673e+00, -1.05003079e+00, -1.44444970e+00,\n",
              "        -1.31297673e+00, -1.44444970e+00, -1.31297673e+00,\n",
              "        -1.31297673e+00, -1.44444970e+00, -1.31297673e+00,\n",
              "        -1.31297673e+00, -1.18150376e+00, -1.18150376e+00,\n",
              "        -1.31297673e+00, -7.87084847e-01, -1.05003079e+00,\n",
              "        -1.18150376e+00, -1.31297673e+00, -1.31297673e+00,\n",
              "        -1.31297673e+00, -1.31297673e+00,  2.64698913e-01,\n",
              "         3.96171883e-01,  3.96171883e-01,  1.33225943e-01,\n",
              "         3.96171883e-01,  1.33225943e-01,  5.27644853e-01,\n",
              "        -2.61192967e-01,  1.33225943e-01,  2.64698913e-01,\n",
              "        -2.61192967e-01,  3.96171883e-01, -2.61192967e-01,\n",
              "         2.64698913e-01,  1.33225943e-01,  2.64698913e-01,\n",
              "         3.96171883e-01, -2.61192967e-01,  3.96171883e-01,\n",
              "        -1.29719997e-01,  7.90590793e-01,  1.33225943e-01,\n",
              "         3.96171883e-01,  1.75297293e-03,  1.33225943e-01,\n",
              "         2.64698913e-01,  2.64698913e-01,  6.59117823e-01,\n",
              "         3.96171883e-01, -2.61192967e-01, -1.29719997e-01,\n",
              "        -2.61192967e-01,  1.75297293e-03,  5.27644853e-01,\n",
              "         3.96171883e-01,  5.27644853e-01,  3.96171883e-01,\n",
              "         1.33225943e-01,  1.33225943e-01,  1.33225943e-01,\n",
              "         1.75297293e-03,  2.64698913e-01,  1.75297293e-03,\n",
              "        -2.61192967e-01,  1.33225943e-01,  1.75297293e-03,\n",
              "         1.33225943e-01,  1.33225943e-01, -1.29719997e-01,\n",
              "         1.33225943e-01,  1.71090158e+00,  9.22063763e-01,\n",
              "         1.18500970e+00,  7.90590793e-01,  1.31648267e+00,\n",
              "         1.18500970e+00,  6.59117823e-01,  7.90590793e-01,\n",
              "         7.90590793e-01,  1.71090158e+00,  1.05353673e+00,\n",
              "         9.22063763e-01,  1.18500970e+00,  1.05353673e+00,\n",
              "         1.57942861e+00,  1.44795564e+00,  7.90590793e-01,\n",
              "         1.31648267e+00,  1.44795564e+00,  3.96171883e-01,\n",
              "         1.44795564e+00,  1.05353673e+00,  1.05353673e+00,\n",
              "         7.90590793e-01,  1.18500970e+00,  7.90590793e-01,\n",
              "         7.90590793e-01,  7.90590793e-01,  1.18500970e+00,\n",
              "         5.27644853e-01,  9.22063763e-01,  1.05353673e+00,\n",
              "         1.31648267e+00,  3.96171883e-01,  2.64698913e-01,\n",
              "         1.44795564e+00,  1.57942861e+00,  7.90590793e-01,\n",
              "         7.90590793e-01,  1.18500970e+00,  1.57942861e+00,\n",
              "         1.44795564e+00,  9.22063763e-01,  1.44795564e+00,\n",
              "         1.71090158e+00,  1.44795564e+00,  9.22063763e-01,\n",
              "         1.05353673e+00,  1.44795564e+00,  7.90590793e-01]])"
            ]
          },
          "metadata": {
            "tags": []
          },
          "execution_count": 43
        }
      ]
    },
    {
      "cell_type": "code",
      "metadata": {
        "id": "xmdRISC3pmVY",
        "colab": {
          "base_uri": "https://localhost:8080/",
          "height": 163
        },
        "outputId": "72aa5bf3-fd11-417f-b46b-513434107a59"
      },
      "source": [
        "stats.zscare(data_matrix,axis)"
      ],
      "execution_count": null,
      "outputs": [
        {
          "output_type": "error",
          "ename": "AttributeError",
          "evalue": "ignored",
          "traceback": [
            "\u001b[0;31m---------------------------------------------------------------------------\u001b[0m",
            "\u001b[0;31mAttributeError\u001b[0m                            Traceback (most recent call last)",
            "\u001b[0;32m<ipython-input-25-9f2203217a93>\u001b[0m in \u001b[0;36m<module>\u001b[0;34m()\u001b[0m\n\u001b[0;32m----> 1\u001b[0;31m \u001b[0mstats\u001b[0m\u001b[0;34m.\u001b[0m\u001b[0mzscare\u001b[0m\u001b[0;34m(\u001b[0m\u001b[0mdata_matrix\u001b[0m\u001b[0;34m,\u001b[0m\u001b[0maxis\u001b[0m\u001b[0;34m)\u001b[0m\u001b[0;34m\u001b[0m\u001b[0;34m\u001b[0m\u001b[0m\n\u001b[0m",
            "\u001b[0;31mAttributeError\u001b[0m: module 'scipy.stats' has no attribute 'zscare'"
          ]
        }
      ]
    },
    {
      "cell_type": "code",
      "metadata": {
        "id": "j2N05Vc1MIqv",
        "colab": {
          "base_uri": "https://localhost:8080/",
          "height": 350
        },
        "outputId": "f8500298-880d-4e2c-f91b-e65bc8edecc3"
      },
      "source": [
        "plt.hist(data_matrix[0,:],bins = 'rice',color = 'b')    # วางบรรทัดไหนก่อนมันจะพล็อตก่อน\r\n",
        "plt.hist(data_matrix_m0_std1[0,:],bins = 'rice',color = 'r') # ข้อมูลจะกระจายมากขึ้น\r\n",
        "plt.hist(data_matrix_m0[0,:],bins = 'rice',color = 'y')   "
      ],
      "execution_count": null,
      "outputs": [
        {
          "output_type": "execute_result",
          "data": {
            "text/plain": [
              "(array([ 9., 13., 23., 20., 18., 16., 21., 17.,  5.,  2.,  6.]),\n",
              " array([-1.54333333, -1.21606061, -0.88878788, -0.56151515, -0.23424242,\n",
              "         0.0930303 ,  0.42030303,  0.74757576,  1.07484848,  1.40212121,\n",
              "         1.72939394,  2.05666667]),\n",
              " <a list of 11 Patch objects>)"
            ]
          },
          "metadata": {
            "tags": []
          },
          "execution_count": 26
        },
        {
          "output_type": "display_data",
          "data": {
            "image/png": "[encoded data removed]",
            "text/plain": [
              "<Figure size 432x288 with 1 Axes>"
            ]
          },
          "metadata": {
            "tags": [],
            "needs_background": "light"
          }
        }
      ]
    },
    {
      "cell_type": "markdown",
      "metadata": {
        "id": "w_A700LDMNmo"
      },
      "source": [
        "#2. Calculating the covariance matrix (หา Covariance matrix ของข้อมูลเรา)\r\n",
        "\r\n",
        "![download (2).png](data:image/png;base64,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)"
      ]
    },
    {
      "cell_type": "code",
      "metadata": {
        "id": "QZgb4t_KMXek",
        "colab": {
          "base_uri": "https://localhost:8080/",
          "height": 286
        },
        "outputId": "f071e1e6-771d-4ce8-b95e-0777caa7ddb8"
      },
      "source": [
        "pd.plotting.scatter_matrix(example_df);"
      ],
      "execution_count": null,
      "outputs": [
        {
          "output_type": "display_data",
          "data": {
            "image/png": "[encoded data removed]",
            "text/plain": [
              "<Figure size 432x288 with 16 Axes>"
            ]
          },
          "metadata": {
            "tags": [],
            "needs_background": "light"
          }
        }
      ]
    },
    {
      "cell_type": "code",
      "metadata": {
        "id": "z1kgDO7OMd9j",
        "colab": {
          "base_uri": "https://localhost:8080/"
        },
        "outputId": "e73af207-7fc4-4d98-cdee-fa59a4884b0f"
      },
      "source": [
        "data_cov = np.cov(data_matrix_m0_std1) # หา cov 4*4 dimension\r\n",
        "data_cov"
      ],
      "execution_count": null,
      "outputs": [
        {
          "output_type": "execute_result",
          "data": {
            "text/plain": [
              "array([[ 1.00671141, -0.11010327,  0.87760486,  0.82344326],\n",
              "       [-0.11010327,  1.00671141, -0.42333835, -0.358937  ],\n",
              "       [ 0.87760486, -0.42333835,  1.00671141,  0.96921855],\n",
              "       [ 0.82344326, -0.358937  ,  0.96921855,  1.00671141]])"
            ]
          },
          "metadata": {
            "tags": []
          },
          "execution_count": 28
        }
      ]
    },
    {
      "cell_type": "markdown",
      "metadata": {
        "id": "z8kFbESsMiOe"
      },
      "source": [
        "#3. Computing the Eigenvectors and Eigenvalues (คำนวณ eigen values-vectors)"
      ]
    },
    {
      "cell_type": "code",
      "metadata": {
        "id": "QvsuGYxZMmXV"
      },
      "source": [
        "eigen_values,eigen_vectors = np.linalg.eig(data_cov)"
      ],
      "execution_count": null,
      "outputs": []
    },
    {
      "cell_type": "code",
      "metadata": {
        "id": "lykeMslgMsUe",
        "colab": {
          "base_uri": "https://localhost:8080/"
        },
        "outputId": "510d77ae-9d30-41c6-d241-3b2c53f5a23d"
      },
      "source": [
        "eigen_values"
      ],
      "execution_count": null,
      "outputs": [
        {
          "output_type": "execute_result",
          "data": {
            "text/plain": [
              "array([2.93035378, 0.92740362, 0.14834223, 0.02074601])"
            ]
          },
          "metadata": {
            "tags": []
          },
          "execution_count": 30
        }
      ]
    },
    {
      "cell_type": "code",
      "metadata": {
        "id": "b9sDcZM0MwsD",
        "colab": {
          "base_uri": "https://localhost:8080/"
        },
        "outputId": "ed45d862-5cdc-4eca-bd7a-24635d58d505"
      },
      "source": [
        "eigen_vectors  # มองเเนวคอลัมน์"
      ],
      "execution_count": null,
      "outputs": [
        {
          "output_type": "execute_result",
          "data": {
            "text/plain": [
              "array([[ 0.52237162, -0.37231836, -0.72101681,  0.26199559],\n",
              "       [-0.26335492, -0.92555649,  0.24203288, -0.12413481],\n",
              "       [ 0.58125401, -0.02109478,  0.14089226, -0.80115427],\n",
              "       [ 0.56561105, -0.06541577,  0.6338014 ,  0.52354627]])"
            ]
          },
          "metadata": {
            "tags": []
          },
          "execution_count": 31
        }
      ]
    },
    {
      "cell_type": "markdown",
      "metadata": {
        "id": "jwnkKAaYM0hx"
      },
      "source": [
        "#4. Picking Principal Components Using the Explained Variance (เลือกมาเฉพาะ eigens ที่จำเป็น)\r\n",
        "คำนวณว่า เเต่ละ eigen vector อธิบายข้อมูลทั้งหมด ได้ดีเเค่ไหน"
      ]
    },
    {
      "cell_type": "code",
      "metadata": {
        "id": "Fn9lNlx7M6TE",
        "colab": {
          "base_uri": "https://localhost:8080/"
        },
        "outputId": "5973e978-ce73-42e1-ce2b-753a73b916b1"
      },
      "source": [
        "sum(eigen_values)"
      ],
      "execution_count": null,
      "outputs": [
        {
          "output_type": "execute_result",
          "data": {
            "text/plain": [
              "4.026845637583896"
            ]
          },
          "metadata": {
            "tags": []
          },
          "execution_count": 32
        }
      ]
    },
    {
      "cell_type": "code",
      "metadata": {
        "id": "QBXjWqg9M-CX",
        "colab": {
          "base_uri": "https://localhost:8080/"
        },
        "outputId": "d4de4ab5-dd25-40bf-b84a-a6e41406e420"
      },
      "source": [
        "variance_explained = []\r\n",
        "for i in eigen_values:\r\n",
        "      variance_explained.append((i/sum(eigen_values))*100)\r\n",
        "\r\n",
        "print(variance_explained)\r\n",
        "# อธิบายข้อมูลได้ดีกี่ % # 4 dimension"
      ],
      "execution_count": null,
      "outputs": [
        {
          "output_type": "stream",
          "text": [
            "[72.77045209380132, 23.03052326768066, 3.6838319576273824, 0.5151926808906327]\n"
          ],
          "name": "stdout"
        }
      ]
    },
    {
      "cell_type": "code",
      "metadata": {
        "id": "yDBwhv4hNCvs",
        "colab": {
          "base_uri": "https://localhost:8080/"
        },
        "outputId": "b3561895-a00b-4865-c579-b2752f4c4b2a"
      },
      "source": [
        "cumalative_variance_explained = np.cumsum(variance_explained)\r\n",
        "print(cumalative_variance_explained)  # 2 dimension -> 95.800%"
      ],
      "execution_count": null,
      "outputs": [
        {
          "output_type": "stream",
          "text": [
            "[ 72.77045209  95.80097536  99.48480732 100.        ]\n"
          ],
          "name": "stdout"
        }
      ]
    },
    {
      "cell_type": "code",
      "metadata": {
        "id": "Q3j45Ns6NItq",
        "colab": {
          "base_uri": "https://localhost:8080/"
        },
        "outputId": "df297c8d-1602-4608-d780-6d1d323ede73"
      },
      "source": [
        "selected_eigen_vectors = eigen_vectors[:,:2]  # เลือก eigen vectors มา 2 คอลัมน์เเรก ->4*2\r\n",
        "selected_eigen_vectors"
      ],
      "execution_count": null,
      "outputs": [
        {
          "output_type": "execute_result",
          "data": {
            "text/plain": [
              "array([[ 0.52237162, -0.37231836],\n",
              "       [-0.26335492, -0.92555649],\n",
              "       [ 0.58125401, -0.02109478],\n",
              "       [ 0.56561105, -0.06541577]])"
            ]
          },
          "metadata": {
            "tags": []
          },
          "execution_count": 35
        }
      ]
    },
    {
      "cell_type": "markdown",
      "metadata": {
        "id": "soqtgmjcNO_C"
      },
      "source": [
        "#5. Project Data Onto Lower-Dimensional Linear Subspace (map data ไปบนเเกนใหม่)\r\n",
        "\r\n",
        "![download (3).png](data:image/png;base64,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)"
      ]
    },
    {
      "cell_type": "code",
      "metadata": {
        "id": "YkMFGfR4NtEp",
        "colab": {
          "base_uri": "https://localhost:8080/"
        },
        "outputId": "5889be82-0003-43b3-8ee1-90c779277851"
      },
      "source": [
        "X = data_matrix_m0_std1   # ตั้งdataใหม่\r\n",
        "X.shape"
      ],
      "execution_count": null,
      "outputs": [
        {
          "output_type": "execute_result",
          "data": {
            "text/plain": [
              "(4, 150)"
            ]
          },
          "metadata": {
            "tags": []
          },
          "execution_count": 36
        }
      ]
    },
    {
      "cell_type": "code",
      "metadata": {
        "id": "W3MkVVVSNwwo",
        "colab": {
          "base_uri": "https://localhost:8080/"
        },
        "outputId": "2c88add4-16aa-4c78-bb11-f9cb226021e5"
      },
      "source": [
        "W = selected_eigen_vectors # คูณกันยังไม่ได้ต้องนำไปปรับ\r\n",
        "W.shape"
      ],
      "execution_count": null,
      "outputs": [
        {
          "output_type": "execute_result",
          "data": {
            "text/plain": [
              "(4, 2)"
            ]
          },
          "metadata": {
            "tags": []
          },
          "execution_count": 37
        }
      ]
    },
    {
      "cell_type": "code",
      "metadata": {
        "id": "oBynfiMuN0Xq",
        "colab": {
          "base_uri": "https://localhost:8080/"
        },
        "outputId": "a950565a-d830-4ade-ce58-554e5a1adf97"
      },
      "source": [
        "X_pca = X.T.dot(W) # ข้อมูลจะเหลือ 2 dimension # นำมาดอทกัน มี 150 เหมือนเดิม\r\n",
        "X_pca"
      ],
      "execution_count": null,
      "outputs": [
        {
          "output_type": "execute_result",
          "data": {
            "text/plain": [
              "array([[-2.26454173e+00, -5.05703903e-01],\n",
              "       [-2.08642550e+00,  6.55404729e-01],\n",
              "       [-2.36795045e+00,  3.18477311e-01],\n",
              "       [-2.30419716e+00,  5.75367713e-01],\n",
              "       [-2.38877749e+00, -6.74767397e-01],\n",
              "       [-2.07053681e+00, -1.51854856e+00],\n",
              "       [-2.44571134e+00, -7.45626750e-02],\n",
              "       [-2.23384186e+00, -2.47613932e-01],\n",
              "       [-2.34195768e+00,  1.09514636e+00],\n",
              "       [-2.18867576e+00,  4.48629048e-01],\n",
              "       [-2.16348656e+00, -1.07059558e+00],\n",
              "       [-2.32737775e+00, -1.58587455e-01],\n",
              "       [-2.22408272e+00,  7.09118158e-01],\n",
              "       [-2.63971626e+00,  9.38281982e-01],\n",
              "       [-2.19229151e+00, -1.88997851e+00],\n",
              "       [-2.25146521e+00, -2.72237108e+00],\n",
              "       [-2.20275048e+00, -1.51375028e+00],\n",
              "       [-2.19017916e+00, -5.14304308e-01],\n",
              "       [-1.89407429e+00, -1.43111071e+00],\n",
              "       [-2.33994907e+00, -1.15803343e+00],\n",
              "       [-1.91455639e+00, -4.30465163e-01],\n",
              "       [-2.20464540e+00, -9.52457317e-01],\n",
              "       [-2.77416979e+00, -4.89517027e-01],\n",
              "       [-1.82041156e+00, -1.06750793e-01],\n",
              "       [-2.22821750e+00, -1.62186163e-01],\n",
              "       [-1.95702401e+00,  6.07892567e-01],\n",
              "       [-2.05206331e+00, -2.66014312e-01],\n",
              "       [-2.16819365e+00, -5.52016495e-01],\n",
              "       [-2.14030596e+00, -3.36640409e-01],\n",
              "       [-2.26879019e+00,  3.14878603e-01],\n",
              "       [-2.14455443e+00,  4.83942097e-01],\n",
              "       [-1.83193810e+00, -4.45266836e-01],\n",
              "       [-2.60820287e+00, -1.82847519e+00],\n",
              "       [-2.43795086e+00, -2.18539162e+00],\n",
              "       [-2.18867576e+00,  4.48629048e-01],\n",
              "       [-2.21111990e+00,  1.84337811e-01],\n",
              "       [-2.04441652e+00, -6.84956426e-01],\n",
              "       [-2.18867576e+00,  4.48629048e-01],\n",
              "       [-2.43595220e+00,  8.82169415e-01],\n",
              "       [-2.17054720e+00, -2.92726955e-01],\n",
              "       [-2.28652724e+00, -4.67991716e-01],\n",
              "       [-1.87170722e+00,  2.32769161e+00],\n",
              "       [-2.55783442e+00,  4.53816380e-01],\n",
              "       [-1.96427929e+00, -4.97391640e-01],\n",
              "       [-2.13337283e+00, -1.17143211e+00],\n",
              "       [-2.07535759e+00,  6.91917347e-01],\n",
              "       [-2.38125822e+00, -1.15063259e+00],\n",
              "       [-2.39819169e+00,  3.62390765e-01],\n",
              "       [-2.22678121e+00, -1.02548255e+00],\n",
              "       [-2.20595417e+00, -3.22378453e-02],\n",
              "       [ 1.10399365e+00, -8.63112446e-01],\n",
              "       [ 7.32481440e-01, -5.98635573e-01],\n",
              "       [ 1.24210951e+00, -6.14822450e-01],\n",
              "       [ 3.97307283e-01,  1.75816895e+00],\n",
              "       [ 1.07259395e+00,  2.11757903e-01],\n",
              "       [ 3.84458146e-01,  5.91062469e-01],\n",
              "       [ 7.48715076e-01, -7.78698611e-01],\n",
              "       [-4.97863388e-01,  1.84886877e+00],\n",
              "       [ 9.26222368e-01, -3.03308268e-02],\n",
              "       [ 4.96802558e-03,  1.02940111e+00],\n",
              "       [-1.24697461e-01,  2.65806268e+00],\n",
              "       [ 4.38730118e-01,  5.88812850e-02],\n",
              "       [ 5.51633981e-01,  1.77258156e+00],\n",
              "       [ 7.17165066e-01,  1.85434315e-01],\n",
              "       [-3.72583830e-02,  4.32795099e-01],\n",
              "       [ 8.75890536e-01, -5.09998151e-01],\n",
              "       [ 3.48006402e-01,  1.90621647e-01],\n",
              "       [ 1.53392545e-01,  7.90725456e-01],\n",
              "       [ 1.21530321e+00,  1.63335564e+00],\n",
              "       [ 1.56941176e-01,  1.30310327e+00],\n",
              "       [ 7.38256104e-01, -4.02470382e-01],\n",
              "       [ 4.72369682e-01,  4.16608222e-01],\n",
              "       [ 1.22798821e+00,  9.40914793e-01],\n",
              "       [ 6.29381045e-01,  4.16811643e-01],\n",
              "       [ 7.00472799e-01,  6.34939277e-02],\n",
              "       [ 8.73536987e-01, -2.50708611e-01],\n",
              "       [ 1.25422219e+00,  8.26200998e-02],\n",
              "       [ 1.35823985e+00, -3.28820266e-01],\n",
              "       [ 6.62126138e-01,  2.24346071e-01],\n",
              "       [-4.72815133e-02,  1.05721241e+00],\n",
              "       [ 1.21534209e-01,  1.56359238e+00],\n",
              "       [ 1.41182261e-02,  1.57339235e+00],\n",
              "       [ 2.36010837e-01,  7.75923784e-01],\n",
              "       [ 1.05669143e+00,  6.36901284e-01],\n",
              "       [ 2.21417088e-01,  2.80847693e-01],\n",
              "       [ 4.31783161e-01, -8.55136920e-01],\n",
              "       [ 1.04941336e+00, -5.22197265e-01],\n",
              "       [ 1.03587821e+00,  1.39246648e+00],\n",
              "       [ 6.70675999e-02,  2.12620735e-01],\n",
              "       [ 2.75425066e-01,  1.32981591e+00],\n",
              "       [ 2.72335066e-01,  1.11944152e+00],\n",
              "       [ 6.23170540e-01, -2.75426333e-02],\n",
              "       [ 3.30005364e-01,  9.88900732e-01],\n",
              "       [-3.73627623e-01,  2.01793227e+00],\n",
              "       [ 2.82944343e-01,  8.53950717e-01],\n",
              "       [ 8.90531103e-02,  1.74908548e-01],\n",
              "       [ 2.24356783e-01,  3.80484659e-01],\n",
              "       [ 5.73883486e-01,  1.53719974e-01],\n",
              "       [-4.57012873e-01,  1.53946451e+00],\n",
              "       [ 2.52244473e-01,  5.95860746e-01],\n",
              "       [ 1.84767259e+00, -8.71696662e-01],\n",
              "       [ 1.15318981e+00,  7.01326114e-01],\n",
              "       [ 2.20634950e+00, -5.54470105e-01],\n",
              "       [ 1.43868540e+00,  5.00105223e-02],\n",
              "       [ 1.86789070e+00, -2.91192802e-01],\n",
              "       [ 2.75419671e+00, -7.88432206e-01],\n",
              "       [ 3.58374475e-01,  1.56009458e+00],\n",
              "       [ 2.30300590e+00, -4.09516695e-01],\n",
              "       [ 2.00173530e+00,  7.23865359e-01],\n",
              "       [ 2.26755460e+00, -1.92144299e+00],\n",
              "       [ 1.36590943e+00, -6.93948040e-01],\n",
              "       [ 1.59906459e+00,  4.28248836e-01],\n",
              "       [ 1.88425185e+00, -4.14332758e-01],\n",
              "       [ 1.25308651e+00,  1.16739134e+00],\n",
              "       [ 1.46406152e+00,  4.44147569e-01],\n",
              "       [ 1.59180930e+00, -6.77035372e-01],\n",
              "       [ 1.47128019e+00, -2.53192472e-01],\n",
              "       [ 2.43737848e+00, -2.55675734e+00],\n",
              "       [ 3.30914118e+00,  2.36132010e-03],\n",
              "       [ 1.25398099e+00,  1.71758384e+00],\n",
              "       [ 2.04049626e+00, -9.07398765e-01],\n",
              "       [ 9.73915114e-01,  5.71174376e-01],\n",
              "       [ 2.89806444e+00, -3.97791359e-01],\n",
              "       [ 1.32919369e+00,  4.86760542e-01],\n",
              "       [ 1.70424071e+00, -1.01414842e+00],\n",
              "       [ 1.95772766e+00, -1.00333452e+00],\n",
              "       [ 1.17190451e+00,  3.18896617e-01],\n",
              "       [ 1.01978105e+00, -6.55429631e-02],\n",
              "       [ 1.78600886e+00,  1.93272800e-01],\n",
              "       [ 1.86477791e+00, -5.55381532e-01],\n",
              "       [ 2.43549739e+00, -2.46654468e-01],\n",
              "       [ 2.31608241e+00, -2.62618387e+00],\n",
              "       [ 1.86037143e+00,  1.84672394e-01],\n",
              "       [ 1.11127173e+00,  2.95986102e-01],\n",
              "       [ 1.19746916e+00,  8.17167742e-01],\n",
              "       [ 2.80094940e+00, -8.44748194e-01],\n",
              "       [ 1.58015525e+00, -1.07247450e+00],\n",
              "       [ 1.34704442e+00, -4.22255966e-01],\n",
              "       [ 9.23432978e-01, -1.92303705e-02],\n",
              "       [ 1.85355198e+00, -6.72422729e-01],\n",
              "       [ 2.01615720e+00, -6.10397038e-01],\n",
              "       [ 1.90311686e+00, -6.86024832e-01],\n",
              "       [ 1.15318981e+00,  7.01326114e-01],\n",
              "       [ 2.04330844e+00, -8.64684880e-01],\n",
              "       [ 2.00169097e+00, -1.04855005e+00],\n",
              "       [ 1.87052207e+00, -3.82821838e-01],\n",
              "       [ 1.55849189e+00,  9.05313601e-01],\n",
              "       [ 1.52084506e+00, -2.66794575e-01],\n",
              "       [ 1.37639119e+00, -1.01636193e+00],\n",
              "       [ 9.59298576e-01,  2.22839447e-02]])"
            ]
          },
          "metadata": {
            "tags": []
          },
          "execution_count": 38
        }
      ]
    },
    {
      "cell_type": "code",
      "metadata": {
        "id": "LozHtBTgN6MY",
        "colab": {
          "base_uri": "https://localhost:8080/",
          "height": 282
        },
        "outputId": "e46b0557-6d22-4f52-afbb-c9baef0ebe6a"
      },
      "source": [
        "plt.plot(X_pca[:,0],X_pca[:,1],'or') # ดูยาก"
      ],
      "execution_count": null,
      "outputs": [
        {
          "output_type": "execute_result",
          "data": {
            "text/plain": [
              "[<matplotlib.lines.Line2D at 0x7fd72d029690>]"
            ]
          },
          "metadata": {
            "tags": []
          },
          "execution_count": 39
        },
        {
          "output_type": "display_data",
          "data": {
            "image/png": "[encoded data removed]",
            "text/plain": [
              "<Figure size 432x288 with 1 Axes>"
            ]
          },
          "metadata": {
            "tags": [],
            "needs_background": "light"
          }
        }
      ]
    },
    {
      "cell_type": "code",
      "metadata": {
        "id": "IjxNONeqN_ja",
        "colab": {
          "base_uri": "https://localhost:8080/",
          "height": 282
        },
        "outputId": "6ee1e422-09f9-4710-8cce-9d6d3ccc7e24"
      },
      "source": [
        "plt.plot(X_pca[:50,0],X_pca[:50,1],'or')  # พร็อตเเบ่งสามพันธุ์\r\n",
        "plt.plot(X_pca[50:100,0],X_pca[50:100,1],'og') \r\n",
        "plt.plot(X_pca[100:,0],X_pca[100:,1],'oy')  "
      ],
      "execution_count": null,
      "outputs": [
        {
          "output_type": "execute_result",
          "data": {
            "text/plain": [
              "[<matplotlib.lines.Line2D at 0x7fd72d063cd0>]"
            ]
          },
          "metadata": {
            "tags": []
          },
          "execution_count": 40
        },
        {
          "output_type": "display_data",
          "data": {
            "image/png": "[encoded data removed]",
            "text/plain": [
              "<Figure size 432x288 with 1 Axes>"
            ]
          },
          "metadata": {
            "tags": [],
            "needs_background": "light"
          }
        }
      ]
    },
    {
      "cell_type": "markdown",
      "metadata": {
        "id": "v_TTaIK9OI8i"
      },
      "source": [
        "# CPA\r\n",
        "\r\n",
        "###Import"
      ]
    },
    {
      "cell_type": "code",
      "metadata": {
        "id": "yV5cZ6jkOXAe"
      },
      "source": [
        "from sklearn.decomposition import PCA # เป็นpackage ไว้ใช้กับ PCA"
      ],
      "execution_count": null,
      "outputs": []
    },
    {
      "cell_type": "markdown",
      "metadata": {
        "id": "DQDylEavOk_Z"
      },
      "source": [
        "###Define"
      ]
    },
    {
      "cell_type": "code",
      "metadata": {
        "id": "d3ddt-vfOsO7"
      },
      "source": [
        "pca = PCA(n_components=2) # เหลือ 2 dimension"
      ],
      "execution_count": null,
      "outputs": []
    },
    {
      "cell_type": "markdown",
      "metadata": {
        "id": "U-xzpiwpO0jB"
      },
      "source": [
        "###Fit - Transform"
      ]
    },
    {
      "cell_type": "code",
      "metadata": {
        "id": "VI1I6P_uO73g"
      },
      "source": [
        "new_pca = pca.fit_transform(X.T) ## record - เเถว , dimension - หลัก"
      ],
      "execution_count": null,
      "outputs": []
    },
    {
      "cell_type": "code",
      "metadata": {
        "id": "5IrvJa9GO_aU",
        "colab": {
          "base_uri": "https://localhost:8080/"
        },
        "outputId": "d7876f69-8d06-4239-f417-9bb988c5b598"
      },
      "source": [
        "new_pca "
      ],
      "execution_count": null,
      "outputs": [
        {
          "output_type": "execute_result",
          "data": {
            "text/plain": [
              "array([[-2.26454173e+00,  5.05703903e-01],\n",
              "       [-2.08642550e+00, -6.55404729e-01],\n",
              "       [-2.36795045e+00, -3.18477311e-01],\n",
              "       [-2.30419716e+00, -5.75367713e-01],\n",
              "       [-2.38877749e+00,  6.74767397e-01],\n",
              "       [-2.07053681e+00,  1.51854856e+00],\n",
              "       [-2.44571134e+00,  7.45626750e-02],\n",
              "       [-2.23384186e+00,  2.47613932e-01],\n",
              "       [-2.34195768e+00, -1.09514636e+00],\n",
              "       [-2.18867576e+00, -4.48629048e-01],\n",
              "       [-2.16348656e+00,  1.07059558e+00],\n",
              "       [-2.32737775e+00,  1.58587455e-01],\n",
              "       [-2.22408272e+00, -7.09118158e-01],\n",
              "       [-2.63971626e+00, -9.38281982e-01],\n",
              "       [-2.19229151e+00,  1.88997851e+00],\n",
              "       [-2.25146521e+00,  2.72237108e+00],\n",
              "       [-2.20275048e+00,  1.51375028e+00],\n",
              "       [-2.19017916e+00,  5.14304308e-01],\n",
              "       [-1.89407429e+00,  1.43111071e+00],\n",
              "       [-2.33994907e+00,  1.15803343e+00],\n",
              "       [-1.91455639e+00,  4.30465163e-01],\n",
              "       [-2.20464540e+00,  9.52457317e-01],\n",
              "       [-2.77416979e+00,  4.89517027e-01],\n",
              "       [-1.82041156e+00,  1.06750793e-01],\n",
              "       [-2.22821750e+00,  1.62186163e-01],\n",
              "       [-1.95702401e+00, -6.07892567e-01],\n",
              "       [-2.05206331e+00,  2.66014312e-01],\n",
              "       [-2.16819365e+00,  5.52016495e-01],\n",
              "       [-2.14030596e+00,  3.36640409e-01],\n",
              "       [-2.26879019e+00, -3.14878603e-01],\n",
              "       [-2.14455443e+00, -4.83942097e-01],\n",
              "       [-1.83193810e+00,  4.45266836e-01],\n",
              "       [-2.60820287e+00,  1.82847519e+00],\n",
              "       [-2.43795086e+00,  2.18539162e+00],\n",
              "       [-2.18867576e+00, -4.48629048e-01],\n",
              "       [-2.21111990e+00, -1.84337811e-01],\n",
              "       [-2.04441652e+00,  6.84956426e-01],\n",
              "       [-2.18867576e+00, -4.48629048e-01],\n",
              "       [-2.43595220e+00, -8.82169415e-01],\n",
              "       [-2.17054720e+00,  2.92726955e-01],\n",
              "       [-2.28652724e+00,  4.67991716e-01],\n",
              "       [-1.87170722e+00, -2.32769161e+00],\n",
              "       [-2.55783442e+00, -4.53816380e-01],\n",
              "       [-1.96427929e+00,  4.97391640e-01],\n",
              "       [-2.13337283e+00,  1.17143211e+00],\n",
              "       [-2.07535759e+00, -6.91917347e-01],\n",
              "       [-2.38125822e+00,  1.15063259e+00],\n",
              "       [-2.39819169e+00, -3.62390765e-01],\n",
              "       [-2.22678121e+00,  1.02548255e+00],\n",
              "       [-2.20595417e+00,  3.22378453e-02],\n",
              "       [ 1.10399365e+00,  8.63112446e-01],\n",
              "       [ 7.32481440e-01,  5.98635573e-01],\n",
              "       [ 1.24210951e+00,  6.14822450e-01],\n",
              "       [ 3.97307283e-01, -1.75816895e+00],\n",
              "       [ 1.07259395e+00, -2.11757903e-01],\n",
              "       [ 3.84458146e-01, -5.91062469e-01],\n",
              "       [ 7.48715076e-01,  7.78698611e-01],\n",
              "       [-4.97863388e-01, -1.84886877e+00],\n",
              "       [ 9.26222368e-01,  3.03308268e-02],\n",
              "       [ 4.96802558e-03, -1.02940111e+00],\n",
              "       [-1.24697461e-01, -2.65806268e+00],\n",
              "       [ 4.38730118e-01, -5.88812850e-02],\n",
              "       [ 5.51633981e-01, -1.77258156e+00],\n",
              "       [ 7.17165066e-01, -1.85434315e-01],\n",
              "       [-3.72583830e-02, -4.32795099e-01],\n",
              "       [ 8.75890536e-01,  5.09998151e-01],\n",
              "       [ 3.48006402e-01, -1.90621647e-01],\n",
              "       [ 1.53392545e-01, -7.90725456e-01],\n",
              "       [ 1.21530321e+00, -1.63335564e+00],\n",
              "       [ 1.56941176e-01, -1.30310327e+00],\n",
              "       [ 7.38256104e-01,  4.02470382e-01],\n",
              "       [ 4.72369682e-01, -4.16608222e-01],\n",
              "       [ 1.22798821e+00, -9.40914793e-01],\n",
              "       [ 6.29381045e-01, -4.16811643e-01],\n",
              "       [ 7.00472799e-01, -6.34939277e-02],\n",
              "       [ 8.73536987e-01,  2.50708611e-01],\n",
              "       [ 1.25422219e+00, -8.26200998e-02],\n",
              "       [ 1.35823985e+00,  3.28820266e-01],\n",
              "       [ 6.62126138e-01, -2.24346071e-01],\n",
              "       [-4.72815133e-02, -1.05721241e+00],\n",
              "       [ 1.21534209e-01, -1.56359238e+00],\n",
              "       [ 1.41182261e-02, -1.57339235e+00],\n",
              "       [ 2.36010837e-01, -7.75923784e-01],\n",
              "       [ 1.05669143e+00, -6.36901284e-01],\n",
              "       [ 2.21417088e-01, -2.80847693e-01],\n",
              "       [ 4.31783161e-01,  8.55136920e-01],\n",
              "       [ 1.04941336e+00,  5.22197265e-01],\n",
              "       [ 1.03587821e+00, -1.39246648e+00],\n",
              "       [ 6.70675999e-02, -2.12620735e-01],\n",
              "       [ 2.75425066e-01, -1.32981591e+00],\n",
              "       [ 2.72335066e-01, -1.11944152e+00],\n",
              "       [ 6.23170540e-01,  2.75426333e-02],\n",
              "       [ 3.30005364e-01, -9.88900732e-01],\n",
              "       [-3.73627623e-01, -2.01793227e+00],\n",
              "       [ 2.82944343e-01, -8.53950717e-01],\n",
              "       [ 8.90531103e-02, -1.74908548e-01],\n",
              "       [ 2.24356783e-01, -3.80484659e-01],\n",
              "       [ 5.73883486e-01, -1.53719974e-01],\n",
              "       [-4.57012873e-01, -1.53946451e+00],\n",
              "       [ 2.52244473e-01, -5.95860746e-01],\n",
              "       [ 1.84767259e+00,  8.71696662e-01],\n",
              "       [ 1.15318981e+00, -7.01326114e-01],\n",
              "       [ 2.20634950e+00,  5.54470105e-01],\n",
              "       [ 1.43868540e+00, -5.00105223e-02],\n",
              "       [ 1.86789070e+00,  2.91192802e-01],\n",
              "       [ 2.75419671e+00,  7.88432206e-01],\n",
              "       [ 3.58374475e-01, -1.56009458e+00],\n",
              "       [ 2.30300590e+00,  4.09516695e-01],\n",
              "       [ 2.00173530e+00, -7.23865359e-01],\n",
              "       [ 2.26755460e+00,  1.92144299e+00],\n",
              "       [ 1.36590943e+00,  6.93948040e-01],\n",
              "       [ 1.59906459e+00, -4.28248836e-01],\n",
              "       [ 1.88425185e+00,  4.14332758e-01],\n",
              "       [ 1.25308651e+00, -1.16739134e+00],\n",
              "       [ 1.46406152e+00, -4.44147569e-01],\n",
              "       [ 1.59180930e+00,  6.77035372e-01],\n",
              "       [ 1.47128019e+00,  2.53192472e-01],\n",
              "       [ 2.43737848e+00,  2.55675734e+00],\n",
              "       [ 3.30914118e+00, -2.36132010e-03],\n",
              "       [ 1.25398099e+00, -1.71758384e+00],\n",
              "       [ 2.04049626e+00,  9.07398765e-01],\n",
              "       [ 9.73915114e-01, -5.71174376e-01],\n",
              "       [ 2.89806444e+00,  3.97791359e-01],\n",
              "       [ 1.32919369e+00, -4.86760542e-01],\n",
              "       [ 1.70424071e+00,  1.01414842e+00],\n",
              "       [ 1.95772766e+00,  1.00333452e+00],\n",
              "       [ 1.17190451e+00, -3.18896617e-01],\n",
              "       [ 1.01978105e+00,  6.55429631e-02],\n",
              "       [ 1.78600886e+00, -1.93272800e-01],\n",
              "       [ 1.86477791e+00,  5.55381532e-01],\n",
              "       [ 2.43549739e+00,  2.46654468e-01],\n",
              "       [ 2.31608241e+00,  2.62618387e+00],\n",
              "       [ 1.86037143e+00, -1.84672394e-01],\n",
              "       [ 1.11127173e+00, -2.95986102e-01],\n",
              "       [ 1.19746916e+00, -8.17167742e-01],\n",
              "       [ 2.80094940e+00,  8.44748194e-01],\n",
              "       [ 1.58015525e+00,  1.07247450e+00],\n",
              "       [ 1.34704442e+00,  4.22255966e-01],\n",
              "       [ 9.23432978e-01,  1.92303705e-02],\n",
              "       [ 1.85355198e+00,  6.72422729e-01],\n",
              "       [ 2.01615720e+00,  6.10397038e-01],\n",
              "       [ 1.90311686e+00,  6.86024832e-01],\n",
              "       [ 1.15318981e+00, -7.01326114e-01],\n",
              "       [ 2.04330844e+00,  8.64684880e-01],\n",
              "       [ 2.00169097e+00,  1.04855005e+00],\n",
              "       [ 1.87052207e+00,  3.82821838e-01],\n",
              "       [ 1.55849189e+00, -9.05313601e-01],\n",
              "       [ 1.52084506e+00,  2.66794575e-01],\n",
              "       [ 1.37639119e+00,  1.01636193e+00],\n",
              "       [ 9.59298576e-01, -2.22839447e-02]])"
            ]
          },
          "metadata": {
            "tags": []
          },
          "execution_count": 44
        }
      ]
    },
    {
      "cell_type": "code",
      "metadata": {
        "id": "QuEues3UPiBX",
        "colab": {
          "base_uri": "https://localhost:8080/",
          "height": 282
        },
        "outputId": "99533e66-34e3-4756-8e63-5b261aed6dfa"
      },
      "source": [
        "plt.plot(new_pca[:50,0],new_pca[:50,1],'or')  # พร็อตเเบ่งสามพันธุ์\r\n",
        "plt.plot(new_pca[50:100,0],new_pca[50:100,1],'og') \r\n",
        "plt.plot(new_pca[100:,0],new_pca[100:,1],'oy')  "
      ],
      "execution_count": null,
      "outputs": [
        {
          "output_type": "execute_result",
          "data": {
            "text/plain": [
              "[<matplotlib.lines.Line2D at 0x7fd72d43c690>]"
            ]
          },
          "metadata": {
            "tags": []
          },
          "execution_count": 52
        },
        {
          "output_type": "display_data",
          "data": {
            "image/png": "[encoded data removed]",
            "text/plain": [
              "<Figure size 432x288 with 1 Axes>"
            ]
          },
          "metadata": {
            "tags": [],
            "needs_background": "light"
          }
        }
      ]
    },
    {
      "cell_type": "markdown",
      "metadata": {
        "id": "LQ8GsuSr8x8X"
      },
      "source": [
        "# Example"
      ]
    },
    {
      "cell_type": "code",
      "metadata": {
        "id": "c4U8l9EK9XMS"
      },
      "source": [
        "improt pandas as pd"
      ],
      "execution_count": null,
      "outputs": []
    },
    {
      "cell_type": "code",
      "metadata": {
        "id": "RHH8TuVk-I0b",
        "colab": {
          "base_uri": "https://localhost:8080/",
          "height": 1000
        },
        "outputId": "14df0244-d0ff-4ded-f4b2-fb81d12d9801"
      },
      "source": [
        "data = pd.read_csv('nndb_flat.csv')\r\n",
        "data"
      ],
      "execution_count": 73,
      "outputs": [
        {
          "output_type": "execute_result",
          "data": {
            "text/html": [
              "<div>\n",
              "<style scoped>\n",
              "    .dataframe tbody tr th:only-of-type {\n",
              "        vertical-align: middle;\n",
              "    }\n",
              "\n",
              "    .dataframe tbody tr th {\n",
              "        vertical-align: top;\n",
              "    }\n",
              "\n",
              "    .dataframe thead th {\n",
              "        text-align: right;\n",
              "    }\n",
              "</style>\n",
              "<table border=\"1\" class=\"dataframe\">\n",
              "  <thead>\n",
              "    <tr style=\"text-align: right;\">\n",
              "      <th></th>\n",
              "      <th>ID</th>\n",
              "      <th>FoodGroup</th>\n",
              "      <th>ShortDescrip</th>\n",
              "      <th>Descrip</th>\n",
              "      <th>CommonName</th>\n",
              "      <th>MfgName</th>\n",
              "      <th>ScientificName</th>\n",
              "      <th>Energy_kcal</th>\n",
              "      <th>Protein_g</th>\n",
              "      <th>Fat_g</th>\n",
              "      <th>Carb_g</th>\n",
              "      <th>Sugar_g</th>\n",
              "      <th>Fiber_g</th>\n",
              "      <th>VitA_mcg</th>\n",
              "      <th>VitB6_mg</th>\n",
              "      <th>VitB12_mcg</th>\n",
              "      <th>VitC_mg</th>\n",
              "      <th>VitE_mg</th>\n",
              "      <th>Folate_mcg</th>\n",
              "      <th>Niacin_mg</th>\n",
              "      <th>Riboflavin_mg</th>\n",
              "      <th>Thiamin_mg</th>\n",
              "      <th>Calcium_mg</th>\n",
              "      <th>Copper_mcg</th>\n",
              "      <th>Iron_mg</th>\n",
              "      <th>Magnesium_mg</th>\n",
              "      <th>Manganese_mg</th>\n",
              "      <th>Phosphorus_mg</th>\n",
              "      <th>Selenium_mcg</th>\n",
              "      <th>Zinc_mg</th>\n",
              "      <th>VitA_USRDA</th>\n",
              "      <th>VitB6_USRDA</th>\n",
              "      <th>VitB12_USRDA</th>\n",
              "      <th>VitC_USRDA</th>\n",
              "      <th>VitE_USRDA</th>\n",
              "      <th>Folate_USRDA</th>\n",
              "      <th>Niacin_USRDA</th>\n",
              "      <th>Riboflavin_USRDA</th>\n",
              "      <th>Thiamin_USRDA</th>\n",
              "      <th>Calcium_USRDA</th>\n",
              "      <th>Copper_USRDA</th>\n",
              "      <th>Magnesium_USRDA</th>\n",
              "      <th>Phosphorus_USRDA</th>\n",
              "      <th>Selenium_USRDA</th>\n",
              "      <th>Zinc_USRDA</th>\n",
              "    </tr>\n",
              "  </thead>\n",
              "  <tbody>\n",
              "    <tr>\n",
              "      <th>0</th>\n",
              "      <td>1001</td>\n",
              "      <td>Dairy and Egg Products</td>\n",
              "      <td>BUTTER,WITH SALT</td>\n",
              "      <td>Butter, salted</td>\n",
              "      <td>NaN</td>\n",
              "      <td>NaN</td>\n",
              "      <td>NaN</td>\n",
              "      <td>717.0</td>\n",
              "      <td>0.85</td>\n",
              "      <td>81.11</td>\n",
              "      <td>0.06</td>\n",
              "      <td>0.06</td>\n",
              "      <td>0.0</td>\n",
              "      <td>684.0</td>\n",
              "      <td>0.003</td>\n",
              "      <td>0.17</td>\n",
              "      <td>0.0</td>\n",
              "      <td>2.32</td>\n",
              "      <td>3.0</td>\n",
              "      <td>0.042</td>\n",
              "      <td>0.034</td>\n",
              "      <td>0.005</td>\n",
              "      <td>24.0</td>\n",
              "      <td>0.000</td>\n",
              "      <td>0.02</td>\n",
              "      <td>2.0</td>\n",
              "      <td>0.000</td>\n",
              "      <td>24.0</td>\n",
              "      <td>1.0</td>\n",
              "      <td>0.09</td>\n",
              "      <td>0.760000</td>\n",
              "      <td>0.001765</td>\n",
              "      <td>0.070833</td>\n",
              "      <td>0.0</td>\n",
              "      <td>0.154667</td>\n",
              "      <td>0.0075</td>\n",
              "      <td>0.002625</td>\n",
              "      <td>0.026154</td>\n",
              "      <td>0.004167</td>\n",
              "      <td>0.020000</td>\n",
              "      <td>0.000000</td>\n",
              "      <td>0.004762</td>\n",
              "      <td>0.034286</td>\n",
              "      <td>0.018182</td>\n",
              "      <td>0.008182</td>\n",
              "    </tr>\n",
              "    <tr>\n",
              "      <th>1</th>\n",
              "      <td>1002</td>\n",
              "      <td>Dairy and Egg Products</td>\n",
              "      <td>BUTTER,WHIPPED,WITH SALT</td>\n",
              "      <td>Butter, whipped, with salt</td>\n",
              "      <td>NaN</td>\n",
              "      <td>NaN</td>\n",
              "      <td>NaN</td>\n",
              "      <td>717.0</td>\n",
              "      <td>0.85</td>\n",
              "      <td>81.11</td>\n",
              "      <td>0.06</td>\n",
              "      <td>0.06</td>\n",
              "      <td>0.0</td>\n",
              "      <td>684.0</td>\n",
              "      <td>0.003</td>\n",
              "      <td>0.13</td>\n",
              "      <td>0.0</td>\n",
              "      <td>2.32</td>\n",
              "      <td>3.0</td>\n",
              "      <td>0.042</td>\n",
              "      <td>0.034</td>\n",
              "      <td>0.005</td>\n",
              "      <td>24.0</td>\n",
              "      <td>0.016</td>\n",
              "      <td>0.16</td>\n",
              "      <td>2.0</td>\n",
              "      <td>0.004</td>\n",
              "      <td>23.0</td>\n",
              "      <td>1.0</td>\n",
              "      <td>0.05</td>\n",
              "      <td>0.760000</td>\n",
              "      <td>0.001765</td>\n",
              "      <td>0.054167</td>\n",
              "      <td>0.0</td>\n",
              "      <td>0.154667</td>\n",
              "      <td>0.0075</td>\n",
              "      <td>0.002625</td>\n",
              "      <td>0.026154</td>\n",
              "      <td>0.004167</td>\n",
              "      <td>0.020000</td>\n",
              "      <td>0.000018</td>\n",
              "      <td>0.004762</td>\n",
              "      <td>0.032857</td>\n",
              "      <td>0.018182</td>\n",
              "      <td>0.004545</td>\n",
              "    </tr>\n",
              "    <tr>\n",
              "      <th>2</th>\n",
              "      <td>1003</td>\n",
              "      <td>Dairy and Egg Products</td>\n",
              "      <td>BUTTER OIL,ANHYDROUS</td>\n",
              "      <td>Butter oil, anhydrous</td>\n",
              "      <td>NaN</td>\n",
              "      <td>NaN</td>\n",
              "      <td>NaN</td>\n",
              "      <td>876.0</td>\n",
              "      <td>0.28</td>\n",
              "      <td>99.48</td>\n",
              "      <td>0.00</td>\n",
              "      <td>0.00</td>\n",
              "      <td>0.0</td>\n",
              "      <td>840.0</td>\n",
              "      <td>0.001</td>\n",
              "      <td>0.01</td>\n",
              "      <td>0.0</td>\n",
              "      <td>2.80</td>\n",
              "      <td>0.0</td>\n",
              "      <td>0.003</td>\n",
              "      <td>0.005</td>\n",
              "      <td>0.001</td>\n",
              "      <td>4.0</td>\n",
              "      <td>0.001</td>\n",
              "      <td>0.00</td>\n",
              "      <td>0.0</td>\n",
              "      <td>0.000</td>\n",
              "      <td>3.0</td>\n",
              "      <td>0.0</td>\n",
              "      <td>0.01</td>\n",
              "      <td>0.933333</td>\n",
              "      <td>0.000588</td>\n",
              "      <td>0.004167</td>\n",
              "      <td>0.0</td>\n",
              "      <td>0.186667</td>\n",
              "      <td>0.0000</td>\n",
              "      <td>0.000188</td>\n",
              "      <td>0.003846</td>\n",
              "      <td>0.000833</td>\n",
              "      <td>0.003333</td>\n",
              "      <td>0.000001</td>\n",
              "      <td>0.000000</td>\n",
              "      <td>0.004286</td>\n",
              "      <td>0.000000</td>\n",
              "      <td>0.000909</td>\n",
              "    </tr>\n",
              "    <tr>\n",
              "      <th>3</th>\n",
              "      <td>1004</td>\n",
              "      <td>Dairy and Egg Products</td>\n",
              "      <td>CHEESE,BLUE</td>\n",
              "      <td>Cheese, blue</td>\n",
              "      <td>NaN</td>\n",
              "      <td>NaN</td>\n",
              "      <td>NaN</td>\n",
              "      <td>353.0</td>\n",
              "      <td>21.40</td>\n",
              "      <td>28.74</td>\n",
              "      <td>2.34</td>\n",
              "      <td>0.50</td>\n",
              "      <td>0.0</td>\n",
              "      <td>198.0</td>\n",
              "      <td>0.166</td>\n",
              "      <td>1.22</td>\n",
              "      <td>0.0</td>\n",
              "      <td>0.25</td>\n",
              "      <td>36.0</td>\n",
              "      <td>1.016</td>\n",
              "      <td>0.382</td>\n",
              "      <td>0.029</td>\n",
              "      <td>528.0</td>\n",
              "      <td>0.040</td>\n",
              "      <td>0.31</td>\n",
              "      <td>23.0</td>\n",
              "      <td>0.009</td>\n",
              "      <td>387.0</td>\n",
              "      <td>14.5</td>\n",
              "      <td>2.66</td>\n",
              "      <td>0.220000</td>\n",
              "      <td>0.097647</td>\n",
              "      <td>0.508333</td>\n",
              "      <td>0.0</td>\n",
              "      <td>0.016667</td>\n",
              "      <td>0.0900</td>\n",
              "      <td>0.063500</td>\n",
              "      <td>0.293846</td>\n",
              "      <td>0.024167</td>\n",
              "      <td>0.440000</td>\n",
              "      <td>0.000044</td>\n",
              "      <td>0.054762</td>\n",
              "      <td>0.552857</td>\n",
              "      <td>0.263636</td>\n",
              "      <td>0.241818</td>\n",
              "    </tr>\n",
              "    <tr>\n",
              "      <th>4</th>\n",
              "      <td>1005</td>\n",
              "      <td>Dairy and Egg Products</td>\n",
              "      <td>CHEESE,BRICK</td>\n",
              "      <td>Cheese, brick</td>\n",
              "      <td>NaN</td>\n",
              "      <td>NaN</td>\n",
              "      <td>NaN</td>\n",
              "      <td>371.0</td>\n",
              "      <td>23.24</td>\n",
              "      <td>29.68</td>\n",
              "      <td>2.79</td>\n",
              "      <td>0.51</td>\n",
              "      <td>0.0</td>\n",
              "      <td>292.0</td>\n",
              "      <td>0.065</td>\n",
              "      <td>1.26</td>\n",
              "      <td>0.0</td>\n",
              "      <td>0.26</td>\n",
              "      <td>20.0</td>\n",
              "      <td>0.118</td>\n",
              "      <td>0.351</td>\n",
              "      <td>0.014</td>\n",
              "      <td>674.0</td>\n",
              "      <td>0.024</td>\n",
              "      <td>0.43</td>\n",
              "      <td>24.0</td>\n",
              "      <td>0.012</td>\n",
              "      <td>451.0</td>\n",
              "      <td>14.5</td>\n",
              "      <td>2.60</td>\n",
              "      <td>0.324444</td>\n",
              "      <td>0.038235</td>\n",
              "      <td>0.525000</td>\n",
              "      <td>0.0</td>\n",
              "      <td>0.017333</td>\n",
              "      <td>0.0500</td>\n",
              "      <td>0.007375</td>\n",
              "      <td>0.270000</td>\n",
              "      <td>0.011667</td>\n",
              "      <td>0.561667</td>\n",
              "      <td>0.000027</td>\n",
              "      <td>0.057143</td>\n",
              "      <td>0.644286</td>\n",
              "      <td>0.263636</td>\n",
              "      <td>0.236364</td>\n",
              "    </tr>\n",
              "    <tr>\n",
              "      <th>...</th>\n",
              "      <td>...</td>\n",
              "      <td>...</td>\n",
              "      <td>...</td>\n",
              "      <td>...</td>\n",
              "      <td>...</td>\n",
              "      <td>...</td>\n",
              "      <td>...</td>\n",
              "      <td>...</td>\n",
              "      <td>...</td>\n",
              "      <td>...</td>\n",
              "      <td>...</td>\n",
              "      <td>...</td>\n",
              "      <td>...</td>\n",
              "      <td>...</td>\n",
              "      <td>...</td>\n",
              "      <td>...</td>\n",
              "      <td>...</td>\n",
              "      <td>...</td>\n",
              "      <td>...</td>\n",
              "      <td>...</td>\n",
              "      <td>...</td>\n",
              "      <td>...</td>\n",
              "      <td>...</td>\n",
              "      <td>...</td>\n",
              "      <td>...</td>\n",
              "      <td>...</td>\n",
              "      <td>...</td>\n",
              "      <td>...</td>\n",
              "      <td>...</td>\n",
              "      <td>...</td>\n",
              "      <td>...</td>\n",
              "      <td>...</td>\n",
              "      <td>...</td>\n",
              "      <td>...</td>\n",
              "      <td>...</td>\n",
              "      <td>...</td>\n",
              "      <td>...</td>\n",
              "      <td>...</td>\n",
              "      <td>...</td>\n",
              "      <td>...</td>\n",
              "      <td>...</td>\n",
              "      <td>...</td>\n",
              "      <td>...</td>\n",
              "      <td>...</td>\n",
              "      <td>...</td>\n",
              "    </tr>\n",
              "    <tr>\n",
              "      <th>6903</th>\n",
              "      <td>21435</td>\n",
              "      <td>Fast Foods</td>\n",
              "      <td>KFC,FRIED CHICK,ORIGINAL RECIPE,DRUMSTK,MEAT &amp;...</td>\n",
              "      <td>KFC, Fried Chicken, ORIGINAL RECIPE, Drumstick...</td>\n",
              "      <td>KFC</td>\n",
              "      <td>Kentucky Fried Chicken</td>\n",
              "      <td>NaN</td>\n",
              "      <td>239.0</td>\n",
              "      <td>22.30</td>\n",
              "      <td>14.22</td>\n",
              "      <td>5.39</td>\n",
              "      <td>0.00</td>\n",
              "      <td>0.0</td>\n",
              "      <td>0.0</td>\n",
              "      <td>0.221</td>\n",
              "      <td>0.54</td>\n",
              "      <td>0.0</td>\n",
              "      <td>0.00</td>\n",
              "      <td>0.0</td>\n",
              "      <td>4.993</td>\n",
              "      <td>0.213</td>\n",
              "      <td>0.041</td>\n",
              "      <td>29.0</td>\n",
              "      <td>0.080</td>\n",
              "      <td>0.97</td>\n",
              "      <td>23.0</td>\n",
              "      <td>0.135</td>\n",
              "      <td>211.0</td>\n",
              "      <td>25.5</td>\n",
              "      <td>1.96</td>\n",
              "      <td>0.000000</td>\n",
              "      <td>0.130000</td>\n",
              "      <td>0.225000</td>\n",
              "      <td>0.0</td>\n",
              "      <td>0.000000</td>\n",
              "      <td>0.0000</td>\n",
              "      <td>0.312063</td>\n",
              "      <td>0.163846</td>\n",
              "      <td>0.034167</td>\n",
              "      <td>0.024167</td>\n",
              "      <td>0.000089</td>\n",
              "      <td>0.054762</td>\n",
              "      <td>0.301429</td>\n",
              "      <td>0.463636</td>\n",
              "      <td>0.178182</td>\n",
              "    </tr>\n",
              "    <tr>\n",
              "      <th>6904</th>\n",
              "      <td>21436</td>\n",
              "      <td>Fast Foods</td>\n",
              "      <td>KFC,FRIED CHICK,ORIGINAL RECIPE,THIGH,MEAT &amp; S...</td>\n",
              "      <td>KFC, Fried Chicken, ORIGINAL RECIPE, Thigh, me...</td>\n",
              "      <td>KFC</td>\n",
              "      <td>Kentucky Fried Chicken</td>\n",
              "      <td>NaN</td>\n",
              "      <td>269.0</td>\n",
              "      <td>18.90</td>\n",
              "      <td>17.73</td>\n",
              "      <td>8.46</td>\n",
              "      <td>0.00</td>\n",
              "      <td>0.0</td>\n",
              "      <td>15.0</td>\n",
              "      <td>0.138</td>\n",
              "      <td>0.40</td>\n",
              "      <td>0.0</td>\n",
              "      <td>0.77</td>\n",
              "      <td>0.0</td>\n",
              "      <td>5.524</td>\n",
              "      <td>0.259</td>\n",
              "      <td>0.085</td>\n",
              "      <td>64.0</td>\n",
              "      <td>0.082</td>\n",
              "      <td>0.88</td>\n",
              "      <td>22.0</td>\n",
              "      <td>0.161</td>\n",
              "      <td>230.0</td>\n",
              "      <td>23.5</td>\n",
              "      <td>1.44</td>\n",
              "      <td>0.016667</td>\n",
              "      <td>0.081176</td>\n",
              "      <td>0.166667</td>\n",
              "      <td>0.0</td>\n",
              "      <td>0.051333</td>\n",
              "      <td>0.0000</td>\n",
              "      <td>0.345250</td>\n",
              "      <td>0.199231</td>\n",
              "      <td>0.070833</td>\n",
              "      <td>0.053333</td>\n",
              "      <td>0.000091</td>\n",
              "      <td>0.052381</td>\n",
              "      <td>0.328571</td>\n",
              "      <td>0.427273</td>\n",
              "      <td>0.130909</td>\n",
              "    </tr>\n",
              "    <tr>\n",
              "      <th>6905</th>\n",
              "      <td>21437</td>\n",
              "      <td>Fast Foods</td>\n",
              "      <td>KFC,FRIED CHICK,ORIGINAL RECIPE,WING,MEAT &amp; SK...</td>\n",
              "      <td>KFC, Fried Chicken, ORIGINAL RECIPE, Wing, mea...</td>\n",
              "      <td>KFC</td>\n",
              "      <td>Kentucky Fried Chicken</td>\n",
              "      <td>NaN</td>\n",
              "      <td>297.0</td>\n",
              "      <td>21.70</td>\n",
              "      <td>18.90</td>\n",
              "      <td>9.93</td>\n",
              "      <td>0.00</td>\n",
              "      <td>0.0</td>\n",
              "      <td>14.0</td>\n",
              "      <td>0.188</td>\n",
              "      <td>0.39</td>\n",
              "      <td>0.0</td>\n",
              "      <td>0.92</td>\n",
              "      <td>0.0</td>\n",
              "      <td>6.335</td>\n",
              "      <td>0.221</td>\n",
              "      <td>0.072</td>\n",
              "      <td>77.0</td>\n",
              "      <td>0.075</td>\n",
              "      <td>0.93</td>\n",
              "      <td>24.0</td>\n",
              "      <td>0.175</td>\n",
              "      <td>250.0</td>\n",
              "      <td>27.0</td>\n",
              "      <td>1.36</td>\n",
              "      <td>0.015556</td>\n",
              "      <td>0.110588</td>\n",
              "      <td>0.162500</td>\n",
              "      <td>0.0</td>\n",
              "      <td>0.061333</td>\n",
              "      <td>0.0000</td>\n",
              "      <td>0.395937</td>\n",
              "      <td>0.170000</td>\n",
              "      <td>0.060000</td>\n",
              "      <td>0.064167</td>\n",
              "      <td>0.000083</td>\n",
              "      <td>0.057143</td>\n",
              "      <td>0.357143</td>\n",
              "      <td>0.490909</td>\n",
              "      <td>0.123636</td>\n",
              "    </tr>\n",
              "    <tr>\n",
              "      <th>6906</th>\n",
              "      <td>21438</td>\n",
              "      <td>Fast Foods</td>\n",
              "      <td>KFC,FRIED CHICK,EX CRISPY,BREAST,MEAT &amp; SKN W/...</td>\n",
              "      <td>KFC, Fried Chicken, EXTRA CRISPY, Breast, meat...</td>\n",
              "      <td>KFC</td>\n",
              "      <td>Kentucky Fried Chicken</td>\n",
              "      <td>NaN</td>\n",
              "      <td>268.0</td>\n",
              "      <td>21.24</td>\n",
              "      <td>16.55</td>\n",
              "      <td>8.47</td>\n",
              "      <td>0.00</td>\n",
              "      <td>0.0</td>\n",
              "      <td>0.0</td>\n",
              "      <td>0.309</td>\n",
              "      <td>0.32</td>\n",
              "      <td>0.0</td>\n",
              "      <td>0.00</td>\n",
              "      <td>0.0</td>\n",
              "      <td>8.139</td>\n",
              "      <td>0.107</td>\n",
              "      <td>0.043</td>\n",
              "      <td>27.0</td>\n",
              "      <td>0.400</td>\n",
              "      <td>0.57</td>\n",
              "      <td>24.0</td>\n",
              "      <td>0.144</td>\n",
              "      <td>215.0</td>\n",
              "      <td>21.9</td>\n",
              "      <td>0.78</td>\n",
              "      <td>0.000000</td>\n",
              "      <td>0.181765</td>\n",
              "      <td>0.133333</td>\n",
              "      <td>0.0</td>\n",
              "      <td>0.000000</td>\n",
              "      <td>0.0000</td>\n",
              "      <td>0.508687</td>\n",
              "      <td>0.082308</td>\n",
              "      <td>0.035833</td>\n",
              "      <td>0.022500</td>\n",
              "      <td>0.000444</td>\n",
              "      <td>0.057143</td>\n",
              "      <td>0.307143</td>\n",
              "      <td>0.398182</td>\n",
              "      <td>0.070909</td>\n",
              "    </tr>\n",
              "    <tr>\n",
              "      <th>6907</th>\n",
              "      <td>21439</td>\n",
              "      <td>Fast Foods</td>\n",
              "      <td>KFC,FRIED CHICK,EX CRISPY,DRUMSTK,MEAT &amp; SKN W...</td>\n",
              "      <td>KFC, Fried Chicken, EXTRA CRISPY, Drumstick, m...</td>\n",
              "      <td>KFC</td>\n",
              "      <td>Kentucky Fried Chicken</td>\n",
              "      <td>NaN</td>\n",
              "      <td>274.0</td>\n",
              "      <td>20.62</td>\n",
              "      <td>17.73</td>\n",
              "      <td>7.96</td>\n",
              "      <td>0.00</td>\n",
              "      <td>0.0</td>\n",
              "      <td>0.0</td>\n",
              "      <td>0.204</td>\n",
              "      <td>0.54</td>\n",
              "      <td>0.0</td>\n",
              "      <td>0.00</td>\n",
              "      <td>0.0</td>\n",
              "      <td>4.601</td>\n",
              "      <td>0.195</td>\n",
              "      <td>0.037</td>\n",
              "      <td>25.0</td>\n",
              "      <td>0.411</td>\n",
              "      <td>0.91</td>\n",
              "      <td>21.0</td>\n",
              "      <td>0.145</td>\n",
              "      <td>198.0</td>\n",
              "      <td>24.2</td>\n",
              "      <td>1.84</td>\n",
              "      <td>NaN</td>\n",
              "      <td>NaN</td>\n",
              "      <td>NaN</td>\n",
              "      <td>NaN</td>\n",
              "      <td>NaN</td>\n",
              "      <td>NaN</td>\n",
              "      <td>NaN</td>\n",
              "      <td>NaN</td>\n",
              "      <td>NaN</td>\n",
              "      <td>NaN</td>\n",
              "      <td>NaN</td>\n",
              "      <td>NaN</td>\n",
              "      <td>NaN</td>\n",
              "      <td>NaN</td>\n",
              "      <td>NaN</td>\n",
              "    </tr>\n",
              "  </tbody>\n",
              "</table>\n",
              "<p>6908 rows × 45 columns</p>\n",
              "</div>"
            ],
            "text/plain": [
              "         ID               FoodGroup  ... Selenium_USRDA Zinc_USRDA\n",
              "0      1001  Dairy and Egg Products  ...       0.018182   0.008182\n",
              "1      1002  Dairy and Egg Products  ...       0.018182   0.004545\n",
              "2      1003  Dairy and Egg Products  ...       0.000000   0.000909\n",
              "3      1004  Dairy and Egg Products  ...       0.263636   0.241818\n",
              "4      1005  Dairy and Egg Products  ...       0.263636   0.236364\n",
              "...     ...                     ...  ...            ...        ...\n",
              "6903  21435              Fast Foods  ...       0.463636   0.178182\n",
              "6904  21436              Fast Foods  ...       0.427273   0.130909\n",
              "6905  21437              Fast Foods  ...       0.490909   0.123636\n",
              "6906  21438              Fast Foods  ...       0.398182   0.070909\n",
              "6907  21439              Fast Foods  ...            NaN        NaN\n",
              "\n",
              "[6908 rows x 45 columns]"
            ]
          },
          "metadata": {
            "tags": []
          },
          "execution_count": 73
        }
      ]
    },
    {
      "cell_type": "markdown",
      "metadata": {
        "id": "2J2bElJIBrfB"
      },
      "source": [
        "## ตรวจสอบขนาดของข้อมูลว่ามีกี่ dimention"
      ]
    },
    {
      "cell_type": "code",
      "metadata": {
        "id": "QmfpzAts_3vg",
        "colab": {
          "base_uri": "https://localhost:8080/"
        },
        "outputId": "aba044b1-80ce-4314-ebce-fffa011bdad2"
      },
      "source": [
        "data.shape #จำนวนข้อมูล"
      ],
      "execution_count": 74,
      "outputs": [
        {
          "output_type": "execute_result",
          "data": {
            "text/plain": [
              "(6908, 45)"
            ]
          },
          "metadata": {
            "tags": []
          },
          "execution_count": 74
        }
      ]
    },
    {
      "cell_type": "markdown",
      "metadata": {
        "id": "nEKK_OjJBxNa"
      },
      "source": [
        "## "
      ]
    },
    {
      "cell_type": "code",
      "metadata": {
        "id": "JTr5T_eh_DGI",
        "colab": {
          "base_uri": "https://localhost:8080/",
          "height": 1000
        },
        "outputId": "210bb56c-d67e-40d0-b9f8-d01785183052"
      },
      "source": [
        "pd.plotting.scatter_matrix(data) #ข้อมูลเยอะเกินไปเลยซ้อนกัน"
      ],
      "execution_count": 75,
      "outputs": [
        {
          "output_type": "execute_result",
          "data": {
            "text/plain": [
              "array([[<matplotlib.axes._subplots.AxesSubplot object at 0x7fd703fe2e50>,\n",
              "        <matplotlib.axes._subplots.AxesSubplot object at 0x7fd703fef2d0>,\n",
              "        <matplotlib.axes._subplots.AxesSubplot object at 0x7fd704001790>,\n",
              "        ...,\n",
              "        <matplotlib.axes._subplots.AxesSubplot object at 0x7fd703c7e590>,\n",
              "        <matplotlib.axes._subplots.AxesSubplot object at 0x7fd703c1cb10>,\n",
              "        <matplotlib.axes._subplots.AxesSubplot object at 0x7fd703c410d0>],\n",
              "       [<matplotlib.axes._subplots.AxesSubplot object at 0x7fd703bde650>,\n",
              "        <matplotlib.axes._subplots.AxesSubplot object at 0x7fd703bfdbd0>,\n",
              "        <matplotlib.axes._subplots.AxesSubplot object at 0x7fd703ba2190>,\n",
              "        ...,\n",
              "        <matplotlib.axes._subplots.AxesSubplot object at 0x7fd7034d6b10>,\n",
              "        <matplotlib.axes._subplots.AxesSubplot object at 0x7fd7034a1590>,\n",
              "        <matplotlib.axes._subplots.AxesSubplot object at 0x7fd703457b10>],\n",
              "       [<matplotlib.axes._subplots.AxesSubplot object at 0x7fd70341a0d0>,\n",
              "        <matplotlib.axes._subplots.AxesSubplot object at 0x7fd70344f650>,\n",
              "        <matplotlib.axes._subplots.AxesSubplot object at 0x7fd703406bd0>,\n",
              "        ...,\n",
              "        <matplotlib.axes._subplots.AxesSubplot object at 0x7fd702c3a990>,\n",
              "        <matplotlib.axes._subplots.AxesSubplot object at 0x7fd702beff10>,\n",
              "        <matplotlib.axes._subplots.AxesSubplot object at 0x7fd702bb24d0>],\n",
              "       ...,\n",
              "       [<matplotlib.axes._subplots.AxesSubplot object at 0x7fd6f0df0990>,\n",
              "        <matplotlib.axes._subplots.AxesSubplot object at 0x7fd6f0814d90>,\n",
              "        <matplotlib.axes._subplots.AxesSubplot object at 0x7fd6f07d4350>,\n",
              "        ...,\n",
              "        <matplotlib.axes._subplots.AxesSubplot object at 0x7fd6f0011150>,\n",
              "        <matplotlib.axes._subplots.AxesSubplot object at 0x7fd6effc96d0>,\n",
              "        <matplotlib.axes._subplots.AxesSubplot object at 0x7fd6eff7dc50>],\n",
              "       [<matplotlib.axes._subplots.AxesSubplot object at 0x7fd6eff3f210>,\n",
              "        <matplotlib.axes._subplots.AxesSubplot object at 0x7fd6efef7790>,\n",
              "        <matplotlib.axes._subplots.AxesSubplot object at 0x7fd6efeacd10>,\n",
              "        ...,\n",
              "        <matplotlib.axes._subplots.AxesSubplot object at 0x7fd6ef6e7b10>,\n",
              "        <matplotlib.axes._subplots.AxesSubplot object at 0x7fd6ef6a8150>,\n",
              "        <matplotlib.axes._subplots.AxesSubplot object at 0x7fd6ef65e6d0>],\n",
              "       [<matplotlib.axes._subplots.AxesSubplot object at 0x7fd6ef694c50>,\n",
              "        <matplotlib.axes._subplots.AxesSubplot object at 0x7fd6ef655210>,\n",
              "        <matplotlib.axes._subplots.AxesSubplot object at 0x7fd6ef60c790>,\n",
              "        ...,\n",
              "        <matplotlib.axes._subplots.AxesSubplot object at 0x7fd6eee48590>,\n",
              "        <matplotlib.axes._subplots.AxesSubplot object at 0x7fd6eee00b10>,\n",
              "        <matplotlib.axes._subplots.AxesSubplot object at 0x7fd6eedbf0d0>]],\n",
              "      dtype=object)"
            ]
          },
          "metadata": {
            "tags": []
          },
          "execution_count": 75
        },
        {
          "output_type": "display_data",
          "data": {
            "image/png": "[encoded data removed]",
            "text/plain": [
              "<Figure size 432x288 with 1521 Axes>"
            ]
          },
          "metadata": {
            "tags": [],
            "needs_background": "light"
          }
        }
      ]
    },
    {
      "cell_type": "code",
      "metadata": {
        "id": "1uxPWt8pAaKu"
      },
      "source": [
        ""
      ],
      "execution_count": 75,
      "outputs": []
    },
    {
      "cell_type": "markdown",
      "metadata": {
        "id": "gUk2klm6A1h6"
      },
      "source": [
        "##  เนื่องจาก data มี dimention มากเกินไป เราจะทดสอบดูวา colum ใด ให้ข้อมูลซ้ำกับ column อื่น แล้วลบมันออก"
      ]
    },
    {
      "cell_type": "markdown",
      "metadata": {
        "id": "ZjqueQRQCZfC"
      },
      "source": [
        "เลือกมาทำต่าเฉพาะตัวที่มีตัวเลข"
      ]
    },
    {
      "cell_type": "code",
      "metadata": {
        "id": "KieqHcxqCJJw",
        "colab": {
          "base_uri": "https://localhost:8080/",
          "height": 224
        },
        "outputId": "50ff4cd5-24dc-4b04-b7d5-8bf26b05da72"
      },
      "source": [
        "newdata = data.iloc[:,7:]\r\n",
        "newdata.head()"
      ],
      "execution_count": 76,
      "outputs": [
        {
          "output_type": "execute_result",
          "data": {
            "text/html": [
              "<div>\n",
              "<style scoped>\n",
              "    .dataframe tbody tr th:only-of-type {\n",
              "        vertical-align: middle;\n",
              "    }\n",
              "\n",
              "    .dataframe tbody tr th {\n",
              "        vertical-align: top;\n",
              "    }\n",
              "\n",
              "    .dataframe thead th {\n",
              "        text-align: right;\n",
              "    }\n",
              "</style>\n",
              "<table border=\"1\" class=\"dataframe\">\n",
              "  <thead>\n",
              "    <tr style=\"text-align: right;\">\n",
              "      <th></th>\n",
              "      <th>Energy_kcal</th>\n",
              "      <th>Protein_g</th>\n",
              "      <th>Fat_g</th>\n",
              "      <th>Carb_g</th>\n",
              "      <th>Sugar_g</th>\n",
              "      <th>Fiber_g</th>\n",
              "      <th>VitA_mcg</th>\n",
              "      <th>VitB6_mg</th>\n",
              "      <th>VitB12_mcg</th>\n",
              "      <th>VitC_mg</th>\n",
              "      <th>VitE_mg</th>\n",
              "      <th>Folate_mcg</th>\n",
              "      <th>Niacin_mg</th>\n",
              "      <th>Riboflavin_mg</th>\n",
              "      <th>Thiamin_mg</th>\n",
              "      <th>Calcium_mg</th>\n",
              "      <th>Copper_mcg</th>\n",
              "      <th>Iron_mg</th>\n",
              "      <th>Magnesium_mg</th>\n",
              "      <th>Manganese_mg</th>\n",
              "      <th>Phosphorus_mg</th>\n",
              "      <th>Selenium_mcg</th>\n",
              "      <th>Zinc_mg</th>\n",
              "      <th>VitA_USRDA</th>\n",
              "      <th>VitB6_USRDA</th>\n",
              "      <th>VitB12_USRDA</th>\n",
              "      <th>VitC_USRDA</th>\n",
              "      <th>VitE_USRDA</th>\n",
              "      <th>Folate_USRDA</th>\n",
              "      <th>Niacin_USRDA</th>\n",
              "      <th>Riboflavin_USRDA</th>\n",
              "      <th>Thiamin_USRDA</th>\n",
              "      <th>Calcium_USRDA</th>\n",
              "      <th>Copper_USRDA</th>\n",
              "      <th>Magnesium_USRDA</th>\n",
              "      <th>Phosphorus_USRDA</th>\n",
              "      <th>Selenium_USRDA</th>\n",
              "      <th>Zinc_USRDA</th>\n",
              "    </tr>\n",
              "  </thead>\n",
              "  <tbody>\n",
              "    <tr>\n",
              "      <th>0</th>\n",
              "      <td>717.0</td>\n",
              "      <td>0.85</td>\n",
              "      <td>81.11</td>\n",
              "      <td>0.06</td>\n",
              "      <td>0.06</td>\n",
              "      <td>0.0</td>\n",
              "      <td>684.0</td>\n",
              "      <td>0.003</td>\n",
              "      <td>0.17</td>\n",
              "      <td>0.0</td>\n",
              "      <td>2.32</td>\n",
              "      <td>3.0</td>\n",
              "      <td>0.042</td>\n",
              "      <td>0.034</td>\n",
              "      <td>0.005</td>\n",
              "      <td>24.0</td>\n",
              "      <td>0.000</td>\n",
              "      <td>0.02</td>\n",
              "      <td>2.0</td>\n",
              "      <td>0.000</td>\n",
              "      <td>24.0</td>\n",
              "      <td>1.0</td>\n",
              "      <td>0.09</td>\n",
              "      <td>0.760000</td>\n",
              "      <td>0.001765</td>\n",
              "      <td>0.070833</td>\n",
              "      <td>0.0</td>\n",
              "      <td>0.154667</td>\n",
              "      <td>0.0075</td>\n",
              "      <td>0.002625</td>\n",
              "      <td>0.026154</td>\n",
              "      <td>0.004167</td>\n",
              "      <td>0.020000</td>\n",
              "      <td>0.000000</td>\n",
              "      <td>0.004762</td>\n",
              "      <td>0.034286</td>\n",
              "      <td>0.018182</td>\n",
              "      <td>0.008182</td>\n",
              "    </tr>\n",
              "    <tr>\n",
              "      <th>1</th>\n",
              "      <td>717.0</td>\n",
              "      <td>0.85</td>\n",
              "      <td>81.11</td>\n",
              "      <td>0.06</td>\n",
              "      <td>0.06</td>\n",
              "      <td>0.0</td>\n",
              "      <td>684.0</td>\n",
              "      <td>0.003</td>\n",
              "      <td>0.13</td>\n",
              "      <td>0.0</td>\n",
              "      <td>2.32</td>\n",
              "      <td>3.0</td>\n",
              "      <td>0.042</td>\n",
              "      <td>0.034</td>\n",
              "      <td>0.005</td>\n",
              "      <td>24.0</td>\n",
              "      <td>0.016</td>\n",
              "      <td>0.16</td>\n",
              "      <td>2.0</td>\n",
              "      <td>0.004</td>\n",
              "      <td>23.0</td>\n",
              "      <td>1.0</td>\n",
              "      <td>0.05</td>\n",
              "      <td>0.760000</td>\n",
              "      <td>0.001765</td>\n",
              "      <td>0.054167</td>\n",
              "      <td>0.0</td>\n",
              "      <td>0.154667</td>\n",
              "      <td>0.0075</td>\n",
              "      <td>0.002625</td>\n",
              "      <td>0.026154</td>\n",
              "      <td>0.004167</td>\n",
              "      <td>0.020000</td>\n",
              "      <td>0.000018</td>\n",
              "      <td>0.004762</td>\n",
              "      <td>0.032857</td>\n",
              "      <td>0.018182</td>\n",
              "      <td>0.004545</td>\n",
              "    </tr>\n",
              "    <tr>\n",
              "      <th>2</th>\n",
              "      <td>876.0</td>\n",
              "      <td>0.28</td>\n",
              "      <td>99.48</td>\n",
              "      <td>0.00</td>\n",
              "      <td>0.00</td>\n",
              "      <td>0.0</td>\n",
              "      <td>840.0</td>\n",
              "      <td>0.001</td>\n",
              "      <td>0.01</td>\n",
              "      <td>0.0</td>\n",
              "      <td>2.80</td>\n",
              "      <td>0.0</td>\n",
              "      <td>0.003</td>\n",
              "      <td>0.005</td>\n",
              "      <td>0.001</td>\n",
              "      <td>4.0</td>\n",
              "      <td>0.001</td>\n",
              "      <td>0.00</td>\n",
              "      <td>0.0</td>\n",
              "      <td>0.000</td>\n",
              "      <td>3.0</td>\n",
              "      <td>0.0</td>\n",
              "      <td>0.01</td>\n",
              "      <td>0.933333</td>\n",
              "      <td>0.000588</td>\n",
              "      <td>0.004167</td>\n",
              "      <td>0.0</td>\n",
              "      <td>0.186667</td>\n",
              "      <td>0.0000</td>\n",
              "      <td>0.000188</td>\n",
              "      <td>0.003846</td>\n",
              "      <td>0.000833</td>\n",
              "      <td>0.003333</td>\n",
              "      <td>0.000001</td>\n",
              "      <td>0.000000</td>\n",
              "      <td>0.004286</td>\n",
              "      <td>0.000000</td>\n",
              "      <td>0.000909</td>\n",
              "    </tr>\n",
              "    <tr>\n",
              "      <th>3</th>\n",
              "      <td>353.0</td>\n",
              "      <td>21.40</td>\n",
              "      <td>28.74</td>\n",
              "      <td>2.34</td>\n",
              "      <td>0.50</td>\n",
              "      <td>0.0</td>\n",
              "      <td>198.0</td>\n",
              "      <td>0.166</td>\n",
              "      <td>1.22</td>\n",
              "      <td>0.0</td>\n",
              "      <td>0.25</td>\n",
              "      <td>36.0</td>\n",
              "      <td>1.016</td>\n",
              "      <td>0.382</td>\n",
              "      <td>0.029</td>\n",
              "      <td>528.0</td>\n",
              "      <td>0.040</td>\n",
              "      <td>0.31</td>\n",
              "      <td>23.0</td>\n",
              "      <td>0.009</td>\n",
              "      <td>387.0</td>\n",
              "      <td>14.5</td>\n",
              "      <td>2.66</td>\n",
              "      <td>0.220000</td>\n",
              "      <td>0.097647</td>\n",
              "      <td>0.508333</td>\n",
              "      <td>0.0</td>\n",
              "      <td>0.016667</td>\n",
              "      <td>0.0900</td>\n",
              "      <td>0.063500</td>\n",
              "      <td>0.293846</td>\n",
              "      <td>0.024167</td>\n",
              "      <td>0.440000</td>\n",
              "      <td>0.000044</td>\n",
              "      <td>0.054762</td>\n",
              "      <td>0.552857</td>\n",
              "      <td>0.263636</td>\n",
              "      <td>0.241818</td>\n",
              "    </tr>\n",
              "    <tr>\n",
              "      <th>4</th>\n",
              "      <td>371.0</td>\n",
              "      <td>23.24</td>\n",
              "      <td>29.68</td>\n",
              "      <td>2.79</td>\n",
              "      <td>0.51</td>\n",
              "      <td>0.0</td>\n",
              "      <td>292.0</td>\n",
              "      <td>0.065</td>\n",
              "      <td>1.26</td>\n",
              "      <td>0.0</td>\n",
              "      <td>0.26</td>\n",
              "      <td>20.0</td>\n",
              "      <td>0.118</td>\n",
              "      <td>0.351</td>\n",
              "      <td>0.014</td>\n",
              "      <td>674.0</td>\n",
              "      <td>0.024</td>\n",
              "      <td>0.43</td>\n",
              "      <td>24.0</td>\n",
              "      <td>0.012</td>\n",
              "      <td>451.0</td>\n",
              "      <td>14.5</td>\n",
              "      <td>2.60</td>\n",
              "      <td>0.324444</td>\n",
              "      <td>0.038235</td>\n",
              "      <td>0.525000</td>\n",
              "      <td>0.0</td>\n",
              "      <td>0.017333</td>\n",
              "      <td>0.0500</td>\n",
              "      <td>0.007375</td>\n",
              "      <td>0.270000</td>\n",
              "      <td>0.011667</td>\n",
              "      <td>0.561667</td>\n",
              "      <td>0.000027</td>\n",
              "      <td>0.057143</td>\n",
              "      <td>0.644286</td>\n",
              "      <td>0.263636</td>\n",
              "      <td>0.236364</td>\n",
              "    </tr>\n",
              "  </tbody>\n",
              "</table>\n",
              "</div>"
            ],
            "text/plain": [
              "   Energy_kcal  Protein_g  Fat_g  ...  Phosphorus_USRDA  Selenium_USRDA  Zinc_USRDA\n",
              "0        717.0       0.85  81.11  ...          0.034286        0.018182    0.008182\n",
              "1        717.0       0.85  81.11  ...          0.032857        0.018182    0.004545\n",
              "2        876.0       0.28  99.48  ...          0.004286        0.000000    0.000909\n",
              "3        353.0      21.40  28.74  ...          0.552857        0.263636    0.241818\n",
              "4        371.0      23.24  29.68  ...          0.644286        0.263636    0.236364\n",
              "\n",
              "[5 rows x 38 columns]"
            ]
          },
          "metadata": {
            "tags": []
          },
          "execution_count": 76
        }
      ]
    },
    {
      "cell_type": "markdown",
      "metadata": {
        "id": "vkNbN6h7DHC9"
      },
      "source": [
        "ตรวจสอบระหว่าง columns มี correlation กันมากน้อยแค่ไหน ด้วย numpy"
      ]
    },
    {
      "cell_type": "code",
      "metadata": {
        "id": "NrIk_pVWDWBM"
      },
      "source": [
        "import numpy as np"
      ],
      "execution_count": 77,
      "outputs": []
    },
    {
      "cell_type": "code",
      "metadata": {
        "id": "snLAF9FlDeHg"
      },
      "source": [
        "corr = np.corrcoef(newdata.to_numpy().T)"
      ],
      "execution_count": 78,
      "outputs": []
    },
    {
      "cell_type": "code",
      "metadata": {
        "id": "aDoUgJLwJ79A",
        "colab": {
          "base_uri": "https://localhost:8080/"
        },
        "outputId": "84a356f0-430f-499a-cbc7-6facbbf1362d"
      },
      "source": [
        "corr"
      ],
      "execution_count": 79,
      "outputs": [
        {
          "output_type": "execute_result",
          "data": {
            "text/plain": [
              "array([[1.        , 0.16295448, 0.81068711, ...,        nan,        nan,\n",
              "               nan],\n",
              "       [0.16295448, 1.        , 0.07879508, ...,        nan,        nan,\n",
              "               nan],\n",
              "       [0.81068711, 0.07879508, 1.        , ...,        nan,        nan,\n",
              "               nan],\n",
              "       ...,\n",
              "       [       nan,        nan,        nan, ...,        nan,        nan,\n",
              "               nan],\n",
              "       [       nan,        nan,        nan, ...,        nan,        nan,\n",
              "               nan],\n",
              "       [       nan,        nan,        nan, ...,        nan,        nan,\n",
              "               nan]])"
            ]
          },
          "metadata": {
            "tags": []
          },
          "execution_count": 79
        }
      ]
    },
    {
      "cell_type": "code",
      "metadata": {
        "id": "SdNvHemyFkUQ",
        "colab": {
          "base_uri": "https://localhost:8080/"
        },
        "outputId": "0093bb5b-b1fd-40d6-af71-94d131de704b"
      },
      "source": [
        "corr.shape"
      ],
      "execution_count": 80,
      "outputs": [
        {
          "output_type": "execute_result",
          "data": {
            "text/plain": [
              "(38, 38)"
            ]
          },
          "metadata": {
            "tags": []
          },
          "execution_count": 80
        }
      ]
    },
    {
      "cell_type": "code",
      "metadata": {
        "id": "5cd3MxvDFqTb",
        "colab": {
          "base_uri": "https://localhost:8080/"
        },
        "outputId": "59e036f8-97b8-4866-8a7c-66221c6268f7"
      },
      "source": [
        "corr"
      ],
      "execution_count": 81,
      "outputs": [
        {
          "output_type": "execute_result",
          "data": {
            "text/plain": [
              "array([[1.        , 0.16295448, 0.81068711, ...,        nan,        nan,\n",
              "               nan],\n",
              "       [0.16295448, 1.        , 0.07879508, ...,        nan,        nan,\n",
              "               nan],\n",
              "       [0.81068711, 0.07879508, 1.        , ...,        nan,        nan,\n",
              "               nan],\n",
              "       ...,\n",
              "       [       nan,        nan,        nan, ...,        nan,        nan,\n",
              "               nan],\n",
              "       [       nan,        nan,        nan, ...,        nan,        nan,\n",
              "               nan],\n",
              "       [       nan,        nan,        nan, ...,        nan,        nan,\n",
              "               nan]])"
            ]
          },
          "metadata": {
            "tags": []
          },
          "execution_count": 81
        }
      ]
    },
    {
      "cell_type": "code",
      "metadata": {
        "id": "js459VhwD5OL"
      },
      "source": [
        "for i in range(corr.shape[0]):\r\n",
        "    for j in range(corr.shape[1]):\r\n",
        "      if (i !=j) and (corr[i,j] == 1.):\r\n",
        "        print(f'row={i} column = {j} corrcoef = {corr[i,j]}')"
      ],
      "execution_count": 82,
      "outputs": []
    },
    {
      "cell_type": "code",
      "metadata": {
        "id": "3ljh5TnmGraq",
        "colab": {
          "base_uri": "https://localhost:8080/",
          "height": 224
        },
        "outputId": "44149229-a99a-435e-ab77-d92ed5a05884"
      },
      "source": [
        "newdata.iloc[:5,11:29]"
      ],
      "execution_count": 83,
      "outputs": [
        {
          "output_type": "execute_result",
          "data": {
            "text/html": [
              "<div>\n",
              "<style scoped>\n",
              "    .dataframe tbody tr th:only-of-type {\n",
              "        vertical-align: middle;\n",
              "    }\n",
              "\n",
              "    .dataframe tbody tr th {\n",
              "        vertical-align: top;\n",
              "    }\n",
              "\n",
              "    .dataframe thead th {\n",
              "        text-align: right;\n",
              "    }\n",
              "</style>\n",
              "<table border=\"1\" class=\"dataframe\">\n",
              "  <thead>\n",
              "    <tr style=\"text-align: right;\">\n",
              "      <th></th>\n",
              "      <th>Folate_mcg</th>\n",
              "      <th>Niacin_mg</th>\n",
              "      <th>Riboflavin_mg</th>\n",
              "      <th>Thiamin_mg</th>\n",
              "      <th>Calcium_mg</th>\n",
              "      <th>Copper_mcg</th>\n",
              "      <th>Iron_mg</th>\n",
              "      <th>Magnesium_mg</th>\n",
              "      <th>Manganese_mg</th>\n",
              "      <th>Phosphorus_mg</th>\n",
              "      <th>Selenium_mcg</th>\n",
              "      <th>Zinc_mg</th>\n",
              "      <th>VitA_USRDA</th>\n",
              "      <th>VitB6_USRDA</th>\n",
              "      <th>VitB12_USRDA</th>\n",
              "      <th>VitC_USRDA</th>\n",
              "      <th>VitE_USRDA</th>\n",
              "      <th>Folate_USRDA</th>\n",
              "    </tr>\n",
              "  </thead>\n",
              "  <tbody>\n",
              "    <tr>\n",
              "      <th>0</th>\n",
              "      <td>3.0</td>\n",
              "      <td>0.042</td>\n",
              "      <td>0.034</td>\n",
              "      <td>0.005</td>\n",
              "      <td>24.0</td>\n",
              "      <td>0.000</td>\n",
              "      <td>0.02</td>\n",
              "      <td>2.0</td>\n",
              "      <td>0.000</td>\n",
              "      <td>24.0</td>\n",
              "      <td>1.0</td>\n",
              "      <td>0.09</td>\n",
              "      <td>0.760000</td>\n",
              "      <td>0.001765</td>\n",
              "      <td>0.070833</td>\n",
              "      <td>0.0</td>\n",
              "      <td>0.154667</td>\n",
              "      <td>0.0075</td>\n",
              "    </tr>\n",
              "    <tr>\n",
              "      <th>1</th>\n",
              "      <td>3.0</td>\n",
              "      <td>0.042</td>\n",
              "      <td>0.034</td>\n",
              "      <td>0.005</td>\n",
              "      <td>24.0</td>\n",
              "      <td>0.016</td>\n",
              "      <td>0.16</td>\n",
              "      <td>2.0</td>\n",
              "      <td>0.004</td>\n",
              "      <td>23.0</td>\n",
              "      <td>1.0</td>\n",
              "      <td>0.05</td>\n",
              "      <td>0.760000</td>\n",
              "      <td>0.001765</td>\n",
              "      <td>0.054167</td>\n",
              "      <td>0.0</td>\n",
              "      <td>0.154667</td>\n",
              "      <td>0.0075</td>\n",
              "    </tr>\n",
              "    <tr>\n",
              "      <th>2</th>\n",
              "      <td>0.0</td>\n",
              "      <td>0.003</td>\n",
              "      <td>0.005</td>\n",
              "      <td>0.001</td>\n",
              "      <td>4.0</td>\n",
              "      <td>0.001</td>\n",
              "      <td>0.00</td>\n",
              "      <td>0.0</td>\n",
              "      <td>0.000</td>\n",
              "      <td>3.0</td>\n",
              "      <td>0.0</td>\n",
              "      <td>0.01</td>\n",
              "      <td>0.933333</td>\n",
              "      <td>0.000588</td>\n",
              "      <td>0.004167</td>\n",
              "      <td>0.0</td>\n",
              "      <td>0.186667</td>\n",
              "      <td>0.0000</td>\n",
              "    </tr>\n",
              "    <tr>\n",
              "      <th>3</th>\n",
              "      <td>36.0</td>\n",
              "      <td>1.016</td>\n",
              "      <td>0.382</td>\n",
              "      <td>0.029</td>\n",
              "      <td>528.0</td>\n",
              "      <td>0.040</td>\n",
              "      <td>0.31</td>\n",
              "      <td>23.0</td>\n",
              "      <td>0.009</td>\n",
              "      <td>387.0</td>\n",
              "      <td>14.5</td>\n",
              "      <td>2.66</td>\n",
              "      <td>0.220000</td>\n",
              "      <td>0.097647</td>\n",
              "      <td>0.508333</td>\n",
              "      <td>0.0</td>\n",
              "      <td>0.016667</td>\n",
              "      <td>0.0900</td>\n",
              "    </tr>\n",
              "    <tr>\n",
              "      <th>4</th>\n",
              "      <td>20.0</td>\n",
              "      <td>0.118</td>\n",
              "      <td>0.351</td>\n",
              "      <td>0.014</td>\n",
              "      <td>674.0</td>\n",
              "      <td>0.024</td>\n",
              "      <td>0.43</td>\n",
              "      <td>24.0</td>\n",
              "      <td>0.012</td>\n",
              "      <td>451.0</td>\n",
              "      <td>14.5</td>\n",
              "      <td>2.60</td>\n",
              "      <td>0.324444</td>\n",
              "      <td>0.038235</td>\n",
              "      <td>0.525000</td>\n",
              "      <td>0.0</td>\n",
              "      <td>0.017333</td>\n",
              "      <td>0.0500</td>\n",
              "    </tr>\n",
              "  </tbody>\n",
              "</table>\n",
              "</div>"
            ],
            "text/plain": [
              "   Folate_mcg  Niacin_mg  Riboflavin_mg  ...  VitC_USRDA  VitE_USRDA  Folate_USRDA\n",
              "0         3.0      0.042          0.034  ...         0.0    0.154667        0.0075\n",
              "1         3.0      0.042          0.034  ...         0.0    0.154667        0.0075\n",
              "2         0.0      0.003          0.005  ...         0.0    0.186667        0.0000\n",
              "3        36.0      1.016          0.382  ...         0.0    0.016667        0.0900\n",
              "4        20.0      0.118          0.351  ...         0.0    0.017333        0.0500\n",
              "\n",
              "[5 rows x 18 columns]"
            ]
          },
          "metadata": {
            "tags": []
          },
          "execution_count": 83
        }
      ]
    },
    {
      "cell_type": "code",
      "metadata": {
        "id": "IqY00i95Gzbp"
      },
      "source": [
        "from matplotlib import pyplot as plt"
      ],
      "execution_count": null,
      "outputs": []
    },
    {
      "cell_type": "code",
      "metadata": {
        "id": "qTUVM6cnHIkP",
        "colab": {
          "base_uri": "https://localhost:8080/",
          "height": 558
        },
        "outputId": "42e190be-d97e-4338-f733-63a2e432e7a6"
      },
      "source": [
        "plt.plot(newdata.iloc[:,11],newdata.iloc[:28])"
      ],
      "execution_count": null,
      "outputs": [
        {
          "output_type": "error",
          "ename": "ValueError",
          "evalue": "ignored",
          "traceback": [
            "\u001b[0;31m---------------------------------------------------------------------------\u001b[0m",
            "\u001b[0;31mValueError\u001b[0m                                Traceback (most recent call last)",
            "\u001b[0;32m<ipython-input-70-96658938f62d>\u001b[0m in \u001b[0;36m<module>\u001b[0;34m()\u001b[0m\n\u001b[0;32m----> 1\u001b[0;31m \u001b[0mplt\u001b[0m\u001b[0;34m.\u001b[0m\u001b[0mplot\u001b[0m\u001b[0;34m(\u001b[0m\u001b[0mnewdata\u001b[0m\u001b[0;34m.\u001b[0m\u001b[0miloc\u001b[0m\u001b[0;34m[\u001b[0m\u001b[0;34m:\u001b[0m\u001b[0;34m,\u001b[0m\u001b[0;36m11\u001b[0m\u001b[0;34m]\u001b[0m\u001b[0;34m,\u001b[0m\u001b[0mnewdata\u001b[0m\u001b[0;34m.\u001b[0m\u001b[0miloc\u001b[0m\u001b[0;34m[\u001b[0m\u001b[0;34m:\u001b[0m\u001b[0;36m28\u001b[0m\u001b[0;34m]\u001b[0m\u001b[0;34m)\u001b[0m\u001b[0;34m\u001b[0m\u001b[0;34m\u001b[0m\u001b[0m\n\u001b[0m",
            "\u001b[0;32m/usr/local/lib/python3.7/dist-packages/matplotlib/pyplot.py\u001b[0m in \u001b[0;36mplot\u001b[0;34m(scalex, scaley, data, *args, **kwargs)\u001b[0m\n\u001b[1;32m   2761\u001b[0m     return gca().plot(\n\u001b[1;32m   2762\u001b[0m         *args, scalex=scalex, scaley=scaley, **({\"data\": data} if data\n\u001b[0;32m-> 2763\u001b[0;31m         is not None else {}), **kwargs)\n\u001b[0m\u001b[1;32m   2764\u001b[0m \u001b[0;34m\u001b[0m\u001b[0m\n\u001b[1;32m   2765\u001b[0m \u001b[0;34m\u001b[0m\u001b[0m\n",
            "\u001b[0;32m/usr/local/lib/python3.7/dist-packages/matplotlib/axes/_axes.py\u001b[0m in \u001b[0;36mplot\u001b[0;34m(self, scalex, scaley, data, *args, **kwargs)\u001b[0m\n\u001b[1;32m   1645\u001b[0m         \"\"\"\n\u001b[1;32m   1646\u001b[0m         \u001b[0mkwargs\u001b[0m \u001b[0;34m=\u001b[0m \u001b[0mcbook\u001b[0m\u001b[0;34m.\u001b[0m\u001b[0mnormalize_kwargs\u001b[0m\u001b[0;34m(\u001b[0m\u001b[0mkwargs\u001b[0m\u001b[0;34m,\u001b[0m \u001b[0mmlines\u001b[0m\u001b[0;34m.\u001b[0m\u001b[0mLine2D\u001b[0m\u001b[0;34m)\u001b[0m\u001b[0;34m\u001b[0m\u001b[0;34m\u001b[0m\u001b[0m\n\u001b[0;32m-> 1647\u001b[0;31m         \u001b[0mlines\u001b[0m \u001b[0;34m=\u001b[0m \u001b[0;34m[\u001b[0m\u001b[0;34m*\u001b[0m\u001b[0mself\u001b[0m\u001b[0;34m.\u001b[0m\u001b[0m_get_lines\u001b[0m\u001b[0;34m(\u001b[0m\u001b[0;34m*\u001b[0m\u001b[0margs\u001b[0m\u001b[0;34m,\u001b[0m \u001b[0mdata\u001b[0m\u001b[0;34m=\u001b[0m\u001b[0mdata\u001b[0m\u001b[0;34m,\u001b[0m \u001b[0;34m**\u001b[0m\u001b[0mkwargs\u001b[0m\u001b[0;34m)\u001b[0m\u001b[0;34m]\u001b[0m\u001b[0;34m\u001b[0m\u001b[0;34m\u001b[0m\u001b[0m\n\u001b[0m\u001b[1;32m   1648\u001b[0m         \u001b[0;32mfor\u001b[0m \u001b[0mline\u001b[0m \u001b[0;32min\u001b[0m \u001b[0mlines\u001b[0m\u001b[0;34m:\u001b[0m\u001b[0;34m\u001b[0m\u001b[0;34m\u001b[0m\u001b[0m\n\u001b[1;32m   1649\u001b[0m             \u001b[0mself\u001b[0m\u001b[0;34m.\u001b[0m\u001b[0madd_line\u001b[0m\u001b[0;34m(\u001b[0m\u001b[0mline\u001b[0m\u001b[0;34m)\u001b[0m\u001b[0;34m\u001b[0m\u001b[0;34m\u001b[0m\u001b[0m\n",
            "\u001b[0;32m/usr/local/lib/python3.7/dist-packages/matplotlib/axes/_base.py\u001b[0m in \u001b[0;36m__call__\u001b[0;34m(self, *args, **kwargs)\u001b[0m\n\u001b[1;32m    214\u001b[0m                 \u001b[0mthis\u001b[0m \u001b[0;34m+=\u001b[0m \u001b[0margs\u001b[0m\u001b[0;34m[\u001b[0m\u001b[0;36m0\u001b[0m\u001b[0;34m]\u001b[0m\u001b[0;34m,\u001b[0m\u001b[0;34m\u001b[0m\u001b[0;34m\u001b[0m\u001b[0m\n\u001b[1;32m    215\u001b[0m                 \u001b[0margs\u001b[0m \u001b[0;34m=\u001b[0m \u001b[0margs\u001b[0m\u001b[0;34m[\u001b[0m\u001b[0;36m1\u001b[0m\u001b[0;34m:\u001b[0m\u001b[0;34m]\u001b[0m\u001b[0;34m\u001b[0m\u001b[0;34m\u001b[0m\u001b[0m\n\u001b[0;32m--> 216\u001b[0;31m             \u001b[0;32myield\u001b[0m \u001b[0;32mfrom\u001b[0m \u001b[0mself\u001b[0m\u001b[0;34m.\u001b[0m\u001b[0m_plot_args\u001b[0m\u001b[0;34m(\u001b[0m\u001b[0mthis\u001b[0m\u001b[0;34m,\u001b[0m \u001b[0mkwargs\u001b[0m\u001b[0;34m)\u001b[0m\u001b[0;34m\u001b[0m\u001b[0;34m\u001b[0m\u001b[0m\n\u001b[0m\u001b[1;32m    217\u001b[0m \u001b[0;34m\u001b[0m\u001b[0m\n\u001b[1;32m    218\u001b[0m     \u001b[0;32mdef\u001b[0m \u001b[0mget_next_color\u001b[0m\u001b[0;34m(\u001b[0m\u001b[0mself\u001b[0m\u001b[0;34m)\u001b[0m\u001b[0;34m:\u001b[0m\u001b[0;34m\u001b[0m\u001b[0;34m\u001b[0m\u001b[0m\n",
            "\u001b[0;32m/usr/local/lib/python3.7/dist-packages/matplotlib/axes/_base.py\u001b[0m in \u001b[0;36m_plot_args\u001b[0;34m(self, tup, kwargs)\u001b[0m\n\u001b[1;32m    340\u001b[0m \u001b[0;34m\u001b[0m\u001b[0m\n\u001b[1;32m    341\u001b[0m         \u001b[0;32mif\u001b[0m \u001b[0mx\u001b[0m\u001b[0;34m.\u001b[0m\u001b[0mshape\u001b[0m\u001b[0;34m[\u001b[0m\u001b[0;36m0\u001b[0m\u001b[0;34m]\u001b[0m \u001b[0;34m!=\u001b[0m \u001b[0my\u001b[0m\u001b[0;34m.\u001b[0m\u001b[0mshape\u001b[0m\u001b[0;34m[\u001b[0m\u001b[0;36m0\u001b[0m\u001b[0;34m]\u001b[0m\u001b[0;34m:\u001b[0m\u001b[0;34m\u001b[0m\u001b[0;34m\u001b[0m\u001b[0m\n\u001b[0;32m--> 342\u001b[0;31m             raise ValueError(f\"x and y must have same first dimension, but \"\n\u001b[0m\u001b[1;32m    343\u001b[0m                              f\"have shapes {x.shape} and {y.shape}\")\n\u001b[1;32m    344\u001b[0m         \u001b[0;32mif\u001b[0m \u001b[0mx\u001b[0m\u001b[0;34m.\u001b[0m\u001b[0mndim\u001b[0m \u001b[0;34m>\u001b[0m \u001b[0;36m2\u001b[0m \u001b[0;32mor\u001b[0m \u001b[0my\u001b[0m\u001b[0;34m.\u001b[0m\u001b[0mndim\u001b[0m \u001b[0;34m>\u001b[0m \u001b[0;36m2\u001b[0m\u001b[0;34m:\u001b[0m\u001b[0;34m\u001b[0m\u001b[0;34m\u001b[0m\u001b[0m\n",
            "\u001b[0;31mValueError\u001b[0m: x and y must have same first dimension, but have shapes (8618,) and (28, 38)"
          ]
        },
        {
          "output_type": "display_data",
          "data": {
            "image/png": "[encoded data removed]",
            "text/plain": [
              "<Figure size 432x288 with 1 Axes>"
            ]
          },
          "metadata": {
            "tags": [],
            "needs_background": "light"
          }
        }
      ]
    },
    {
      "cell_type": "markdown",
      "metadata": {
        "id": "yStogSa5n_Qy"
      },
      "source": [
        "##ลบ column ซ้ำ"
      ]
    },
    {
      "cell_type": "code",
      "metadata": {
        "id": "5xmdMUZsoI8L"
      },
      "source": [
        ""
      ],
      "execution_count": null,
      "outputs": []
    },
    {
      "cell_type": "markdown",
      "metadata": {
        "id": "AeZmYlX8ouW_"
      },
      "source": [
        "Quiz1 ลบ column ที่มีค่า correiation เป็น 1 เมื่อเทียบกับ column อื่น"
      ]
    },
    {
      "cell_type": "code",
      "metadata": {
        "id": "MtiSbF2dpU6G"
      },
      "source": [
        ""
      ],
      "execution_count": null,
      "outputs": []
    }
  ]
}